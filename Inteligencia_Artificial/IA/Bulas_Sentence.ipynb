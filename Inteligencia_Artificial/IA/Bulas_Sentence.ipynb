{
 "cells": [
  {
   "cell_type": "code",
   "execution_count": 24,
   "metadata": {
    "collapsed": true,
    "ExecuteTime": {
     "start_time": "2023-05-12T15:08:53.466202Z",
     "end_time": "2023-05-12T15:08:53.473178Z"
    }
   },
   "outputs": [],
   "source": [
    "import pandas as pd\n",
    "import numpy as np\n",
    "from sklearn.utils import resample\n",
    "from sentence_transformers import SentenceTransformer\n",
    "from sklearn.cluster import KMeans\n",
    "from matplotlib import pyplot as plt\n",
    "from sklearn.manifold import TSNE\n",
    "from mpl_toolkits import mplot3d\n",
    "import os"
   ]
  },
  {
   "cell_type": "markdown",
   "source": [],
   "metadata": {
    "collapsed": false
   }
  },
  {
   "cell_type": "code",
   "execution_count": 57,
   "outputs": [],
   "source": [
    "df_train = resample(pd.read_csv(\"./../DATASET/LeMe/bulas.csv\",delimiter=\"#\",header=None,encoding=\"utf8\"),random_state=10)"
   ],
   "metadata": {
    "collapsed": false,
    "ExecuteTime": {
     "start_time": "2023-05-12T15:24:38.949757Z",
     "end_time": "2023-05-12T15:24:39.290620Z"
    }
   }
  },
  {
   "cell_type": "code",
   "execution_count": null,
   "outputs": [],
   "source": [
    "embedder = SentenceTransformer('all-mpnet-base-v2')"
   ],
   "metadata": {
    "collapsed": false
   }
  },
  {
   "cell_type": "code",
   "execution_count": 180,
   "outputs": [],
   "source": [
    "tamanho=df_train.shape[0]"
   ],
   "metadata": {
    "collapsed": false,
    "ExecuteTime": {
     "start_time": "2023-05-12T16:49:06.868584Z",
     "end_time": "2023-05-12T16:49:06.880506Z"
    }
   }
  },
  {
   "cell_type": "code",
   "execution_count": null,
   "outputs": [],
   "source": [
    "corpus_embeddings = embedder.encode(list(df_train[1][:tamanho]))"
   ],
   "metadata": {
    "collapsed": false,
    "ExecuteTime": {
     "start_time": "2023-05-12T16:33:13.825729Z",
     "end_time": "2023-05-12T16:45:14.204526Z"
    },
    "pycharm": {
     "is_executing": true
    }
   }
  },
  {
   "cell_type": "code",
   "execution_count": null,
   "outputs": [],
   "source": [
    "#Redução de atributos com TSNE de 768 -> 2\n",
    "tsne = TSNE(random_state = 0, n_components=2, n_iter = 1000, perplexity=4, metric = 'euclidean')\n",
    "embeddings2d = tsne.fit_transform(corpus_embeddings)"
   ],
   "metadata": {
    "collapsed": false,
    "ExecuteTime": {
     "start_time": "2023-05-12T16:45:14.212515Z",
     "end_time": "2023-05-12T16:45:17.527514Z"
    },
    "pycharm": {
     "is_executing": true
    }
   }
  },
  {
   "cell_type": "code",
   "execution_count": null,
   "outputs": [],
   "source": [
    "knn_4 = KMeans(n_clusters=4)\n",
    "modelo_knn_3 = knn_4.fit_predict(embeddings2d)"
   ],
   "metadata": {
    "collapsed": false,
    "ExecuteTime": {
     "start_time": "2023-05-12T16:45:17.532513Z",
     "end_time": "2023-05-12T16:45:18.833512Z"
    },
    "pycharm": {
     "is_executing": true
    }
   }
  },
  {
   "cell_type": "code",
   "execution_count": null,
   "outputs": [],
   "source": [
    "list_name =list(df_train[0])\n",
    "classes={}\n",
    "color = {0:'.b',1:'.r',2:'.c',3:'.y'}\n",
    "colors=[ color[x] for x in modelo_knn_3]\n",
    "print(colors)\n",
    "for i, cl_xy in enumerate(zip(colors,embeddings2d)):\n",
    "    cl=cl_xy[0]\n",
    "    xy=cl_xy[1]\n",
    "    print(xy)\n",
    "    plt.plot(xy[0],xy[1],cl[1])\n",
    "    classes[list_name[i]]=modelo_knn_3[i]\n",
    "plt.show()"
   ],
   "metadata": {
    "collapsed": false,
    "ExecuteTime": {
     "start_time": "2023-05-12T16:45:18.842512Z",
     "end_time": "2023-05-12T16:45:19.881604Z"
    },
    "pycharm": {
     "is_executing": true
    }
   }
  },
  {
   "cell_type": "code",
   "execution_count": null,
   "outputs": [],
   "source": [
    "names =  [x[0] for x in  classes.items()]\n",
    "targets = [x[1] for x in classes.items()]\n",
    "frame_result = pd.DataFrame({\"classe\":targets,\"nomes\":names}).sort_values(['classe'])"
   ],
   "metadata": {
    "collapsed": false,
    "ExecuteTime": {
     "start_time": "2023-05-12T16:45:35.817537Z",
     "end_time": "2023-05-12T16:45:35.832536Z"
    },
    "pycharm": {
     "is_executing": true
    }
   }
  },
  {
   "cell_type": "code",
   "execution_count": null,
   "outputs": [],
   "source": [
    "frame_result.to_csv(f\"Save_{tamanho}\")"
   ],
   "metadata": {
    "collapsed": false,
    "ExecuteTime": {
     "start_time": "2023-05-12T16:45:37.231249Z",
     "end_time": "2023-05-12T16:45:37.246243Z"
    },
    "pycharm": {
     "is_executing": true
    }
   }
  }
 ],
 "metadata": {
  "kernelspec": {
   "display_name": "Python 3",
   "language": "python",
   "name": "python3"
  },
  "language_info": {
   "codemirror_mode": {
    "name": "ipython",
    "version": 2
   },
   "file_extension": ".py",
   "mimetype": "text/x-python",
   "name": "python",
   "nbconvert_exporter": "python",
   "pygments_lexer": "ipython2",
   "version": "2.7.6"
  }
 },
 "nbformat": 4,
 "nbformat_minor": 0
}

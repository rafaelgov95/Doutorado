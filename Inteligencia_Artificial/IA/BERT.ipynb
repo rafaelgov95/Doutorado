{
 "cells": [
  {
   "cell_type": "code",
   "execution_count": 14,
   "metadata": {
    "collapsed": true,
    "ExecuteTime": {
     "start_time": "2023-05-12T11:42:37.480730Z",
     "end_time": "2023-05-12T11:42:39.153101Z"
    }
   },
   "outputs": [],
   "source": [
    "import pandas as pd\n",
    "import numpy as np\n",
    "from sklearn.utils import resample\n",
    "from sklearn.metrics import accuracy_score\n",
    "\n",
    "from sentence_transformers import SentenceTransformer\n",
    "from sklearn.cluster import KMeans\n",
    "from matplotlib import pyplot as plt\n",
    "from sklearn.manifold import TSNE\n",
    "from mpl_toolkits import mplot3d\n",
    "import tensorflow as tf\n",
    "import tensorflow_hub as tf_hub\n",
    "import tensorflow_text as tf_text\n",
    "from sklearn.neighbors import KNeighborsClassifier\n"
   ]
  },
  {
   "cell_type": "code",
   "execution_count": 15,
   "outputs": [],
   "source": [
    "df_train =resample(pd.read_csv(\"./../DATASET/agnews/train.csv\"),random_state=150)\n",
    "df_test =resample(pd.read_csv(\"./../DATASET/agnews/test.csv\"),random_state=150)\n"
   ],
   "metadata": {
    "collapsed": false,
    "ExecuteTime": {
     "start_time": "2023-05-12T11:42:39.209135Z",
     "end_time": "2023-05-12T11:42:40.532341Z"
    }
   }
  },
  {
   "cell_type": "code",
   "execution_count": 16,
   "outputs": [],
   "source": [
    "bert_model_name_encoder = 'https://tfhub.dev/tensorflow/small_bert/bert_en_uncased_L-4_H-512_A-8/1'\n",
    "bert_model_name_preprocess = 'https://tfhub.dev/tensorflow/bert_en_uncased_preprocess/3'"
   ],
   "metadata": {
    "collapsed": false,
    "ExecuteTime": {
     "start_time": "2023-05-12T11:42:40.548337Z",
     "end_time": "2023-05-12T11:42:40.573373Z"
    }
   }
  },
  {
   "cell_type": "code",
   "execution_count": 17,
   "outputs": [],
   "source": [
    "bert_preprocess_model = tf_hub.KerasLayer(bert_model_name_preprocess)\n",
    "# corpus_embeddings = embedder.encode(df_train['Description'][:10])"
   ],
   "metadata": {
    "collapsed": false,
    "ExecuteTime": {
     "start_time": "2023-05-12T11:42:40.565344Z",
     "end_time": "2023-05-12T11:42:57.552043Z"
    }
   }
  },
  {
   "cell_type": "code",
   "execution_count": 18,
   "outputs": [],
   "source": [
    "number_texts=1000\n",
    "number_texts_test=100\n",
    "lista_processing = df_train['Description'][:number_texts]\n",
    "lista_processing_test = df_test['Description'][:number_texts_test]\n",
    "\n",
    "text_preprocessed = bert_preprocess_model(lista_processing.to_list())\n",
    "text_preprocessed_test = bert_preprocess_model(lista_processing_test.to_list())\n"
   ],
   "metadata": {
    "collapsed": false,
    "ExecuteTime": {
     "start_time": "2023-05-12T11:42:57.570045Z",
     "end_time": "2023-05-12T11:42:59.119273Z"
    }
   }
  },
  {
   "cell_type": "code",
   "execution_count": 19,
   "outputs": [],
   "source": [
    "# bert_model = tf_hub.KerasLayer(bert_model_name_encoder)"
   ],
   "metadata": {
    "collapsed": false,
    "ExecuteTime": {
     "start_time": "2023-05-12T11:42:59.120255Z",
     "end_time": "2023-05-12T11:43:06.939265Z"
    }
   }
  },
  {
   "cell_type": "code",
   "execution_count": 20,
   "outputs": [],
   "source": [
    "bert_results  =bert_model(text_preprocessed)\n",
    "bert_results_test  =bert_model(text_preprocessed_test)\n"
   ],
   "metadata": {
    "collapsed": false,
    "is_executing": true,
    "ExecuteTime": {
     "start_time": "2023-05-12T11:43:06.941281Z",
     "end_time": "2023-05-12T11:43:48.712383Z"
    }
   }
  },
  {
   "cell_type": "code",
   "execution_count": 21,
   "outputs": [],
   "source": [
    "# tsne = TSNE(random_state = 0, n_components=2, n_iter = 1000, perplexity=4, metric = 'euclidean')\n",
    "# embeddings2d = tsne.fit_transform(np.array((bert_results['pooled_output'])))\n",
    "# tsne = TSNE(random_state = 0, n_components=2, n_iter = 1000, perplexity=4, metric = 'euclidean')\n",
    "# embeddings2d_test = tsne.fit_transform(np.array((bert_results_test['pooled_output'])))"
   ],
   "metadata": {
    "collapsed": false,
    "is_executing": true,
    "ExecuteTime": {
     "start_time": "2023-05-12T11:43:48.732389Z",
     "end_time": "2023-05-12T11:43:48.741379Z"
    }
   }
  },
  {
   "cell_type": "code",
   "execution_count": 22,
   "outputs": [],
   "source": [
    "embeddings2d = bert_results['pooled_output']\n",
    "embeddings2d_test = bert_results_test['pooled_output']"
   ],
   "metadata": {
    "collapsed": false,
    "is_executing": true,
    "ExecuteTime": {
     "start_time": "2023-05-12T11:43:48.741379Z",
     "end_time": "2023-05-12T11:43:48.770383Z"
    }
   }
  },
  {
   "cell_type": "code",
   "execution_count": 23,
   "outputs": [],
   "source": [
    "neigh_3 = KNeighborsClassifier(n_neighbors=4)"
   ],
   "metadata": {
    "collapsed": false,
    "is_executing": true,
    "ExecuteTime": {
     "start_time": "2023-05-12T11:43:48.780385Z",
     "end_time": "2023-05-12T11:43:48.781388Z"
    }
   }
  },
  {
   "cell_type": "code",
   "execution_count": 24,
   "outputs": [],
   "source": [
    "modelo_knn_3 = neigh_3.fit(embeddings2d,list(df_train[\"Class Index\"][:number_texts]))"
   ],
   "metadata": {
    "collapsed": false,
    "is_executing": true,
    "ExecuteTime": {
     "start_time": "2023-05-12T11:43:48.784384Z",
     "end_time": "2023-05-12T11:43:48.829379Z"
    }
   }
  },
  {
   "cell_type": "code",
   "execution_count": 25,
   "outputs": [],
   "source": [
    "result_knn_3= modelo_knn_3.predict(embeddings2d_test)"
   ],
   "metadata": {
    "collapsed": false,
    "is_executing": true,
    "ExecuteTime": {
     "start_time": "2023-05-12T11:43:48.820386Z",
     "end_time": "2023-05-12T11:43:49.072379Z"
    }
   }
  },
  {
   "cell_type": "code",
   "execution_count": 27,
   "outputs": [],
   "source": [
    "df_result = pd.DataFrame({\"Correto\":df_test[\"Class Index\"][:number_texts_test],\"Kmeans_3\":result_knn_3})"
   ],
   "metadata": {
    "collapsed": false,
    "is_executing": true,
    "ExecuteTime": {
     "start_time": "2023-05-12T12:00:37.473385Z",
     "end_time": "2023-05-12T12:00:37.486381Z"
    }
   }
  },
  {
   "cell_type": "code",
   "execution_count": null,
   "outputs": [],
   "source": [
    "print(accuracy_score(df_result[\"Correto\"], df_result[\"Kmeans_3\"]))"
   ],
   "metadata": {
    "collapsed": false,
    "is_executing": true
   }
  }
 ],
 "metadata": {
  "kernelspec": {
   "display_name": "Python 3",
   "language": "python",
   "name": "python3"
  },
  "language_info": {
   "codemirror_mode": {
    "name": "ipython",
    "version": 2
   },
   "file_extension": ".py",
   "mimetype": "text/x-python",
   "name": "python",
   "nbconvert_exporter": "python",
   "pygments_lexer": "ipython2",
   "version": "2.7.6"
  }
 },
 "nbformat": 4,
 "nbformat_minor": 0
}

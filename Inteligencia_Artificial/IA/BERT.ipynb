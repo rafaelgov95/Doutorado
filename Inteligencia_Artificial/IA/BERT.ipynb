{
 "cells": [
  {
   "cell_type": "code",
   "execution_count": 1,
   "metadata": {
    "collapsed": true
   },
   "outputs": [],
   "source": [
    "import pandas as pd\n",
    "import numpy as np\n",
    "from sklearn.utils import resample\n",
    "from sklearn.metrics import accuracy_score\n",
    "\n",
    "from sentence_transformers import SentenceTransformer\n",
    "from sklearn.cluster import KMeans\n",
    "from matplotlib import pyplot as plt\n",
    "from sklearn.manifold import TSNE\n",
    "from mpl_toolkits import mplot3d\n",
    "import tensorflow as tf\n",
    "import tensorflow_hub as tf_hub\n",
    "import tensorflow_text as tf_text\n",
    "from sklearn.neighbors import KNeighborsClassifier\n"
   ]
  },
  {
   "cell_type": "code",
   "execution_count": 2,
   "outputs": [],
   "source": [
    "df_train =resample(pd.read_csv(\"./../DATASET/agnews/train.csv\"),random_state=150)\n",
    "df_test =resample(pd.read_csv(\"./../DATASET/agnews/test.csv\"),random_state=150)\n"
   ],
   "metadata": {
    "collapsed": false
   }
  },
  {
   "cell_type": "code",
   "execution_count": 3,
   "outputs": [],
   "source": [
    "bert_model_name_encoder = 'https://tfhub.dev/tensorflow/small_bert/bert_en_uncased_L-4_H-512_A-8/1'\n",
    "bert_model_name_preprocess = 'https://tfhub.dev/tensorflow/bert_en_uncased_preprocess/3'"
   ],
   "metadata": {
    "collapsed": false
   }
  },
  {
   "cell_type": "code",
   "execution_count": 4,
   "outputs": [],
   "source": [
    "bert_preprocess_model = tf_hub.KerasLayer(bert_model_name_preprocess)\n",
    "# corpus_embeddings = embedder.encode(df_train['Description'][:10])"
   ],
   "metadata": {
    "collapsed": false
   }
  },
  {
   "cell_type": "code",
   "execution_count": 5,
   "outputs": [],
   "source": [
    "number_texts=5000\n",
    "number_texts_test=500\n",
    "lista_processing = df_train['Description'][:number_texts]\n",
    "lista_processing_test = df_test['Description'][:number_texts_test]\n",
    "\n",
    "text_preprocessed = bert_preprocess_model(lista_processing.to_list())\n",
    "text_preprocessed_test = bert_preprocess_model(lista_processing_test.to_list())\n"
   ],
   "metadata": {
    "collapsed": false
   }
  },
  {
   "cell_type": "code",
   "execution_count": 6,
   "outputs": [],
   "source": [
    "bert_model = tf_hub.KerasLayer(bert_model_name_encoder)"
   ],
   "metadata": {
    "collapsed": false
   }
  },
  {
   "cell_type": "code",
   "execution_count": null,
   "outputs": [],
   "source": [
    "bert_results  =bert_model(text_preprocessed)\n",
    "bert_results_test  =bert_model(text_preprocessed_test)\n"
   ],
   "metadata": {
    "collapsed": false,
    "is_executing": true
   }
  },
  {
   "cell_type": "code",
   "execution_count": null,
   "outputs": [],
   "source": [
    "# tsne = TSNE(random_state = 0, n_components=2, n_iter = 1000, perplexity=4, metric = 'euclidean')\n",
    "# embeddings2d = tsne.fit_transform(np.array((bert_results['pooled_output'])))\n",
    "# tsne = TSNE(random_state = 0, n_components=2, n_iter = 1000, perplexity=4, metric = 'euclidean')\n",
    "# embeddings2d_test = tsne.fit_transform(np.array((bert_results_test['pooled_output'])))"
   ],
   "metadata": {
    "collapsed": false,
    "is_executing": true
   }
  },
  {
   "cell_type": "code",
   "execution_count": null,
   "outputs": [],
   "source": [
    "embeddings2d = bert_results['pooled_output']\n",
    "embeddings2d_test = bert_results_test['pooled_output']"
   ],
   "metadata": {
    "collapsed": false,
    "is_executing": true
   }
  },
  {
   "cell_type": "code",
   "execution_count": null,
   "outputs": [],
   "source": [
    "neigh_3 = KNeighborsClassifier(n_neighbors=4)"
   ],
   "metadata": {
    "collapsed": false,
    "is_executing": true
   }
  },
  {
   "cell_type": "code",
   "execution_count": null,
   "outputs": [],
   "source": [
    "modelo_knn_3 = neigh_3.fit(embeddings2d,list(df_train[\"Class Index\"][:number_texts]))"
   ],
   "metadata": {
    "collapsed": false,
    "is_executing": true
   }
  },
  {
   "cell_type": "code",
   "execution_count": null,
   "outputs": [],
   "source": [
    "result_knn_3= modelo_knn_3.predict(embeddings2d_test)"
   ],
   "metadata": {
    "collapsed": false,
    "is_executing": true
   }
  },
  {
   "cell_type": "code",
   "execution_count": null,
   "outputs": [],
   "source": [
    "df_result = pd.DataFrame({\"Correto\":df_test[\"Class Index\"][:number_texts],\"Kmeans_3\":result_knn_3})"
   ],
   "metadata": {
    "collapsed": false,
    "is_executing": true
   }
  },
  {
   "cell_type": "code",
   "execution_count": null,
   "outputs": [],
   "source": [
    "print(accuracy_score(df_result[\"Correto\"], df_result[\"Kmeans_3\"]))"
   ],
   "metadata": {
    "collapsed": false,
    "is_executing": true
   }
  }
 ],
 "metadata": {
  "kernelspec": {
   "display_name": "Python 3",
   "language": "python",
   "name": "python3"
  },
  "language_info": {
   "codemirror_mode": {
    "name": "ipython",
    "version": 2
   },
   "file_extension": ".py",
   "mimetype": "text/x-python",
   "name": "python",
   "nbconvert_exporter": "python",
   "pygments_lexer": "ipython2",
   "version": "2.7.6"
  }
 },
 "nbformat": 4,
 "nbformat_minor": 0
}

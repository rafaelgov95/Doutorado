{
 "nbformat": 4,
 "nbformat_minor": 0,
 "metadata": {
  "colab": {
   "provenance": []
  },
  "kernelspec": {
   "name": "python3",
   "language": "python",
   "display_name": "Python 3 (ipykernel)"
  },
  "accelerator": "GPU",
  "gpuClass": "standard"
 },
 "cells": [
  {
   "cell_type": "markdown",
   "metadata": {
    "id": "0ehO3emgk96g"
   },
   "source": [
    "## Restart the Notebook\n",
    "After installing BERTopic, some packages that were already loaded were updated and in order to correctly use them, we should now restart the notebook.\n",
    "\n",
    "From the Menu:\n",
    "\n",
    "Runtime → Restart Runtime"
   ]
  },
  {
   "cell_type": "markdown",
   "metadata": {
    "id": "Y3VGFZ1USMTu"
   },
   "source": [
    "# Data\n",
    "For this example, we use the popular 20 Newsgroups dataset which contains roughly 18000 newsgroups posts"
   ]
  },
  {
   "cell_type": "code",
   "metadata": {
    "id": "JJij3WP6SEQD",
    "ExecuteTime": {
     "end_time": "2023-05-16T07:59:51.359941905Z",
     "start_time": "2023-05-16T07:59:48.541821705Z"
    }
   },
   "source": [
    "import pandas as pd\n",
    "import re\n",
    "import nltk\n",
    "\n",
    "nltk.download('punkt')\n",
    "\n",
    "from nltk.corpus import stopwords\n",
    "from nltk.tokenize import word_tokenize\n",
    "import unidecode\n",
    "import numpy as np\n",
    "def preprocess_text(text):\n",
    "    text = text.lower()\n",
    "    text = re.sub(r'[^\\w\\s]', '', text)\n",
    "    text = re.sub(r'[^a-zA-Z0-9áéíóúÁÉÍÓÚâêîôûÂÊÎÔÛàèìòùÀÈÌÒÙãõñÃÕÑçÇ\\s]+', '', text)\n",
    "    text = unidecode.unidecode(text)\n",
    "    return text\n",
    "\n",
    "stopwords = set(stopwords.words('portuguese'))\n",
    "\n",
    "\n",
    "df_train = pd.read_excel(\"/home/rafael/Documentos/FACOM/Douturado/Doutorado/webcrawler/medicamentos.xlsx\",index_col=0,dtype=str)\n",
    "df_train.head()\n",
    "list_preprossing=[]\n",
    "for dta in range(df_train.shape[0]):\n",
    "    # value=str(df_train.iloc[dta,0])\n",
    "    value=str(df_train.iloc[dta,0])+\" \"+str(df_train.iloc[dta,1])\n",
    "    # value=str(df_train.iloc[dta,0])+\" \"+str(df_train.iloc[dta,1]) +\" \"+str(df_train.iloc[dta,2])+\" \"+str(df_train.iloc[dta,3])\n",
    "    tokens = word_tokenize(preprocess_text(value))\n",
    "    texto_sem_stopwords = [word for word in tokens if word.lower() not in stopwords]\n",
    "    texto_sem_stopwords = ' '.join(texto_sem_stopwords)\n",
    "    list_preprossing.append(texto_sem_stopwords)\n",
    "list_preprossing=np.array(list_preprossing)\n",
    "list_preprossing=list_preprossing[list_preprossing!='nan']\n",
    "print(list_preprossing)"
   ],
   "execution_count": 32,
   "outputs": [
    {
     "name": "stderr",
     "output_type": "stream",
     "text": [
      "[nltk_data] Downloading package punkt to /home/rafael/nltk_data...\n",
      "[nltk_data]   Unzipping tokenizers/punkt.zip.\n"
     ]
    },
    {
     "name": "stdout",
     "output_type": "stream",
     "text": [
      "['cafeina carisoprodol diclofenaco sodico paracetamol trimusk cafeina carisoprodol diclofenaco sodico paracetamol indicado tratamento reumatismo formas inflamatoriodegenerativas agudas cronicas crise aguda gota estados inflamatorios agudos postraumaticos poscirurgicos exacerbacoes agudas artrite reumatoide outras artropatias reumaticas osteoartrites estados agudos reumatismo tecidos extraarticulares quadros lombalgias lombociatalgias trimusk cafeina carisoprodol diclofenaco sodico paracetamol indicado coadjuvante processos inflamatorios graves decorrentes quadros infecciosos'\n",
      " 'probiotico bb12 bifidobacterium animalis subsp lactis suplemento alimentar bifidobacterium animalis subsp lactis bb12 dsm 15954 solucao gotas contribui saude trato gastrointestinal'\n",
      " 'enoxaparina sodica versa enoxaparina sodica indicado tratamento trombose oclusao trombo veias profundas ja estabelecida embolia pulmonar oclusao algum vaso pulmao trombo migrou outra veia prevencao tromboses venosas associadas cirurgia ortopedica cirurgia geral prevencao tromboses venosas pacientes acamados devido doencas agudas incluindo insuficiencia cardiaca insuficiencia respiratoria infeccoes graves doencas reumaticas prevencao coagulacao circuito circulacao extracorporea durante hemodialise tratamento angina instavel dor peito causada diminuicao suprimento oxigenio coracao infarto agudo miocardio onda q tipo infarto administrado concomitantemente acido acetilsalicilico'\n",
      " 'cetoprofeno bicerto cetoprofeno medicamento possui atividade antiinflamatoria analgesica antitermica indicado tratamento processos otorrinolaringologicos sinusites otites faringites laringites amigdalites processos ginecologicosobstetricos anexites parametrites endometrites dismenorreia processos urologicos colica nefretica orquiepididimites prostatites processos odontologicos periodontites pulpites abscessos extracoes dentarias processos reumaticos artrite reumatoide espondilite anquilosante gota condrocalcinose reumatismo psoriatico sindrome reiter pseudoartrite lupus eritematoso sistemico esclerodermia periarterite nodosa osteoartrite periartrite escapuloumeral bursites capsulites sinovites tenossinovites tendinites epicondilites lesoes ortopedicas contusoes esmagamentos fraturas entorses luxacoes algias diversas nevralgia cervicobraquial cervicalgia lombalgia dor ciatica posoperatorios diversos enxaqueca aura sintomas precedem enxaqueca variam consideravelmente pacientes afetando principalmente visao audicao'\n",
      " 'fosfato dissodico dexametasona cloridrato tiamina cloridrato piridoxina cianocobalamina tratamento sinais sintomas neuropatias inflamatorias'\n",
      " 'drospirenona etinilestradiol contraceptivo oral efeitos antimineralocorticoide antiandrogenico beneficiam tanto mulheres apresentam retencao liquido origem hormonal sintomas apresentam acne seborreia'\n",
      " 'ceftriaxona sodica medicamento usado tratar infeccoes causadas microrganismos sensiveis ceftriaxona'\n",
      " 'alprazolam alprazolam indicado tratamento transtornos ansiedade nao deve administrado substituicao tratamento apropriado psicose quadro delirios alucinacoes sintomas ansiedade podem incluir forma variavel tensao medo apreensao intranquilidade dificuldade concentracao irritabilidade insonia dificuldade dormir eou hiperatividade neurovegetativa respiracao curta superficial sufocacao palpitacoes aumento batimentos coracao maos frias suadas boca seca tontura enjoo diarreia gases rubores vermelhidao rosto calafrios necessidade urinar vezes dificuldades engolir mudancas tom voz etc resultando manifestacoes corporais variadas alprazolam tambem indicado tratamento transtornos ansiedade associados outras condicoes abstinencia alcool tratamento transtorno panico agorafobia medo espacos abertos meio multidao cuja principal caracteristica crise ansiedade inesperada ataque repentino apreensao intensa terror medo'\n",
      " 'acetato caspofungina berk acetato caspofungina indicado tratar varios tipos infeccoes fungicas descritos seguir infeccao fungica grave chamada candidiase invasiva infeccao causada celulas fungicas leveduras chamadas candida normalmente leveduras encontramse trato digestivo nao causam infeccao menos entrem corrente sanguinea neste caso infeccao chamada candidemia outros tecidos orgaos revestimento abdome peritonite rins figado ossos musculos articulacoes baco olhos pessoas correm alto risco apresentar candidiase invasiva estao pacientes cirurgicos cujo sistema imunologico encontrase deficiente infeccoes fungicas boca garganta esofago tubo digestivo liga boca estomago infeccoes sao chamadas candidiase orofaringea boca fundo garganta candidiase esofageana esofago tambem sao causadas candida individuos saudaveis normalmente possuem candida boca garganta apresentar qualquer efeito doenca infeccao ocorre resistencia corpo doencas baixa infeccao fungica grave chamada aspergilose invasiva infeccao grave ocorre nariz seios nasais pulmoes pode espalhar outras partes corpo tipo infeccao causado varios fungos comuns encontrados ambiente chamados aspergillus maioria infeccoes fungicas aspergillus comeca sistema respiratorio nariz seios nasais pulmoes porque esporos fungo encontramse ar respiramos todos dias maioria individuos saudaveis capacidade natural combater doencas destroi esporos remove corpo algumas condicoes clinicas entretanto diminuem resistencia corpo doencas alguns medicamentos prescritos pacientes receberam transplante orgaos medula tambem fazem organismo apresente menor resistencia doencas sao pacientes provavelmente desenvolvem tipo infeccao alem desses casos medico pode prescrever berk acetato caspofungina caso suspeite voce apresente infeccao fungica decorrente quimioterapia outros tratamentos condicoes clinicas possam diminuir resistencia corpo doencas reduzirem quantidade alguns tipos leucocitos voce apresentar febre persistente apos quimioterapia algumas condicoes descritas acima febre nao baixar apos tratamento antibiotico pode voce infeccao fungica'\n",
      " 'poliestirenossulfonato calcio calnate poliestirenossulfonato calcio indicado tratamento hiperpotassemia concentracao alta maior normal potassio sangue circulante casos insuficiencia renal diminuicao funcao rins'\n",
      " 'valerato betametasona sulfato gentamicina tolnaftato clioquinol valerato betametasona sulfato gentamicina tolnaftato clioquinol pomada indicado alivio manifestacoes inflamatorias dermatoses doencas pele respondem corticosteroides complicadas infeccao causada microorganismos sensiveis componentes formulacao ha suspeita possibilidade tal infeccao dermatoses incluem dermatose inguinal doenca pele regiao proxima virilha dermatite cronica extremidades doenca pele cronica extremidades eritrasma doenca pele aparece principalmente parte interna coxas virilhas axilas balanopostite inflamacao pele cobre penis dermatite eczematoide dermatite contato alergia produtos quais pele contato dermatite folicular alergia local onde nascem desidrose pequenas bolhas palmas maos plantas pes paroniquia infeccao redor unhas causadas tipo fungo candida prurido anal coceira regiao anus eczema seborreico intertrigo irritacao infeccao areas atrito dermatite seborreica inflamacao pele regioes muitas glandulas produtoras suor acne pustulosa impetigo doenca infecciosa neurodermatite doenca pele originada causas emocionais estomatite angular inflamacao cantos boca dermatite fotossensibilidade alergia sensibilidade luz sol dermatofitose inguinal liquenificada micose regiao virilha infeccoes causadas fungo tinea tinea pedis micose pe tinea cruris micose regiao virilha tinea corporis micose outras areas corpo'\n",
      " 'letrozol tratamento adjuvante mulheres posmenopausa cancer mama inicial receptor hormonal positivo tratamento adjuvante estendido cancer mama inicial mulheres posmenopausa recebido terapia adjuvante padrao previa tamoxifeno 5 anos tratamento primeira linha cancer mama avancado hormonio dependente mulheres posmenopausa tratamento cancer mama avancado mulheres posmenopausa natural artificialmente induzida sido tratadas previamente antiestrogenicos terapia preoperatoria mulheres posmenopausa cancer mama localmente avancado receptor hormonal positivo intencao permitir cirurgia conservadora mama mulheres nao originalmente consideradas candidatas tipo cirurgia tratamento poscirurgico subsequente deve seguir tratamento padrao'\n",
      " 'tinidazol nitrato miconazol medicamento indicado tinidazol nitrato miconazol indicado tratamento topico intravaginal vulvovaginites infeccoes vagina vulva regiao externa genitais femininos sensiveis componentes formula'\n",
      " 'promestrieno promestrieno indicado tratamento alteracoes troficas disturbios vulva vagina causadas reducao falta estrogenio organismo promestrieno tambem indicado acelerar cicatrizacao lesoes vagina colo utero periodo posparto normal poscirurgia apos terapias locais agentes fisicos'\n",
      " 'losartana potassica medicamento indicado medico receitou losartana potassica tratar hipertensao pressao alta voce ter doenca conhecida insuficiencia cardiaca enfraquecimento coracao pacientes pressao alta hipertrofia ventricular esquerda losartana potassica reduziu risco derrame acidente vascular cerebral ataque cardiaco infarto miocardio ajudou pacientes viverem vide item 4 devo saber antes usar medicamento uso pacientes raca negra pressao alta hipertrofia ventriculo esquerdo medico tambem pode ter receitado losartana potassica voce ter diabetes tipo 2 proteinuria nesse caso losartana potassica pode retardar piora doenca renal'\n",
      " 'cloridrato paroxetina transtorno depressivo maior pondera cloridrato paroxetina indicado tratamento transtorno depressivo maior tdm resultados estudos realizados pacientes sob tratamento cloridrato paroxetina ano indicam medicamento eficaz prevencao recaidas tambem recorrencia sintomas depressivos transtornos ansiedade tratamento sintomas prevencao recidiva transtorno obsessivocompulsivo toc tratamento sintomas prevencao recidiva transtorno panico agorafobia tratamento fobia socialtranstorno ansiedade social tratamento sintomas prevencao recidiva transtorno ansiedade generalizada tratamento transtorno estresse postraumatico criancas adolescentes menores 18 anos todas indicacoes pondera cloridrato paroxetina nao indicado criancas adolescentes menores 18 anos vide item 5 advertencias precaucoes estudos clinicos controlados feitos criancas adolescentes apresentavam transtorno depressivo maior nao evidenciaram eficacia nao embasam uso paroxetina tratamento depressao nessa populacao vide item 5 advertencias precaucoes eficacia seguranca uso paroxetina criancas menores 7 anos nao estudadas'\n",
      " 'cloreto sodio snif jet cloreto sodio indicado fluidificante descongestionante nasal'\n",
      " 'cloridrato sibutramina cloridrato sibutramina monoidratado indicado terapia adjuvante parte programa gerenciamento peso recomendado pacientes indice massa corporea imc maior igual 30 kgm2'\n",
      " 'mesilato imatinibe mesilato imatinibe indicado pacientes adultos pediatricos acima 2 anos leucemia mieloide cronica lmc cromossomo philadelphia positivo ph recem diagnosticada tratamento anterior pacientes adultos leucemia mieloide cronica lmc cromossomo philadelphia positivo crise blastica fase acelerada fase cronica apos falha intolerancia terapia alfainterferona tratamento pacientes adultos pediatricos acima 1 ano leucemia linfoblastica aguda lla ph cromossomo philadelphia positivo recentemente diagnosticada integrados quimioterapia'\n",
      " 'cloridrato duloxetina medicamento indicado tratamento depressao cloridrato duloxetina eficaz manutencao melhora clinica durante tratamento continuo ate seis meses pacientes apresentaram resposta tratamento inicial cloridrato duloxetina indicado tratamento transtorno depressivo maior dor neuropatica periferica diabetica fibromialgia fm pacientes transtorno depressivo maior tdm estados dor cronica associados dor lombar cronica estados dor cronica associados dor devido osteoartrite joelho doenca articular degenerativa pacientes idade superior 40 anos transtorno ansiedade generalizada transtorno ansiedade generalizada definido ansiedade preocupacao excessivas presentes maioria dias menos seis meses ansiedade preocupacao excessivas devem dificeis controlar devem causar prejuizo funcoes diarias deve associado tres seis sintomas seguintes inquietacao sensacao nervos flor pele ficar facilmente cansado dificuldade concentrarse sensacoes branco mente irritabilidade tensao muscular perturbacao sono'\n",
      " 'linezolida linezolida indicada tratamento infeccoes presumidas comprovadamente causadas bacterias sensiveis vide espectro acao item 3 caracteristicas farmacologicas infeccoes bacterianas destacam associadas bacteremia concomitante exemplo 1 pneumonia adquirida ambiente hospitalar servicos relacionados assistencia saude incluindo relacionadas ventilacao mecanica comunitario 2 infeccoes pele partes moles complicadas incluindo pe diabetico osteomielite concomitante nao complicadas 3 infeccoes enterococicas incluindo causadas cepas enterococcus faecium enterococcus faecalis resistentes vancomicina medicamento ativo somente contra bacterias grampositivas linezolida nao atividade contra patogenos gramnegativos exigida terapia gramnegativa especifica caso confirme suspeite patogeno gramnegativo concomitante vide item 5 advertencias precaucoes item 3 caracteristicas farmacologicas'\n",
      " 'desloratadina desloratadina indicada alivio rapido sintomas associados rinite alergica incluindo rinite alergica intermitente persistente espirro rinorreia prurido congestao nasal prurido ocular lacrimejamento vermelhidao olhos prurido palato tosse desloratadina indicada tambem alivio sintomas associados urticaria prurido reducao tamanho numero erupcoes cutaneas'\n",
      " 'montelucaste sodio montelucaste sodio indicado tratamento asma incluindo prevencao sintomas asma durante dia noite montelucaste sodio tambem previne estreitamento vias aereas causado exercicio rinite alergica incluindo sintomas diurnos noturnos congestao nasal coriza coceira nasal espirros congestao nasal despertar dificuldade dormir despertares noturnos lacrimejamento coceira vermelhidao inchaco olhos'\n",
      " 'prednisolona preni prednisolona indicado agente antiinflamatorio imunossupressor patologias cujos mecanismos fisiopatologicos envolvam processos inflamatorios eou autoimunes tratamento condicoes endocrinas glandulas composicao esquemas terapeuticos algumas neoplasias'\n",
      " 'tadalafila tada tadalafila indicado tratamento disfuncao eretil'\n",
      " 'cloridrato venlafaxina venlaxin cloridrato venlafaxina indicado tratamento depressao incluindo depressao ansiedade associada prevencao recaida recorrencia depressao tratamento ansiedade transtorno ansiedade generalizada tag incluindo tratamento longo prazo tratamento transtorno ansiedade social tas tambem conhecido fobia social tratamento transtorno panico agorafobia conforme definido dsmiv'\n",
      " 'ifosfamida ifosfamida medicamento indicado tratamento carcinoma bronquico celulas pequenas carcinoma ovario carcinoma mama tumores testiculo seminoma teratoma teratocarcinoma sarcoma tecidos moles leiomiossarcoma rabdomiossarcoma condrossarcoma carcinoma endometrio carcinoma rim hipernefroide carcinoma pancreas linfomas malignos linfossarcoma reticulossarcoma emprego restrito oncologistas especializados quimioterapia uso exclusivo hospitais'\n",
      " 'pantoprazol sodico sesquihidratado medicamento indicado tratamento ulcera peptica gastrica duodenal ulcera causada acido estomago contato revestimento estomago inicio intestino esofagites refluxo moderadas graves doenca causada volta conteudo estomago esofago tratamento sindrome zollingerellison outras doencas causadoras producao exagerada acido estomago via oral nao recomendada criterio medico pantoprazol sodico sesquihidratadointravenoso iv tambem indicado tratamento hemorragia digestiva alta complemento terapia endoscopica prevencao ressangramento profilaxia sangramento agudo ulcera estresse'\n",
      " 'topiramato amato topiramato indicado monoterapia tanto pacientes epilepsia recentemente diagnosticada pacientes recebiam terapia adjuvante serao convertidos monoterapia amato topiramato indicado adultos criancas adjuvante tratamento crises epilepticas parciais generalizacao secundaria crises tonicoclonicas generalizadas primarias amato topiramato indicado tambem adultos criancas tratamento adjuvante crises associadas sindrome lennoxgastaut amato topiramato indicado adultos tratamento profilatico enxaqueca uso amato topiramato tratamento agudo enxaqueca nao estudado'\n",
      " 'cafeina carisoprodol diclofenaco sodico paracetamol medicamento indicado medicamento indicado tratamento reumatismo conjunto doencas pode afetar articulacoes musculos esqueleto caracterizado dor restricao movimento eventual presenca sinais inflamatorios exemplos comuns desta doenca lombalgia dor coluna lombar osteoartrites crise aguda artrite reumatoide outras artropatias reumaticas crise aguda gota doenca caracterizada deposicao cristais acido urico junto articulacoes outros orgaos estados inflamatorios agudos postraumaticos poscirurgicos medicamento tambem indicado coadjuvante processos inflamatorios graves decorrentes quadros infecciosos'\n",
      " 'azitromicina astro azitromicina dihidratada po suspensao oral indicado infeccoes causadas organismos suscetiveis infeccoes trato respiratorio inferior incluindo bronquite pneumonia infeccoes pele tecidos moles otite media aguda infeccoes trato respiratorio superior incluindo sinusite faringitetonsilite penicilina farmaco escolha usual tratamento faringite devido streptococcus pyogenes incluindo profilaxia febre reumatica azitromicina geralmente efetiva erradicacao estreptococo orofaringe porem dados estabelecem eficacia azitromicina subsequente prevencao febre reumatica nao estao disponiveis momento doencas sexualmente transmissiveis homem mulher astro azitromicina diidratada indicado tratamento infeccoes genitais nao complicadas devido chlamydia trachomatis tambem indicado tratamento cancro devido haemophilus ducreyi infeccoes genitais nao complicadas devido neisseria gonorrhoeae resistencia multipla infeccoes concomitantes treponema pallidum devem excluidas'\n",
      " 'gestodeno etinilestradiol tamisa 30 gestodeno etinilestradiol indicado contraceptivo oral embora tendo eficacia bem estabelecida ha casos gravidez mulheres utilizando contraceptivos orais'\n",
      " 'furoato mometasona medicamento indicado rinite alergica furoato mometasona indicado tratamento sintomas rinite alergica sazonal perene congestao nasal coriza coceira espirros pacientes adultos pediatricos partir 2 anos idade tambem indicado profilaxia sintomas nasais rinite alergica sazonal pacientes adultos adolescentes 12 anos pacientes historico sintomas rinite alergica sazonal intensidade moderada grave recomendase tratamento profilatico furoato mometasona durante duas quatro semanas antes inicio epoca maior exposicao alergenos tratamento complementar episodios agudos rinossinusite furoato mometasona indicado adultos adolescentes 12 anos idade tratamento complementar antibioticos episodios agudos rinossinusite polipos nasais furoato mometasona indicado pacientes acima 18 anos tratamento polipos nasais sintomas incluindo congestao nasal diminuicao olfato rinossinusite furoato mometasona indicado pacientes acima 12 anos tratamento rinossinusite aguda'\n",
      " 'acetato abiraterona medicamento matiz acetato abiraterona combinacao prednisona prednisolona indicado tratamento pacientes cancer prostata metastatico resistente castracao mcrpc sao assintomaticos levemente sintomaticos apos falha terapia privacao androgenica tratamento pacientes cancer prostata avancado metastatico resistente castracao mcrpc receberam quimioterapia previa docetaxel medicamento matiz acetato abiraterona combinacao prednisona terapia privacao androgenica agonista hormonio liberador gonadotrofina castracao cirurgica indicado tratamento pacientes cancer prostata metastatico alto risco diagnostico recente nao tratados anteriormente hormonios mhnpc pacientes tratamento hormonal nao tres meses continuam respondendo terapia hormonal mhspc'\n",
      " 'colecalciferol altad caps colecalciferol medicamento base vitamina d3 colecalciferol indicado prevencao tratamento auxiliar desmineralizacao ossea pre posmenopausa prevencao formacao inadequada ossos raquitismo casos osteomalacia osteoporose prevencao risco quedas fraturas'\n",
      " 'rivaroxabana rivaroxabana indicada prevencao tromboembolismo venoso tev pacientes adultos submetidos cirurgia eletiva artroplastia joelho quadril rivaroxabana indicada tratamento trombose venosa profunda tvp prevencao trombose venosa profunda tvp embolia pulmonar ep recorrentes adultos rivaroxabana indicado tratamento embolia pulmonar ep prevencao embolia pulmonar ep trombose venosa profunda tvp recorrentes adultos'\n",
      " 'etinilestradiol acetato ciproterona tratamento disturbios androgenodependentes mulher tais acne principalmente formas pronunciadas naquelas acompanhadas seborreia inflamacoes formacoes nodulos acne papulopustulosa acne nodulocistica casos leves hirsutismo sindrome ovarios policisticos sop tratamento acne selene deve usado terapia topica tratamentos antibioticos sistemicos nao considerados adequados embora medicamento selene tambem funcione contraceptivo oral nao deve utilizado exclusivamente mulheres contracepcao sim reservado apenas mulheres necessitam tratamento condicoes androgenodependentes descritas recomendase ainda tratamento retirado 3 4 ciclos apos condicao indicada ter sido resolvida selene nao continuado unicamente fornecer contracepcao oral'\n",
      " 'hemitartarato zolpidem turno sl hemitartarato zolpidem indicado tratamento insonia ocasional transitoria cronica'\n",
      " 'desogestrel anticoncepcao'\n",
      " 'dicloridrato betaistina betina dicloridrato betaistina indicado tratamento sindrome meniere caracterizada triade sintomas vertigem nauseas vomito zumbido ouvidos perda dificuldade audicao tratamento sintomatico tontura origem vestibular'\n",
      " 'levofloxacino hemihidratado levofloxacino hemihidratado 750 mg indicado tratamento sinusite aguda bacteriana infeccao aguda bacterias cavidades aeradas ossos face pneumonia adquirida comunidade pneumonia pessoas nao estao internadas infeccoes trato urinario bexiga canais onde passa urina complicadas pielonefrite aguda infeccao aguda rins causadas cepas suscetiveis bacterias pacientes funcionamento normal rins'\n",
      " 'nitazoxanida nitazoxanida indicada tratamento seguintes infeccoes gastroenterites virais provocadas rotavirus norovirus helmintiases provocadas nematodeos cestodeos trematodeos enterobius vermicularis ascaris lumbricoides strongyloides stercolaris ancylostoma duodenale necator americanus trichuris trichiura taenia spp hymenolepis nana amebiase tratamento diarreia amebiase intestinal aguda disenteria amebiana causada complexo entamoeba histolyticadispar giardiase tratamento diarreia causada giardia lamblia giardia intestinalis criptosporidiase tratamento diarreia causada cryptosporidium parvum blastocistose balantidiase isosporiase causadas respectivamente blastocistis hominis balantidium coli isospora belli'\n",
      " 'minoxidil medicamento indicado tratamento alopecia androgenica calvicie hereditaria homens adultos'\n",
      " 'azitromicina dihidratada astro iv azitromicina dihidratada indicado tratamento pneumonia adquirida comunidade causada organismos suscetiveis incluindo legionella pneumophila pacientes requerem tratamento intravenoso inicial astro iv azitromicina dihidratada tambem indicado tratamento doenca inflamatoria pelvica causada organismos suscetiveis chlamydia trachomatis neisseria gonorrhoeae mycoplasma hominis pacientes requerem tratamento intravenoso inicial'\n",
      " 'desogestrel etinilestradiol anticoncepcao'\n",
      " 'cefadroxila cefadroxila indicada tratamento infeccoes causadas bacterias sensiveis eficacia cefadroxila manifestase melhora estado geral paciente incluindo regressao febre sinais sintomas infeccao'\n",
      " 'lamotrigina lamotrigina droga antiepiletica dae usada tratamento crises convulsivas parciais crises generalizadas pode instituido monoterapia unica droga tratamento terapia combinada associado outras drogas antiepileticas'\n",
      " 'algestona acetofenida enantato estradiol medicamento algestona acetofenida enantato estradiol indicado prevenir gravidez sendo contraceptivo anticoncepcional injetavel base hormonios uso dose unica mensal medicamento algestona acetofenida enantato estradiol pode tambem indicado controle irregularidades menstruais tratamento problemas hormonais falta estrogeno progesterona'\n",
      " 'omeprazol sodico omeprazol sodico indicado administracao omeprazol comprimido impossibilitada presenca alguma seguintes indicacoes ulcera peptica erosao parede estomago duodeno esofagite refluxo inflamacao esofago liquido acido proveniente estomago sindrome zollingerellison doenca causada tumor produtor gastrina hormonio aumenta producao acido estomago favorece aparecimento multiplas ulceras prevencao aspiracao conteudo gastrico durante anestesia geral pacientes risco'\n",
      " 'dicloridrato hidroxizina dicloridrato hidroxizina indicado alivio prurido causado condicoes alergicas pele tais urticaria dermatite atopica contato prurido decorrente outras doencas sistemicas'\n",
      " 'meropenem trihidratado meromax meropenem trihidratado infusao prolongada indicado tratamento infeccoes graves ocasionadas bacterias resistentes sendo intrinsecamente potente contra acinetobacter baumannii pseudomonas aeruginosa tais pneumonia acomete paciente intubado pneumonia associada uso ventiladores mecanicos meningite bacteriana infeccao corrente sanguinea sepse fibrose cistica doenca pulmoes caracteriza espessamento intenso muco destruicao pulmonar facilidade adquirir pneumonias repeticao'\n",
      " 'tansulosina cloridrato tansulosina indicado tratamento sintomas trato urinario inferior associados hiperplasia prostatica benigna hpb'\n",
      " 'amoxicilina clavulanato potassio amoxicilina clavulanato potassio antibiotico usado adultos criancas indicado tratamento infeccoes diferentes partes corpo sao causadas determinados tipos bacterias'\n",
      " 'atorvastatina calcica medicamento indicado atorvastatina calcica comprimidos revestidos indicado tratamento hipercolesterolemia aumento quantidade colesterol sangue isolada hipercolesterolemia associada hipertrigliceridemia aumento niveis sanguineos outro tipo gordura hipercolesterolemia associada reducao niveis sanguineos hdl tipo colesterol hipercolesterolemia associada hipertrigliceridemia associado tambem reducao niveis sanguineos hdl inclusive hipercolesterolemias transmissao geneticafamiliar familiar homozigotica disbetalipoproteinemia etc resposta dieta outras medidas nao farmacologicas inadequadas atorvastatina calcica indicada prevencao secundaria instituida evento evitar ocorra novamente sindrome coronaria aguda doenca musculo cardiaco recebe menor fluxo sangue atorvastatina calcica tambem pode usada prevencao complicacoes cardiovasculares vasos sanguineos coracao pacientes doenca cardiovascular dislipidemia preexistente multiplos fatores risco tabagismo hipertensao diabetes hdl baixo historia familiar doenca cardiaca precoce atorvastatina calcica indicada tratamento pacientes doenca cardiaca coracao coronariana vasos coracao reduzir risco complicacoes infarto miocardio nao fatal acidente vascular cerebral derrame fatal nao fatal procedimentos revascularizacao desobstrucao arterias hospitalizacao insuficiencia cardiaca congestiva doenca musculo cardiaco nao consegue bombear sangue corpo angina dor peito devido problemas coracao vasos'\n",
      " 'cloridrato doxorrubicina cloridrato doxorrubicina po liofilizado injetavel indicado tratamento neoplasias seguir carcinoma mama pulmao bexiga tireoide tambem carcinoma ovariano sarcomas osseos tecidos moles linfomas hodgkin naohodgkin neuroblastoma tumor wilms leucemia linfoblastica aguda leucemia mieloblastica aguda cloridrato doxorrubicina proporcionado resultados positivos tumores superficiais bexiga administracao intravesical apos resseccao transuretral outros tumores solidos respondido tambem estudo destes ate presente momento limitado justificar indicacoes especificas'\n",
      " 'cloridrato ciclobenzaprina medicamento destinado tratamento espasmos musculares associados condicoes musculoesqueleticas aguda dolorosas lombalgias torcicolos periartrite escapuloumeral cervicobraquialgias tratamento fibromialgia alem disso indicado coadjuvante outras medidas alivio sintomas tais fisioterapia repouso'\n",
      " 'cloridrato irinotecano cloridrato irinotecano trihidratado solucao diluicao infusao indicado agente unico combinado tratamento pacientes carcinoma metastatico colon reto nao tratado previamente carcinoma metastatico colon reto cuja molestia recorrido progredido apos terapia anterior 5fluoruracila neoplasia pulmonar celulas pequenas nao pequenas neoplasia colo utero neoplasia ovario neoplasia gastrica recorrente inoperavel cloridrato irinotecano trihidratado indicado tratamento agente unico pacientes neoplasia mama inoperavel recorrente carcinoma celulas escamosas pele linfomas'\n",
      " 'prednisolona medicamento indicado tratamento doencas endocrinas osteoarticulares osteomusculares reumaticas colageno dermatologicas alergicas oftalmicas respiratorias hematologicas neoplasicas outras respondam terapia corticosteroides'\n",
      " 'cloridrato bupropiona medicamento indicado cloridrato bupropiona medicamento usado tratar transtorno depressivo maior tdm bupropiona tambem usada ajudar parar fumar entretanto informacoes desta bula sao especificas pacientes tratamento transtorno depressivo maior doses demais instrucoes sao diferentes pacientes tratamento deixar fumar'\n",
      " 'folinato calcio folinato calcio solucao injetavel indicado reduzir toxicidade antidoto apos terapia antagonistas acido folico metotrexato resgate acido folinico rescue casos eliminacao diminuida metotrexato superdosagem acidental antagonistas acido folico folinato calcio tambem indicado tratamento anemia megaloblastica devido deficiencia folatos terapia oral nao adequada folinato calcio pode tambem utilizado terapia combinada 5fluoruracila 5fu aumentar eficacia desse farmaco tratamento paliativo pacientes portadores carcinoma colorretal avancado'\n",
      " 'aciclovir aciclovir indicado tratamento herpes zoster tratamento recorrencia reaparecimento infeccoes pele mucosas causadas virus herpes simplex prevencao infeccoes recorrentes causadas virus herpes simplex supressao aciclovir tambem indicado pacientes seriamente imunocomprometidos'\n",
      " 'sulfato glicosamina sulfato sodico condroitina artico sulfato glicosamina sulfato sodico condroitina formulacao oral indicada tratamento osteoartroses primarias secundarias'\n",
      " 'tadalafila tada diario tadalafila indicado tratamento disfuncao eretil tada diario tadalafila indicado tratamento sinais sintomas hiperplasia prostatica benigna hpb homens adultos incluindo disfuncao eretil'\n",
      " 'citrato sildenafila dejavu citrato sildenafila indicado tratamento disfuncao eretil entende sendo incapacidade atingir manter erecao suficiente desempenho sexual satisfatorio dejavu citrato sildenafila eficaz necessario estimulo sexual'\n",
      " 'cloridrato gencitabina cloridrato gencitabina indicado tratamento pacientes cancer bexiga adenocarcinoma pancreas localmente avancado metastatico tambem indicado pacientes cancer pancreatico refratario 5fu 5fluorouracil cloridrato gencitabina isolado combinacao cisplatina indicado tratamento primeira linha pacientes cancer pulmao celulas nao pequenas localmente avancado metastatico cloridrato gencitabina combinacao paclitaxel indicado tratamento pacientes cancer mama irressecavel metastatico localmente recorrente recidivou apos quimioterapia adjuvanteneoadjuvante tratamento quimioterapico previo deve ter incluido antraciclina menos sido clinicamente contraindicada'\n",
      " 'aceclofenaco proflam aceclofenaco indicado tratamento processos algicos inflamatorios tais dores dente traumatismos mialgias ex lombares dores agudas poscirurgicas posepisiotomia apos extracao dentaria periartrite ombro reumatismos extraarticulares transtornos tecidos moles tambem eficaz tratamento cronico processos inflamatorios artrite reumatoide osteoartrose espondilite anquilosante'\n",
      " 'drospirenona etinilestradiol contraceptivo oral efeitos antimineralocorticoide antiandrogenico beneficiam tambem mulheres apresentam retencao liquido origem hormonal sintomas tratamento acne vulgaris moderada mulheres buscam adicionalmente protecao contraceptiva'\n",
      " 'ganciclovir sodico ganciclovir sodico indicado seguintes situacoes prevencao tratamento infeccoes citomegalovirus cmv pacientes imunodeprimidos prevencao doenca cmv pacientes receptores transplante'\n",
      " 'oleo soja veiculo bisglicinato magnesio dimagnesio malato bitartarato colina oleo peixe veiculo agua purificada veiculo bisglicinato zinco selenio metionina acetato dl alfa tocoferol pantotenato calcio cianocobalamina cloridrato piridoxina mononitrato tiamina acido folico colecalciferol gelificante gelatina umectante glicerina emulsificante lecitina soja glaceante cera abelha corantes amarelo tartrazina dioxido titanio oxido ferro preto verde rapido fcf cogmax formulacao exclusiva base minerais vitaminas desenvolvida atuar manutencao saude mix exclusivo minerais aminoacidos quelatados cogmax aliado conjunto vitaminas atuam sinergia maximo aproveitamento organismo'\n",
      " 'cloridrato tramadol medicamento indicado cloridrato tramadol indicado alivio dor intensidade moderada grave'\n",
      " 'cloridrato propafenona ttunta cloridrato propafenona destinado tratamento taquiarritmias supraventriculares sintomaticas pacientes doenca cardiaca estrutural significativa fibrilacao atrial paroxistica taquicardia juncional av taquicardia supraventricular pacientes portadores sindrome wolffparkinsonwhite fibrilacao atrial paroxistica tratamento taquiarritmia ventricular sintomatica severa considerada ameacadora vida medico'\n",
      " 'acetilcisteina medicamento indicado medicamento expectorante indicado dificuldade expectorar ha muita secrecao densa viscosa tais bronquite aguda bronquite cronica exacerbacoes piora quadro clinico complicacoes enfisema pulmonar doenca cronica caracterizada comprometimento pulmoes pneumonia inflamacao pulmoes bronquios colapsoatelectasias pulmonares fechamento bronquios mucoviscidose doenca hereditaria produz muco espesso tambem conhecida fibrose cistica tambem indicado intoxicacao acidental voluntaria paracetamol'\n",
      " 'ferripolimaltose dexfer ferripolimaltose indicado sindromes ferropenicas latentes moderadas anemias ferroprivas devido subnutricao eou carencias alimentares qualitativas quantitativas anemias sindromes disabsortivas intestinais anemia ferropriva gravidez lactacao anemia hemorragias agudas cronicas onde conveniente suplementacao fatores hematologicos'\n",
      " 'oxaliplatina medicamento destinado tratamento cancer intestinal colorretal metastatico metastase associacao fluoropirimidinas oxaliplatina combinacao 5fufa bevacizumabe indicada tratamento primeira linha cancer colorretal metastatico oxaliplatina indicada combinacao fluorouracil acido folinico leucovorin 5fufa tratamento adjuvante cancer colorretal pacientes retiraram completamente tumor primario reduzindo risco reincidencia tumor nao indicada pacientes estagio ii caracteristicas alto risco'\n",
      " 'atenolol besilato anlodipino anaten besilato anlodipino atenolol indicado tratamento hipertensao arterial pressao alta insuficiencia coronariana cronica estavel angina peito'\n",
      " 'dipropionato betametasona fosfato dissodico betametasona betatrinta dipropionato betametasona fosfato dissodico betametasona indicado tratamento doencas agudas cronicas respondem corticoides terapia hormonal corticosteroide coadjuvante nao substitui terapeutica convencional betatrinta dipropionato betametasona fosfato dissodico betametasona indicado seguintes quadros clinicos alteracoes osteomusculares tecidos moles artrite reumatoide osteoartrite bursite espondilite anquilosante espondilite radiculite dor coccix ciatica lumbalgo torcicolo exostose fascite condicoes alergicas asma bronquica cronica inclusive terapia adjuvante estado mal asmatico rinite alergica devida polen edema angioneurotico bronquite alergica rinite alergica sazonal perene hipersensibilidade droga doenca soro picadas insetos condicoes dermatologicas dermatite atopica neurodermatite circunscrita liquen simples cronico dermatite contato dermatite solar grave urticaria liquen plano hipertrofico necrobiose lipoidica associada diabetes mellitus alopecia areata lupus eritematoso discoide psoriase queloides penfigo dermatite herpetiforme acne cistica doencas colageno lupus eritematoso sistemico esclerodermia dermatomiosite poliarterite nodosa tumores malignos tratamento paliativo leucemias linfomas adultos leucemia aguda infancia outras condicoes sindrome adrenogenital colite ulcerativa ileite regional doenca celiaca afeccoes pes bursite hallux rigidus 5 dedo varo afeccoes necessitando injecoes subconjuntivais transtornos hematologicos respondem corticosteroides sindrome nefritica sindrome nefrotica insuficiencia adrenocortical primaria secundaria podera tratada betatrinta dipropionato betametasona fosfato dissodico betametasona devera suplementacao mineralocorticoides betatrinta dipropionato betametasona fosfato dissodico betametasona recomendado 1 injecoes intramusculares doencas respondem corticoides sistemicos 2 injecoes diretamente tecidos moles afetados indicado 3 injecoes intraarticulares periarticulares artrites 4 injecoes intralesionais varias condicoes dermatologicas 5 injecoes locais certos transtornos inflamatorios cisticos pes'\n",
      " 'cetoprofeno bicerto iv cetoprofeno medicamento antiinflamatorio analgesico antitermico sendo indicado tratamento inflamacoes dores decorrentes processos reumaticos doencas podem afetar musculos articulacoes esqueleto traumatismos lesao interna externa resultante agente externo dores geral desta forma bicerto iv cetoprofeno pode utilizado tratamento dor pre posoperatorio outras patologias dolorosas'\n",
      " 'cloridrato ciprofloxacino adultos indicado infeccoes complicadas nao complicadas causadas microrganismos sensiveis ciprofloxacino trato respiratorio foritus cloridrato ciprofloxacino pode considerado tratamento recomendavel casos pneumonias causadas klebsiella spp enterobacter spp proteus spp escherichia coli pseudomonas aeruginosa haemophillus spp moraxella catarrhalis legionella spp staphylococci ouvido medio otite media seios paranasais sinusite especialmente infeccao causada organismos gramnegativos inclusive pseudomonas aeruginosa oustaphylococci olhos rins eou trato urinario eferente orgaos genitais inclusive anexite gonorreia prostatite cavidade abdominal exemplo infeccoes bacterianas trato gastrintestinal trato biliar eperitonite pele tecidos moles ossos articulacoes sepse infeccao risco iminente infeccao profilaxia pacientes sistema imunologico comprometido exemplo pacientes uso imunossupressores pacientes neutropenicos descontaminacao intestinal seletiva pacientes sob tratamento imunossupressores criancas indicado tratamento exacerbacao pulmonar aguda fibrose cistica associada infeccao pseudomonas aeruginosa pacientes pediatricos 5 17 anos idade estudos clinicos criancas realizados indicacao acima outras indicacoes clinicas experiencia limitada nao recomenda portanto uso ciprofloxacino outras indicacoes diferentes mencionada acima tratamento deve iniciado somente apos cuidadosa avaliacao riscos beneficios possibilidade reacoes adversas articulacoes tecidos adjacentes antraz inalacao apos exposicao adultos criancas reduzir incidencia progressao doenca apos exposicao bacillus anthracis aerossolizado'\n",
      " 'alendronato sodio medicamento indicado tratamento doenca conhecida osteoporose medicamento ajudara prevencao desenvolvimento fraturas'\n",
      " 'colageno vitaminas c zinco manganes moviment c po preparo bebida formula exclusiva base peptideos bioativos obtidos atraves hidrolise colageno associados vitaminas c minerais zinco manganes'\n",
      " 'rivaroxabana rivaroxabana usado prevenir formacao coagulos sangue veias apos cirurgia substituicao articulacao joelhos quadril medico prescreveu medicamento porque apos operacao voce risco aumentado ter coagulo sangue rivaroxabana indicado tratamento trombose veias profundas prevencao trombose veias profundas embolia pulmonar recorrentes adultos rivaroxabana indicado tratamento embolia pulmonar prevencao embolia pulmonar trombose veias profundas recorrentes adultos'\n",
      " 'suplemento alimentar calcio citrato malato vitamina d magnesio vitamina k alta d cal suplemento vitaminico mineral desenvolvido auxiliar manutencao saude ossea exclusiva composicao calcio citrato malato calcio ccm conjunto vitamina d vitamina k2 menaq7 magnesio bisglicinato quelato atuam sinergia maximo aproveitamento organismo'\n",
      " 'celecoxibe medicamento indicado tratamento sinais sintomas osteoartrite oa artrite reumatoide ar alivio sinais sintomas espondilite anquilosante ea alivio dor aguda principalmente posoperatorio cirurgia ortopedica dental afeccoes musculoesqueleticas alivio sintomas dismenorreia primaria lombalgia'\n",
      " 'amoxicilina trihidratada amoxicilina trihidratada antibiotico eficaz contra grande variedade bacterias indicada tratamento infeccoes bacterianas causadas germes sensiveis acao amoxicilina entretanto medico pode receitar medicamento outro uso desejar informacoes pergunte medico medicamento nao deve usado mulheres gravidas orientacao medica cirurgiaodentista'\n",
      " 'pregabalina pregabalina indicado adultos tratamento dor neuropatica dor devido lesao eou mau funcionamento nervos eou sistema nervoso adultos terapia adjunta crises epileticas parciais convulsoes generalizacao secundaria adultos tratamento transtorno ansiedade generalizada adultos controle fibromialgia doenca caracterizada dor cronica varias partes corpo cansaco alteracoes sono adultos'\n",
      " 'citrato sodio dihidratado tricit citrato sodio dihidratado indicado anticoagulacao evita formar trombos sistema filtracao sangue durante terapias substituicao renal continuas tipo hemodialise feitas interrupcao utilizada pacientes estao estado critico'\n",
      " 'cetoconazol dipropionato betametasona trok cetoconazol dipropionato betametasona indicado tratamento dermatoses fase umida dermatite contato dermatite atopica dermatite seborreica intertrigo disidrose neurodermatite eczemas dermatoses inflamatorias secundariamente afetadas potencialmente afetadas fungos leveduras'\n",
      " 'cloreto sodio snif 3 cloreto sodio indicado aliviar sintomas sinusites rinites quaisquer etiologias bem nariz entupido indicado tambem limpeza fossas nasais remocao fluidificacao muco'\n",
      " 'cloridrato bupropiona xl cloridrato bupropiona indicado tratamento episodios depressivos maiores prevencao recaidas recorrencias episodios depressivos apos resposta inicial satisfatoria'\n",
      " 'esomeprazol magnesico esio esomeprazol magnesico indicado tratamento doencas acidopepticas alivio sintomas azia regurgitacao acida dor epigastrica doenca refluxo gastroesofagico refluxo estomago esofago drge tratamento esofagite inflamacao esofago refluxo erosiva tratamento manutencao prevenir recidiva esofagite tratamento sintomas drge tais piroseazia queimacao retroesternal regurgitacao acida dor epigastrica pacientes precisam terapia continua antiinflamatorios nao esteroidais aine tratamento sintomas gastrointestinais altos associados terapia tratamento antiinflamatorios cicatrizacao ulceras gastricas associadas tratamento antiinflamatorios incluindo antiinflamatorios novos classe cox2 seletivos prevencao ulceras gastricas duodenais associadas tratamento antiinflamatorios incluindo cox2 seletivos pacientes algum risco adicional tratamento ulcera duodenal associada bacteria helicobacter pylori erradicacao bacteria helicobacter pylori associacao tratamento antibacteriano adequado condicoes patologicas hipersecretoras incluindo sindrome zollingerellison excesso producao acido cloridrico hipersecrecao idiopatica manutencao hemostasia prevencao ressangramento ulceras gastrica duodenal apos tratamento esomeprazol sodico intravenoso'\n",
      " 'risperidona medicamento indicado risperidona medicamento usado tratar assim chamadas psicoses exemplo esquizofrenia significa efeito favoravel sobre certo numero transtornos relacionados pensamento emocoes eou atividades tais confusao alucinacoes disturbios percepcao exemplo ouvir vozes alguem nao presente desconfianca incomum isolamento sociedade excessivamente introvertido etc risperidona tambem melhora ansiedade tensao estado mental alterado transtornos risperidona pode usado tanto quadros inicio subito agudos longa duracao cronicos alem disso apos alivio sintomas risperidona usado manter disturbios sob controle prevenir recaidas substancia ativa risperidona risperidona tambem usado ate 12 semanas demencia relacionada doenca alzheimer moderada grave especificamente controlar agitacao agressividade sintomas psicoticos tais acreditar coisas nao sao verdadeiras ver sentir ouvir coisas nao existem outra condicao voce pode receber risperidona mania caracterizada sintomas humor elevado expansivo irritavel autoestima aumentada necessidade sono reduzida pressao falar pensamento acelerado reducao atencao concentracao diminuicao capacidade julgamento incluindo comportamentos inadequados agressivos risperidona tambem pode usado tratamento irritabilidade associada transtorno autista criancas adolescentes incluindo sintomas agressao outros autoagressao deliberada crises raiva angustia mudanca rapida humor'\n",
      " 'desloratadina leg desloratadina indicado alivio sintomas rinite alergica espirro rinorreia prurido congestao nasal prurido ocular lacrimejamento vermelhidao olhos prurido palato tosse leg desloratadina tambem indicado alivio sinais sintomas urticaria'\n",
      " 'cloridrato amitriptilina medicamento indicado medico receitou cloridrato amitriptilina tratar seguintes condicoes depressao enurese noturna urinar cama noite cloridrato amitriptilina possui propriedades ansioliticas sedativas calmantes'\n",
      " 'cetoprofeno cetoprofeno iv medicamento antiinflamatorio analgesico antitermico sendo indicado tratamento inflamacoes dores decorrentes processos reumaticos doencas podem afetar musculos articulacoes esqueleto traumatismos lesao interna externa resultante agente externo dores geral desta forma cetoprofeno iv pode utilizado tratamento dor pre posoperatorio outras patologias dolorosas'\n",
      " '5000mcg cianocobalamina neo b nitrato tiamina cloridrato piridoxina cianocobalamina usado auxiliar tratamento neuralgia neurite dor inflamacao nervos sao manifestacoes neuropatia podem evidenciar atraves sintomas formigamento dormencia hipersensibilidade toque'\n",
      " 'bicalutamida cancer prostata metastatico tratamento cancer prostata avancado combinacao analogos hormonio liberador hormonio luteinizante lhrh castracao cirurgica remocao cirurgica testiculos tratamento cancer prostata metastatico pacientes quais castracao cirurgica remocao cirurgica testiculos medicamentosa bloqueio testiculos uso medicamento nao indicada nao aceitavel cancer prostata nao metastatico tratamento cancer prostata nao metastatico localmente avancado pacientes quais tratamento hormonal imediato indicado'\n",
      " 'fumarato formoterol dihidratado propionato fluticasona lugano fumarato formoterol dihidratado propionato fluticasona indicado tratamento regular adultos criancas acima 12 anos asma uso associacao corticosteroide inalatorio beta2agonista longa duracao considerado apropriado pacientes nao controlados adequadamente corticosteroide inalatorio beta2agonista curta duracao conforme necessario pacientes ja controlados adequadamente ambos corticosteroide inalatorio beta2agonista longa duracao'\n",
      " 'eszopiclona prysma eszopiclona indicado tratamento insonia adultos'\n",
      " 'budesonida medicamento destinado tratamento rinites naoalergica alergica perenes alergica sazonal tratamento polipo nasal prevencao polipo nasal apos polipectomia extracao polipo budesonida glicocorticosteroide grande efeito antiinflamatorio local noex budesonida reduz previne inflamacao inchaco mucosa nariz causados alergias noex budesonida promove alivio inicial sintomas ate 10 horas beneficio maximo pode nao alcancado antes 1 2 semanas apos inicio tratamento'\n",
      " 'escitalopram oxalato medicamento indicado oxalato escitalopram indicado tratamento prevencao recaida recorrencia depressao tratamento transtorno panico agorafobia tratamento transtorno ansiedade generaliza tag tratamento transtorno ansiedade social fobia social tratamento transtorno obsessivo compulsivo toc'\n",
      " 'citrato malato calcio vitamina d3 vitamina k2 magnesio perosteo km suplemento vitaminico mineral desenvolvido atuar manutencao saude citrato malato calcio ccma calcio citrato malato conjunto vitamina d vitamina k2 mineral magnesio atuam sinergia maximo aproveitamento organismo probabilidade desenvolver doenca ossea intimamente relacionada quantidade massa ossea acumulada organismo considerando 90 pico massa ossea sao adquiridos ate 18 anos meninas ate 20 anos meninos ainda diminuicao densidade ossea relacionada risco relativo fraturas tornase importante adotar habitos saudaveis construcao conservacao massa ossea adequada desde cedo'\n",
      " 'domperidona medicamento indicado medicamento destinado tratamento sindromes dispepticas frequentemente associadas retardo esvaziamento gastrico refluxo gastroesofagico esofagite sensacao empachamento epigastrico saciedade precoce distensao abdominal dor abdominal alta eructacao flatulencia nauseas vomitos azia queimacao epigastrica regurgitacao conteudo gastrico nauseas vomitos origem funcional organica infecciosa alimentar induzidas radioterapia tratamento medicamentoso antiinflamatorios antineoplasicos indicacao especifica sao nauseas vomitos induzidos agonistas dopaminergicos usados tratamento doenca parkinson ldopa bromocriptina'\n",
      " 'ibandronato sodio monoidratado medicamento indicado tratamento osteoporose enfraquecimento ossos posmenopausa finalidade reduzir risco fraturas vertebrais'\n",
      " 'glicose monoidratada solucoes injetaveis glicose concentracao 5 sao indicadas fonte agua calorias diurese osmotica casos desidratacao reposicao calorica hipoglicemias veiculo diluicao medicamentos compativeis solucao glicose 5 frequentemente concentracao empregada ocorre perda liquido'\n",
      " 'voriconazol veac voriconazol agente antifungico triazolico amplo espectro indicado tratamento aspergilose invasiva tratamento infeccoes invasivas graves candida incluindo candidemia candidiase esofagica incluindo ckrusei tratamento infeccoes fungicas graves causadas scedosporium spp fusarium spp veac voriconazol deve administrado principalmente pacientes infeccoes progressivas passiveis causar morte'\n",
      " 'acetilcisteina medicamento expectorante indicado dificuldade expectorar ha muita secrecao densa viscosa tais bronquite aguda bronquite cronica exacerbacoes piora quadro clinico complicacoes enfisema pulmonar doenca cronica caracterizada comprometimento pulmoes pneumonia inflamacao pulmoes bronquios colapsoatelectasias pulmonares fechamento bronquios mucoviscidose doenca hereditaria produz muco espesso tambem conhecida fibrose cistica tambem indicado intoxicacao acidental voluntaria paracetamol'\n",
      " 'cloridrato fexofenadina medicamento antihistaminico destinado tratamento manifestacoes alergicas tais sintomas rinite alergica incluindo espirros obstrucao nasal prurido coriza conjuntivite alergica febre feno urticaria'\n",
      " 'pregabalina dor neuropatica limiar pregabalina capsulas indicado tratamento dor neuropatica adultos epilepsia limiar pregabalina indicado terapia adjunta crises parciais generalizacao secundaria pacientes adultos transtorno ansiedade generalizada tag limiar pregabalina indicadol tratamento transtorno ansiedade generalizada tag adultos fibromialgia limiar pregabalina indicado controle fibromialgia'\n",
      " 'cloreto sodio solucao injetavel cloreto sodio 09 utilizada restabelecimento fluido eletrolitos solucao tambem utilizada repositora agua eletrolitos caso alcalose metabolica aumento ph sangue grau moderado carencia sodio diluente medicamentos'\n",
      " 'agua injetaveis indicado diluicao dissolucao medicamentos compativeis agua injecao'\n",
      " 'olmesartana medoxomila olmesartana medoxomila indicado tratamento pressao arterial alta pressao cujas medidas acima 140 mm hg pressao alta sistolica 90 mm hg pressao baixa diastolica'\n",
      " 'amoxicilina trihidratada clavulanato potassio amoxicilina trihidratada clavulanato potassio antibiotico usado adultos criancas indicado tratamento infeccoes diferentes partes corpo sao causadas determinados tipos bacterias'\n",
      " 'bilastina naire bilastina indicado tratamento sintomatico rinoconjuntivite alergica intermitente persistente urticaria'\n",
      " 'cloridrato ciprofloxacino indicacoes cloridrato ciprofloxacino sao seguintes adultos tratamento infeccoes complicadas nao complicadas causadas microrganismos sensiveis ciprofloxacino trato respiratorio muitos microrganismos p ex klebsiella enterobacter proteus coli pseudomonas haemophilus moraxella legionella staphylococcus reagem muita sensibilidade cloridrato ciprofloxacino maioria casos pneumonia nao necessitam tratamento hospitalar causada streptococcus pneumoniae nesses casos cloridrato ciprofloxacino nao medicamento primeira escolha ouvido medio otite media seios paranasais sinusite especialmente causadas pseudomonas staphylococcus olhos rins eou trato urinario eferente orgaos reprodutores inclusive inflamacao ovarios tubas uterinas anexite gonorreia infeccoes prostata prostatite cavidade abdominal p ex estomago intestino trato gastrintestinal trato biliar membrana serosa reveste internamente paredes abdome peritonio pele tecidos moles ossos articulacoes infeccao generalizada septicemia infeccoes risco infeccao profilaxia pacientes sistema imunologico comprometido exemplo pacientes tratamento medicamentos inibem defesas imunologicas naturais organismo pacientes numero reduzido globulos brancos sangue eliminacao seletiva bacterias intestino durante tratamento medicamentos inibem sistema imunologico organismo descontaminacao intestinal seletiva pacientes sob tratamento imunossupressores cloridrato ciprofloxacino nao eficaz contra treponema pallidum causador sifilis criancas adolescentes 5 17 anos infeccao aguda fibrose cistica disturbio hereditario aumenta producao viscosidade secrecoes bronquios trato digestivo causada pseudomonas aeruginosa nao possibilidade outros tratamentos injetaveis eficazes nao recomenda cloridrato ciprofloxacino outras indicacoes antraz inalacao apos exposicao adultos criancas reduzir incidencia progressao doenca apos inalacao bacilos antraz bacillus anthracis'\n",
      " 'acido zoledronico tratamento hipercalcemia induzida tumor hit definida calcio serico corrigido albumina cca 120 mgdl 30 mmoll prevencao eventos relacionados esqueleto fraturas patologicas compressao medular radioterapia cirurgia ortopedica hipercalcemia induzida tumor pacientes cancer metastatico osso acido zoledronico tambem indicado prevencao perda ossea decorrente tratamento antineoplasico base hormonios pacientes cancer prostata cancer mama'\n",
      " 'tenoxicam tenoxicam indicado alivio sintomas doencas componentes inflamatorios degenerativos dolorosos geral principalmente musculos tendoes juntas tais artrite reumatoide artrose espondilite anquilosante tendinite entorses distensoes ligamentares bursite gota alem disso indicado tambem alivio dor posoperatoria'\n",
      " 'ceftriaxona sodica ceftriaxona sodica usado tratar infeccoes causadas microorganismos sensiveis ceftriaxona'\n",
      " 'benzilpenicilina benzatina benzetacil benzilpenicilina benzatina indicado tratamento infeccoes causadas microrganismos sensiveis penicilina g infeccoes streptococos grupo tipo bacteria bacteremia disseminacao bacteria sangue infeccoes leves moderadas trato respiratorio superior pele infeccoes venereas sifilis bouba doenca tropical infecciosa bejel sifilis endemica pinta doenca sexualmente transmissivel profilaxia glomerulonefrite aguda doenca renal doenca reumatica profilaxia recorrencias febre reumatica eou coreia sydenham complicacao neurologica tardia febre reumatica'\n",
      " 'escitalopram oxalato medicamento indicado oxalato escitalopram indicado tratamento prevencao recaida recorrencia depressao tratamento transtorno panico agorafobia tratamento transtorno ansiedade generalizada tag tratamento transtorno ansiedade social fobia social tratamento transtorno obsessivo compulsivo toc'\n",
      " '35 mg bortezomibe elome bortezomibe indicado tratamento adultos mieloma multiplo tipo cancer medula ossea nao receberam tratamento previo impossibilitados receberem tratamento alta dose quimioterapia transplante medula ossea nesses pacientes medicamento utilizado combinacao melfalana prednisona nao receberam tratamento previo sao elegiveis receberem tratamento inducao alta dose quimioterapia transplante medula ossea nesses pacientes medicamento utilizado combinacao dexametasona dexametasona talidomida ja receberam menos tratamento anterior retratamento medicamento pode considerado pacientes mieloma multiplo haviam respondido previamente tratamento medicamento periodo minimo tratamento anterior inicio retratamento 6 meses'\n",
      " 'valerato betametasona sulfato gentamicina tolnaftato clioquinol valerato betametasona sulfato gentamicina tolnaftato clioquinol pomada indicado alivio manifestacoes inflamatorias dermatoses doencas pele respondem corticosteroides complicadas infeccao causada microorganismos sensiveis componentes formulacao ha suspeita possibilidade tal infeccao dermatoses incluem dermatose inguinal doenca pele regiao proxima virilha dermatite cronica extremidades doenca pele cronica extremidades eritrasma doenca pele aparece principalmente parte interna coxas virilhas axilas balanopostite inflamacao pele cobre penis dermatite eczematoide dermatite contato alergia produtos quais pele contato dermatite folicular alergia local onde nascem desidrose pequenas bolhas palmas maos plantas pes paroniquia infeccao redor unhas causadas tipo fungo candida prurido anal coceira regiao anus eczema seborreico intertrigo irritacao infeccao areas atrito dermatite seborreica inflamacao pele regioes muitas glandulas produtoras suor acne pustulosa impetigo doenca infecciosa neurodermatite doenca pele originada causas emocionais estomatite angular inflamacao cantos boca dermatite fotossensibilidade alergia sensibilidade luz sol dermatofitose inguinal liquenificada micose regiao virilha infeccoes causadas fungo tinea tinea pedis micose pe tinea cruris micose regiao virilha tinea corporis micose outras areas corpo'\n",
      " 'vitamina d aide 3 suplemento vitamina d gotas contribui funcionamento normal sistema imune saude ossos dentes funcao musculos'\n",
      " 'cetoconazol dipropionato betametasona sulfato neomicina trokn cetoconazol dipropionato betametasona sulfato neomicina indicado afeccoes pele onde exigem acoes antiinflamatoria antibacteriana antimicotica causadas germes sensiveis dermatites contato dermatite atopica dermatite seborreica intertrigo disidrose neurodermatite'\n",
      " 'itraconazol itraconazol medicamento utilizado tratamento infeccoes fungicas micoses vagina pele boca olhos unhas orgaos internos'\n",
      " 'citrato sildenafila citrato sildenafila indicado tratamento disfuncao eretil entende sendo incapacidade obter manter erecao rigidez penis suficiente desempenho sexual satisfatorio'\n",
      " 'cloridrato memantina heimer cloridrato memantina indicado tratamento doenca alzheimer moderada grave'\n",
      " 'oxalato escitalopram esc oxalato escitalopram indicado tratamento prevencao recaida recorrencia depressao tratamento transtorno panico agorafobia tratamento transtorno ansiedade generalizada tag tratamento transtorno ansiedade social fobia social tratamento transtorno obsessivo compulsivo toc'\n",
      " 'pamidronato dissodico pamidronato dissodico indicado tratamento condicoes associadas aumento atividade osteoclastica tais hipercalcemia induzida tumor outros disturbios metabolismo mineral aumento atividade osteoclastica resultando reabsorcao ossea excessiva alteracao fisiopatologica responsavel hipercalcemia associada tumores maioria casos ocorre pacientes neoplasia maligna mama neoplasia celulas escamosas pulmao neoplasia maligna face cabeca pescoco carcinoma celulas renais certas neoplasias hematologicas tais mieloma multiplo neoplasias malignas plasmocitos alguns tipos linfomas outras neoplasias menos comuns vipoma colangiocarcinoma apresentam alta incidencia hipercalcemia complicacao metabolica ha dois tipos mecanismos fisiopatologicos envolvidos 1 hipercalcemia humoral onde osteoclastos sao ativados reabsorcao ossea estimulada fatores tais proteina relacionada paratormonio produzida celulas tumorais secretadas corrente sanguinea 2 invasao extensa ossos celulas tumorais onde ha producao local fatores estimulam reabsorcao ossea osteoclastos concentracoes sericas calcio pacientes hipercalcemia induzida tumores podem nao refletir gravidade hipercalcemia devido hipoalbuminemia concomitante pacientes podem apresentar determinacao calcio ionizavel dever utilizada diagnostico acompanhamento condicoes hipercalcemicas nao disponivel calculo calcio total acordo concentracao albumina poder auxiliar diagnostico varios nomogramas sao utilizados fim vide item 8 posologia metastases osseas neoplasia maligna secundaria ossos predominantemente liticas mieloma multiplo metastases osseas osteoliticas ocorrem comumente pacientes mieloma multiplo neoplasia maligna mama distribuicao metastases osteoliticas dessas neoplasias ocorre predominantemente esqueleto axial particularmente coluna vertebral pelvis costelas destruicao ossea causada lesoes osteoliticas provocam dores osseas graves podem responsaveis fraturas osseas patologicas tanto esqueleto axial quanto apendicular doenca paget osso osteite deformante moderada grave doenca idiopatica caracterizada destruicao ossea focal cronica complicada reparacao ossea excessiva ocorrendo ossos alteracoes resultam espessamento ossos enfraquecidos propensos fraturas patologicas diminuicao resistencia esforco'\n",
      " 'cloridrato fluoxetina medicamento destinado tratamento depressao associada nao ansiedade bulimia nervosa transtorno alimentar transtorno obsessivocompulsivo toc ansiedade caracterizada pensamentos obsessivos transtorno disforico premenstrual tdpm incluindo tensao premenstrual tpm irritabilidade disforia mudanca repentina passageira animo sentimentos tristeza pena angustia'\n",
      " 'cloridrato bupropiona bup cloridrato bupropiona indicado tratamento transtorno depressivo maior tdm prevencao recaidas recorrencias episodios depressivos apos resposta inicial satisfatoria bupropiona tambem usada ajudar parar fumar entretanto informacoes desta bula sao especificas pacientes tratamento depressao doses outras instrucoes sao diferentes pacientes tratamento deixar fumar'\n",
      " 'hemitartarato zolpidem hemitartarato zolpidem destinado tratamento curta duracao insonia dificuldade dormir pode ocasional eventual transitoria passageira cronica dura ha tempo'\n",
      " 'meloxicam meloxicam indicado tratamento sintomas artrite reumatoide osteoartrite doencas articulacoes aliviando dor inflamacao'\n",
      " 'furoato mometasona ventus furoato mometasona indicado tratamento rinite alergica polipos nasais rinossinusite tratamento complementar episodios agudos rinossinusite'\n",
      " 'ampicilina ampicilina indicada tratamento diversas infeccoes causadas microorganismos sensiveis medicamento sao infeccoes trato urinario infeccoes urinarias infeccoes trato respiratorio amidalites sinusites pneumonias infeccoes trato digestivo biliar infeccoes intestinais vesicula biliar infeccoes localizadas sistemicas generalizadas especialmente causadas germes grupo enterococos haemophilus proteus salmonella coli infeccoes bucais extracoes dentarias infectadas outras intervencoes cirurgicas'\n",
      " 'isotretinoina isotretinoina indicada tratamento formas graves acne nodulocistica conglobata acne risco cicatrizes permanentes quadros acne resistentes terapeuticas anteriores antibioticos sistemicos agentes topicos'\n",
      " 'ditartarato vinorelbina norelbin ditartarato vinorelbina indicado agente unico quimioterapia combinada cancer pulmao nao pequenas celulas cancer mama metastatico'\n",
      " 'desogestrel etinilestradiol medicamento indicado desogestrel etinilestradiol anticoncepcional usado impedir voce fique gravida usado corretamente esquecimento possibilidade engravidar baixa informacoes paciente recomendase leitura cuidadosa desta bula antes iniciar tratamento medicamento guarde bula voce pode precisar ler informacoes novamente outra ocasiao voce alguma duvida peca auxilio medico farmaceutico medicamento receitado voce nao deve fornecido outras pessoas pois pode prejudicial sintomas apresentem iguais algum efeitos colaterais tornarse grave voce apresentar algum efeito colateral nao mencionado nesta bula informe medico farmaceutico'\n",
      " 'hemitartarato zolpidem medicamento indicado hemitartarato zolpidem indicado tratamento insonia pode ocasional transitoria cronica'\n",
      " 'fexofenadina medicamento indicado indicado alivio manifestacoes alergicas tais rinite alergica incluindo espirros obstrucao nasal nariz entupido prurido coceira nariz palato ceu boca garganta olhos coriza nariz escorrendo conjuntivite alergica sintomas lacrimejamento vermelhidao olhos febre feno causada polen algumas plantas alergias pele urticaria erupcoes avermelhadas pele causam coceira'\n",
      " 'mesilato doxazosina hiperplasia prostatica benigna duomo mesilato doxazosina indicado tratamento sintomas clinicos hiperplasia prostatica benigna hpb assim tratamento reducao fluxo urinario associada hpb duomo mesilato doxazosina pode administrado pacientes hpb hipertensos normotensos enquanto nao sao observadas alteracoes clinicamente significativas pressao sanguinea pacientes normotensos hpb pacientes hpb hipertensao apresentam ambas condicoes tratadas efetivamente monoterapia duomo mesilato doxazosina hipertensao duomo mesilato doxazosina indicado tratamento hipertensao pode utilizado agente inicial controle pressao sanguinea maioria pacientes pacientes controle adequado unico agente antihipertensivo duomo mesilato doxazosina pode administrado associacao outros agentes tais diureticos tiazidicos betabloqueadores antagonistas calcio agentes inibidores enzima conversora angiotensina'\n",
      " 'domperidona medicamento indicado medicamento destinado tratamento sindromes dispepticas frequentemente associadas retardo esvaziamento gastrico refluxo gastroesofagico esofagite sensacao empachamento epigastrico saciedade precoce distensao abdominal dor abdominal alta eructacao flatulencia nauseas vomitos azia queimacao epigastrica regurgitacao conteudo gastrico nauseas vomitos origem funcional organica infecciosa alimentar induzidas radioterapia tratamento medicamentoso antiinflamatorios antineoplasicos indicacao especifica sao nauseas vomitos induzidos agonistas dopaminergicos usados tratamento doenca parkinson ldopa bromocriptina'\n",
      " 'irbesartana hidroclorotiazida medicamento indicado irbesartana hidroclorotiazida indicada tratamento hipertensao arterial pressao alta pacientes cuja pressao arterial nao controlada adequadamente uso medicacao unica pode usado isoladamente associacao outros medicamentos antihipertensivos exemplo bloqueadores beta adrenergicos bloqueadores canais calcio acao prolongada irbesartana hidroclorotiazida tambem pode usada tratamento inicial casos hipertensao suficientemente grave forma rapido controle pressao arterial dentro dias semanas extrema importancia'\n",
      " 'ampicilina forma anidra amplacilina ampicilina indicada tratamento diversas infeccoes causadas microorganismos sensiveis medicamento sao infeccoes trato urinario infeccoes urinarias infeccoes trato respiratorio amidalites sinusites pneumonias infeccoes trato digestivo biliar infeccoes intestinais vesicula biliar infeccoes localizadas sistemicas generalizadas especialmente causadas germes grupo enterococos haemophilus proteus salmonella coli infeccoes bucais extracoes dentarias infectadas outras intervencoes cirurgicas'\n",
      " 'sulfato glicosamina sulfato condroitina medicamento artico caps sulfato glicosamina sulfato condroitina destinado tratamento sintomatico dor associada osteoartroses primaria secundaria'\n",
      " 'carbonato litio medicamento indicado tratamento episodios maniacos transtornos bipolares tratamento manutencao individuos transtorno bipolar diminuindo frequencia episodios maniacos intensidade destes quadros prevencao mania recorrente prevencao fase depressiva tratamento hiperatividade psicomotora carbonato litio indicado adjunto antidepressivos depressao recorrente grave suplemento tratamento antidepressivo depressao maior aguda paciente nao obtem resposta total apos uso antidepressivo classico dose efetiva 4 6 semanas nesses casos associacao carbonato litio potencializara tratamento duracao tratamento varia pois cada pessoa responde forma diferente tratamento medico avaliara tempo necessario utilizacao carbonato litio'\n",
      " 'glimepirida medicamento indicado glimepirida indicado tratamento oral diabetes mellitus nao insulinodependente tipo 2 diabetes adulto niveis glicose nao podem adequadamente controlados meio dieta alimentar exercicios fisicos reducao peso glimepirida pode associado outros antidiabeticos orais nao estimulam secrecao insulina metformina glimepirida pode associado metformina niveis glicemicos niveis acucar sangue nao podem adequadamente controlados meio dieta alimentar exercicios fisicos uso glimepirida metformina monoterapia uso apenas medicamento glimepirida tambem pode utilizado associacao insulina vide item 6como devo usar medicamento'\n",
      " 'cloridrato moxifloxacino medicamento indicado tratamento adultos idade igual acima 18 anos infeccoes vias respiratorias superiores inferiores exacerbacoes pioras agudas bronquite cronica pneumonia adquirida comunidade pac incluindo pac causada bacterias resistentes alguns antibioticos sinusite aguda infeccoes nao complicadas pele tecidos moles camadas superficiais pele doenca inflamatoria pelvica nao complicada doencas trato genital superior feminino inclusive infeccao trompas endometrio camada reveste interior utero infeccoes complicadas pele anexos incluindo infeccoes pe diabetico infeccoes intraabdominais complicadas incluindo infeccoes causadas varias bacterias abscessos streptococcus pneumoniae multirresistentes incluindo isolados conhecidos s pneumoniae resistente penicilina cepas resistentes dois seguintes antibioticos penicilina cim 2 gml cefalosporinas 2 geracao exemplo cefuroxima macrolideos tetraciclinas trimetoprimasulfametoxazol devemse considerar recomendacoes relacionadas uso apropriado agentes antibioticos'\n",
      " 'voriconazol veac voriconazol intravenoso veia indicado tratamento aspergilose invasiva infeccao produzida fungo especie aspergillus infeccoes invasivas graves causadas candida incluindo candidemia presenca fungos especie candida sangue candidiase esofagica infeccao esofago fungos especie candida inclusive c krusei scedosporium spp fusarium spp outras especies fungos veac voriconazol deve administrado principalmente pacientes infeccoes progressivas risco vida'\n",
      " 'losartana potassica hidroclorotiazida hipertensao medicamento indicado tratamento hipertensao terapia combinada apropriada reducao risco morbidade mortalidade cardiovasculares pacientes hipertensos hipertrofia ventricular esquerda medicamento combinacao losartana hidroclorotiazida pacientes hipertensos hipertrofia ventricular esquerda losartana frequentemente combinacao hidroclorotiazida reduz risco morbidade mortalidade cardiovasculares conforme avaliado incidencia combinada morte cardiovascular acidente vascular cerebral infarto miocardio pacientes hipertensos hipertrofia ventricular esquerda vide item 2 resultados eficacia raca'\n",
      " 'fosfato sodico prednisolona medicamento indicado medicamento indicado agente antiinflamatorio imunossupressor patologias cujos mecanismos fisiopatologicos envolvam processos inflamatorios eou autoimunes tratamento condicoes endocrinas glandulas composicao esquemas terapeuticos algumas neoplasias'\n",
      " 'lactase lactase auxilia digestao lactose presente alimentos consumo deve associado alimentacao equilibrada habitos vida saudaveis'\n",
      " 'fluoruracila medicamento destinado tratamento paliativo tumores malignos especialmente neoplasia maligna reto neoplasia maligna colon neoplasia maligna mama neoplasia maligna estomago neoplasia maligna pancreas carcinoma celulas hepaticas neoplasia maligna vesicula vias biliares neoplasia maligna colo utero neoplasia maligna ovario neoplasia maligna bexiga flusan fluoruracila nao substitui cirurgia outras formas reconhecidas tratamento deve utilizada apenas medidas nao possiveis sido tentadas sucesso'\n",
      " 'levofloxacino hemihidratado tamiram levofloxacino hemihidratado 750 mg indicado tratamento sinusite aguda bacteriana infeccao aguda bacterias cavidades aeradas ossos face pneumonia adquirida comunidade pneumonia pessoas nao estao internadas infeccoes trato urinario bexiga canais onde passa urina complicadas pielonefrite aguda infeccao aguda rins causadas cepas suscetiveis bacterias pacientes funcionamento normal rins'\n",
      " 'gestodeno etinilestradiol tamisa 20 gestodeno etinilestradiol indicado contracepcao oral'\n",
      " 'dicloridrato hidroxizina pergo dicloridrato hidroxizina indicado alivio prurido causado condicoes alergicas pele tais urticaria dermatite atopica contato prurido decorrente outras doencas sistemicas'\n",
      " 'desogestrel medicamento indicado desogestrel usado evitar gravidez'\n",
      " 'amoxicilina trihidratada amoxicilina trihidratada antibiotico eficaz contra grande variedade bacterias indicada tratamento infeccoes bacterianas causadas germes sensiveis acao amoxicilina desejar saber informacoes pergunte medico'\n",
      " 'cilostazol indicado tratar problemas circulacao ocorre diminuicao fluxo sangue arterias perifericas corpo condicao denominada doenca vascular periferica cujo sintoma principal claudicacao intermitente prevencao recorrencia acidente vascular cerebral avc'\n",
      " 'cloridrato memantina medicamento indicado cloridrato memantina indicado tratamento doenca alzheimer moderada grave'\n",
      " 'dienogeste tratamento endometriose'\n",
      " 'cetoconazol dipropionato betametasona medicamento destinado tratamento micoses doencas inflamatorias pele afetadas possam afetadas fungos leveduras'\n",
      " 'informacao nao disponivel medicamento indicado medicamento destinado tratamento variedade condicoes requeiram atividade antiinflamatoria contra inflamacao analgesica contra dor antipiretica contra febre'\n",
      " 'cloridrato donepezila don cloridrato donepezila indicado tratamento sintomatico demencia alzheimer intensidade leve moderadamente grave grave diagnostico demencia alzheimer deve realizado acordo criterios cientificos aceitos dsm iv icd10'\n",
      " 'risedronato sodico medicamento indicado medicamento destinado tratamento osteoporose perda material osseo mulheres periodo posmenopausa aumento risco fraturas'\n",
      " 'levofloxacino hemihidratado medicamento indicado tratamento infeccoes bacterianas causadas agentes sensiveis levofloxacino tais infeccoes trato respiratorio superior inferior incluindo sinusite exacerbacoes agudas bronquite cronica pneumonia infeccoes pele tecido subcutaneo complicadas nao complicadas tais impetigo abscessos furunculose celulite erisipela infeccoes trato urinario incluindo pielonefrite osteomielite'\n",
      " 'exemestano proexty exemestano indicado tratamento adjuvante auxiliar mulheres posmenopausa ja entraram menopausa cancer mama inicial receptor estrogenio hormonio feminino positivo desconhecido tendo objetivo reducao risco recorrencia voltar local distancia reducao risco desenvolvimento cancer mama contralateral outra mama apos tratamento tamoxifeno durante 2 3 anos tempo total tratamento deve 5 anos sendo 23 anos tamoxifeno 23 anos exemestano modo sequencial proexty exemestano indicado tratamento primeira linha tratamento inicial cancer mama avancado mulheres posmenopausa natural induzida medicamento indicado tambem tratamento segunda linha falha tratamento inicial cancer mama avancado mulheres posmenopausa natural induzida cuja doenca progrediu apos tratamento hormonal proexty exemestano tambem indicado tratamento terceira linha falha segunda linha cancer mama avancado mulheres posmenopausa natural induzida cuja doenca progrediu apos multiplos tratamentos hormonais'\n",
      " 'cloridrato paroxetina adultos transtorno depressivo maior pondera xr cloridrato paroxetina indicado tratamento sintomas transtorno depressivo maior transtorno panico pondera xr cloridrato paroxetina mostrouse eficaz tratamento transtorno panico agorafobia transtorno disforico premenstrual pondera xr cloridrato paroxetina indicado tratamento transtorno disforico premenstrual pmdd transtorno ansiedade social fobia social pondera xr cloridrato paroxetina demonstrou eficaz tratamento transtorno ansiedade social fobia social eficacia comprimidos cloridrato paroxetina liberacao modificada tratamento longa duracao transtorno ansiedade social fobia social nao avaliada portanto cloridrato paroxetina administrado periodos prolongados tratamento desse transtorno medico deve reavaliar periodicamente utilidade longo prazo deste medicamento cada paciente criancas adolescentes menores 18 anos nao recomendado uso cloridrato paroxetina liberacao modificada qualquer indicacoes criancas adolescentes menores 18 anos ver item 5 advertencias precaucoes eficacia comprimidos cloridrato paroxetina liberacao modificada nao estudada individuos dessa faixa etaria estudos clinicos controlados uso paroxetina comprimidos liberacao imediata criancas adolescentes transtorno depressivo maior nao demonstraram eficacia nao apoiam uso paroxetina tratamento criancas depressao ver item 5 advertencias precaucoes seguranca eficacia paroxetina criancas menos 7 anos idade nao avaliadas'\n",
      " 'cloridrato moxifloxacino praiva cloridrato moxifloxacino solucao infusao indicado tratamento seguintes infeccoes causadas bacterias sensiveis pneumonia adquirida comunidade pac incluindo pac causada bacterias resistentes alguns antibioticos infeccoes complicadas pele anexos inclusive infeccoes pe diabetico infeccoes intraabdominais complicadas incluindo infeccoes causadas varias bacterias abscessos streptococcus pneumoniae multirresistente incluindo isolados conhecidos s pneumoniae resistente penicilina cepas resistentes dois seguintes antibioticos penicilina cim 2 gml cefalosporinas 2a geracao exemplo cefuroxima macrolideos tetraciclinas trimetoprimasulfametoxazol devemse considerar recomendacoes relacionadas uso apropriado agentes antibioticos'\n",
      " 'piperacilina sodica tazobactam sodico piperacilina sodica tazobactam sodico indicada tratamento seguintes infeccoes bacterianas adultos 1 infeccoes aparelho respiratorio inferior pneumonias 2 infeccoes vias urinarias 3 infeccoes intraabdominais 4 infeccoes pele tecidos moles 5 infeccao generalizada bacteriana sepse 6 infeccoes ginecologicas incluindo infeccao parede interna utero posparto doenca inflamatoria aparelho reprodutor feminino 7 infeccoes neutropenicas febris recomendado tratamento associacao antibiotico aminoglicosideo 8 infeccoes ossos articulacoes 9 infeccoes polimicrobianas microrganismo causador criancas acima 2 anos idade 1 infeccoes febris pacientes pediatricos apresentem baixa quantidade celulas sanguineas responsaveis defesa organismo neutrofilos recomendado tratamento associacao aminoglicosideo classe antibiotico amicacina 2 infeccoes intraabdominais piperacilina sodica tazobactam sodico indicada garantir ampla cobertura mantelo eficaz debelar infeccoes causadas bacterias sensiveis piperacilina sodica tazobactam sodico converse medico oriente tipo infeccao voce recebendo medicamento'\n",
      " 'losartana potassica hipertensao zart losartana potassica indicado tratamento hipertensao zart losartana potassica tambem indicado tratamento insuficiencia cardiaca tratamento inibidor eca nao considerado adequado nao recomendado trocar inibidores eca zart losartana potassica tratamento pacientes insuficiencia cardiaca estabilizados terapia atual reducao risco morbidade mortalidade cardiovasculares pacientes hipertensos hipertrofia ventricular esquerda zart losartana potassica indicado reduzir risco morbidade mortalidade cardiovasculares avaliado base incidencia combinada morte cardiovascular acidente vascular cerebral infarto miocardio pacientes hipertensos hipertrofia ventricular esquerda ver item 2 resultados eficacia raca protecao renal pacientes diabetes tipo 2 proteinuria zart losartana potassica indicado retardar progressao doenca renal retardo avaliado base reducao incidencia combinada duplicacao creatinina serica insuficiencia renal terminal necessidade dialise transplante renal morte reduzir proteinuria'\n",
      " 'cefalexina monoidratada cefalexina monoidratada indicada tratamento seguintes infeccoes causadas bacterias sensiveis cefalexina sinusites inflamacao seios face infeccoes trato respiratorio otite media inflamacao ouvido medio infeccoes pele tecidos moles infeccoes osseas infeccoes trato geniturinario infeccoes dentarias nota acordo historia paciente aspectos clinicos medico podera indicar realizacao testes sensibilidade cefalexina culturas apropriadas microrganismo causador'\n",
      " 'cloridrato metilfenidato transtorno deficit atencaohiperatividade tdah tdah anteriormente conhecido disturbio deficit atencao disfuncao cerebral minima outros termos utilizados descrever sindrome comportamental incluem disturbio hipercinetico lesao cerebral minima disfuncao cerebral minima disfuncao cerebral menor sindrome psicorganica pacientes attenze cloridrato metilfenidato indicado parte programa tratamento amplo tipicamente inclui medidas psicologicas educacionais sociais direcionadas pacientes estaveis sindrome comportamental caracterizada distractibilidade moderada grave deficit atencao hiperatividade labilidade emocional impulsividade diagnostico deve feito acordo criterio dsmiv normas cid10 sinais neurologicos nao localizaveis fracos deficiencia aprendizado eeg anormal podem nao presentes diagnostico disfuncao sistema nervoso central pode nao assegurado consideracoes especiais sobre diagnostico tdah criancas etiologia especifica dessa sindrome desconhecida nao ha teste diagnostico especifico diagnostico correto requer investigacao medica neuropsicologica educacional social caracteristicas comumente relatadas incluem historia deficit atencao distractibilidade labilidade emocional impulsividade hiperatividade moderada grave sinais neurologicos menores eeg anormal aprendizado pode nao prejudicado diagnostico deve baseado historia avaliacao completas crianca nao apenas presenca dessas caracteristicas tratamento medicamentoso nao indicado todas criancas sindrome estimulantes nao sao indicados criancas apresentam sintomas secundarios fatores ambientais particular criancas submetidas maus tratos eou disturbios psiquiatricos primarios incluindose psicoses orientacao educacional apropriada essencial intervencao psicossocial geralmente necessaria locais medidas corretivas isoladas comprovadamente insuficientes decisao prescrever estimulante devera baseada determinacao rigorosa gravidade sintomas crianca consideracoes especiais sobre diagnostico tdah adultos etiologia especifica sindrome desconhecida nao ha teste diagnostico unico adultos tdah padroes sintomas caracterizados mudanca constante atividades tornandose entediados facilmente agitacao impaciencia desatencao sintomas hiperatividade tendem diminuir aumento idade possivelmente devido adaptacao neurodesenvolvimento automedicacao sintomas desatencao sao importantes impacto maior adultos tdah diagnostico adultos deve incluir entrevista estruturada paciente determinar sintomas atuais preexistencia tdah infancia deve determinada retrospectivamente diagnostico nao deve feito apenas presenca sintomas decisao usar estimulante adultos deve baseada avaliacao completa gravidade cronicidade sintomas impacto sobre rotina paciente narcolepsia apenas attenze cloridrato metilfenidato indicado tratamento narcolepsia sintomas incluem sonolencia durante dia episodios sono inapropriados ocorrencia subita perda tonus muscular voluntario'\n",
      " 'rosuvastatina calcica ruva rosuvastatina calcica deve usado adjuvante dieta resposta dieta exercicios inadequada pacientes adultos hipercolesterolemia rosuvastatina calcica indicada reducao ldlcolesterol colesterol total triglicerides elevados aumento hdlcolesterol pacientes hipercolesterolemia primaria familiar heterozigotica nao familiar dislipidemia mista fredrickson tipos iia iib rosuvastatina calcica tambem diminui apob naohdlc vldlc vldltg razoes ldlchdlc ctotalhdlc naohdlchdlc apobapoai aumenta apoai nestas populacoes tratamento hipertrigliceridemia isolada hiperlipidemia fredrickson tipo iv reducao colesterol total ldlc pacientes hipercolesterolemia familiar homozigotica tanto isoladamente quanto adjuvante dieta outros tratamentos reducao lipidios ex aferese ldl tais tratamentos nao suficientes retardamento reducao progressao aterosclerose criancas adolescentes 6 17 anos idade ruva rosuvastatina calcica indicado reducao colesterol total ldlc apob pacientes hipercolesterolemia familiar heterozigotica hefh'\n",
      " 'hemifumarato quetiapina adultos hemifumarato quetiapina indicado tratamento esquizofrenia monoterapia adjuvante tratamento episodios mania associados transtorno afetivo bipolar episodios depressao associados transtorno afetivo bipolar tratamento manutencao transtorno afetivo bipolar i episodios maniaco misto depressivo combinacao estabilizadores humor litio valproato monoterapia tratamento manutencao transtorno afetivo bipolar episodios mania mistos depressivos adolescentes 13 17 anos hemifumarato quetiapina indicado tratamento esquizofrenia criancas adolescentes 10 17 anos hemifumarato quetiapina indicado monoterapia adjuvante tratamento episodios mania associados transtorno afetivo bipolar'\n",
      " 'dipropionato betametasona sulfato gentamicina trokg dipropionato betametasona sulfato gentamicina indicado alivio manifestacoes inflamatorias dermatoses sensiveis corticosteroides complicadas infeccao secundaria causada bacterias sensiveis gentamicina suspeita tais infeccoes dermatoses incluem psoriase dermatite alergica contato eczema dermatite atopica neurodermatite circunscrita liquen simples cronico liquen plano intertrigo eritematoso disidrose pompholyx dermatite seborreica dermatite esfoliativa dermatite solar dermatite estase pruridos anogenital'\n",
      " 'pantoprazol sodico sesquihidratado medicamento indicado tratamento ulcera peptica duodenal ulcera causada acido estomago contato revestimento inicio intestino ulcera peptica gastrica ulcera causada acido estomago esofagites refluxo moderadas graves doenca causada volta conteudo estomago esofago adultos pacientes pediatricos acima 5 anos esofagites leves recomendase pantoprazol sodico sesquihidratado 20 mg tratamento sindrome zollingerellison outras doencas causadoras producao exagerada acido estomago erradicacao helicobacter pylori bacteria responsavel formacao ulceras finalidade reducao taxa recorrencia ulcera gastrica duodenal causadas microrganismo neste caso deve associado dois antibioticos adequados vide item 6 devo usar medicamento'\n",
      " 'amoxicilina trihidratada medicamento amoxicilina trihidratada antibiotico eficaz contra grande variedade bacterias indicado tratamento infeccoes bacterianas causadas germes sensiveis acao amoxicilina entretanto medico pode receitar medicamento outro uso desejar informacoes pergunte medico'\n",
      " 'undecilato testosterona medicamento indicado medicamento indicado reposicao testosterona homens apresentam hipogonadismo primario secundario'\n",
      " 'clormadinona etinilestradiol acetato clormadinona etinilestradiol indicado anticoncepcional tratamento acne papulopustular moderada estritamente limitado mulheres deseajam contracepcao quais uso seguro medicamento contracepcao cuidadosamente avaliado'\n",
      " 'teicoplanina teicoplanina indicada tratamento infeccoes causadas bacterias grampositivas sensiveis incluindo resistentes outros antibioticos tais meticilina cefalosporinas endocardite inflamacao camada interna coracao endocardio septicemia infeccao geral grave infeccoes osteoarticulares infeccao ossos articulacoes infeccoes trato respiratorio inferior traqueia pulmoes bronquios bronquiolos alveolos pulmonares infeccoes pele tecidos moles musculos gorduras infeccoes urinarias urina peritonite inflamacao peritonio associada dialise peritoneal processo filtracao sangue atraves peritonio cronica ambulatorial tambem indicada tratamento infeccoes pacientes alergicos penicilinas cefalosporinas teicoplanina pode usada via oral tratamento diarreia associada uso antibiotico incluindo colite pseudomembranosa infeccao intestinal causada bacteria clostridium difficile teicoplanina pode utilizada profilaxia prevencao pacientes quais infeccao microrganismos grampositivos pode perigosa exemplo pacientes necessitam cirurgia dental ortopedica'\n",
      " 'fosfato dissodico dexametasona cloridrato tiamina cloridrato piridoxina cianocobalamina tratamento sinais sintomas neuropatias inflamatorias'\n",
      " 'isotretinoina isotretinoina indicada tratamento formas graves acne nodulocistica conglobata acne risco cicatrizes permanentes quadros acne resistentes tratamentos anteriores antibioticos sistemicos medicamentos uso topico'\n",
      " 'dicloridrato levocetirizina medicamento indicado tratamento sintomas associados enfermidades alergicas alergias rinite alergica sazonal alergias causadas polen algumas plantas ocorrem determinada epoca ano incluindo sintomas oculares rinite alergica perene alergias causadas acaro podem ocorrer longo ano urticaria cronica idiopatica inflamacao camada superficial pele'\n",
      " 'montelucaste sodio piemonte montelucaste sodio indicado pacientes adultos pediatricos partir 2 anos idade montelucaste sodio granulado indicado pacientes pediatricos 6 meses 5 anos idade profilaxia tratamento cronico asma incluindo prevencao sintomas diurnos noturnos prevencao broncoconstricao induzida exercicio tratamento pacientes asma sensiveis aspirina piemonte montelucaste sodio eficaz isoladamente associacao outros medicamentos utilizados tratamento asma cronica montelucaste sodio pode utilizado concomitantemente corticosteroides inalatorios efeitos aditivos controle asma reduzir dose corticosteroide inalatorio manter estabilidade clinica piemonte montelucaste sodio granulado indicado pacientes pediatricos 6 meses 5 anos idade alivio sintomas diurnos noturnos rinite alergica incluindo congestao nasal rinorreia prurido nasal espirros congestao nasal despertar dificuldade dormir despertares noturnos lacrimejamento prurido hiperemia edema oculares'\n",
      " 'folinato calcio folinato calcio indicado apos uso altas doses metotrexato terapia osteossarcoma antidoto diminuir toxicidade amenizar efeitos adversos eliminacao deficiente metotrexato superdose inadvertida antagonistas acido folico parte tratamento quimioterapeutico cuidado varias formas cancer tratamento anemias megaloblasticas deficiencia folatos terapia oral nao adequada'\n",
      " 'undecilato testosterona reposicao testosterona hipogonadismo masculino primario secundario'\n",
      " 'maleato trimebutina trimeb maleato trimebutina modulador musculatura gastrointestinal atua normalizador porem nao depressor peristaltismo fisiologico modo acao tambem confere trimeb maleato trimebutina propriedades antiespasmodicas nao apresenta relacao estrutural antiespasmodicos tipo anticolinergico procineticos estimulam liberacao acetilcolina nao possuindo efeitos sistemicos inerentes drogas alteracoes frequencia cardiaca pressao intraocular etc embora trimebutina efeito seletivo sobre trato digestivo semelhante acetilcolina atuacao sobre funcao sensorial especifica tubo digestivo confere ainda trimeb maleato trimebutina beneficios controle sintomatico processos dolorosos decorrentes afeccoes motoras relacionadas seguir odinofagia secundaria refluxo gastresofagico dispepsia funcional nao ulcerosa dores colicas decorrentes espasmos gastrintestinais sindrome colon irritavel portadores refluxo gastresofagico podem beneficiar efeito esvaziamento gastrico proporcionado trimeb maleato trimebutina alem efeito modulador sensorial aliviando sintomatologia dolorosa decorrente desta situacao trimeb maleato trimebutina tambem indicado preparo procedimentos diagnosticos radiologicos endoscopicos favorecendo esvaziamento gastrico evitando nauseas vomitos transito baritado superior colonoscopia diminuicao contratilidade colonica costuma prejudicar visualizacao neste tipo exame'\n",
      " 'cetoconazol dipropionato betametasona medicamento destinado tratamento micoses doencas inflamatorias pele afetadas possam afetadas fungos leveduras'\n",
      " 'cetoprofeno cetoprofeno medicamento antiinflamatorio analgesico antitermico sendo indicado tratamento inflamacoes dores decorrentes seguintes casos processos otorrinolaringologicos sinusites inflamacao mucosa nasal otites inflamacao ouvido faringites inflamacao faringe laringites inflamacao laringe amigdalites inflamacao garganta processos ginecologicosobstetricos anexites processo inflamatorio envolve trato genital feminino parametrites inflamacao parametrio pelvico endometrites inflamacao endometrio dismenorreia dor menstrual processos urologicos colica nefretica dor lombar decorrente obstrucao total parcial rins ureteres orquiepididimites inflamacao testiculo prostatites inflamacao prostata processos odontologicos periodontites inflamacao perda tecidos conjuntivos envolvem sustentam dentes pulpites inflamacao polpa dentaria abscessos acumulo pus tecidos orgaos espacos circunscritos normalmente associado sinais infeccao extracoes dentarias processos reumaticos artrite reumatoide inflamacao cronica articulacoes espondilite anquilosante inflamacao vertebras gota doenca reumatica caracterizada acumulo cristais acido urico junto articulacoes eou outros orgaos condrocalcinose deposito sais calcio articulacoes reumatismo psoriatico tipo artrite associada alteracao pele sindrome reiter tipo artrite pseudoartrite lupus eritematoso sistemico doenca apresenta manifestacoes pele coracao rins articulacoes outras esclerodermia doenca autoimune pode ter varias manifestacoes endurecimento pele periarterite nodosa tipo inflamacao ocorre arterias osteoartrite doenca articular degenerativa progressiva periartrite escapuloumeral inflamacao tecidos redor articulacao ombro bursites inflamacao bursa pequena bolsa contendo liquido envolve articulacoes capsulite adesiva inflamacao caracterizada perda movimentos ombro sinovites inflamacao membrana envolve articulacoes tenossinovites inflamacao bainha tendao tendinites inflamacao tendoes epicondilites doenca resultante esforco nao usual braco lesoes ortopedicas contusoes esmagamentos lesao causada trauma direto pressao fraturas entorses lesao ligamento musculo deslocamento fratura luxacoes deslocamento qualquer parte corpo normalmente articulacao posicao normal dores diversas nevralgia cervicobraquial dor associada lesao nervos regiao pescoco axila cervicalgia dor regiao pescoco lombalgia dor regiao lombar dor ciatica dor causada compressao nervo ciatico posoperatorios diversos enxaqueca dor cabeca intensa aura sintomas precedem enxaqueca variam consideravelmente pacientes afetando principalmente visao audicao'\n",
      " 'dacarbazina dacarb dacarbazina indicado tratamento melanoma maligno metastatico alem disto dacarb dacarbazina indicado doenca hodgkin terapia segunda linha combinacao outros agentes eficazes'\n",
      " 'rosuvastatina medicamento indicado medicamento deve usado auxiliar dieta resposta dieta exercicios inadequada pacientes adultos hipercolesterolemia nivel elevado colesterol sangue rosuvastatina calcica indicada reducao niveis ldlcolesterol colesterol total triglicerides elevados aumento hdlcolesterol pacientes hipercolesterolemia primaria familiar heterozigotica nao familiar dislipidemia mista niveis elevados anormais lipidios sangue fredrickson tipos iia iib medicamento tambem diminui apob naohdlc vldlc vldltg razoes ldlchdlc ctotal hdlc naohdlchdlc apobapoai aumenta apoai nestas populacoes tratamento hipertrigliceridemia isolada nivel elevado triglicerides sangue hiperlipidemia fredrickson tipo iv reducao colesterol total ldlc pacientes hipercolesterolemia familiar homozigotica tanto isoladamente quanto auxiliar dieta outros tratamentos reducao lipidios ex aferese ldl tais tratamentos nao suficientes retardamento reducao progressao aterosclerose acumulo gordura paredes vasos sanguineos criancas adolescentes 6 17 anos idade rosuvastatina calcica indicada reducao colesterol total ldlc apob pacientes hipercolesterolemia familiar heterozigotica hefh'\n",
      " 'levonorgestrel dopo levonorgestrel contraceptivo emergencia pode usado prevenir gravidez tomado dentro 72 horas tres dias apos coito desprotegido acidente contraceptivo contraceptivo emergencia dopo levonorgestrel indicado apos qualquer ato coito desprotegido incluindo nenhum contraceptivo usado metodo contraceptivo possa ter falhado incluindo ruptura deslizamento emprego incorreto camisinha desalojamento rompimento remocao antecipada diafragma tampao falha interrupcao coito ex ejaculacao vagina genitalia externa calculo incorreto metodo periodico absiliencia expulsao diu pilulas contraceptivas orais regulares omitidas tres dias ciclo casos estupro'\n",
      " 'cloridrato nortriptilina cloridrato nortriptilina indicado alivio sintomas depressao depressoes endogenas sao provaveis serem aliviadas outros estados depressivos'\n",
      " 'azitromicina dihidratada azitromicina dihidratada indicado tratamento infeccoes causadas bacterias sensiveis azitromicina infeccoes trato respiratorio inferior bronquios pulmoes superior nariz faringe laringe traqueia incluindo sinusite infeccao seios face faringite inflamacao faringe amigdalite inflamacao amigdalas infeccoes pele tecidos moles musculos tendoes gordura otite media infeccao ouvido medio aguda doencas sexualmente transmissiveis nao complicadas genitais homens mulheres causadas bacterias chlamydia trachomatis neisseria gonorrhoeae tambem indicado tratamento cancro lesao pele devido haemophilus ducreyi especie bacteria infeccoes ocorrem junto sifilis doenca sexualmente transmissivel devem excluidas'\n",
      " 'cloridrato paroxetina cloridrato paroxetina indicado tratamento adultos apresentam algumas condicoes abaixo transtorno depressivo maior anteriormente outros antidepressivos nao sido eficazes comportamento obsessivo compulsivo incontrolado ataques panico inclusive causados fobia pavor lugares abertos agorafobia ansiedade generalizada sensacao muita ansiedade nervosismo situacoes rotineiras inclusive situacoes exigem contato social ansiedade seguida evento traumatico transtorno estresse postraumatico acidente carro assalto desastre natural enchente terremoto cloridrato paroxetina nao indicado tratamento criancas adolescentes menores 18 anos ver item 4 devo saber antes usar medicamento'\n",
      " 'topiramato topiramato indicado monoterapia tanto pacientes epilepsia recentemente diagnosticada pacientes recebiam terapia adjuvante serao convertidos monoterapia topiramato indicado adultos criancas adjuvante tratamento crises epilepticas parciais generalizacao secundaria crises tonicoclonicas generalizadas primarias topiramato indicado tambem adultos criancas tratamento adjuvante crises associadas sindrome lennoxgastaut topiramato indicado adultos tratamento profilatico enxaqueca uso topiramato tratamento agudo enxaqueca nao estudado'\n",
      " 'celecoxibe celecoxibe indicado tratamento sintomatico osteoartrite lesao cronica articulacoes juntas artrite reumatoide inflamacao cronica juntas causada reacoes autoimunes sistema defesa corpo agride engano si proprio alivio sintomas espondilite anquilosante doenca inflamatoria cronica atinge articulacoes coluna quadris ombros alivio dor aguda posoperatorio cirurgia ortopedica odontologica doencas musculoesqueleticas entorse tornozelo dor joelho coxa alivio dismenorreia primaria colica menstrual alivio lombalgia dor costas'\n",
      " 'tigeciclina dugar tigeciclina indicado tratamento infeccoes causadas microrganismos sensiveis mencionados abaixo condicoes clinicas relatadas seguir pacientes idade maior igual 18 anos infeccoes pele partes moles complicadas tecidos proximos abaixo pele causadas escherichia coli enterococcus faecalis apenas isolados sensiveis vancomicina outro antibiotico staphylococcus aureus isolados resistentes sensiveis meticilina outro antibiotico incluindo casos bacteremia presenca bacteria sangue concomitante streptococcus agalactiae streptococcus anginosus inclui s anginosus s intermedius s constellatus streptococcus pyogenes enterobacter cloacae bacteroides fragilis klebisiella pneumoniae infeccoes intraabdominais complicadas causadas citrobacter freundii enterobacter cloacae escherichia coli klebsiella oxytoca klebsiella pneumoniae incluindo produtoras esbl determina resistencia alguns antibioticos enterococcus faecalis apenas isolados sensiveis vancomicina staphylococcus aureus isolados sensiveis resistentes meticilina incluindo casos bacteremia concomitante streptococcus anginosus inclui s anginosus s intermedius s constellatus bacteroides fragilis bacteroides thetaiotaomicron bacteroides uniformis bacteroides vulgatus clostridium perfringens peptostreptococcus micros pneumonia adquirida comunidade causada chlamydia pneumoniae haemophilus influenzae legionella pneumophila mycoplasma pneumoniae streptococcus pneumoniae isolados sensiveis penicilina outro antibiotico incluindo casos bacteremia concomitante medicamento nao indicado tratamento infeccoes feridas pe pacientes diabeticos conhecidas pe diabetico medicamento nao indicado tratamento pneumonia hospitalar associada ventilacao mecanica'\n",
      " 'aceclofenaco aceclofenaco indicado tratamento processos dolorosos inflamatorios tais dores dentes traumatismos dores musculares ex lombares dores poscirurgicas apos parto normal apos extracao dentaria dores articulacoes ombros reumatismos tambem eficaz tratamento cronico processos inflamatorios artrite reumatoide osteoartrite espondilite anquilosante'\n",
      " 'levetiracetam 1 indicacoes medicamento indicado monoterapia tratamento crises focaisparciais generalizacao secundaria pacientes partir 16 anos diagnostico recente epilepsia antara levetiracetam indicado terapia adjuvante tratamento crises focaisparciais generalizacao secundaria adultos adolescentes criancas idade superior 6 anos epilepsia crises mioclonicas adultos adolescentes criancas idade superior 12 anos epilepsia mioclonica juvenil crises tonicoclonicas primarias generalizadas adultos adolescentes criancas 6 anos idade epilepsia idiopatica generalizada'\n",
      " 'drospirenona estradiol medicamento indicado terapia reposicao hormonal tratamento sintomas climaterio mulheres posmenopausa ha ano tais ondas calor suor excessivo disturbios sono comportamento depressivo nervosismo sinais involucao bexiga orgaos genitais medicamento adequado mulheres ainda possuem utero utero intacto'\n",
      " 'amoxicilina trihidratada clavulanato potassio sinot clav amoxicilina trihidratada clavulanato potassio deve utilizado acordo guias locais prescricao antibioticos dados sensibilidade sinot clav amoxicilina trihidratada clavulanato potassio agente antibiotico espectro acao notavelmente amplo contra patogenos bacterianos ocorrencia comum clinica geral hospitais acao inibitoria betalactamase clavulanato estende espectro amoxicilina abrangendo variedade maior microrganismos muitos resistentes outros antibioticos betalactamicos sinot clav amoxicilina trihidratada clavulanato potassio administracao oral duas vezes dia indicado tratamento curta duracao infeccoes bacterianas casos citados seguir suspeita cepas produtoras betalactamase resistentes amoxicilina causa dessas infeccoes outras situacoes devese considerar administracao isolada amoxicilina infeccoes trato respiratorio superior inclusive ouvido nariz garganta particular sinusite otite media amigdalite recorrente infeccoes sao frequentemente causadas streptococcus pneumoniae haemophilus influenzae moraxella catarrhalis streptococcus pyogenes infeccoes trato respiratorio inferior particular exacerbacoes agudas bronquite cronica especialmente considerada grave broncopneumonia infeccoes sao frequentemente causadas streptococcus pneumoniae haemophilus influenzae moraxella catarrhalis infeccoes trato geniturinario particular cistite especialmente recorrente complicada excluindose prostatite infeccoes sao frequentemente causadas enterobacteriaceae sobretudo escherichia coli staphylococcus saprophyticus especies enterococcus infeccoes pele tecidos moles particular celulite mordidas animais abscesso dentario grave celulite disseminada infeccoes sao frequentemente causadas staphylococcus aureus streptococcus pyogenes especies bacteroides algumas cepas dessas especies bacterias produzem betalactamase tornandose resistentes amoxicilina isolada sensibilidade sinot clav amoxicilina trihidratada clavulanato potassio ira variar regiao tempo sempre disponiveis dados sensibilidade locais devem consultados sempre necessario amostragem microbiologica testes sensibilidade devem realizados infeccoes mistas causadas microrganismos sensiveis amoxicilina conjunto microrganismos produtores betalactamase sensiveis sinot clav amoxicilina trihidratada clavulanato potassio podem tratadas produto infeccoes nao devem necessitar adicao outro antibiotico resistente betalactamases'\n",
      " 'docetaxel trihidratado medicamento destinado tratamentos cancer mama adjuvante doceuno docetaxel trihidratado associacao doxorrubicina ciclofosfamida indicado tratamento adjuvante pacientes cancer mama operavel linfonodo positivo doceuno docetaxel trihidratado associacao doxorrubicina ciclofosfamida indicado tratamento adjuvante pacientes cancer mama operavel linfonodo negativo fatores alto risco tamanho tumor 2 cm idade 35 anos status receptor hormonal negativo tumor grau 2 3 doxorrubicina ciclofosfamida seguida doceuno docetaxel trihidratado associacao trastuzumabe acth indicado tratamento adjuvante pacientes cancer mama operavel cujos tumores superexpressam her2 doceuno docetaxel trihidratado associacao trastuzumabe carboplatina tch indicado tratamento adjuvante pacientes cancer mama operavel cujos tumores superexpressam her2 cancer mama metastatico doceuno docetaxel trihidratado associacao doxorrubicina indicado tratamento pacientes cancer mama localmente avancado metastatico nao receberam terapia citotoxica previa condicao doceuno docetaxel trihidratado monoterapia indicado tratamento pacientes cancer mama localmente avancado metastatico apos falha terapia citotoxica quimioterapia previa deve ter incluido administracao antraciclina agente alquilante doceuno docetaxel trihidratado associacao capecitabina indicado tratamento pacientes cancer mama localmente avancado metastatico apos falha quimioterapia citotoxica terapia previa deve ter incluido administracao antraciclina doceuno docetaxel trihidratado associacao trastuzumabe indicado tratamento pacientes cancer mama metastatico cujos tumores superexpressam her2 previamente nao receberam quimioterapia doenca metastatica cancer pulmao naopequenas celulas doceuno docetaxel trihidratado indicado tratamento pacientes cancer pulmao nao pequenas celulas localmente avancado metastatico apos falha quimioterapia previa doceuno docetaxel trihidratado associacao cisplatina indicado tratamento pacientes cancer pulmao naopequenas celulas irressecavel localmente avancado metastatico nao recebido previamente quimioterapia condicao vide item 9 reacoes adversas item 3 caracteristicas farmacologicas propriedades farmacodinamicas cancer ovario doceuno docetaxel trihidratado indicado tratamento carcinoma metastatico ovario apos falha quimioterapia primeira linha subsequente cancer prostata doceuno docetaxel trihidratado associacao prednisona prednisolona indicado tratamento pacientes cancer prostata metastatico resistente castracao doceuno docetaxel trihidratado combinacao terapia privacao androgenica adt prednisona prednisolona indicado tratamento pacientes cancer prostata metastatico hormoniosensivel adenocarcinoma gastrico doceuno docetaxel trihidratado associacao cisplatina fluoruracila indicado tratamento pacientes adenocarcinoma gastrico avancado incluindo adenocarcinoma juncao gastroesofagica nao receberam quimioterapia previa doenca avancada cancer cabeca pescoco doceuno docetaxel trihidratado associacao cisplatina fluoruracila indicado tratamento inducao pacientes carcinoma celulas escamosas cabeca pescoco localmente avancado cavidade oral orofaringe hipofaringe laringe'\n",
      " 'cloridrato paroxetina adultos transtorno depressivo maior pondera 20 cloridrato paroxetina indicado tratamento depressivo maior tdm resultados estudos realizados pacientes sob tratamento cloridrato paroxetina ano indica pondera 20 cloridrato paroxetina eficaz prevencao recaidas tambem recorrencia sintomas depressivos transtornos ansiedade tratamento sintomas prevencao recidiva transtorno obsessivocompulsivo toc tratamento sintomas prevencao recidiva transtorno panico agorafobia tratamento fobia socialtranstorno ansiedade social tratamento sintomas prevencao recidiva transtorno ansiedade generalizada tratamento transtorno estresse postraumatico criancas adolescentes menores 18 anos todas indicacoes pondera 20 cloridrato paroxetina nao indicado criancas adolescentes menores 18 anos ver item 5 advertencias precaucoes estudos clinicos controlados feitos criancas adolescentes apresentavam transtorno depressivo maior nao evidenciaram eficacia nao embasam uso cloridrato paroxetina tratamento depressao nessa populacao ver item 5 advertencias precaucoes eficacia seguranca uso cloridrato paroxetina criancas menores 7 anos nao estudadas'\n",
      " 'meropenem trihidratado meropenem trihidratado indicado tratamento seguintes infeccoes adultos criancas causadas unica multiplas bacterias sensiveis tratamento empirico antes identificacao microrganismo causador infeccoes trato respiratorio inferior infeccoes urinarias incluindo infeccoes complicadas infeccoes intraabdominais infeccoes ginecologicas incluindo infeccoes posparto infeccoes pele anexos meningite inflamacao membranas cerebro medula espinhal septicemia doenca sistemica causada propagacao microrganismos toxinas atraves sangue tratamento empirico incluindo monoterapia inicial infeccoes presumidamente bacterianas pacientes neutropenicos baixo numero neutrofilos sangue infeccoes polimicrobianas causadas varios microrganismos devido amplo espectro atividade bactericida contra bacterias grampositivas gramnegativas aerobias anaerobias meropenem eficaz tratamento infeccoes polimicrobianas fibrose cistica meropenem intravenoso sido utilizado eficazmente pacientes fibrose cistica infeccoes cronicas trato respiratorio inferior tanto monoterapia quanto associacao outros agentes antibacterianos patogeno nao sido sempre erradicado nestes tratamentos'\n",
      " 'sulfato polimixina b medicamento indicado tratamento infeccoes agudas causadas pseudomonas aeruginosa infeccoes trato urinario meninges sangue infeccoes causadas seguintes microrganismos drogas menor potencial toxico sao ineficazes contraindicadas h influenzae especificamente infeccoes meninges escherichia coli especificamente infeccoes trato urinario aerobacter aerogenes especificamente caso bacteremias klebsiella pneumoniae especificamente caso bacteremias'\n",
      " 'tadalafila medicamento indicado tadalafila indicado tratamento disfuncao eretil'\n",
      " 'mesna medicamento indicado prevencao toxicidade oxazafosforinas nivel vias urinarias administracao concomitante mesna recomendavel terapia citostatica doses altas ifosfamida terapia doses macicas acima 10 mgkg ciclofosfamida trofosfamida pacientes apresentem riscos riscos compreendem principalmente radioterapia previa regiao pequena pelve ocorrencia cistite durante terapia anterior oxazafosforinas portadores disturbios trato urinario'\n",
      " 'paracetamol fosfato codeina medicamento indicado medicamento paracetamol fosfato codeina indicado alivio dores grau moderado intenso decorrentes traumatismo entorses luxacoes contusoes distensoes fraturas posoperatorio posextracao dentaria neuralgia lombalgia dores origem articular condicoes similares'\n",
      " 'colecalciferol altad caps colecalciferol medicamento base vitamina d3 colecalciferol indicado prevencao tratamento auxiliar desmineralizacao ossea pre posmenopausa prevencao formacao inadequada ossos raquitismo casos osteomalacia osteoporose prevencao risco quedas fraturas'\n",
      " 'informacao nao disponivel medicamento destinado tratamento disfuncao eretil'\n",
      " 'colina ferro zinco cobre selenio vitamina acido folico vitamina d suplemento vitaminicomineral elaborado auxiliar bom funcionamento organismo criancas idade acima 6 meses ate 10 anos'\n",
      " 'atenolol clortalidona medicamento indicado atenolol clortalidona indicado controle hipertensao pressao alta'\n",
      " 'ebastina ebastel ebastina indicado tratamento alivio sintomas rinite alergica intermitente persistente secrecao nasal espirros coceira entupimento nasal associados nao conjuntivite alergica tratamento urticaria idiopatica ebastel ebastina alivia sintomas coceira ardor'\n",
      " 'diosmina hesperidina perivasc diosmina hesperidina indicado tratamento manifestacoes insuficiencia venosa cronica funcional organica membros inferiores tais varizes varicosidades edema sensacao peso pernas sequelas tromboflebites estados preulcerosos ulceras varicosas ulceras estase edemas postraumaticos tratamento sintomas funcionais relacionados insuficiencia venosa plexo hemorroidario prevencao hemorragia pos hemorroidectomia alivio sinais sintomas pre posoperatorios safenectomia alivio dor pelvica cronica associada sindrome congestao pelvica'\n",
      " 'lubrificante intimo intra gel oferece sensacao lubrificacao intima natural transparente nao cheiro formula base agua oferece maior conforto prazer diminuir sensibilidade relacoes sexuais compativel preservativos possui tampa abrefecha facil'\n",
      " 'pitavastatina medicamento indicado terapia complementar dieta reduzir niveis elevados colesterol total colesterol ruim ldlc apolipoproteina b triglicerides aumentar niveis colesterol bom hdlc pacientes adultos excesso substancias gordurosas sangue medicamento so deve usado resposta dieta restrita gorduras saturadas colesterol outras medidas nao farmacologicas inadequadas'\n",
      " 'sulbactam sodico ampicilina sodica medicamento sulbactam sodico ampicilina sodica injetavel indicado infeccoes causadas microrganismos suscetiveis indicacoes comuns sao infeccoes trato respiratorio inferior superior incluindo sinusite infeccao seios face otite media infeccao ouvido medio epiglotite infeccao epiglote parte garganta pneumonias bacterianas infeccoes pulmonares causadas bacterias infeccoes trato urinario pielonefrite infeccao rins infeccoes intraabdominais incluindo peritonite infeccao peritonio camada recobre orgaos internos abdominais colecistite inflamacao vesicula biliar endometrite infeccao endometrio camadas utero celulite pelvica infeccao pele tecido subcutaneo regiao pelvica sepse bacteriana disseminacao bacterias partir foco infeccao atraves sangue infeccoes pele tecidos moles infeccoes osso articulacoes infeccoes gonococicas causadas bacteria gonococo sulbactam sodico ampicilina sodica injetavel tambem pode administrado perioperatorio momentos antes incisao cirurgica reduzir incidencia infeccoes feridas cirurgicas pacientes submetidos cirurgia pelvica abdominal casos regiao operada possa contaminada bacterias trabalho parto cesarea sulbactam sodico ampicilina sodica injetavel pode usado reduzir chances infeccao posoperatoria'\n",
      " 'desloratadina desloratadina indicada alivio sintomas associados rinite alergica coriza corrimento nasal espirros prurido nasal coceira nariz ardor prurido ocular coceira olhos lacrimejamento prurido palato coceira ceu boca tosse sinais sintomas oculares nasais sao rapidamente aliviados apos administracao oral produto medicamento tambem indicado alivio sinais sintomas urticaria outras alergias pele'\n",
      " 'amoxicilina trihidratada clavulanato potassio sinot clav amoxicilina trihidratada clavulanato potassio deve utilizado acordo diretrizes locais prescricao antibioticos dados sensibilidade aamoxicilina trihidratada clavulanato potassio agente antibiotico espectro acao notavelmente amplo contra patogenos bacterianos ocorrencia comum clinica geral hospitais acao inibitoria betalactamase clavulanato estende espectro amoxicilina abrangendo variedade maior microrganismos muitos sao resistentes outros antibioticos betalactamicos sinot clav amoxicilina trihidratada clavulanato potassio administracao oral duas vezes dia indicado tratamento curta duracao infeccoes bacterianas casos relacionados abaixo suspeita causa cepas produtoras betalactamase resistentes amoxicilina outras situacoes devese considerar uso isolado amoxicilina infeccoes trato respiratorio superior inclusive ouvido nariz garganta particular sinusite otite media tonsilite recorrente infeccoes sao frequentemente causadas streptococcus pneumoniae haemophilus influenzae moraxella catarrhalis streptococcus pyogenes infeccoes trato respiratorio inferior particular exacerbacoes agudas bronquite cronica especialmente grave broncopneumonia infeccoes sao frequentemente causadas streptococcus pneumoniae haemophilus influenzae moraxella catarrhalis infeccoes trato geniturinario particular cistite especialmente recorrente complicada excluindose prostatite infeccoes sao frequentemente causadas enterobacteriaceae sobretudo escherichia coli staphylococcus saprophyticus especies enterococcus infeccoes pele tecidos moles particular celulite mordidas animais abscesso dentario grave celulite disseminada infeccoes sao frequentemente causadas staphylococcus aureus streptococcus pyogenes especies bacteroides algumas cepas dessas especies bacterias produzem betalactamase tornandose resistentes amoxicilina isolada sensibilidade sinot clav amoxicilina trihidratada clavulanato potassio ira variar regiao tempo sempre disponiveis dados sensibilidade locais devem consultados sempre necessario amostragem microbiologica testes sensibilidade devem realizados infeccoes mistas causadas microrganismos sensiveis amoxicilina microrganismos produtores betalactamase sensiveis sinot clav amoxicilina trihidratada clavulanato potassio podem tratadas produto infeccoes nao devem necessitar adicao outro antibiotico resistente betalactamases'\n",
      " 'nitazoxanida azox nitazoxanida indicado tratamento seguintes infeccoes gastroenterites virais provocadas rotavirus norovirus helmintiases provocadas nematodeos cestodeos trematodeos enterobius vermicularis ascaris lumbricoides strongyloides stercolaris ancylostoma duodenale necator americanus trichuris trichiura taenia spp hymenolepis nana amebiase tratamento diarreia amebiase intestinal aguda disenteria amebiana causada complexo entamoeba histolyticadispar giardiase tratamento diarreia causada giardia lamblia giardia intestinalis criptosporidiase tratamento diarreia causada cryptosporidium parvum blastocistose balantidiase isosporiase causadas respectivamente blastocistis hominis balantidium coli isospora belli'\n",
      " 'fulvestranto monoterapia seletiv fulvestranto indicado tratamento cancer mama localmente avancado metastatico mulheres qualquer idade posmenopausa nao previamente tratadas terapia endocrina cancer receptor hormonal rh positivo receptor fator crescimento epidermico humano 2 her2 negativo previamente tratadas terapia endocrina terapia antiestrogeno inibidor aromatase cancer receptor hormonal rh positivo independente estado posmenopausal ocorreu naturalmente induzido artificialmente terapia combinacao palbociclibe seletiv fulvestranto indicado combinacao palbociclibe tratamento mulheres portadoras cancer mama localmente avancado metastatico positivo receptor hormonal rh negativo receptor fator crescimento epidermico humano 2 her2 previamente tratadas terapia endocrina'\n",
      " 'ciprofibrato ciprofibrato nao deve utilizado seguintes casos insuficiencia hepatica figado severa insuficiencia renal rins severa gravidez lactacao associacao outros fibratos exemplo clorfibrato bezafibrato genfibrozila fenofibrato alergia ciprofibrato qualquer componente produto devido presenca lactose medicacao contraindicada pacientes deficiencia lactase galactosemia sindrome ma absorcao glicose galactose'\n",
      " 'cloridrato moxifloxacino medicamento indicado tratamento adultos idade igual acima 18 anos infeccoes vias respiratorias superiores inferiores exacerbacoes agudas bronquite cronica pneumonia adquirida comunidade pac incluindo pac causada cepas multirresistentes sinusite aguda infeccoes nao complicadas pele tecidos moles doenca inflamatoria pelvica nao complicada doencas trato genital superior feminino inclusive salpingite endometrite infeccoes complicadas pele anexos incluindo infeccoes pe diabetico infeccoes intraabdominais complicadas incluindo infeccoes polimicrobianas abscessos streptococcus pneumoniae multirresistentes incluindo isolados conhecidos s pneumoniae resistente penicilina cepas resistentes dois seguintes antibioticos penicilina cim 2 gml cefalosporinas 2 geracao exemplo cefuroxima macrolideos tetraciclinas trimetoprimasulfametoxazol devemse considerar recomendacoes relacionadas uso apropriado agentes antibioticos'\n",
      " 'heparina sodica bovina heptar heparina sodica bovina indicado tratamento profilaxia eventos eou fenomenos tromboembolicos pacientes renais cronicos submetidos hemodialise'\n",
      " 'cloridrato ciclobenzaprina medicamento destinado tratamento espasmos musculares associados condicoes musculoesqueleticas aguda dolorosas lombalgias torcicolos periartrite escapuloumeral cervicobraquialgias tratamento fibromialgia alem disso indicado coadjuvante outras medidas alivio sintomas tais fisioterapia repouso'\n",
      " 'temozolomida medicamento indicado tratamento pacientes glioblastoma multiforme recemdiagnosticado concomitantemente radioterapia adjuvancia posterior glioma maligno tal glioblastoma multiforme astrocitoma anaplasico recidivante progressivo apos terapia padrao temozolomida tambem indicada tratamento pacientes melanoma maligno metastatico estagio avancado numero necessario tratar nnt temozolomida 25 6 meses 67 12 meses 53 18 meses 59 24 meses reducao risco absoluto rra sobrevivencia comparando temozolomida vs nao usar quimioterapia 105 95 ic 098103 6 meses 132 95 ic 115 153 12 meses 198 95 ic 153 256 18 meses 284 95 ic 193 417 24 meses'\n",
      " 'enoxaparina sodica versa enoxaparina sodica indicado tratamento trombose oclusao trombo veias profundas ja estabelecida embolia pulmonar oclusao algum vaso pulmao trombo migrou outra veia prevencao tromboses venosas associadas cirurgia ortopedica cirurgia geral prevencao tromboses venosas pacientes acamados devido doencas agudas incluindo insuficiencia cardiaca insuficiencia respiratoria infeccoes graves doencas reumaticas prevencao coagulacao circuito circulacao extracorporea durante hemodialise tratamento angina instavel dor peito causada diminuicao suprimento oxigenio coracao infarto agudo miocardio onda q tipo infarto administrado concomitantemente acido acetilsalicilico'\n",
      " 'amoxicilina trihidratada sinot amoxicilina trihidratada antibiotico amplo espectro indicado tratamento infeccoes bacterianas causadas germes sensiveis acao amoxicilina'\n",
      " 'dipropionato betametasona fosfato dissodico betametasona medicamento indicado dipropionato betametasona fosfato dissodico betametasona indicado tratamento doencas agudas cronicas respondem corticoides terapia hormonal corticosteroide coadjuvante nao substitui terapeutica convencional dipropionato betametasona fosfato dissodico betametasona indicado seguintes quadros clinicos alteracoes osteomusculares tecidos moles artrite reumatoide doencas articulacoes osteoartrite bursite espondilite anquilosante espondilite radiculite dor coccix ciatica dor costas torcicolo exostose inflamacao planta pes fascite condicoes alergicas asma rinite alergica devida polen edema angioneurotico inchaco pode afetar varias partes organismo bronquite alergica rinite alergica persistente hipersensibilidade drogas doenca soro picadas insetos condicoes dermatologicas dermatite atopica doenca alergica pele liquen simples cronico dermatite contato dermatite solar grave urticaria liquen plano hipertrofico necrobiose lipoidica associada diabetes mellitus especie ulcera afeta diabeticos alopecia areata queda cabelo lupus eritematoso discoide psoriase queloides penfigo dermatite herpetiforme doencas colageno lupus eritematoso sistemico esclerodermia dermatomiosite poliarterite nodosa tipos doencas autoimunes tumores malignos tratamento paliativo leucemias linfomas adultos leucemia aguda infancia outras condicoes sindrome adrenogenital alteracao hormonal pode masculinizar mulheres doencas gastrintestinais colite ulcerativa ileite regional doenca celiaca afeccoes pes bursite hallux rigidus 5 dedo varo afeccoes necessitando injecoes subconjuntivais transtornos hematologicos respondem corticosteroides alteracoes rins sindrome nefritica sindrome nefrotica insuficiencia adrenocortical primaria secundaria podera tratada dipropionato betametasona fosfato dissodico betametasona devera suplementacao mineralocorticoides dipropionato betametasona fosfato dissodico betametasona recomendado 1 injecoes intramusculares doencas respondem corticoides sistemicos 2 injecoes diretamente tecidos moles afetados indicado 3 injecoes intraarticulares periarticulares artrites 4 injecoes intralesionais varias condicoes dermatologicas 5 injecoes locais certos transtornos inflamatorios cisticos pes'\n",
      " 'cloridrato tansulosina stub cloridrato tansulosina indicado tratamento sintomas hiperplasia prostatica benigna hpb aumento benigno prostata pode causar dificuldade urinar'\n",
      " 'oxalato escitalopram esc oxalato escitalopram indicado tratamento prevencao recaida recorrencia depressao tratamento transtorno panico agorafobia tratamento transtorno ansiedade generalizada tag tratamento transtorno ansiedade social fobia social tratamento transtorno obsessivo compulsivo toc'\n",
      " 'prednisolona medicamento indicado agente antiinflamatorio imunossupressor patologias cujos mecanismos fisiopatologicos envolvam processos inflamatorios eou autoimunes tratamento condicoes endocrinas glandulas composicao esquemas terapeuticos algumas neoplasias'\n",
      " 'capecitabina medicamento indicado cancer mama corretal capecitabina combinacao docetaxel indicado tratamento pacientes cancer mama metastatico apos falha quimioterapia citotoxica antraciclina corretal capecitabina monoterapia indicado tratamento pacientes cancer mama metastatico resistente regimes quimioterapia paclitaxel antraciclina resistente paclitaxel pacientes terapia adicional antraciclina nao indicada pacientes receberam doses cumulativas 400 mgm2 doxorrubicina equivalente definese resistencia progressao doenca vigencia tratamento resposta inicial recorrencia ate 6 meses termino tratamento adjuvante antraciclina regimes contenham antraciclina cancer colorretal corretal capecitabina indicado tratamento adjuvante pacientes cancer colorretal dukes c estagio iii submetidos resseccao completa tumor primario casos preferencia terapia fluoropirimidinas capecitabina demonstrou nao inferioridade 5fulv 5 fluoruracila acido folinico refere sobrevida livre doenca embora capecitabina quimioterapia combinada prolonguem sobrevida global quimioterapia combinada demonstrado melhor sobrevida livre doenca comparada 5fulv medico deve considerar resultados prescrever corretal capecitabina monoterapia tratamento adjuvante cancer colorretal dukes c corretal capecitabina indicado tratamento primeira linha pacientes cancer colorretal metastatico casos preferencia terapia fluoropirimidinas quimioterapia combinada demonstrado beneficio sobrevida comparado monoterapia 5fulv comparacao capecitabina combinacao oxaliplatina 5fulv combinacao oxaliplatina assegurar seguranca manutencao vantagem sobrevida nao adequadamente estudada corretal capecitabina combinado oxaliplatina combinado oxaliplatina bevacizumabe indicado tratamento primeira linha cancer colorretal metastatico corretal capecitabina tambem pode combinado oxaliplatina corretalbulavpsv9 versao 09 versao altera versao 08 tratamento segunda linha cancer colorretal metastatico pacientes previamente tratados irinotecano combinacao regime fluoropirimidina terapia primeira linha cancer gastrico corretal capecitabina indicado tratamento primeira linha pacientes cancer gastrico estagio avancado desde associada compostos platina cisplatina oxaliplatina'\n",
      " 'cloridrato paroxetina pondera cloridrato paroxetina indicado tratamento transtornos depressivos maiores leves moderados graves acompanhados nao ansiedade pondera cloridrato paroxetina tambem indicado tratamento sintomas transtorno obsessivo compulsivo toc transtorno ansiedade social fobia social transtorno panico agorafobia transtorno ansiedade generalizada tag transtorno estresse postraumatico tept'\n",
      " 'dicloridrato pramipexol pisa dicloridrato pramipexol indicado tratamento sinais sintomas doenca parkinson idiopatica podendo usado monoterapia levodopa associado levodopa'\n",
      " '375 mg cloridrato tramadol 3250 mg paracetamol gesico duo cloridrato tramadol paracetamol indicado dores moderadas severas carater agudo subagudo cronico'\n",
      " 'cetoconazol dipropionato betametasona sulfato neomicina trokn cetoconazol dipropionato betametasona sulfato neomicina indicado tratamento doencas pele onde exigem acoes antiinflamatoria antibacteriana antimicotica causadas germes sensiveis dermatite contato inflamacao pele causada substancia entra contato corpo dermatite atopica doenca geralmente dura tempo causa inflamacao pele levando aparecimento lesoes coceira dermatite seborreica doenca manifesta partes corpo onde existe maior producao sebum glandulas sebaceas associado presenca fungo intertrigo irritacao dobras pele causada retencao suor calor umidade aumento germes local disidrose lesoes aparecem exclusivamente maos pes cuja origem pode parasitaria medicamentosa alergica neurodermatite inflamacao pele caracterizada ciclo continuo coceira espessamento pele'\n",
      " 'mesilato doxasozina finasterida medicamento duomo hp mesilato doxazosina finasterida indicado tratamento hiperplasia prostatica benigna sintomas relacionados doenca obstrucao urinaria sintomas obstrutivos hesitacao intermitencia gotejamento fluxo urinario fraco esvaziamento incompleto bexiga sintomas irritativos nocturia frequencia urinaria urgencia queimacao reducao risco retencao urinaria aguda reducao riscos intervencoes cirurgicas resseccao transuretral prostata prostatectomia medicacoes contendo mesilato doxazosina podem administradas tanto pacientes hipertensos quanto normotensos enquanto mudancas pressao sanguinea pacientes normotensos hpb sao clinicamente insignificantes pacientes hipertensao hpb concomitantes tido ambas condicoes efetivamente tratadas mesilato doxazosina'\n",
      " 'succinato desvenlafaxina monoidratado medicamento indicado tratamento transtorno depressivo maior tdm medicamento nao indicado uso nenhuma populacao pediatrica'\n",
      " 'delafloxacino meglumina delabaxi delafloxacino meglumina indicado adultos tratamento infeccoes graves pele tecidos moles causadas microrganismos sensiveis delafloxacino'\n",
      " 'succinato desvenlafaxina monoidratado medicamento indicado succinato desvenlafaxina monoidratado indicado tratamento transtorno depressivo maior tdm estado profunda persistente infelicidade tristeza acompanhado perda completa interesse atividades diarias normais succinato desvenlafaxina monoidratado nao indicado uso nenhuma populacao pediatrica'\n",
      " 'esomeprazol sodico esio esomeprazol sodico indicado alternativa terapia oral nao apropriada terapia intravenosa deve realizada apenas parte periodo tratamento completo seguintes indicacoes doenca refluxo gastroesofagico drge doenca apresenta sintomas azia dor epigastrica boca estomago regurgitacao acida causada retorno conteudo acido estomago garganta esio esomeprazol sodico tambem indicado prevencao ulceras gastricas lesoes estomago duodenais parte superior intestino pacientes risco sao considerados pacientes risco pacientes idade acima 60 anos pacientes desordens gastricas previamente documentadas pacientes uso concomitante anticoagulantes medicamentos prevenir formacao trombos sanguineos eou esteroides medicamentos acao antiinflamatoria antialergica pacientes uso altas doses antiinflamatorios naoesteroidais aines multiplos aines manutencao curto prazo hemostasia fluidez sangue vasos sanguineos prevencao ressangramento pacientes ulceras hemorragicas gastricas duodenais apos terapia endoscopica exame investiga doencas esofago estomago intestinos'\n",
      " 'dicloridrato betaistina medicamento indicado sindrome meniere caracterizada 3 tres principais sintomas vertigem sensacao tontura malestar acompanhado nausea vomito zumbido ouvidos perda dificuldade audicao sensacao tontura causada parte ouvido interno controla equilibrio nao funcionando corretamente chamada vertigem vestibular'\n",
      " 'azitromicina dihidratada astro azitromicina dihidratada indicado infeccoes causadas organismos suscetiveis infeccoes trato respiratorio inferior incluindo bronquite pneumonia infeccoes pele tecidos moles otite media aguda infeccoes trato respiratorio superior incluindo sinusite faringitetonsilite penicilina farmaco escolha usual tratamento faringite devido streptococcus pyogenes incluindo profilaxia febre reumatica azitromicina geralmente efetiva erradicacao estreptococos orofaringe porem dados estabelecem eficacia azitromicina subsequente prevencao febre reumatica nao estao disponiveis momento doencas sexualmente transmissiveis homem mulher astro azitromicina dihidratada indicado tratamento infeccoes genitais nao complicadas devido chlamydia trachomatis tambem indicado tratamento cancro devido haemophilus ducreyi infeccoes genitais nao complicadas devido neisseria gonorrhoeae resistencia multipla infeccoes concomitantes treponema pallidum devem excluidas'\n",
      " 'gestodeno etinilestradiol tamisa 30 parar gestodeno etinilestradiol contraceptivo oral uso continuo indicado prevencao gravidez'\n",
      " 'cloridrato tramadol gesico cloridrato tramadol indicado tratamento dor intensidade moderada grave'\n",
      " 'cloridrato dexmedetomidina cloridrato dexmedetomidina sedativo indutor estado calmo indicado uso pacientes ventilacao mecanica durante tratamento intensivo unidade terapia intensiva salas cirurgia procedimentos diagnosticos'\n",
      " 'nan apos escovacao uso fio dental encha tampa ate linha continua 20ml faca bochechos 30 segundos elimine produto boca nao diluir uso recomendado duas vezes dia uso diario'\n",
      " 'finasterida medico prescreveu finasterida 5 mg porque voce apresenta condicao conhecida hiperplasia prostatica benigna hpb prostata localizada proximo bexiga aumentou tamanho causando dificuldades passagem urina medicamento uso somente homens'\n",
      " 'montelucaste sodio piemonte montelucaste sodio indicado pacientes adultos pediatricos partir 2 anos idade profilaxia tratamento cronico asma incluindo prevencao sintomas diurnos noturnos prevencao broncoconstricao induzida exercicio tratamento pacientes asma sensiveis acido acetilsalicilico piemonte montelucaste sodio eficaz isoladamente associacao outros medicamentos utilizados tratamento asma cronica piemonte montelucaste sodio pode utilizado concomitantemente corticosteroides inalatorios efeitos aditivos controle asma reduzir dose corticosteroide inalatorio manter estabilidade clinica piemonte montelucaste sodio indicado pacientes adultos pediatricos partir 2 anos idade alivio sintomas diurnos noturnos rinite alergica incluindo congestao nasal rinorreia prurido nasal espirros congestao nasal despertar dificuldade dormir despertares noturnos lacrimejamento prurido hiperemia edema oculares'\n",
      " 'cloridrato trazodona sonic cloridrato trazodona indicado tratamento depressao episodios ansiedade dor associada neuropatia diabetica outros tipos dores cronicas tratamento depressao maior'\n",
      " 'brometo rocuronio medicamento indicado usado juntamente anestesia geral facilitar intubacao traqueal procedimentos rotina inducao sequencia rapida anestesia bem relaxar musculatura esqueletica durante intervencoes cirurgicas brometo rocuronio tambem indicado pessoas internadas unidade terapia intensiva uti facilitar intubacao respiracao artificial'\n",
      " 'filgrastim gcsf fiprima filgrastim indicado reducao duracao neutropenia incidencia neutropenia febril pacientes neoplasias nao mieloides tratados quimioterapia citotoxica estabelecida fiprima filgrastim indicado reducao duracao neutropenia sequelas clinicas pacientes submetidos terapia mieloablativa seguida transplante medula ossea'\n",
      " 'cloridrato venlafaxina venlaxin cloridrato venlafaxina indicado tratamento depressao incluindo depressao ansiedade associada prevencao recaida recorrencia depressao tambem indicado tratamento incluindo tratamento longo prazo transtorno ansiedade generalizada transtorno ansiedade social tambem conhecido fobia social transtorno panico'\n",
      " 'sulfametoxazol trimetoprima subtrax sulfametoxazol trimetoprima somente deve usado beneficio tratamento superar qualquer risco possivel consideracoes devem feitas quanto agente bacteriano efetivo suscetibilidade bacteria in vitro varia geograficamente tempo situacao local deve considerada seleciona antibioticoterapia medicamento indicado tratamento infeccoes causadas microrganismos sensiveis associacao trimetoprima sulfametoxazol tais infeccoes trato respiratorio otites exacerbacoes agudas quadros cronicos bronquite sinusite tratamento profilaxia primaria secundaria pneumonia pnemocystis jirovecii adultos criancas otite media criancas ha boas razoes preferir combinacao antibiotico simples infeccoes trato urinario renais cistites agudas cronicas pielonefrites uretrites prostatites cancroides infeccoes genitais homens mulheres inclusive uretrite gonococica infeccoes gastrintestinais incluindo febre tifoide paratifoide tratamento portadores colera medida conjunta reposicao liquidos eletrolitos diarreia viajantes causada escherichia coli enterotoxicogenica shiguelose cepas sensiveis shigella flexneri shigella sonnei tratamento antibacteriano indicado infeccoes pele tecidos moles piodermite furunculos abscessos feridas infectadas outras infeccoes causadas grande variedade microrganismos tratamento possivelmente combinacao outros antibioticos osteomielite aguda cronica brucelose aguda nocardiose blastomicose sulamericana actinomicetoma'\n",
      " 'cloridrato sertralina cloridrato sertralina indicado tratamento transtorno depressivo transtorno obsessivo compulsivo toc transtorno panico transtorno estresse postraumatico fobia social sindrome tensao premenstrual stpm eou transtorno disforico premenstrual tdpm criancas adolescentes 6 17 anos indicado apenas tratamento transtorno obsessivo compulsivo toc'\n",
      " 'paracetamol fosfato codeina paco paracetamol fosfato codeina indicado alivio dores grau moderado intenso decorrentes traumatismo entorses luxacoes contusoes distensoes fraturas posoperatorio posextracao dentaria neuralgia lombalgia dores origem articular condicoes similares'\n",
      " 'cabazitaxel medicamento associacao prednisona prednisolona indicado tratamento pacientes cancer prostata metastase resistente castracao nao responde tratamento hormonal previamente tratados regime contendo docetaxel'\n",
      " 'dicloridrato pramipexol medicamento indicado tratamento sinais sintomas doenca parkinson causa conhecida podendo usado isoladamente levodopa associacao levodopa'\n",
      " 'cefadroxila cefadroxila indicada tratamento infeccoes causadas bacterias sensiveis eficacia cefadroxila manifestase melhora estado geral paciente incluindo regressao febre sinais sintomas infeccao'\n",
      " 'cloridrato metilfenidato cloridrato metilfenidato utilizado tratamento transtorno deficit atencaohiperatividade transtorno deficit atencaohiperatividade tdah transtorno hipercinetico disturbio comportamento criancas adolescentes cerca 3 criancas sofrem deste transtorno torna incapazes ficarem paradas eou concentrar tarefas determinado periodo tempo criancas transtorno podem ter dificuldades aprender fazer tarefas escolares podem frequentemente tornar dificil lidar tanto escola quanto casa adultos tdah frequentemente dificuldade concentrar costumam sentir inquietos impacientes desatentos ficam entediados facilidade podem ter dificuldades organizar vida pessoal trabalho paciente crianca voce adolescente medico prescreveu cloridrato metilfenidato parte programa tratamento tdah incluira tambem usualmente terapia psicologica educacional social voce alguma duvida sobre funciona cloridrato metilfenidato porque medicamento receitado voce pergunte medico cloridrato metilfenidato tambem utilizado tratamento narcolepsia narcolepsia disturbio sono pacientes narcolepsia vivenciam repetidos ataques sonolencia durante dia apos noite adequada sono narcolepsia deve diagnosticada medico atraves padrao registrado sonovigilia'\n",
      " 'polidextrose inulina oligofrutose po fibras alimentares auxiliam funcionamento intestino consumo deve associado alimentacao equilibrada habitos vida saudaveis'\n",
      " 'glimepirida betesglimepirida indicado tratamento oral diabetes mellitus nao insulinodependente tipo 2 diabetes adulto niveis glicose nao podem adequadamente controlados meio dieta alimentar exercicios fisicos reducao peso betesglimepirida pode associado outros antidiabeticos orais nao estimulam secrecao insulina betesglimepirida pode associado metformina niveis glicemicos nao podem adequadamente controlados meio dieta alimentar exercicios fisicos uso betesglimepirida metformina monoterapia betesglimepirida tambem pode utilizado associacao insulina vide item 8 posologia modo usar'\n",
      " 'azitromicina azitromicina dihidratada po suspensao oral indicada tratamento infeccoes causadas bacterias sensiveis azitromicina infeccoes trato respiratorio inferior bronquios pulmoes superior nariz faringe laringe traqueia incluindo sinusite infeccao seios face faringite inflamacao faringe amigdalite inflamacao amigdalas infeccoes pele tecidos moles musculos tendoes gordura otite media infeccao ouvido medio aguda doencas sexualmente transmissiveis nao complicadas homem mulher devido clamidia gonorreia tipos bacterias tambem indicado tratamento cancro lesao pele devido haemophilus ducreyi especie bacteria infeccoes ocorrem junto sifilis doenca sexualmente transmissivel devem excluidas'\n",
      " 'cloridrato granisetrona cloridrato granisetrona indicado prevencao tratamento nauseas vomitos induzidos terapia citostatica terapia contra cancer prevencao tratamento nauseas vomitos posoperatorio'\n",
      " 'cloridrato paroxetina pondera cloridrato paroxetina indicado tratamento depressao incluindo formas graves acompanhadas ansiedade pondera cloridrato paroxetina tambem indicado tratamento sintomas transtorno obsessivo compulsivo transtorno ansiedade social fobia social tratamento sintomas doenca panico agorafobia transtorno ansiedade generalizada tag tratamento estresse postraumatico tept transtorno disforico premenstrual tdpm'\n",
      " 'cloridrato benzidamina tratamento aftas dor dente dor inflamacao garganta sintomas resfriado gripe amigdalites faringites laringites dor postraumatica apos procedimentos odontologicos otorrinolaringologicos bucomaxilofaciais uso adulto pediatrico acima 6 anos'\n",
      " 'cabergolina medicamento indicado cabergolina indicada 1 tratamento aumento prolactina hormonio responsavel producao leite bem disfuncoes associadas hiperprolactinemia aumento niveis prolactina amenorreia ausencia menstruacao oligomenorreia reducao fluxo frequencia menstruacao anovulacao ausencia ovulacao galactorreia producao leite periodo gestacao lactacao 2 inibicao lactacao fisiologica interrupcao producao leite maes nao amamentaram imediatamente apos parto 3 supressao lactacao interrupcao producao leite maes ja iniciaram amamentacao ja estabelecida cabergolina indicada pacientes adenomas hipofisarios tumores benignos hipofise secretores prolactina micro macroprolactinomas hiperprolactinemia idiopatica aumento niveis sangue prolactina motivo aparente sindrome sela vazia doenca caracterizada ausencia hipofise glandula produtora prolactina hiperprolactinemia associada'\n",
      " 'aceclofenaco proflam aceclofenaco creme indicado todo tipo processos locais dolorosos inflamatorios inclusive traumatismos patologias inflamatorias agudas cronicas musculatura esqueletica tendinite tenossinovite dor articular luxacao periartrite distensao lumbago outra especificacao torcicolo'\n",
      " 'cloridrato tramadol gesico retard cloridrato tramadol indicado tratamento dor intensidade moderada grave'\n",
      " 'clonazepam medicamento indicado adulto pediatrico disturbio epileptico clonazepam indicado tratar crises epilepticas espasmos infantis sindrome west adulto clonazepam tambem indicado transtornos ansiedade ansiolitico geral disturbio panico medo espacos abertos fobia social medo situacoes falar publico transtornos humor transtorno afetivo bipolar fases depressao mania tratamento mania depressao maior associado antidepressivos depressao ansiosa inicio tratamento sindromes psicoticas acatisia inquietacao extrema geralmente provocada medicamentos psiquiatricos sindrome pernas inquietas desconforto dor pernas leva necessidade movimentalas prejudicando sono vertigem disturbios equilibrio nauseas vomitos desmaios quedas zumbidos disturbios auditivos sindrome boca ardente sensacao queimacao parte interna boca alteracoes fisicas'\n",
      " 'tinidazol nitrato miconazol crevagin tinidazol nitrato miconazol indicado tratamento topico intravaginal vulvovaginites infeccoes vagina vulva regiao externa genitais femininos sensiveis componentes formula'\n",
      " 'citrato malato calcio bisglicinato magnesio malato dicalcio malato dimagnesio acido ascorbico bisglicinato zinco molibdato sodio niacinamida bisglicinato manganes succinato acido dlalfatocoferol bisglicinato cuprico dpantotenato calcio selenito sodio beta caroteno biotina acido folico colecalciferol piridoxina hcl riboflavina tiamina mononitrato picolinato cromo iodeto potassio cianocobalamina aditivos estabilizantes celulose microcristalina croscarmelose sodica hipromelose etilcelulose triacetina estearato magnesio dioxido silicio corantes dioxido titanio oxido ferro vermelho oxido ferro amarelo oxido ferro marrom maq senior formula nutricional ultima geracao alia minerais aminoacidos quelatados bisglicinato zinco alto teor vitaminas recomendado homens mulheres coadjuvante alimentar complementar dietas irregulares deficientes sabido declinio natural funcoes fisiologicas idade leva menor eficiencia absorcao metabolismo nutrientes'\n",
      " 'amoxicilina trihidratada clavulanato potassio medicamento indicado amoxicilina trihidratada clavulanato potassio antibiotico usado adultos indicado tratamento infeccoes diferentes partes corpo sao causadas determinados tipos bacterias'\n",
      " 'promestrieno antrofi promestrieno indicado tratamento atrofia vulvovaginal decorrente deficiencia estrogenica antrofi promestrieno tambem indicado caso retardo cicatrizacao cervicovaginal posparto normal poscirurgia apos terapias locais agentes fisicos'\n",
      " 'hemifumarato quetiapina hemifumarato quetiapina indicado tratamento esquizofrenia monoterapia adjuvante tratamento episodios mania depressao associados transtorno afetivo bipolar alivio sintomas transtorno depressivo maior terapia adjuvante outro antidepressivo outros medicamentos antidepressivos falhado embora nao evidencia eficacia hemifumarato quetiapina comprimido revestido liberacao prolongada isoladamente superior outros antidepressivos usado terapia adjuvante oferece opcao tratamento pacientes nao responderam tratamentos antidepressivos anteriores antes iniciar tratamento medicos devem considerar perfil seguranca hemifumarato quetiapina comprimido revestido liberacao prolongada'\n",
      " 'decitabina medicamento indicado tratamento pacientes adultos sindromes mielodisplasicas smd tratados nao tratados previamente smd novo secundarias todos subtipos classificacao fab francoamericanobritanica grupos intermediario1 intermediario2 alto risco sistema escore prognostico internacional ipss pacientes adultos leucemia mieloide aguda lma novo secundaria recem diagnosticada acordo classificacao organizacao mundial saude oms eficacia decitabina nao completamente demonstrada pacientes idade inferior 65 anos'\n",
      " 'sugamadex sodico rebrive sugamadex sodico usado acelerar recuperacao musculos efeitos relaxantes musculares apos cirurgia relaxante muscular utilizado brometo rocuronio brometo vecuronio'\n",
      " 'enantato noretisterona valerato estradiol enantato noretisterona valerato estradiol indicado prevenir gravidez contraceptivos hormonais injetaveis sao metodo eficaz controle natalidade utilizados corretamente atraso esquecimento injecoes possibilidade ocorrencia gravidez baixa'\n",
      " 'acetilcisteina medicamento expectorante indicado dificuldade expectorar ha muita secrecao densa viscosa tais bronquite aguda bronquite cronica exacerbacoes piora quadro clinico complicacoes enfisema pulmonar doenca cronica caracterizada comprometimento pulmoes pneumonia inflamacao pulmoes bronquios colapsoatelectasias pulmonares fechamento bronquios mucoviscidose doenca hereditaria produz muco espesso tambem conhecida fibrose cistica tambem indicado intoxicacao acidental voluntaria paracetamol'\n",
      " 'atorvastatina calcica vast atorvastatina calcica comprimidos revestidos indicado adjunto dieta tratamento pacientes niveis elevados colesterol total ct lipoproteina baixa densidade ldlc apolipoproteina b apo b triglicerides tg aumentar niveis lipoproteina alta densidade hdlc pacientes hipercolesterolemia primaria hipercolesterolemia heterozigotica familiar nao familiar hiperlipidemia combinada mista fredrickson tipos iia iib niveis elevados triglicerides sericos fredrickson tipo iv pacientes disbetalipoproteinemia fredrickson tipo iii nao respondem forma adequada dieta vast atorvastatina calcica tambem indicado reducao colesterol total lipoproteina baixa densidade pacientes hipercolesterolemia familiar homozigotica resposta dieta outras medidas nao farmacologicas inadequadas pacientes doenca cardiovascular eou dislipidemia vast atorvastatina calcica indicado sindrome coronaria aguda angina instavel infarto miocardio nao transmural onda q prevencao secundaria risco combinado morte infarto miocardio nao fatal parada cardiaca rehospitalizacao pacientes angina peito prevencao complicacoes cardiovasculares pacientes evidencia clinica doenca cardiovascular dcv dislipidemia porem multiplos fatores risco doenca coronariana dac tabagismo hipertensao diabetes baixo nivel hdlc historia familiar doenca coronariana precoce vast atorvastatina calcica indicado reducao risco doenca coronariana fatal infarto miocardio nao fatal acidente vascular cerebral procedimentos revascularizacao angina peito pacientes doenca cardiaca coronariana clinicamente evidente vast atorvastatina calcica indicado reducao risco infarto miocardio nao fatal acidente vascular cerebral fatal nao fatal procedimentos revascularizacao hospitalizacao insuficiencia cardiaca congestiva icc angina pacientes pediatricos 10 17 anos vast atorvastatina calcica tambem indicado adjuvante dieta reducao niveis ct ldlc apo b meninas posmenarca meninos 10 17 anos hipercolesterolemia familiar heterozigotica apos realizacao teste adequado terapia dietetica niveis ldlc continuarem 190 mgdl 160 mgdl historico familiar positivo doenca cardiovascular dcv prematura presenca 2 fatores risco cardiovascular paciente pediatrico'\n",
      " 'nitrato fenticonazol nitrato fenticonazol indicado tratamento infeccoes vaginais corrimentos vaginites causadas fungos'\n",
      " 'fosfato dissodico dexametasona medicamento destinado tratamento condicoes quais efeitos antiinflamatorios contra inflamacao imunossupressores diminuicao atividade defesa organismo corticosteroides classe medicamentosa dexametasona sao desejados especialmente tratamento intensivo durante periodos curtos'\n",
      " 'composicao vitamina d3 vitamina b1 tiamina vitamina b3 niacina vitamina b5 ac pantotenico vitamina b6 piridoxina vitamina h biotina vitamina b9 acido folico vitamina b12 cianocobalamina colina bitartarato zinco bisglicinato cobre bisglicinato selenio metionina recomendacao uso uso adulto ingestao diaria recomendada 1 capsula dia'\n",
      " 'cloreto sodio sulfato magnesio heptaidratado hemolenta solucao eletrolitica base composicao solucao dialisante apos aditivacao obrigatoria solucao hemolenta agente tamponante preferencialmente bicarbonato sodio calcio necessario cloreto magnesio potassio eou glicose solucao utilizada procedimentos hemodialise venovenosa continua cvvhd terapia indicada pacientes lesao renal aguda estao hemodinamicamente instaveis pacientes acidentadostraumatizados nao toleramsuportam hemodialise convencional devido quadro hipotensao arterial acentuada necessidade remocao grandes quantidades liquidos excesso compostos nitrogenados ureia creatinina potassio forma lenta concentracao agente tamponante bicarbonato sodio calcio adicionada solucao hemolenta alem concentracao cloreto magnesio potassio eou glicose serem adicionados necessario ficara criterio medico especialista acordo estado clinico cada paciente considerando concentracao hemolenta antes aditivacao especificacao final solucao dialisante'\n",
      " 'cloreto sodiocloreto potassiocloreto calciolactato sodio indicado reidratacao restabelecimento equilibrio hidroeletrolitico ha perda liquidos ions cloreto sodio potassio calcio prevencao tratamento acidose metabolica'\n",
      " 'cetoprofeno cetoprofeno gotas medicamento antiinflamatorio analgesico antitermico sendo indicado tratamento inflamacoes dores decorrentes processos reumaticos doencas podem afetar musculos articulacoes esqueleto traumatismos lesao interna externa resultante agente externo dores geral'\n",
      " 'drospirenona etinilestradiol medicamento indicado medicamento utilizado prevenir gravidez medicamento proporciona tambem beneficios adicionais melhora sintomas associados retencao liquido distensao abdominal aumento volume abdome inchaco ganho peso melhora acne reducao excesso oleosidade pele cabelos'\n",
      " 'dienogeste medicamento indicado medicamento contem hormonio dienogeste tratamento sintomas dolorosos lesoes endometriose migracao crescimento tecido parede interna utero cavidade uterina ingestao comprimido dia dienogeste leva reducao tecido afetado endometrio diminui sintomas associados exemplo dor pelvica sangramentos menstruais dolorosos'\n",
      " 'olmesartana medoxomila hidroclorotiazida olmesartana medoxomila hidroclorotiazida indicado tratamento pressao arterial alta pressao cujas medidas acima 140 mm hg pressao alta sistolica 90 mm hg pressao baixa diastolica'\n",
      " 'cloridrato hidroxocobalamina medicamento indicado tratamento deficiencia vitamina b12 quadros clinicos quais reposicao vitamina b12 adequado medicamento indicado tratamento disturbios metabolicos pacientes acidemia metilmalonica homocistinuria'\n",
      " 'meloxicam melocox meloxicam antiinflamatorio nao esteroidal aine indicado tratamento sintomatico artrite reumatoide osteoartrites dolorosas artroses doencas degenerativas articulacoes'\n",
      " 'desogestrel etinilestradiol medicamento indicado desogestrel etinilestradiol anticoncepcional usado impedir voce fique gravida usado corretamente esquecimento possibilidade engravidar baixa gravidez medicamento contraindicado uso durante gravidez suspeita gravidez medicamento causa malformacao bebe durante gravidez desogestrel etinilestradiol nao deve utilizado mulheres gravidas pensam possam gravidas informe medico imediatamente voce suspeitar gravidez durante uso desogestrel etinilestradiol'\n",
      " 'montelucaste sodio montelucaste sodio indicado tratamento asma incluindo prevencao sintomas asma durante dia noite montelucaste sodio tambem previne estreitamento vias aereas causado exercicio rinite alergica incluindo sintomas diurnos noturnos congestao nasal coriza coceira nasal espirros congestao nasal despertar dificuldade dormir despertares noturnos lacrimejamento coceira vermelhidao inchaco olhos'\n",
      " 'domperidona medicamento destinado tratamento sindromes dispepticas frequentemente associadas retardo esvaziamento gastrico refluxo gastroesofagico esofagite sensacao empachamento epigastrico saciedade precoce distensao abdominal dor abdominal alta eructacao flatulencia nauseas vomitos azia queimacao epigastrica regurgitacao conteudo gastrico nauseas vomitos origem funcional organica infecciosa alimentar induzidas radioterapia tratamento medicamentoso antiinflamatorios antineoplasicos indicacao especifica sao nauseas vomitos induzidos agonistas dopaminergicos usados tratamento doenca parkinson ldopa bromocriptina'\n",
      " 'anastrozol tratamento cancer mama inicial mulheres posmenopausa beneficios tratamento anastrozol observados pacientes tumores receptor hormonal positivos reducao incidencia cancer mama contralateral pacientes recebendo anastrozol tratamento adjuvante cancer mama inicial tratamento cancer mama avancado mulheres posmenopausa'\n",
      " 'cloridrato donepezila don cloridrato donepezila indicado tratamento sintomatico demencia alzheimer intensidade leve moderadamente grave grave diagnostico demencia alzheimer deve realizado acordo criterios cientificos aceitos dsm iv icd10'\n",
      " 'lenalidomida 11 mieloma multiplo lenalidomida terapia combinada vide item 8 posologia modo usar detalhes sobre combinacoes doses indicado tratamento pacientes mieloma multiplo nao receberam tratamento previo nao sao elegiveis transplante lenalidomida combinacao bortezomibe dexametasona indicado tratamento pacientes mieloma multiplo nao receberam tratamento previo bulaprofissionalnuvyorlenalidomidacapdura versao 00 lenalidomida monoterapia indicado tratamento manutencao pacientes mieloma multiplo recemdiagnosticado submetidos transplante autologo celulastronco lenalidomida combinacao dexametasona indicado tratamento pacientes mieloma multiplo refratariorecidivado receberam menos esquema previo tratamento 12 linfoma folicular linfoma zona marginal lenalidomida combinacao rituximabe anticorpo anticd20 indicado tratamento pacientes linfoma folicular linfoma zona marginal previamente tratados 13 linfoma celulas manto lenalidomida indicado tratamento pacientes linfoma celulas manto refratariorecidivado'\n",
      " 'ciprofloxacino adultos tratamento infeccoes complicadas nao complicadas causadas microrganismos sensiveis ciprofloxacino trato respiratorio muitos microrganismos p ex klebsiella enterobacterproteus colipseudomonas haemophilus moraxella legionella staphylococcus reagem muita sensibilidade ciprofloxacino maioria casos pneumonia nao necessitam tratamento hospitalar causada streptococcus pneumoniae nesses casos ciprofloxacino nao medicamento primeira escolha ouvido medio otite media seios paranasais sinusite especialmente causadas pseudomonas staphylococcus olhos rins eou trato urinario eferente orgaos reprodutores inclusive inflamacao ovarios tubas uterinas anexite gonorreia infeccoes prostata prostatite cavidade abdominal p ex trato gastrintestinal trato biliar peritonio pele tecidos moles ossos articulacoes infeccao generalizada septicemia infeccoes risco infeccao profilaxia pacientes sistema imunologico comprometido exemplo pacientes tratamento medicamentos inibem defesas imunologicas naturais organismo pacientes numero reduzido globulos brancos sangue descontaminacao intestinal seletiva pacientes sob tratamento imunossupressores ciprofloxacino nao eficaz contra treponema pallidum causador sifilis criancas adolescentes 5 17 anospara infeccao aguda fibrose cistica disturbio metabolico hereditario aumenta producao viscosidade secrecoes bronquios trato digestivo causada p aeruginosa nao possibilidade outros tratamentos injetaveis eficazes nao recomenda ciprofloxacino outras indicacoes antraz inalacao apos exposicao adultos criancas terapia imediata tratamento antraz apos inalacao bacilos antraz bacillus anthracis'\n",
      " 'cloridrato moxifloxacino cloridrato moxifloxacino solucao infusao indicado tratamento seguintes infeccoes causadas bacterias sensiveis pneumonia adquirida comunidade pac incluindo pac causada bacterias resistentes alguns antibioticos infeccoes complicadas pele anexos inclusive infeccoes pe diabetico infeccoes intraabdominais complicadas incluindo infeccoes causadas varias bacterias abscessos streptococcus pneumoniae multirresistente incluindo isolados conhecidos s pneumoniae resistente penicilina cepas resistentes dois seguintes antibioticos penicilina cim 2 gml cefalosporinas 2 geracao exemplo cefuroxima macrolideos tetraciclinas trimetoprimasulfametoxazol devemse considerar recomendacoes relacionadas uso apropriado agentes antibioticos'\n",
      " 'meloxicam melocox meloxicam antiinflamatorio nao esteroidal aine indicado tratamento sintomatico artrite reumatoide osteoartrites dolorosas artroses doencas degenerativas articulacoes'\n",
      " 'oxalato escitalopram esc oxalato escitalopram indicado tratamento prevencao recaida recorrencia depressao tratamento transtorno panico agorafobia tratamento transtorno ansiedade generalizada tag tratamento transtorno ansiedade social fobia social tratamento transtorno obsessivo compulsivo toc'\n",
      " 'olmesartana medoxomila hidroclorotiazida holmes h olmesartana medoxomila hidroclorotiazida indicado tratamento hipertensao arterial essencial primaria associacao dose fixa nao indicada tratamento inicial'\n",
      " 'maleato trimebutina medicamento indicado medicamento destinado tratamento alteracoes funcionamento coordenacao contracao aparelho digestivo alteracoes podem relacionadas movimento contrario acido estomago esofago refluxo gastresofagico causa azia dificuldade esvaziamento estomago empachamento aumento motilidade intestinal diarreia diminuicao motilidade intestinal prisao ventre dor causada contracoes nao coordenadas intestino colicas intestinais tais situacoes sao comuns varias doencas dispepsia conjunto sintomas relacionados trato gastrintestinal superior dor queimacao desconforto regiao superior abdomen podem associados saciedade precoce empachamento posprandial nauseas vomitos sensacao distensao abdominal cujo aparecimento piora sintomas pode nao relacionado alimentacao estresse sindrome intestino irritavel provoca dor abdominal constipacao diarreia caibras constipacao prisao ventre outras medico pode esclarecer melhor diagnostico'\n",
      " 'indapamida medicamento indicado indapamida indicado tratamento hipertensao arterial essencial'\n",
      " 'acetato clormadinona etinilestradiol amora acetato clormadinona etinilestradiol indicado contraceptivo anticoncepcional hormonal oral combinado tratamento acne papulopustular moderada estritamente limitado mulheres desejam contracepcao quais uso seguro medicamento contracepcao cuidadosamente avaliado'\n",
      " 'olmesartana medoxomila holmes olmesartana medoxomila indicado tratamento hipertensao essencial primaria pode usado monoterapia combinacao outros agentes antihipertensivos'\n",
      " 'cloridrato bupropiona cloridrato bupropiona medicamento usado tratar transtorno depressivo maior tdm bupropiona tambem usada ajudar parar fumar entretanto informacoes desta bula sao especificas pacientes tratamento transtorno depressivo maior doses demais instrucoes sao diferentes pacientes tratamento deixar fumar'\n",
      " 'paclitaxel carcinoma ovario terapia primeira linha combinacao composto platina tratamento carcinoma avancado ovario terapia segunda linha tratamento carcinoma avancado ovario cancer mama tratamento adjuvante cancer mama linfonodo positivo administrado sequencia terapia padrao combinada tratamento primeira linha apos recidiva doenca dentro 6 meses terapia adjuvante terapia anterior deve incluir antraciclina menos clinicamente contraindicada terapia primeira linha cancer avancado metastatico mama combinacao trastuzumabe pacientes superexpressao her2 niveis 2 3 determinado imunohistoquimica terapia segunda linha apos falha quimioterapia combinada doenca metastatica terapia anterior deve incluir antraciclina menos clinicamente contraindicada cancer naopequenas celulas pulmao tratamento primeira linha combinacao composto platina agente unico tratamento cancer naopequenas celulas pulmao pacientes nao sao candidatos cirurgia eou radioterapia potencial cura sarcoma kaposi tratamento segunda linha sarcoma kaposi relacionado aids4 1 cid c56 neoplasia maligna ovario 2 cid c50 neoplasia maligna mama 3 cid c34 neoplasia maligna bronquios pulmoes 4 cid b210 doenca hiv resultando sarcoma kaposi'\n",
      " 'bilastina medicamento indicado medicamento destinase tratamento sintomas rinoconjuntivite alergica tais espirros nariz entupido congestao nasal coceira secrecao nasal olhos vermelhos lacrimejantes tratamento sintomas urticaria cronica tais erupcoes pele placas avermelhadas eritemas papulas acompanhadas coceira'\n",
      " 'bissulfato clopidogrel bissulfato clopidogrel indicado prevencao secundaria apos ocorrencia eventos aterotromboticos exemplo infarto agudo miocardio im infarto coracao acidente vascular cerebral avc derrame morte vascular pacientes adultos apresentaram im avc recente condicao conhecida doenca arterial periferica doenca vasos sanguineos membros sindrome coronaria aguda pacientes sindrome coronaria aguda sca angina instavel tipo severo dor peito im incluindo tanto controlados clinicamente quanto submetidos intervencao coronaria percutanea colocacao stent protese arterias coracao'\n",
      " 'iban ibandronato sodio monidratado iban ibandronato sodio indicado tratamento osteoporose posmenopausa finalidade reduzir risco fraturas vertebrais subgrupo pacientes risco escore t 30 dp colo femur iban ibandronato sodio tambem demonstrou reduzir risco fraturas nao vertebrais tratamento osteoporose osteoporose pode confirmada achado baixo indice massa ossea escore t 20 dp presenca historico fratura osteoporotica baixo indice massa ossea escore t 25 dp ausencia fratura osteoporotica preexistente documentada'\n",
      " 'glicose cloreto sodio medicamento destinado fonte energia agua eletrolitos'\n",
      " 'cloridrato sertralina medicamento cloridrato sertralina indicado tratamento depressao acompanhada sintomas ansiedade transtorno obsessivo compulsivo adultos criancas acima 6 anos idade transtorno panico transtorno estresse postraumatico fobia social transtorno ansiedade social sindrome tensao premenstrual eou transtorno disforico premenstrual'\n",
      " 'domperidona medicamento destinado tratamento sindromes dispepticas frequentemente associadas retardo esvaziamento gastrico refluxo gastroesofagico esofagite sensacao empachamento epigastrico saciedade precoce distensao abdominal dor abdominal alta eructacao flatulencia nauseas vomitos azia queimacao epigastrica regurgitacao conteudo gastrico nauseas vomitos origem funcional organica infecciosa alimentar induzidas radioterapia tratamento medicamentoso antiinflamatorios antineoplasicos indicacao especifica sao nauseas vomitos induzidos agonistas dopaminergicos usados tratamento doenca parkinson ldopa bromocriptina'\n",
      " 'dipropionato betametasona sulfato gentamicina trokg dipropionato betametasona sulfato gentamicina indicado alivio manifestacoes inflamatorias dermatoses sensiveis corticosteroides complicadas infeccao secundaria causada bacterias sensiveis gentamicina suspeita tais infeccoes dermatoses incluem psoriase dermatite alergica contato eczema dermatite atopica neurodermatite circunscrita liquen simples cronico liquen plano intertrigo eritematoso disidrose pompholyx dermatite seborreica dermatite esfoliativa dermatite solar dermatite estase pruridos anogenital'\n",
      " 'daptomicina trisk daptomicina utilizado adultos 18 anos criancas 1 17 anos tratamento infeccoes pele partes moles complicadas tambem utilizado adultos 18 anos idade criancas 1 17 anos tratamento infeccoes sanguineas adultos infeccoes tecido reveste parte interna coracao incluindo valvulas cardiacas causadas bacteria staphylococcus aureus medicamento nao utilizado tratamento pneumonia infeccao inflamacao tecido pulmonar'\n",
      " 'acido zoledronico medicamento indicado tratamento osteoporose mulheres posmenopausa reduzir incidencia fraturas quadril vertebrais nao vertebrais aumentar densidade mineral ossea prevencao osteoporose mulheres osteopenia posmenopausa prevencao fraturas clinicas apos fratura quadril homens mulheres posmenopausa tratamento aumentar densidade ossea homens osteoporose tratamento prevencao osteoporose induzida glicocorticoides tratamento doenca paget osso'\n",
      " 'sulfametoxazol trimetoprima subtrax sulfametoxazol trimetoprima somente deve usado beneficio tratamento superar qualquer risco possivel consideracoes devem feitas quanto agente bacteriano efetivo suscetibilidade bacteria in vitro varia geograficamente tempo situacao local deve considerada seleciona antibioticoterapia medicamento indicado tratamento infeccoes causadas microrganismos sensiveis associacao trimetoprima sulfametoxazol tais infeccoes trato respiratorio otites exacerbacoes agudas quadros cronicos bronquite sinusite tratamento profilaxia primaria secundaria pneumonia pnemocystis jirovecii adultos criancas otite media criancas ha boas razoes preferir combinacao antibiotico simples infeccoes trato urinario renais cistites agudas cronicas pielonefrites uretrites prostatites cancroides infeccoes genitais homens mulheres inclusive uretrite gonococica infeccoes gastrintestinais incluindo febre tifoide paratifoide tratamento portadores colera medida conjunta reposicao liquidos eletrolitos diarreia viajantes causada escherichia coli enterotoxicogenica shiguelose cepas sensiveis shigella flexneri shigella sonnei tratamento antibacteriano indicado infeccoes pele tecidos moles piodermite furunculos abscessos feridas infectadas outras infeccoes causadas grande variedade microrganismos tratamento possivelmente combinacao outros antibioticos osteomielite aguda cronica brucelose aguda nocardiose blastomicose sulamericana actinomicetoma'\n",
      " 'pantoprazol sodico sesquihidratado pantocal pantoprazol sodico sesquihidratado 20 mg indicado tratamento lesoes gastrintestinais leves alivio sintomas gastrintestinais decorrentes secrecao acida gastrica gastrites gastroduodenites agudas cronicas dispepsias naoulcerosas tratamento doenca refluxo gastroesofagico esofagite esofagites leves manutencao pacientes esofagite refluxo cicatrizada prevencao recidivas adultos pacientes pediatricos acima 5 anos profilaxia lesoes agudas mucosa gastroduodenal induzidas medicamentos antiinflamatorios nao hormonais pantocal pantoprazol sodico sesquihidratado 40 mg indicado tratamento ulcera peptica duodenal ulcera peptica gastrica tratamento esofagite refluxo moderada grave adultos pacientes pediatricos acima 5 anos esofagites leves recomendase pantocal pantoprazol sodico sesquihidratado 20 mg comprimidos revestidos liberacao retardada erradicacao helicobacter pylori finalidade evitar recorrencia ulcera gastrica duodenal causada microorganismo neste caso deve associado dois antibioticos adequados tratamento sindrome zollingerellison outras doencas produzem acido excesso estomago'\n",
      " 'cloridrato sibutramina monoidratado sibus cloridrato sibutramina monoidratado indicado terapia adjuvante parte programa gerenciamento peso pacientes obesos indice massa corporea imc maior igual 30 kgm2'\n",
      " 'amoxicilina trihidratada sinot amoxicilina trihidratada antibiotico amplo espectro indicado tratamento infeccoes bacterianas causadas germes sensiveis acao amoxicilina'\n",
      " 'levofloxacino hemihidratado medicamento indicado levofloxacino hemihidratado indicado tratamento infeccoes bacterianas causadas agentes sensiveis levofloxacino hemihidratado tais infeccoes trato respiratorio superior inferior incluindo sinusite exacerbacoes agudas bronquite cronica pneumonia infeccoes pele tecido subcutaneo complicadas nao complicadas tais impetigo abscessos furunculose celulite erisipela infeccoes trato urinario incluindo pielonefrite aguda osteomielite'\n",
      " 'pantoprazol sodico sesquihidratado medicamento indicado tratamento ulcera peptica gastrica duodenal ulcera causada acido estomago contato revestimento estomago inicio intestino esofagites refluxo moderadas graves doenca causada volta conteudo estomago esofago tratamento sindrome zollingerellison outras doencas causadoras producao exagerada acido estomago via oral nao recomendada criterio medico pantocal intravenoso iv pantoprazol sodico sesquihidratado tambem indicado tratamento hemorragia digestiva alta complemento terapia endoscopica prevencao ressangramento profilaxia sangramento agudo ulcera estresse'\n",
      " 'pemetrexede dissodico medicamento combinacao cisplatina indicado tratamento pacientes mesotelioma pleural maligno irressecavel nao passivel cirurgia curativa eroxym pemetrexede dissodico combinacao cisplatina quimioterapia inicial indicado tratamento pacientes cancer pulmao celulas nao pequenas histologia celulas nao escamosas localmente avancado metastatico eroxym pemetrexede dissodico agente isolado indicado tratamento manutencao pacientes cancer pulmao celulas nao pequenas histologia celulas nao escamosas localmente avancado metastatico cuja doenca nao progrediu apos 4 ciclos quimioterapia base platina eroxym pemetrexede dissodico agente isolado apos quimioterapia previa indicado tratamento pacientes cancer pulmao celulas nao pequenas histologia celulas nao escamosas localmente avancado metastatico eroxym pemetrexede dissodico combinacao pembrolizumabe quimioterapia base platina indicado tratamento primeira linha pacientes cancer pulmao celulas nao pequenas nao escamoso metastatico nao possuam mutacao egfr sensibilizante translocacao alk'\n",
      " 'gestodenoetinilestradiol tamisa 15 gestodeno etinilestradiol indicado contraceptivo oral embora tendo eficacia bem estabelecida ha casos gravidez mulheres utilizando contraceptivos orais'\n",
      " 'hemitartarato zolpidem turno hemitartarato zolpidem destinado tratamento curta duracao insonia dificuldade dormir pode ocasional eventual transitoria passageira cronica dura ha tempo'\n",
      " 'bissulfato clopidogrel plaq bissulfato clopidogrel indicado prevencao secundaria eventos aterotromboticos infarto agudo miocardio iam acidente vascular cerebral avc morte vascular pacientes adultos apresentaram iam avc recente doenca arterial periferica estabelecida sindrome coronaria aguda sca pacientes sca elevacao segmento st angina instavel iam onda q incluindo tanto controlados clinicamente quanto submetidos intervencao coronaria percutanea icp colocacao stent plaq bissulfato clopidogrel demonstrou reducao taxa ocorrencia desfecho combinado morte cardiovascular im avc assim taxa ocorrencia desfecho combinado morte cardiovascular im avc isquemia refrataria pacientes im elevacao segmento st clopidogrel mostrou reduzir relacao morte qualquer causa relacao desfecho combinado morte reinfarto avc plaq bissulfato clopidogrel 75 mg indicado adultos prevencao eventos aterotromboticos tromboembolicos fibrilacao atrial pacientes fibrilacao atrial fa possuem menos fator risco eventos vasculares nao podem fazer uso terapia antagonistas vitamina k avk ex risco especifico hemorragia avaliacao medica paciente incapaz cumprir monitoramento rni razao normalizada internacional uso avk inapropriado plaq bissulfato clopidogrel indicado combinacao acido acetilsalicilico aas prevencao eventos aterotromboticos tromboembolicos incluindo acidente vascular cerebral avc plaq bissulfato clopidogrel combinacao aas demonstrou reduzir taxa desfecho combinado avc infarto miocardio im embolismo sistemico sistema nervoso central morte vascular basicamente devido reducao avc vide item 2 resultados eficacia pacientes fibrilacao atrial risco aumentado eventos vasculares podem fazer uso terapia avk demonstraram ter beneficio clinico melhor aas isoladamente combinacao clopidogrel reducao avc'\n",
      " 'drospirenona etinilestradiol drospirenona etinilestradiol utilizada prevenir gravidez medicamento pode proporcionar tambem beneficios adicionais melhora sintomas associados retencao liquido distensao abdominal aumento volume abdome inchaco ganho peso alem disso utilizado tratamento acne vulgaris moderada espinha mulheres buscam adicionalmente protecao contraceptiva'\n",
      " 'acebrofilina medicamento indicado acebrofilina indicada tratamento obstrucao bronquios controle regulacao muco catarro vias respiratorias expectoracao muco vias respiratorias eliminacao catarro'\n",
      " 'tartarato evogliptina suganon indicado adjuvante dieta exercicio melhorar controle glicemico pacientes diabetes mellitus tipo 2'\n",
      " 'citrato malato calcio vitamina d3 perosteo suplemento vitaminico mineral desenvolvido atuar manutencao saude fonte calcio calcio citrato malato conjunto vitamina d atuam sinergia maximo aproveitamento organismo'\n",
      " 'cloridrato propafenona cloridrato propafenona indicado tratamento alteracoes ritmo cardiaco'\n",
      " 'risedronato sodico dorto risedronato sodico destinado tratamento osteoporose mulheres periodo posmenopausa aumento risco fraturas'\n",
      " 'mesilato doxazosina hiperplasia prostatica benigna hpb aumento benigno prostata mesilato doxazosina indicado tratamento sintomas hiperplasia prostatica benigna hpb doenca caracterizada aumento benigno prostata assim tratamento reducao fluxo urinario associada hpb mesilato doxazosina pode administrado pacientes hpb hipertensos sofram pressao alta normotensos pressao normal nao sao observadas alteracoes clinicamente significativas pressao sanguinea pacientes normotensos hpb pacientes hpb hipertensao apresentam ambas condicoes tratadas efetivamente mesilato doxazosina monoterapia unico remedio tratando duas doencas hipertensao pressao altamesilato doxazosina indicado tratamento hipertensao pode utilizado agente inicial controle pressao sanguinea maioria pacientes pacientes controle adequado unico agente antihipertensivo mesilato doxazosina pode administrado associacao outros medicamentos pressao alta tais diureticos tiazidicos betabloqueadores antagonistas calcio agentes inibidores enzima conversora angiotensina medico prescrevera melhor opcao tratamento caso'\n",
      " 'oleo peixe veiculo mix vitaminas minerais acetato retinila cloridrato cloreto tiamina riboflavina nicotinamida dpantotenato calcio cloridrato piridoxina dbiotina acido folico cianocobalamina acido lascorbico colecalciferol dl alfa tocoferol bisglicinato ferroso oxido zinco sulfato manganes sulfato cobre iodeto potassio molibdato sodio picolinato cromo selenometionina maltodextrina veiculo agua veiculo gelficante gelatina estabilizantes sorbitol glicerina emulsificante lecitina soja glaceante cera abelha corantes clorofila cuprica carmim oxido ferro preto dioxido titanio feminis cuidadosamente reformulado combinacao exclusiva vitamina minerais quelatados omega3 dha epa atenda adultos gestantes lactantes nova formulacao apresenta alto teor acido folico lmetilfolato dois minerais quelatados alem ferro selenio cobre zinco dha omega3 dose 200 mg 20 nutrientes essenciais atuam sinergismo maximo aproveitamento organismo'\n",
      " 'cloridrato tramadol medicamento indicado cloridrato tramadol indicado alivio dor intensidade moderada grave'\n",
      " 'cetoconazol dipropionato betametasona trok cetoconazol dipropionato betametasona indicado tratamento dermatoses fase umida dermatite contato dermatite atopica dermatite seborreica intertrigo disidrose neurodermatite eczemas dermatoses inflamatorias secundariamente afetadas potencialmente afetadas fungos leveduras'\n",
      " 'meloxicam meloxicam indicado tratamento sintomas artrite reumatoide osteoartrite doencas articulacoes aliviando dor inflamacao'\n",
      " 'olanzapina medicamento indicado olanzapina indicada tratamento agudo manutencao esquizofrenia outros transtornos mentais psicoses adultos quais sintomas positivos exemplo delirios alucinacoes alteracoes pensamento hostilidade desconfianca eou sintomas negativos exemplo afeto diminuido isolamento emocionalsocial pobreza linguagem sao proeminentes olanzapina alivia tambem sintomas afetivos secundarios esquizofrenia transtornos relacionados olanzapina eficaz manutencao melhora clinica durante tratamento continuo pacientes adultos responderam tratamento inicial olanzapina indicada monoterapia combinacao litio valproato tratamento episodios mania aguda mistos transtorno bipolar pacientes adultos sintomas psicoticos ciclagem rapida olanzapina indicada prolongar tempo episodios reduzir taxas recorrencia episodios mania mistos depressivos transtorno bipolar'\n",
      " 'levofloxacino hemihidratado tamiram levofloxacino hemihidratado indicado tratamento infeccoes bacterianas causadas agentes sensiveis levofloxacino hemihidratado tais infeccoes trato respiratorio superior inferior incluindo sinusite exacerbacoes agudas bronquite cronica pneumonia infeccoes pele tecido subcutaneo complicadas nao complicadas tais impetigo abscessos furunculose celulite erisipela infeccoes trato urinario incluindo pielonefrite aguda osteomielite fluoroquinolonas incluindo tamiram levofloxacino hemihidratado sido associadas reacoes adversas graves fato alguns pacientes infeccoes trato urinario nao complicadas exacerbacoes bacterianas agudas bronquite cronica sinusite aguda bacteriana podem autolimitadas tamiram levofloxacino hemihidratado so deve indicado tratamento destas infeccoes pacientes quais nao existam opcoes tratamento alternativas'\n",
      " 'desogestrel etinilestradiol anticoncepcao'\n",
      " 'risperidona riss risperidona indicado tratamento ampla gama pacientes esquizofrenicos incluindo primeira manifestacao psicose exacerbacoes esquizofrenicas agudas psicoses esquizofrenicas agudas cronicas outros transtornos psicoticos quais sintomas positivos tais alucinacoes delirios disturbios pensamento hostilidade desconfianca eou negativos tais embotamento afetivo isolamento emocional social pobreza discurso sao proeminentes alivio outros sintomas afetivos associados esquizofrenia tais depressao sentimento culpa ansiedade tratamento longa duracao prevencao recaida exacerbacoes agudas pacientes esquizofrenicos cronicos risperidona indicada tratamento curto prazo mania aguda episodios mistos associados transtorno bipolar i riss risperidona indicado ate 12 semanas tratamento transtornos agitacao agressividade sintomas psicoticos pacientes demencia tipo alzheimer moderada grave riss risperidona tambem pode usado tratamento irritabilidade associada transtorno autista criancas adolescentes incluindo desde sintomas agressividade ate outros autoagressao deliberada crises raiva angustia mudanca rapida humor'\n",
      " 'cetoconazol dipropionato betametasona medicamento indicado medicamento destinado tratamento micoses doencas inflamatorias pele afetadas possam afetadas fungos leveduras'\n",
      " 'nan altad gotas suplemento vitamina d gotas contribui funcionamento normal sistema imune vitamina d tambem auxilia funcionamento muscular formacao manutencao ossos dentes pois auxilia absorcao calcio fosforo'\n",
      " 'cloridrato remifentanila medicamento indicado produzir manter anestesia durante cirurgias inclusive coracao alivio dor imediatamente apos operacao medicamento tambem indicado promover alivio dor sedacao pacientes mecanicamente ventilados respiram ajuda aparelhos unidade terapia intensiva uti'\n",
      " 'nitrato fenticonazol ginna nitrato fenticonazol indicado tratamento candidiase mucosa vaginal vulvovaginite vaginite leucorreia'\n",
      " 'triancinolona acetonida triancinolona acetonida corticosteroide sintetico possui acao antiinflamatoria atuando alivio temporario sintomas associados lesoes inflamatorias orais lesoes ulcerativas resultantes trauma'\n",
      " 'nan maq formula nutricional ultima geracao alia minerais aminoacidos quelatados ferrochel alto teor vitaminas recomendado homens mulheres diferentes faixas etarias coadjuvante alimentar complementar dietas irregulares deficientes'\n",
      " 'valsartana tratamento hipertensao arterial tratamento insuficiencia cardiaca classes ii iv nyha pacientes recebendo tratamento padrao tais diureticos digitalicos tambem inibidores enzima conversao angiotensina eca betabloqueadores nao ambos presenca todas terapeuticas padronizadas nao obrigatoria vartaz valsartana melhora morbidade nesses pacientes principalmente atraves reducao hospitalizacao insuficiencia cardiaca vartaz valsartana retarda tambem progressao insuficiencia cardiaca melhora classe funcional nyha fracao ejecao sinais sintomas insuficiencia cardiaca melhora qualidade vida versus placebo vide item 3 caracteristicas farmacologicas vartaz valsartana indicado melhorar sobrevida apos infarto miocardio pacientes clinicamente estaveis sinais sintomas evidencia radiologica insuficiencia ventricular esquerda eou disfuncao sistolica ventricular esquerda vide item 3 caracteristicas farmacologicas'\n",
      " 'dicloridrato levocetirizina zina dicloridrato levocetirizina indicado tratamento sintomas associados enfermidades alergicas rinite alergica sazonal incluindo sintomas oculares rinite alergica perene urticaria cronica idiopatica'\n",
      " 'hemifumarato quetiapina adultos quet hemifumarato quetiapina indicado tratamento esquizofrenia monoterapia adjuvante tratamento episodios mania associados transtorno afetivo bipolar episodios depressao associados transtorno afetivo bipolar tratamento manutencao transtorno afetivo bipolar i episodios maniaco misto depressivo combinacao estabilizadores humor litio valproato monoterapia tratamento manutencao transtorno afetivo bipolar episodios mania mistos depressivos adolescentes 13 17 anos quet hemifumarato quetiapina indicado tratamento esquizofrenia criancas adolescentes 10 17 anos quet hemifumarato quetiapina indicado monoterapia adjuvante tratamento episodios mania associados transtorno afetivo bipolar'\n",
      " 'tadalafila medicamento indicado tadalafila indicado tratamento disfuncao eretil tadalafila indicado tratamento sinais sintomas hiperplasia prostatica benigna hpb homens adultos incluindo disfuncao eretil'\n",
      " 'valsartana medicamento utilizado tratamentos pressao alta insuficiencia cardiaca posinfarto miocardio pacientes recebendo terapeutica usual medicamento usado tratar pressao arterial elevada pressao arterial elevada aumenta carga trabalho coracao arterias continuar tempo pode danificar vasos sanguineos cerebro coracao rins pode resultar acidente vascular cerebral insuficiencia cardiaca insuficiencia renal pressao arterial elevada aumenta risco ataques cardiacos reducao pressao arterial valores normais diminui risco desenvolvimento destas doencas valsartana tambem usada tratar insuficiencia cardiaca insuficiencia cardiaca associada falta ar inchaco pes pernas devido acumulo fluidos insuficiencia cardiaca ocorre musculo coracao nao consegue bombear sangue forca suficiente abastecer corpo valsartana pode tambem usada tratar pessoas sofreram ataque cardiaco infarto miocardio melhorar sobrevida reduzir problemas cardiacos'\n",
      " 'levetiracetam medicamento indicado monoterapia nao combinado outros medicamentos antiepilepticos tratamento crises focaisparciais generalizacao secundaria pacientes 16 anos diagnostico recente epilepsia levetiracetam indicado terapia adjuvante utilizado outros medicamentos antiepilepticos tratamento crises focaisparciais generalizacao adultos adolescentes criancas idade superior 6 anos epilepsia crises mioclonicas adultos adolescentes criancas idade superior 12 anos epilepsia mioclonica juvenil crises tonicoclonicas primarias generalizadas adultos adolescentes criancas 6 anos idade epilepsia idiopatica generalizada bebes criancas menos 20 kg tratamento deve preferencialmente iniciado leveticaretam solucao oral'\n",
      " 'citalopram medicamento usado tratar depressao apos melhora prevenir recorrencia desses sintomas bromidrato citalopram usado tratamentos longo prazo prevenir recorrencia novos episodios depressivos pacientes depressao recorrente medicamento eficaz tambem tratamento pacientes transtorno panico tratamento transtorno obsessivo compulsivo toc entretanto medico pode prescrever bromidrato citalopram outros propositos pergunte medico voce duvidas sobre porque bromidrato citalopram prescrito medicamento nao deve utilizado mulheres gravidas orientacao medica cirurgiaodentista'\n",
      " 'hemifumarato quetiapina quet xr hemifumarato quetiapina indicado tratamento esquizofrenia monoterapia adjuvante tratamento episodios mania depressao associados transtorno afetivo bipolar alivio sintomas transtorno depressivo maior terapia adjuvante outro antidepressivo outros medicamentos antidepressivos falhado embora nao evidencia eficacia hemifumarato quetiapina comprimido revestido liberacao prolongada isoladamente superior outros antidepressivos usado terapia adjuvante oferece opcao tratamento pacientes nao responderam tratamentos antidepressivos anteriores antes iniciar tratamento medicos devem considerar perfil seguranca hemifumarato quetiapina comprimido revestido liberacao prolongada'\n",
      " 'espironolactona espironolactona indicado tratamento hipertensao essencial aumento pressao arterial causa determinada disturbios edematosos relacionados inchaco tais edema ascite acumulo liquido dentro abdome relacionados insuficiencia cardiaca congestiva coracao tornase incapaz bombear sangue quantidade suficiente suprir necessidades corpo cirrose hepatica perda importante celulas figado comprometimento funcoes sindrome nefrotica doenca renal leva perda proteina urina edema idiopatico inchaco causa aparente terapia auxiliar hipertensao maligna tipo grave pressao arterial elevada espironolactona indicado prevencao hipopotassemia diminuicao niveis sanguineos potassio hipomagnesemia diminuicao niveis sanguineos magnesio pacientes tomando diureticos espironolactona indicado diagnostico tratamento hiperaldosteronismo primario aumento niveis sanguineos aldosterona hormonio renal causa aparente tratamento preoperatorio pacientes hiperaldosteronismo primario']\n"
     ]
    }
   ]
  },
  {
   "cell_type": "markdown",
   "metadata": {
    "id": "SBcNmZJzSTY8"
   },
   "source": [
    "# **Topic Modeling**\n",
    "\n",
    "In this example, we will go through the main components of BERTopic and the steps necessary to create a strong topic model. \n",
    "\n",
    "\n"
   ]
  },
  {
   "cell_type": "markdown",
   "metadata": {
    "id": "QI6vwelqnTL-"
   },
   "source": [
    "## Training\n",
    "\n",
    "We start by instantiating BERTopic. We set language to `english` since our documents are in the English language. If you would like to use a multi-lingual model, please use `language=\"multilingual\"` instead. \n",
    "\n",
    "We will also calculate the topic probabilities. However, this can slow down BERTopic significantly at large amounts of data (>100_000 documents). It is advised to turn this off if you want to speed up the model. \n"
   ]
  },
  {
   "cell_type": "code",
   "execution_count": null,
   "outputs": [],
   "source": [
    "from bertopic import BERTopic\n",
    "\n",
    "topic_model = BERTopic(language=\"multilingual\", calculate_probabilities=True, verbose=True)"
   ],
   "metadata": {
    "collapsed": false
   }
  },
  {
   "cell_type": "code",
   "execution_count": 50,
   "outputs": [
    {
     "data": {
      "text/plain": "Downloading (…)252d8/.gitattributes:   0%|          | 0.00/795 [00:00<?, ?B/s]",
      "application/vnd.jupyter.widget-view+json": {
       "version_major": 2,
       "version_minor": 0,
       "model_id": "fd87e9349b384c02a8f6668cfe6da17b"
      }
     },
     "metadata": {},
     "output_type": "display_data"
    },
    {
     "data": {
      "text/plain": "Downloading (…)_Pooling/config.json:   0%|          | 0.00/190 [00:00<?, ?B/s]",
      "application/vnd.jupyter.widget-view+json": {
       "version_major": 2,
       "version_minor": 0,
       "model_id": "a8d05f654fbd492b90c67bcf36332890"
      }
     },
     "metadata": {},
     "output_type": "display_data"
    },
    {
     "data": {
      "text/plain": "Downloading (…)ea1cc252d8/README.md:   0%|          | 0.00/4.01k [00:00<?, ?B/s]",
      "application/vnd.jupyter.widget-view+json": {
       "version_major": 2,
       "version_minor": 0,
       "model_id": "017c4cd727214d139a5e2af8e2a37055"
      }
     },
     "metadata": {},
     "output_type": "display_data"
    },
    {
     "data": {
      "text/plain": "Downloading (…)1cc252d8/config.json:   0%|          | 0.00/722 [00:00<?, ?B/s]",
      "application/vnd.jupyter.widget-view+json": {
       "version_major": 2,
       "version_minor": 0,
       "model_id": "f0653141ba7b43f59156172636d7fc2a"
      }
     },
     "metadata": {},
     "output_type": "display_data"
    },
    {
     "data": {
      "text/plain": "Downloading (…)ce_transformers.json:   0%|          | 0.00/122 [00:00<?, ?B/s]",
      "application/vnd.jupyter.widget-view+json": {
       "version_major": 2,
       "version_minor": 0,
       "model_id": "376df5782987478db39136262be9c5ae"
      }
     },
     "metadata": {},
     "output_type": "display_data"
    },
    {
     "data": {
      "text/plain": "Downloading pytorch_model.bin:   0%|          | 0.00/1.11G [00:00<?, ?B/s]",
      "application/vnd.jupyter.widget-view+json": {
       "version_major": 2,
       "version_minor": 0,
       "model_id": "a49f24c35d0843a2800b4cd00401474c"
      }
     },
     "metadata": {},
     "output_type": "display_data"
    },
    {
     "data": {
      "text/plain": "Downloading (…)nce_bert_config.json:   0%|          | 0.00/53.0 [00:00<?, ?B/s]",
      "application/vnd.jupyter.widget-view+json": {
       "version_major": 2,
       "version_minor": 0,
       "model_id": "e201800b6fba437fb48ab69ff142564e"
      }
     },
     "metadata": {},
     "output_type": "display_data"
    },
    {
     "data": {
      "text/plain": "Downloading (…)tencepiece.bpe.model:   0%|          | 0.00/5.07M [00:00<?, ?B/s]",
      "application/vnd.jupyter.widget-view+json": {
       "version_major": 2,
       "version_minor": 0,
       "model_id": "eec18e83e260468c901916838409944e"
      }
     },
     "metadata": {},
     "output_type": "display_data"
    },
    {
     "data": {
      "text/plain": "Downloading (…)cial_tokens_map.json:   0%|          | 0.00/150 [00:00<?, ?B/s]",
      "application/vnd.jupyter.widget-view+json": {
       "version_major": 2,
       "version_minor": 0,
       "model_id": "3bcbf468fcd446a1be23491ba53fa940"
      }
     },
     "metadata": {},
     "output_type": "display_data"
    },
    {
     "data": {
      "text/plain": "Downloading tokenizer.json:   0%|          | 0.00/9.10M [00:00<?, ?B/s]",
      "application/vnd.jupyter.widget-view+json": {
       "version_major": 2,
       "version_minor": 0,
       "model_id": "a1ab4678c4804c65bb06626351ce85c5"
      }
     },
     "metadata": {},
     "output_type": "display_data"
    },
    {
     "data": {
      "text/plain": "Downloading (…)okenizer_config.json:   0%|          | 0.00/518 [00:00<?, ?B/s]",
      "application/vnd.jupyter.widget-view+json": {
       "version_major": 2,
       "version_minor": 0,
       "model_id": "81975b43fd5a466e9fc2479a222662d0"
      }
     },
     "metadata": {},
     "output_type": "display_data"
    },
    {
     "data": {
      "text/plain": "Downloading (…)cc252d8/modules.json:   0%|          | 0.00/229 [00:00<?, ?B/s]",
      "application/vnd.jupyter.widget-view+json": {
       "version_major": 2,
       "version_minor": 0,
       "model_id": "1fed003f36f44c2c9f22366277299ee9"
      }
     },
     "metadata": {},
     "output_type": "display_data"
    },
    {
     "name": "stderr",
     "output_type": "stream",
     "text": [
      "2023-05-16 04:05:47,258 - BERTopic - Transformed documents to Embeddings\n",
      "2023-05-16 04:05:50,582 - BERTopic - Reduced dimensionality\n",
      "2023-05-16 04:05:50,680 - BERTopic - Clustered reduced embeddings\n"
     ]
    }
   ],
   "source": [
    "topics, probs = topic_model.fit_transform(list_preprossing)"
   ],
   "metadata": {
    "collapsed": false,
    "ExecuteTime": {
     "end_time": "2023-05-16T08:05:53.907990507Z",
     "start_time": "2023-05-16T08:03:36.532959868Z"
    }
   }
  },
  {
   "cell_type": "markdown",
   "metadata": {
    "id": "tJs94tXDo4f6"
   },
   "source": [
    "**NOTE**: Use `language=\"multilingual\"` to select a model that support 50+ languages."
   ]
  },
  {
   "cell_type": "markdown",
   "metadata": {
    "id": "A5O3KpHTnVpz"
   },
   "source": [
    "## Extracting Topics\n",
    "After fitting our model, we can start by looking at the results. Typically, we look at the most frequent topics first as they best represent the collection of documents. "
   ]
  },
  {
   "cell_type": "code",
   "metadata": {
    "colab": {
     "base_uri": "https://localhost:8080/",
     "height": 195
    },
    "id": "ScBUgXn06IK6",
    "outputId": "ee49a346-8d12-41c4-c7e9-8c1b6782c636",
    "ExecuteTime": {
     "end_time": "2023-05-16T08:13:09.044212252Z",
     "start_time": "2023-05-16T08:13:08.981002112Z"
    }
   },
   "source": [
    "freq = topic_model.get_topic_info(); freq.head(5)"
   ],
   "execution_count": 57,
   "outputs": [
    {
     "data": {
      "text/plain": "   Topic  Count                                          Name\n0     -1     30   -1_inflamacao_tratamento_indicado_processos\n1      0     70         0_vitamina_indicado_calcio_cloridrato\n2      1     50           1_infeccoes_causadas_trato_infeccao\n3      2     44  2_transtorno_tratamento_ansiedade_cloridrato\n4      3     33              3_dor_dores_osteoporose_indicado",
      "text/html": "<div>\n<style scoped>\n    .dataframe tbody tr th:only-of-type {\n        vertical-align: middle;\n    }\n\n    .dataframe tbody tr th {\n        vertical-align: top;\n    }\n\n    .dataframe thead th {\n        text-align: right;\n    }\n</style>\n<table border=\"1\" class=\"dataframe\">\n  <thead>\n    <tr style=\"text-align: right;\">\n      <th></th>\n      <th>Topic</th>\n      <th>Count</th>\n      <th>Name</th>\n    </tr>\n  </thead>\n  <tbody>\n    <tr>\n      <th>0</th>\n      <td>-1</td>\n      <td>30</td>\n      <td>-1_inflamacao_tratamento_indicado_processos</td>\n    </tr>\n    <tr>\n      <th>1</th>\n      <td>0</td>\n      <td>70</td>\n      <td>0_vitamina_indicado_calcio_cloridrato</td>\n    </tr>\n    <tr>\n      <th>2</th>\n      <td>1</td>\n      <td>50</td>\n      <td>1_infeccoes_causadas_trato_infeccao</td>\n    </tr>\n    <tr>\n      <th>3</th>\n      <td>2</td>\n      <td>44</td>\n      <td>2_transtorno_tratamento_ansiedade_cloridrato</td>\n    </tr>\n    <tr>\n      <th>4</th>\n      <td>3</td>\n      <td>33</td>\n      <td>3_dor_dores_osteoporose_indicado</td>\n    </tr>\n  </tbody>\n</table>\n</div>"
     },
     "execution_count": 57,
     "metadata": {},
     "output_type": "execute_result"
    }
   ]
  },
  {
   "cell_type": "markdown",
   "metadata": {
    "id": "-BtOgifV7Q-H"
   },
   "source": [
    "-1 refers to all outliers and should typically be ignored. Next, let's take a look at a frequent topic that were generated:"
   ]
  },
  {
   "cell_type": "code",
   "metadata": {
    "colab": {
     "base_uri": "https://localhost:8080/"
    },
    "id": "IVpvT4bA6KiN",
    "outputId": "9cf99b89-30bb-45fe-b98b-063f8f3624d9",
    "ExecuteTime": {
     "end_time": "2023-05-16T08:13:14.159734802Z",
     "start_time": "2023-05-16T08:13:14.065003628Z"
    }
   },
   "source": [
    "topic_model.get_topic(0)  # Select the most frequent topic"
   ],
   "execution_count": 58,
   "outputs": [
    {
     "data": {
      "text/plain": "[('vitamina', 0.033869805842858466),\n ('indicado', 0.032005190405781175),\n ('calcio', 0.03186063988777495),\n ('cloridrato', 0.03063776195901329),\n ('calcica', 0.02648891303369666),\n ('dieta', 0.025393429401660658),\n ('niveis', 0.02537648055536371),\n ('nao', 0.024046480081952766),\n ('betametasona', 0.02349324455012847),\n ('hipercolesterolemia', 0.0231507991020146)]"
     },
     "execution_count": 58,
     "metadata": {},
     "output_type": "execute_result"
    }
   ]
  },
  {
   "cell_type": "markdown",
   "metadata": {
    "id": "ixc-X2JzodrZ"
   },
   "source": [
    "**NOTE**: BERTopic is stocastich which mmeans that the topics might differ across runs. This is mostly due to the stocastisch nature of UMAP."
   ]
  },
  {
   "cell_type": "code",
   "source": [
    "### Attributes"
   ],
   "metadata": {
    "id": "FX_Ngb3PpRFG"
   },
   "execution_count": null,
   "outputs": []
  },
  {
   "cell_type": "markdown",
   "source": [
    "## Attributes\n",
    "\n",
    "There are a number of attributes that you can access after having trained your BERTopic model:\n",
    "\n",
    "\n",
    "| Attribute | Description |\n",
    "|------------------------|---------------------------------------------------------------------------------------------|\n",
    "| topics_               | The topics that are generated for each document after training or updating the topic model. |\n",
    "| probabilities_ | The probabilities that are generated for each document if HDBSCAN is used. |\n",
    "| topic_sizes_           | The size of each topic                                                                      |\n",
    "| topic_mapper_          | A class for tracking topics and their mappings anytime they are merged/reduced.             |\n",
    "| topic_representations_ | The top *n* terms per topic and their respective c-TF-IDF values.                             |\n",
    "| c_tf_idf_              | The topic-term matrix as calculated through c-TF-IDF.                                       |\n",
    "| topic_labels_          | The default labels for each topic.                                                          |\n",
    "| custom_labels_         | Custom labels for each topic as generated through `.set_topic_labels`.                                                               |\n",
    "| topic_embeddings_      | The embeddings for each topic if `embedding_model` was used.                                                              |\n",
    "| representative_docs_   | The representative documents for each topic if HDBSCAN is used.                                                |\n",
    "\n",
    "For example, to access the predicted topics for the first 10 documents, we simply run the following:"
   ],
   "metadata": {
    "id": "j91cP3xBpWDM"
   }
  },
  {
   "cell_type": "code",
   "source": [
    "topic_model.topics_[:10]"
   ],
   "metadata": {
    "id": "uCMHaWVMpbo3",
    "ExecuteTime": {
     "end_time": "2023-05-16T08:13:35.672944900Z",
     "start_time": "2023-05-16T08:13:35.625081252Z"
    }
   },
   "execution_count": 59,
   "outputs": [
    {
     "data": {
      "text/plain": "[0, 0, 9, -1, 0, 4, 1, 2, 1, 0]"
     },
     "execution_count": 59,
     "metadata": {},
     "output_type": "execute_result"
    }
   ]
  },
  {
   "cell_type": "markdown",
   "metadata": {
    "id": "UbT2Bd9gqaJ3"
   },
   "source": [
    "# **Visualization**\n",
    "There are several visualization options available in BERTopic, namely the visualization of topics, probabilities and topics over time. Topic modeling is, to a certain extent, quite subjective. Visualizations help understand the topics that were created. "
   ]
  },
  {
   "cell_type": "markdown",
   "metadata": {
    "id": "M8c8LenB8Zyl"
   },
   "source": [
    "## Visualize Topics\n",
    "After having trained our `BERTopic` model, we can iteratively go through perhaps a hundred topic to get a good \n",
    "understanding of the topics that were extract. However, that takes quite some time and lacks a global representation. \n",
    "Instead, we can visualize the topics that were generated in a way very similar to \n",
    "[LDAvis](https://github.com/cpsievert/LDAvis):"
   ]
  },
  {
   "cell_type": "code",
   "metadata": {
    "colab": {
     "base_uri": "https://localhost:8080/",
     "height": 667
    },
    "id": "S9qDqEHddgKq",
    "outputId": "3fddd5f1-194e-4708-a7dc-f0c5602c140a",
    "ExecuteTime": {
     "end_time": "2023-05-16T08:13:45.274889016Z",
     "start_time": "2023-05-16T08:13:39.716219208Z"
    }
   },
   "source": [
    "topic_model.visualize_topics()"
   ],
   "execution_count": 60,
   "outputs": [
    {
     "data": {
      "application/vnd.plotly.v1+json": {
       "data": [
        {
         "customdata": [
          [
           0,
           "vitamina | indicado | calcio | cloridrato | calcica",
           70
          ],
          [
           1,
           "infeccoes | causadas | trato | infeccao | amoxicilina",
           50
          ],
          [
           2,
           "transtorno | tratamento | ansiedade | cloridrato | paroxetina",
           44
          ],
          [
           3,
           "dor | dores | osteoporose | indicado | medicamento",
           33
          ],
          [
           4,
           "etinilestradiol | gravidez | contraceptivo | desogestrel | mulheres",
           26
          ],
          [
           5,
           "cancer | mama | tratamento | metastatico | pacientes",
           22
          ],
          [
           6,
           "estomago | ulcera | vomitos | nauseas | tratamento",
           22
          ],
          [
           7,
           "dermatite | pele | betametasona | dipropionato | dermatoses",
           19
          ],
          [
           8,
           "alergica | nasal | prurido | sintomas | coceira",
           18
          ],
          [
           9,
           "insuficiencia | avc | potassica | losartana | prevencao",
           13
          ],
          [
           10,
           "hpb | doxazosina | mesilato | prostatica | benigna",
           12
          ]
         ],
         "hovertemplate": "<b>Topic %{customdata[0]}</b><br>%{customdata[1]}<br>Size: %{customdata[2]}",
         "legendgroup": "",
         "marker": {
          "color": "#B0BEC5",
          "size": [
           70,
           50,
           44,
           33,
           26,
           22,
           22,
           19,
           18,
           13,
           12
          ],
          "sizemode": "area",
          "sizeref": 0.04375,
          "symbol": "circle",
          "line": {
           "color": "DarkSlateGrey",
           "width": 2
          }
         },
         "mode": "markers",
         "name": "",
         "orientation": "v",
         "showlegend": false,
         "x": [
          24.764293670654297,
          24.296056747436523,
          22.260412216186523,
          24.246213912963867,
          21.63645362854004,
          18.34232521057129,
          25.744243621826172,
          21.11686134338379,
          26.59117889404297,
          26.01286506652832,
          18.730403900146484
         ],
         "xaxis": "x",
         "y": [
          5.444296360015869,
          6.864225387573242,
          7.0521016120910645,
          5.190155982971191,
          7.117497444152832,
          1.8713023662567139,
          7.193963050842285,
          7.197829246520996,
          6.216573238372803,
          6.668528079986572,
          2.2019846439361572
         ],
         "yaxis": "y",
         "type": "scatter"
        }
       ],
       "layout": {
        "template": {
         "data": {
          "barpolar": [
           {
            "marker": {
             "line": {
              "color": "white",
              "width": 0.5
             },
             "pattern": {
              "fillmode": "overlay",
              "size": 10,
              "solidity": 0.2
             }
            },
            "type": "barpolar"
           }
          ],
          "bar": [
           {
            "error_x": {
             "color": "rgb(36,36,36)"
            },
            "error_y": {
             "color": "rgb(36,36,36)"
            },
            "marker": {
             "line": {
              "color": "white",
              "width": 0.5
             },
             "pattern": {
              "fillmode": "overlay",
              "size": 10,
              "solidity": 0.2
             }
            },
            "type": "bar"
           }
          ],
          "carpet": [
           {
            "aaxis": {
             "endlinecolor": "rgb(36,36,36)",
             "gridcolor": "white",
             "linecolor": "white",
             "minorgridcolor": "white",
             "startlinecolor": "rgb(36,36,36)"
            },
            "baxis": {
             "endlinecolor": "rgb(36,36,36)",
             "gridcolor": "white",
             "linecolor": "white",
             "minorgridcolor": "white",
             "startlinecolor": "rgb(36,36,36)"
            },
            "type": "carpet"
           }
          ],
          "choropleth": [
           {
            "colorbar": {
             "outlinewidth": 1,
             "tickcolor": "rgb(36,36,36)",
             "ticks": "outside"
            },
            "type": "choropleth"
           }
          ],
          "contourcarpet": [
           {
            "colorbar": {
             "outlinewidth": 1,
             "tickcolor": "rgb(36,36,36)",
             "ticks": "outside"
            },
            "type": "contourcarpet"
           }
          ],
          "contour": [
           {
            "colorbar": {
             "outlinewidth": 1,
             "tickcolor": "rgb(36,36,36)",
             "ticks": "outside"
            },
            "colorscale": [
             [
              0.0,
              "#440154"
             ],
             [
              0.1111111111111111,
              "#482878"
             ],
             [
              0.2222222222222222,
              "#3e4989"
             ],
             [
              0.3333333333333333,
              "#31688e"
             ],
             [
              0.4444444444444444,
              "#26828e"
             ],
             [
              0.5555555555555556,
              "#1f9e89"
             ],
             [
              0.6666666666666666,
              "#35b779"
             ],
             [
              0.7777777777777778,
              "#6ece58"
             ],
             [
              0.8888888888888888,
              "#b5de2b"
             ],
             [
              1.0,
              "#fde725"
             ]
            ],
            "type": "contour"
           }
          ],
          "heatmapgl": [
           {
            "colorbar": {
             "outlinewidth": 1,
             "tickcolor": "rgb(36,36,36)",
             "ticks": "outside"
            },
            "colorscale": [
             [
              0.0,
              "#440154"
             ],
             [
              0.1111111111111111,
              "#482878"
             ],
             [
              0.2222222222222222,
              "#3e4989"
             ],
             [
              0.3333333333333333,
              "#31688e"
             ],
             [
              0.4444444444444444,
              "#26828e"
             ],
             [
              0.5555555555555556,
              "#1f9e89"
             ],
             [
              0.6666666666666666,
              "#35b779"
             ],
             [
              0.7777777777777778,
              "#6ece58"
             ],
             [
              0.8888888888888888,
              "#b5de2b"
             ],
             [
              1.0,
              "#fde725"
             ]
            ],
            "type": "heatmapgl"
           }
          ],
          "heatmap": [
           {
            "colorbar": {
             "outlinewidth": 1,
             "tickcolor": "rgb(36,36,36)",
             "ticks": "outside"
            },
            "colorscale": [
             [
              0.0,
              "#440154"
             ],
             [
              0.1111111111111111,
              "#482878"
             ],
             [
              0.2222222222222222,
              "#3e4989"
             ],
             [
              0.3333333333333333,
              "#31688e"
             ],
             [
              0.4444444444444444,
              "#26828e"
             ],
             [
              0.5555555555555556,
              "#1f9e89"
             ],
             [
              0.6666666666666666,
              "#35b779"
             ],
             [
              0.7777777777777778,
              "#6ece58"
             ],
             [
              0.8888888888888888,
              "#b5de2b"
             ],
             [
              1.0,
              "#fde725"
             ]
            ],
            "type": "heatmap"
           }
          ],
          "histogram2dcontour": [
           {
            "colorbar": {
             "outlinewidth": 1,
             "tickcolor": "rgb(36,36,36)",
             "ticks": "outside"
            },
            "colorscale": [
             [
              0.0,
              "#440154"
             ],
             [
              0.1111111111111111,
              "#482878"
             ],
             [
              0.2222222222222222,
              "#3e4989"
             ],
             [
              0.3333333333333333,
              "#31688e"
             ],
             [
              0.4444444444444444,
              "#26828e"
             ],
             [
              0.5555555555555556,
              "#1f9e89"
             ],
             [
              0.6666666666666666,
              "#35b779"
             ],
             [
              0.7777777777777778,
              "#6ece58"
             ],
             [
              0.8888888888888888,
              "#b5de2b"
             ],
             [
              1.0,
              "#fde725"
             ]
            ],
            "type": "histogram2dcontour"
           }
          ],
          "histogram2d": [
           {
            "colorbar": {
             "outlinewidth": 1,
             "tickcolor": "rgb(36,36,36)",
             "ticks": "outside"
            },
            "colorscale": [
             [
              0.0,
              "#440154"
             ],
             [
              0.1111111111111111,
              "#482878"
             ],
             [
              0.2222222222222222,
              "#3e4989"
             ],
             [
              0.3333333333333333,
              "#31688e"
             ],
             [
              0.4444444444444444,
              "#26828e"
             ],
             [
              0.5555555555555556,
              "#1f9e89"
             ],
             [
              0.6666666666666666,
              "#35b779"
             ],
             [
              0.7777777777777778,
              "#6ece58"
             ],
             [
              0.8888888888888888,
              "#b5de2b"
             ],
             [
              1.0,
              "#fde725"
             ]
            ],
            "type": "histogram2d"
           }
          ],
          "histogram": [
           {
            "marker": {
             "line": {
              "color": "white",
              "width": 0.6
             }
            },
            "type": "histogram"
           }
          ],
          "mesh3d": [
           {
            "colorbar": {
             "outlinewidth": 1,
             "tickcolor": "rgb(36,36,36)",
             "ticks": "outside"
            },
            "type": "mesh3d"
           }
          ],
          "parcoords": [
           {
            "line": {
             "colorbar": {
              "outlinewidth": 1,
              "tickcolor": "rgb(36,36,36)",
              "ticks": "outside"
             }
            },
            "type": "parcoords"
           }
          ],
          "pie": [
           {
            "automargin": true,
            "type": "pie"
           }
          ],
          "scatter3d": [
           {
            "line": {
             "colorbar": {
              "outlinewidth": 1,
              "tickcolor": "rgb(36,36,36)",
              "ticks": "outside"
             }
            },
            "marker": {
             "colorbar": {
              "outlinewidth": 1,
              "tickcolor": "rgb(36,36,36)",
              "ticks": "outside"
             }
            },
            "type": "scatter3d"
           }
          ],
          "scattercarpet": [
           {
            "marker": {
             "colorbar": {
              "outlinewidth": 1,
              "tickcolor": "rgb(36,36,36)",
              "ticks": "outside"
             }
            },
            "type": "scattercarpet"
           }
          ],
          "scattergeo": [
           {
            "marker": {
             "colorbar": {
              "outlinewidth": 1,
              "tickcolor": "rgb(36,36,36)",
              "ticks": "outside"
             }
            },
            "type": "scattergeo"
           }
          ],
          "scattergl": [
           {
            "marker": {
             "colorbar": {
              "outlinewidth": 1,
              "tickcolor": "rgb(36,36,36)",
              "ticks": "outside"
             }
            },
            "type": "scattergl"
           }
          ],
          "scattermapbox": [
           {
            "marker": {
             "colorbar": {
              "outlinewidth": 1,
              "tickcolor": "rgb(36,36,36)",
              "ticks": "outside"
             }
            },
            "type": "scattermapbox"
           }
          ],
          "scatterpolargl": [
           {
            "marker": {
             "colorbar": {
              "outlinewidth": 1,
              "tickcolor": "rgb(36,36,36)",
              "ticks": "outside"
             }
            },
            "type": "scatterpolargl"
           }
          ],
          "scatterpolar": [
           {
            "marker": {
             "colorbar": {
              "outlinewidth": 1,
              "tickcolor": "rgb(36,36,36)",
              "ticks": "outside"
             }
            },
            "type": "scatterpolar"
           }
          ],
          "scatter": [
           {
            "fillpattern": {
             "fillmode": "overlay",
             "size": 10,
             "solidity": 0.2
            },
            "type": "scatter"
           }
          ],
          "scatterternary": [
           {
            "marker": {
             "colorbar": {
              "outlinewidth": 1,
              "tickcolor": "rgb(36,36,36)",
              "ticks": "outside"
             }
            },
            "type": "scatterternary"
           }
          ],
          "surface": [
           {
            "colorbar": {
             "outlinewidth": 1,
             "tickcolor": "rgb(36,36,36)",
             "ticks": "outside"
            },
            "colorscale": [
             [
              0.0,
              "#440154"
             ],
             [
              0.1111111111111111,
              "#482878"
             ],
             [
              0.2222222222222222,
              "#3e4989"
             ],
             [
              0.3333333333333333,
              "#31688e"
             ],
             [
              0.4444444444444444,
              "#26828e"
             ],
             [
              0.5555555555555556,
              "#1f9e89"
             ],
             [
              0.6666666666666666,
              "#35b779"
             ],
             [
              0.7777777777777778,
              "#6ece58"
             ],
             [
              0.8888888888888888,
              "#b5de2b"
             ],
             [
              1.0,
              "#fde725"
             ]
            ],
            "type": "surface"
           }
          ],
          "table": [
           {
            "cells": {
             "fill": {
              "color": "rgb(237,237,237)"
             },
             "line": {
              "color": "white"
             }
            },
            "header": {
             "fill": {
              "color": "rgb(217,217,217)"
             },
             "line": {
              "color": "white"
             }
            },
            "type": "table"
           }
          ]
         },
         "layout": {
          "annotationdefaults": {
           "arrowhead": 0,
           "arrowwidth": 1
          },
          "autotypenumbers": "strict",
          "coloraxis": {
           "colorbar": {
            "outlinewidth": 1,
            "tickcolor": "rgb(36,36,36)",
            "ticks": "outside"
           }
          },
          "colorscale": {
           "diverging": [
            [
             0.0,
             "rgb(103,0,31)"
            ],
            [
             0.1,
             "rgb(178,24,43)"
            ],
            [
             0.2,
             "rgb(214,96,77)"
            ],
            [
             0.3,
             "rgb(244,165,130)"
            ],
            [
             0.4,
             "rgb(253,219,199)"
            ],
            [
             0.5,
             "rgb(247,247,247)"
            ],
            [
             0.6,
             "rgb(209,229,240)"
            ],
            [
             0.7,
             "rgb(146,197,222)"
            ],
            [
             0.8,
             "rgb(67,147,195)"
            ],
            [
             0.9,
             "rgb(33,102,172)"
            ],
            [
             1.0,
             "rgb(5,48,97)"
            ]
           ],
           "sequential": [
            [
             0.0,
             "#440154"
            ],
            [
             0.1111111111111111,
             "#482878"
            ],
            [
             0.2222222222222222,
             "#3e4989"
            ],
            [
             0.3333333333333333,
             "#31688e"
            ],
            [
             0.4444444444444444,
             "#26828e"
            ],
            [
             0.5555555555555556,
             "#1f9e89"
            ],
            [
             0.6666666666666666,
             "#35b779"
            ],
            [
             0.7777777777777778,
             "#6ece58"
            ],
            [
             0.8888888888888888,
             "#b5de2b"
            ],
            [
             1.0,
             "#fde725"
            ]
           ],
           "sequentialminus": [
            [
             0.0,
             "#440154"
            ],
            [
             0.1111111111111111,
             "#482878"
            ],
            [
             0.2222222222222222,
             "#3e4989"
            ],
            [
             0.3333333333333333,
             "#31688e"
            ],
            [
             0.4444444444444444,
             "#26828e"
            ],
            [
             0.5555555555555556,
             "#1f9e89"
            ],
            [
             0.6666666666666666,
             "#35b779"
            ],
            [
             0.7777777777777778,
             "#6ece58"
            ],
            [
             0.8888888888888888,
             "#b5de2b"
            ],
            [
             1.0,
             "#fde725"
            ]
           ]
          },
          "colorway": [
           "#1F77B4",
           "#FF7F0E",
           "#2CA02C",
           "#D62728",
           "#9467BD",
           "#8C564B",
           "#E377C2",
           "#7F7F7F",
           "#BCBD22",
           "#17BECF"
          ],
          "font": {
           "color": "rgb(36,36,36)"
          },
          "geo": {
           "bgcolor": "white",
           "lakecolor": "white",
           "landcolor": "white",
           "showlakes": true,
           "showland": true,
           "subunitcolor": "white"
          },
          "hoverlabel": {
           "align": "left"
          },
          "hovermode": "closest",
          "mapbox": {
           "style": "light"
          },
          "paper_bgcolor": "white",
          "plot_bgcolor": "white",
          "polar": {
           "angularaxis": {
            "gridcolor": "rgb(232,232,232)",
            "linecolor": "rgb(36,36,36)",
            "showgrid": false,
            "showline": true,
            "ticks": "outside"
           },
           "bgcolor": "white",
           "radialaxis": {
            "gridcolor": "rgb(232,232,232)",
            "linecolor": "rgb(36,36,36)",
            "showgrid": false,
            "showline": true,
            "ticks": "outside"
           }
          },
          "scene": {
           "xaxis": {
            "backgroundcolor": "white",
            "gridcolor": "rgb(232,232,232)",
            "gridwidth": 2,
            "linecolor": "rgb(36,36,36)",
            "showbackground": true,
            "showgrid": false,
            "showline": true,
            "ticks": "outside",
            "zeroline": false,
            "zerolinecolor": "rgb(36,36,36)"
           },
           "yaxis": {
            "backgroundcolor": "white",
            "gridcolor": "rgb(232,232,232)",
            "gridwidth": 2,
            "linecolor": "rgb(36,36,36)",
            "showbackground": true,
            "showgrid": false,
            "showline": true,
            "ticks": "outside",
            "zeroline": false,
            "zerolinecolor": "rgb(36,36,36)"
           },
           "zaxis": {
            "backgroundcolor": "white",
            "gridcolor": "rgb(232,232,232)",
            "gridwidth": 2,
            "linecolor": "rgb(36,36,36)",
            "showbackground": true,
            "showgrid": false,
            "showline": true,
            "ticks": "outside",
            "zeroline": false,
            "zerolinecolor": "rgb(36,36,36)"
           }
          },
          "shapedefaults": {
           "fillcolor": "black",
           "line": {
            "width": 0
           },
           "opacity": 0.3
          },
          "ternary": {
           "aaxis": {
            "gridcolor": "rgb(232,232,232)",
            "linecolor": "rgb(36,36,36)",
            "showgrid": false,
            "showline": true,
            "ticks": "outside"
           },
           "baxis": {
            "gridcolor": "rgb(232,232,232)",
            "linecolor": "rgb(36,36,36)",
            "showgrid": false,
            "showline": true,
            "ticks": "outside"
           },
           "bgcolor": "white",
           "caxis": {
            "gridcolor": "rgb(232,232,232)",
            "linecolor": "rgb(36,36,36)",
            "showgrid": false,
            "showline": true,
            "ticks": "outside"
           }
          },
          "title": {
           "x": 0.05
          },
          "xaxis": {
           "automargin": true,
           "gridcolor": "rgb(232,232,232)",
           "linecolor": "rgb(36,36,36)",
           "showgrid": false,
           "showline": true,
           "ticks": "outside",
           "title": {
            "standoff": 15
           },
           "zeroline": false,
           "zerolinecolor": "rgb(36,36,36)"
          },
          "yaxis": {
           "automargin": true,
           "gridcolor": "rgb(232,232,232)",
           "linecolor": "rgb(36,36,36)",
           "showgrid": false,
           "showline": true,
           "ticks": "outside",
           "title": {
            "standoff": 15
           },
           "zeroline": false,
           "zerolinecolor": "rgb(36,36,36)"
          }
         }
        },
        "xaxis": {
         "anchor": "y",
         "domain": [
          0.0,
          1.0
         ],
         "title": {
          "text": ""
         },
         "visible": false,
         "range": [
          15.590976428985595,
          30.579855728149415
         ]
        },
        "yaxis": {
         "anchor": "x",
         "domain": [
          0.0,
          1.0
         ],
         "title": {
          "text": ""
         },
         "visible": false,
         "range": [
          1.5906070113182067,
          8.277503633499146
         ]
        },
        "legend": {
         "tracegroupgap": 0,
         "itemsizing": "constant"
        },
        "margin": {
         "t": 60
        },
        "title": {
         "font": {
          "size": 22,
          "color": "Black"
         },
         "text": "<b>Intertopic Distance Map</b>",
         "y": 0.95,
         "x": 0.5,
         "xanchor": "center",
         "yanchor": "top"
        },
        "hoverlabel": {
         "font": {
          "size": 16,
          "family": "Rockwell"
         },
         "bgcolor": "white"
        },
        "width": 650,
        "height": 650,
        "sliders": [
         {
          "active": 0,
          "pad": {
           "t": 50
          },
          "steps": [
           {
            "args": [
             {
              "marker.color": [
               [
                "red",
                "#B0BEC5",
                "#B0BEC5",
                "#B0BEC5",
                "#B0BEC5",
                "#B0BEC5",
                "#B0BEC5",
                "#B0BEC5",
                "#B0BEC5",
                "#B0BEC5",
                "#B0BEC5"
               ]
              ]
             }
            ],
            "label": "Topic 0",
            "method": "update"
           },
           {
            "args": [
             {
              "marker.color": [
               [
                "#B0BEC5",
                "red",
                "#B0BEC5",
                "#B0BEC5",
                "#B0BEC5",
                "#B0BEC5",
                "#B0BEC5",
                "#B0BEC5",
                "#B0BEC5",
                "#B0BEC5",
                "#B0BEC5"
               ]
              ]
             }
            ],
            "label": "Topic 1",
            "method": "update"
           },
           {
            "args": [
             {
              "marker.color": [
               [
                "#B0BEC5",
                "#B0BEC5",
                "red",
                "#B0BEC5",
                "#B0BEC5",
                "#B0BEC5",
                "#B0BEC5",
                "#B0BEC5",
                "#B0BEC5",
                "#B0BEC5",
                "#B0BEC5"
               ]
              ]
             }
            ],
            "label": "Topic 2",
            "method": "update"
           },
           {
            "args": [
             {
              "marker.color": [
               [
                "#B0BEC5",
                "#B0BEC5",
                "#B0BEC5",
                "red",
                "#B0BEC5",
                "#B0BEC5",
                "#B0BEC5",
                "#B0BEC5",
                "#B0BEC5",
                "#B0BEC5",
                "#B0BEC5"
               ]
              ]
             }
            ],
            "label": "Topic 3",
            "method": "update"
           },
           {
            "args": [
             {
              "marker.color": [
               [
                "#B0BEC5",
                "#B0BEC5",
                "#B0BEC5",
                "#B0BEC5",
                "red",
                "#B0BEC5",
                "#B0BEC5",
                "#B0BEC5",
                "#B0BEC5",
                "#B0BEC5",
                "#B0BEC5"
               ]
              ]
             }
            ],
            "label": "Topic 4",
            "method": "update"
           },
           {
            "args": [
             {
              "marker.color": [
               [
                "#B0BEC5",
                "#B0BEC5",
                "#B0BEC5",
                "#B0BEC5",
                "#B0BEC5",
                "red",
                "#B0BEC5",
                "#B0BEC5",
                "#B0BEC5",
                "#B0BEC5",
                "#B0BEC5"
               ]
              ]
             }
            ],
            "label": "Topic 5",
            "method": "update"
           },
           {
            "args": [
             {
              "marker.color": [
               [
                "#B0BEC5",
                "#B0BEC5",
                "#B0BEC5",
                "#B0BEC5",
                "#B0BEC5",
                "#B0BEC5",
                "red",
                "#B0BEC5",
                "#B0BEC5",
                "#B0BEC5",
                "#B0BEC5"
               ]
              ]
             }
            ],
            "label": "Topic 6",
            "method": "update"
           },
           {
            "args": [
             {
              "marker.color": [
               [
                "#B0BEC5",
                "#B0BEC5",
                "#B0BEC5",
                "#B0BEC5",
                "#B0BEC5",
                "#B0BEC5",
                "#B0BEC5",
                "red",
                "#B0BEC5",
                "#B0BEC5",
                "#B0BEC5"
               ]
              ]
             }
            ],
            "label": "Topic 7",
            "method": "update"
           },
           {
            "args": [
             {
              "marker.color": [
               [
                "#B0BEC5",
                "#B0BEC5",
                "#B0BEC5",
                "#B0BEC5",
                "#B0BEC5",
                "#B0BEC5",
                "#B0BEC5",
                "#B0BEC5",
                "red",
                "#B0BEC5",
                "#B0BEC5"
               ]
              ]
             }
            ],
            "label": "Topic 8",
            "method": "update"
           },
           {
            "args": [
             {
              "marker.color": [
               [
                "#B0BEC5",
                "#B0BEC5",
                "#B0BEC5",
                "#B0BEC5",
                "#B0BEC5",
                "#B0BEC5",
                "#B0BEC5",
                "#B0BEC5",
                "#B0BEC5",
                "red",
                "#B0BEC5"
               ]
              ]
             }
            ],
            "label": "Topic 9",
            "method": "update"
           },
           {
            "args": [
             {
              "marker.color": [
               [
                "#B0BEC5",
                "#B0BEC5",
                "#B0BEC5",
                "#B0BEC5",
                "#B0BEC5",
                "#B0BEC5",
                "#B0BEC5",
                "#B0BEC5",
                "#B0BEC5",
                "#B0BEC5",
                "red"
               ]
              ]
             }
            ],
            "label": "Topic 10",
            "method": "update"
           }
          ]
         }
        ],
        "shapes": [
         {
          "line": {
           "color": "#CFD8DC",
           "width": 2
          },
          "type": "line",
          "x0": 23.085416078567505,
          "x1": 23.085416078567505,
          "y0": 1.5906070113182067,
          "y1": 8.277503633499146
         },
         {
          "line": {
           "color": "#9E9E9E",
           "width": 2
          },
          "type": "line",
          "x0": 15.590976428985595,
          "x1": 30.579855728149415,
          "y0": 4.9340553224086765,
          "y1": 4.9340553224086765
         }
        ],
        "annotations": [
         {
          "showarrow": false,
          "text": "D1",
          "x": 15.590976428985595,
          "y": 4.9340553224086765,
          "yshift": 10
         },
         {
          "showarrow": false,
          "text": "D2",
          "x": 23.085416078567505,
          "xshift": 10,
          "y": 8.277503633499146
         }
        ]
       },
       "config": {
        "plotlyServerURL": "https://plot.ly"
       }
      },
      "text/html": "<div>                            <div id=\"d7498aa3-fd79-4122-bb47-fba949f7f864\" class=\"plotly-graph-div\" style=\"height:650px; width:650px;\"></div>            <script type=\"text/javascript\">                require([\"plotly\"], function(Plotly) {                    window.PLOTLYENV=window.PLOTLYENV || {};                                    if (document.getElementById(\"d7498aa3-fd79-4122-bb47-fba949f7f864\")) {                    Plotly.newPlot(                        \"d7498aa3-fd79-4122-bb47-fba949f7f864\",                        [{\"customdata\":[[0,\"vitamina | indicado | calcio | cloridrato | calcica\",70],[1,\"infeccoes | causadas | trato | infeccao | amoxicilina\",50],[2,\"transtorno | tratamento | ansiedade | cloridrato | paroxetina\",44],[3,\"dor | dores | osteoporose | indicado | medicamento\",33],[4,\"etinilestradiol | gravidez | contraceptivo | desogestrel | mulheres\",26],[5,\"cancer | mama | tratamento | metastatico | pacientes\",22],[6,\"estomago | ulcera | vomitos | nauseas | tratamento\",22],[7,\"dermatite | pele | betametasona | dipropionato | dermatoses\",19],[8,\"alergica | nasal | prurido | sintomas | coceira\",18],[9,\"insuficiencia | avc | potassica | losartana | prevencao\",13],[10,\"hpb | doxazosina | mesilato | prostatica | benigna\",12]],\"hovertemplate\":\"<b>Topic %{customdata[0]}</b><br>%{customdata[1]}<br>Size: %{customdata[2]}\",\"legendgroup\":\"\",\"marker\":{\"color\":\"#B0BEC5\",\"size\":[70,50,44,33,26,22,22,19,18,13,12],\"sizemode\":\"area\",\"sizeref\":0.04375,\"symbol\":\"circle\",\"line\":{\"color\":\"DarkSlateGrey\",\"width\":2}},\"mode\":\"markers\",\"name\":\"\",\"orientation\":\"v\",\"showlegend\":false,\"x\":[24.764293670654297,24.296056747436523,22.260412216186523,24.246213912963867,21.63645362854004,18.34232521057129,25.744243621826172,21.11686134338379,26.59117889404297,26.01286506652832,18.730403900146484],\"xaxis\":\"x\",\"y\":[5.444296360015869,6.864225387573242,7.0521016120910645,5.190155982971191,7.117497444152832,1.8713023662567139,7.193963050842285,7.197829246520996,6.216573238372803,6.668528079986572,2.2019846439361572],\"yaxis\":\"y\",\"type\":\"scatter\"}],                        {\"template\":{\"data\":{\"barpolar\":[{\"marker\":{\"line\":{\"color\":\"white\",\"width\":0.5},\"pattern\":{\"fillmode\":\"overlay\",\"size\":10,\"solidity\":0.2}},\"type\":\"barpolar\"}],\"bar\":[{\"error_x\":{\"color\":\"rgb(36,36,36)\"},\"error_y\":{\"color\":\"rgb(36,36,36)\"},\"marker\":{\"line\":{\"color\":\"white\",\"width\":0.5},\"pattern\":{\"fillmode\":\"overlay\",\"size\":10,\"solidity\":0.2}},\"type\":\"bar\"}],\"carpet\":[{\"aaxis\":{\"endlinecolor\":\"rgb(36,36,36)\",\"gridcolor\":\"white\",\"linecolor\":\"white\",\"minorgridcolor\":\"white\",\"startlinecolor\":\"rgb(36,36,36)\"},\"baxis\":{\"endlinecolor\":\"rgb(36,36,36)\",\"gridcolor\":\"white\",\"linecolor\":\"white\",\"minorgridcolor\":\"white\",\"startlinecolor\":\"rgb(36,36,36)\"},\"type\":\"carpet\"}],\"choropleth\":[{\"colorbar\":{\"outlinewidth\":1,\"tickcolor\":\"rgb(36,36,36)\",\"ticks\":\"outside\"},\"type\":\"choropleth\"}],\"contourcarpet\":[{\"colorbar\":{\"outlinewidth\":1,\"tickcolor\":\"rgb(36,36,36)\",\"ticks\":\"outside\"},\"type\":\"contourcarpet\"}],\"contour\":[{\"colorbar\":{\"outlinewidth\":1,\"tickcolor\":\"rgb(36,36,36)\",\"ticks\":\"outside\"},\"colorscale\":[[0.0,\"#440154\"],[0.1111111111111111,\"#482878\"],[0.2222222222222222,\"#3e4989\"],[0.3333333333333333,\"#31688e\"],[0.4444444444444444,\"#26828e\"],[0.5555555555555556,\"#1f9e89\"],[0.6666666666666666,\"#35b779\"],[0.7777777777777778,\"#6ece58\"],[0.8888888888888888,\"#b5de2b\"],[1.0,\"#fde725\"]],\"type\":\"contour\"}],\"heatmapgl\":[{\"colorbar\":{\"outlinewidth\":1,\"tickcolor\":\"rgb(36,36,36)\",\"ticks\":\"outside\"},\"colorscale\":[[0.0,\"#440154\"],[0.1111111111111111,\"#482878\"],[0.2222222222222222,\"#3e4989\"],[0.3333333333333333,\"#31688e\"],[0.4444444444444444,\"#26828e\"],[0.5555555555555556,\"#1f9e89\"],[0.6666666666666666,\"#35b779\"],[0.7777777777777778,\"#6ece58\"],[0.8888888888888888,\"#b5de2b\"],[1.0,\"#fde725\"]],\"type\":\"heatmapgl\"}],\"heatmap\":[{\"colorbar\":{\"outlinewidth\":1,\"tickcolor\":\"rgb(36,36,36)\",\"ticks\":\"outside\"},\"colorscale\":[[0.0,\"#440154\"],[0.1111111111111111,\"#482878\"],[0.2222222222222222,\"#3e4989\"],[0.3333333333333333,\"#31688e\"],[0.4444444444444444,\"#26828e\"],[0.5555555555555556,\"#1f9e89\"],[0.6666666666666666,\"#35b779\"],[0.7777777777777778,\"#6ece58\"],[0.8888888888888888,\"#b5de2b\"],[1.0,\"#fde725\"]],\"type\":\"heatmap\"}],\"histogram2dcontour\":[{\"colorbar\":{\"outlinewidth\":1,\"tickcolor\":\"rgb(36,36,36)\",\"ticks\":\"outside\"},\"colorscale\":[[0.0,\"#440154\"],[0.1111111111111111,\"#482878\"],[0.2222222222222222,\"#3e4989\"],[0.3333333333333333,\"#31688e\"],[0.4444444444444444,\"#26828e\"],[0.5555555555555556,\"#1f9e89\"],[0.6666666666666666,\"#35b779\"],[0.7777777777777778,\"#6ece58\"],[0.8888888888888888,\"#b5de2b\"],[1.0,\"#fde725\"]],\"type\":\"histogram2dcontour\"}],\"histogram2d\":[{\"colorbar\":{\"outlinewidth\":1,\"tickcolor\":\"rgb(36,36,36)\",\"ticks\":\"outside\"},\"colorscale\":[[0.0,\"#440154\"],[0.1111111111111111,\"#482878\"],[0.2222222222222222,\"#3e4989\"],[0.3333333333333333,\"#31688e\"],[0.4444444444444444,\"#26828e\"],[0.5555555555555556,\"#1f9e89\"],[0.6666666666666666,\"#35b779\"],[0.7777777777777778,\"#6ece58\"],[0.8888888888888888,\"#b5de2b\"],[1.0,\"#fde725\"]],\"type\":\"histogram2d\"}],\"histogram\":[{\"marker\":{\"line\":{\"color\":\"white\",\"width\":0.6}},\"type\":\"histogram\"}],\"mesh3d\":[{\"colorbar\":{\"outlinewidth\":1,\"tickcolor\":\"rgb(36,36,36)\",\"ticks\":\"outside\"},\"type\":\"mesh3d\"}],\"parcoords\":[{\"line\":{\"colorbar\":{\"outlinewidth\":1,\"tickcolor\":\"rgb(36,36,36)\",\"ticks\":\"outside\"}},\"type\":\"parcoords\"}],\"pie\":[{\"automargin\":true,\"type\":\"pie\"}],\"scatter3d\":[{\"line\":{\"colorbar\":{\"outlinewidth\":1,\"tickcolor\":\"rgb(36,36,36)\",\"ticks\":\"outside\"}},\"marker\":{\"colorbar\":{\"outlinewidth\":1,\"tickcolor\":\"rgb(36,36,36)\",\"ticks\":\"outside\"}},\"type\":\"scatter3d\"}],\"scattercarpet\":[{\"marker\":{\"colorbar\":{\"outlinewidth\":1,\"tickcolor\":\"rgb(36,36,36)\",\"ticks\":\"outside\"}},\"type\":\"scattercarpet\"}],\"scattergeo\":[{\"marker\":{\"colorbar\":{\"outlinewidth\":1,\"tickcolor\":\"rgb(36,36,36)\",\"ticks\":\"outside\"}},\"type\":\"scattergeo\"}],\"scattergl\":[{\"marker\":{\"colorbar\":{\"outlinewidth\":1,\"tickcolor\":\"rgb(36,36,36)\",\"ticks\":\"outside\"}},\"type\":\"scattergl\"}],\"scattermapbox\":[{\"marker\":{\"colorbar\":{\"outlinewidth\":1,\"tickcolor\":\"rgb(36,36,36)\",\"ticks\":\"outside\"}},\"type\":\"scattermapbox\"}],\"scatterpolargl\":[{\"marker\":{\"colorbar\":{\"outlinewidth\":1,\"tickcolor\":\"rgb(36,36,36)\",\"ticks\":\"outside\"}},\"type\":\"scatterpolargl\"}],\"scatterpolar\":[{\"marker\":{\"colorbar\":{\"outlinewidth\":1,\"tickcolor\":\"rgb(36,36,36)\",\"ticks\":\"outside\"}},\"type\":\"scatterpolar\"}],\"scatter\":[{\"fillpattern\":{\"fillmode\":\"overlay\",\"size\":10,\"solidity\":0.2},\"type\":\"scatter\"}],\"scatterternary\":[{\"marker\":{\"colorbar\":{\"outlinewidth\":1,\"tickcolor\":\"rgb(36,36,36)\",\"ticks\":\"outside\"}},\"type\":\"scatterternary\"}],\"surface\":[{\"colorbar\":{\"outlinewidth\":1,\"tickcolor\":\"rgb(36,36,36)\",\"ticks\":\"outside\"},\"colorscale\":[[0.0,\"#440154\"],[0.1111111111111111,\"#482878\"],[0.2222222222222222,\"#3e4989\"],[0.3333333333333333,\"#31688e\"],[0.4444444444444444,\"#26828e\"],[0.5555555555555556,\"#1f9e89\"],[0.6666666666666666,\"#35b779\"],[0.7777777777777778,\"#6ece58\"],[0.8888888888888888,\"#b5de2b\"],[1.0,\"#fde725\"]],\"type\":\"surface\"}],\"table\":[{\"cells\":{\"fill\":{\"color\":\"rgb(237,237,237)\"},\"line\":{\"color\":\"white\"}},\"header\":{\"fill\":{\"color\":\"rgb(217,217,217)\"},\"line\":{\"color\":\"white\"}},\"type\":\"table\"}]},\"layout\":{\"annotationdefaults\":{\"arrowhead\":0,\"arrowwidth\":1},\"autotypenumbers\":\"strict\",\"coloraxis\":{\"colorbar\":{\"outlinewidth\":1,\"tickcolor\":\"rgb(36,36,36)\",\"ticks\":\"outside\"}},\"colorscale\":{\"diverging\":[[0.0,\"rgb(103,0,31)\"],[0.1,\"rgb(178,24,43)\"],[0.2,\"rgb(214,96,77)\"],[0.3,\"rgb(244,165,130)\"],[0.4,\"rgb(253,219,199)\"],[0.5,\"rgb(247,247,247)\"],[0.6,\"rgb(209,229,240)\"],[0.7,\"rgb(146,197,222)\"],[0.8,\"rgb(67,147,195)\"],[0.9,\"rgb(33,102,172)\"],[1.0,\"rgb(5,48,97)\"]],\"sequential\":[[0.0,\"#440154\"],[0.1111111111111111,\"#482878\"],[0.2222222222222222,\"#3e4989\"],[0.3333333333333333,\"#31688e\"],[0.4444444444444444,\"#26828e\"],[0.5555555555555556,\"#1f9e89\"],[0.6666666666666666,\"#35b779\"],[0.7777777777777778,\"#6ece58\"],[0.8888888888888888,\"#b5de2b\"],[1.0,\"#fde725\"]],\"sequentialminus\":[[0.0,\"#440154\"],[0.1111111111111111,\"#482878\"],[0.2222222222222222,\"#3e4989\"],[0.3333333333333333,\"#31688e\"],[0.4444444444444444,\"#26828e\"],[0.5555555555555556,\"#1f9e89\"],[0.6666666666666666,\"#35b779\"],[0.7777777777777778,\"#6ece58\"],[0.8888888888888888,\"#b5de2b\"],[1.0,\"#fde725\"]]},\"colorway\":[\"#1F77B4\",\"#FF7F0E\",\"#2CA02C\",\"#D62728\",\"#9467BD\",\"#8C564B\",\"#E377C2\",\"#7F7F7F\",\"#BCBD22\",\"#17BECF\"],\"font\":{\"color\":\"rgb(36,36,36)\"},\"geo\":{\"bgcolor\":\"white\",\"lakecolor\":\"white\",\"landcolor\":\"white\",\"showlakes\":true,\"showland\":true,\"subunitcolor\":\"white\"},\"hoverlabel\":{\"align\":\"left\"},\"hovermode\":\"closest\",\"mapbox\":{\"style\":\"light\"},\"paper_bgcolor\":\"white\",\"plot_bgcolor\":\"white\",\"polar\":{\"angularaxis\":{\"gridcolor\":\"rgb(232,232,232)\",\"linecolor\":\"rgb(36,36,36)\",\"showgrid\":false,\"showline\":true,\"ticks\":\"outside\"},\"bgcolor\":\"white\",\"radialaxis\":{\"gridcolor\":\"rgb(232,232,232)\",\"linecolor\":\"rgb(36,36,36)\",\"showgrid\":false,\"showline\":true,\"ticks\":\"outside\"}},\"scene\":{\"xaxis\":{\"backgroundcolor\":\"white\",\"gridcolor\":\"rgb(232,232,232)\",\"gridwidth\":2,\"linecolor\":\"rgb(36,36,36)\",\"showbackground\":true,\"showgrid\":false,\"showline\":true,\"ticks\":\"outside\",\"zeroline\":false,\"zerolinecolor\":\"rgb(36,36,36)\"},\"yaxis\":{\"backgroundcolor\":\"white\",\"gridcolor\":\"rgb(232,232,232)\",\"gridwidth\":2,\"linecolor\":\"rgb(36,36,36)\",\"showbackground\":true,\"showgrid\":false,\"showline\":true,\"ticks\":\"outside\",\"zeroline\":false,\"zerolinecolor\":\"rgb(36,36,36)\"},\"zaxis\":{\"backgroundcolor\":\"white\",\"gridcolor\":\"rgb(232,232,232)\",\"gridwidth\":2,\"linecolor\":\"rgb(36,36,36)\",\"showbackground\":true,\"showgrid\":false,\"showline\":true,\"ticks\":\"outside\",\"zeroline\":false,\"zerolinecolor\":\"rgb(36,36,36)\"}},\"shapedefaults\":{\"fillcolor\":\"black\",\"line\":{\"width\":0},\"opacity\":0.3},\"ternary\":{\"aaxis\":{\"gridcolor\":\"rgb(232,232,232)\",\"linecolor\":\"rgb(36,36,36)\",\"showgrid\":false,\"showline\":true,\"ticks\":\"outside\"},\"baxis\":{\"gridcolor\":\"rgb(232,232,232)\",\"linecolor\":\"rgb(36,36,36)\",\"showgrid\":false,\"showline\":true,\"ticks\":\"outside\"},\"bgcolor\":\"white\",\"caxis\":{\"gridcolor\":\"rgb(232,232,232)\",\"linecolor\":\"rgb(36,36,36)\",\"showgrid\":false,\"showline\":true,\"ticks\":\"outside\"}},\"title\":{\"x\":0.05},\"xaxis\":{\"automargin\":true,\"gridcolor\":\"rgb(232,232,232)\",\"linecolor\":\"rgb(36,36,36)\",\"showgrid\":false,\"showline\":true,\"ticks\":\"outside\",\"title\":{\"standoff\":15},\"zeroline\":false,\"zerolinecolor\":\"rgb(36,36,36)\"},\"yaxis\":{\"automargin\":true,\"gridcolor\":\"rgb(232,232,232)\",\"linecolor\":\"rgb(36,36,36)\",\"showgrid\":false,\"showline\":true,\"ticks\":\"outside\",\"title\":{\"standoff\":15},\"zeroline\":false,\"zerolinecolor\":\"rgb(36,36,36)\"}}},\"xaxis\":{\"anchor\":\"y\",\"domain\":[0.0,1.0],\"title\":{\"text\":\"\"},\"visible\":false,\"range\":[15.590976428985595,30.579855728149415]},\"yaxis\":{\"anchor\":\"x\",\"domain\":[0.0,1.0],\"title\":{\"text\":\"\"},\"visible\":false,\"range\":[1.5906070113182067,8.277503633499146]},\"legend\":{\"tracegroupgap\":0,\"itemsizing\":\"constant\"},\"margin\":{\"t\":60},\"title\":{\"font\":{\"size\":22,\"color\":\"Black\"},\"text\":\"<b>Intertopic Distance Map</b>\",\"y\":0.95,\"x\":0.5,\"xanchor\":\"center\",\"yanchor\":\"top\"},\"hoverlabel\":{\"font\":{\"size\":16,\"family\":\"Rockwell\"},\"bgcolor\":\"white\"},\"width\":650,\"height\":650,\"sliders\":[{\"active\":0,\"pad\":{\"t\":50},\"steps\":[{\"args\":[{\"marker.color\":[[\"red\",\"#B0BEC5\",\"#B0BEC5\",\"#B0BEC5\",\"#B0BEC5\",\"#B0BEC5\",\"#B0BEC5\",\"#B0BEC5\",\"#B0BEC5\",\"#B0BEC5\",\"#B0BEC5\"]]}],\"label\":\"Topic 0\",\"method\":\"update\"},{\"args\":[{\"marker.color\":[[\"#B0BEC5\",\"red\",\"#B0BEC5\",\"#B0BEC5\",\"#B0BEC5\",\"#B0BEC5\",\"#B0BEC5\",\"#B0BEC5\",\"#B0BEC5\",\"#B0BEC5\",\"#B0BEC5\"]]}],\"label\":\"Topic 1\",\"method\":\"update\"},{\"args\":[{\"marker.color\":[[\"#B0BEC5\",\"#B0BEC5\",\"red\",\"#B0BEC5\",\"#B0BEC5\",\"#B0BEC5\",\"#B0BEC5\",\"#B0BEC5\",\"#B0BEC5\",\"#B0BEC5\",\"#B0BEC5\"]]}],\"label\":\"Topic 2\",\"method\":\"update\"},{\"args\":[{\"marker.color\":[[\"#B0BEC5\",\"#B0BEC5\",\"#B0BEC5\",\"red\",\"#B0BEC5\",\"#B0BEC5\",\"#B0BEC5\",\"#B0BEC5\",\"#B0BEC5\",\"#B0BEC5\",\"#B0BEC5\"]]}],\"label\":\"Topic 3\",\"method\":\"update\"},{\"args\":[{\"marker.color\":[[\"#B0BEC5\",\"#B0BEC5\",\"#B0BEC5\",\"#B0BEC5\",\"red\",\"#B0BEC5\",\"#B0BEC5\",\"#B0BEC5\",\"#B0BEC5\",\"#B0BEC5\",\"#B0BEC5\"]]}],\"label\":\"Topic 4\",\"method\":\"update\"},{\"args\":[{\"marker.color\":[[\"#B0BEC5\",\"#B0BEC5\",\"#B0BEC5\",\"#B0BEC5\",\"#B0BEC5\",\"red\",\"#B0BEC5\",\"#B0BEC5\",\"#B0BEC5\",\"#B0BEC5\",\"#B0BEC5\"]]}],\"label\":\"Topic 5\",\"method\":\"update\"},{\"args\":[{\"marker.color\":[[\"#B0BEC5\",\"#B0BEC5\",\"#B0BEC5\",\"#B0BEC5\",\"#B0BEC5\",\"#B0BEC5\",\"red\",\"#B0BEC5\",\"#B0BEC5\",\"#B0BEC5\",\"#B0BEC5\"]]}],\"label\":\"Topic 6\",\"method\":\"update\"},{\"args\":[{\"marker.color\":[[\"#B0BEC5\",\"#B0BEC5\",\"#B0BEC5\",\"#B0BEC5\",\"#B0BEC5\",\"#B0BEC5\",\"#B0BEC5\",\"red\",\"#B0BEC5\",\"#B0BEC5\",\"#B0BEC5\"]]}],\"label\":\"Topic 7\",\"method\":\"update\"},{\"args\":[{\"marker.color\":[[\"#B0BEC5\",\"#B0BEC5\",\"#B0BEC5\",\"#B0BEC5\",\"#B0BEC5\",\"#B0BEC5\",\"#B0BEC5\",\"#B0BEC5\",\"red\",\"#B0BEC5\",\"#B0BEC5\"]]}],\"label\":\"Topic 8\",\"method\":\"update\"},{\"args\":[{\"marker.color\":[[\"#B0BEC5\",\"#B0BEC5\",\"#B0BEC5\",\"#B0BEC5\",\"#B0BEC5\",\"#B0BEC5\",\"#B0BEC5\",\"#B0BEC5\",\"#B0BEC5\",\"red\",\"#B0BEC5\"]]}],\"label\":\"Topic 9\",\"method\":\"update\"},{\"args\":[{\"marker.color\":[[\"#B0BEC5\",\"#B0BEC5\",\"#B0BEC5\",\"#B0BEC5\",\"#B0BEC5\",\"#B0BEC5\",\"#B0BEC5\",\"#B0BEC5\",\"#B0BEC5\",\"#B0BEC5\",\"red\"]]}],\"label\":\"Topic 10\",\"method\":\"update\"}]}],\"shapes\":[{\"line\":{\"color\":\"#CFD8DC\",\"width\":2},\"type\":\"line\",\"x0\":23.085416078567505,\"x1\":23.085416078567505,\"y0\":1.5906070113182067,\"y1\":8.277503633499146},{\"line\":{\"color\":\"#9E9E9E\",\"width\":2},\"type\":\"line\",\"x0\":15.590976428985595,\"x1\":30.579855728149415,\"y0\":4.9340553224086765,\"y1\":4.9340553224086765}],\"annotations\":[{\"showarrow\":false,\"text\":\"D1\",\"x\":15.590976428985595,\"y\":4.9340553224086765,\"yshift\":10},{\"showarrow\":false,\"text\":\"D2\",\"x\":23.085416078567505,\"xshift\":10,\"y\":8.277503633499146}]},                        {\"responsive\": true}                    ).then(function(){\n                            \nvar gd = document.getElementById('d7498aa3-fd79-4122-bb47-fba949f7f864');\nvar x = new MutationObserver(function (mutations, observer) {{\n        var display = window.getComputedStyle(gd).display;\n        if (!display || display === 'none') {{\n            console.log([gd, 'removed!']);\n            Plotly.purge(gd);\n            observer.disconnect();\n        }}\n}});\n\n// Listen for the removal of the full notebook cells\nvar notebookContainer = gd.closest('#notebook-container');\nif (notebookContainer) {{\n    x.observe(notebookContainer, {childList: true});\n}}\n\n// Listen for the clearing of the current output cell\nvar outputEl = gd.closest('.output');\nif (outputEl) {{\n    x.observe(outputEl, {childList: true});\n}}\n\n                        })                };                });            </script>        </div>"
     },
     "metadata": {},
     "output_type": "display_data"
    }
   ]
  },
  {
   "cell_type": "markdown",
   "metadata": {
    "id": "ITB7bf6q8nWQ"
   },
   "source": [
    "## Visualize Topic Probabilities\n",
    "\n",
    "The variable `probabilities` that is returned from `transform()` or `fit_transform()` can \n",
    "be used to understand how confident BERTopic is that certain topics can be found in a document. \n",
    "\n",
    "To visualize the distributions, we simply call:"
   ]
  },
  {
   "cell_type": "code",
   "metadata": {
    "colab": {
     "base_uri": "https://localhost:8080/",
     "height": 542
    },
    "id": "ypfI1-KHdmcX",
    "outputId": "4fd56127-4143-4cf7-d227-ef43725f1ad7",
    "ExecuteTime": {
     "end_time": "2023-05-16T08:14:46.751229201Z",
     "start_time": "2023-05-16T08:14:46.329490821Z"
    }
   },
   "source": [
    "topic_model.visualize_distribution(probs[200], min_probability=0.015)"
   ],
   "execution_count": 61,
   "outputs": [
    {
     "ename": "ValueError",
     "evalue": "This visualization cannot be used if you have set `calculate_probabilities` to False as it uses the topic probabilities of all topics. ",
     "output_type": "error",
     "traceback": [
      "\u001B[0;31m---------------------------------------------------------------------------\u001B[0m",
      "\u001B[0;31mValueError\u001B[0m                                Traceback (most recent call last)",
      "Cell \u001B[0;32mIn[61], line 1\u001B[0m\n\u001B[0;32m----> 1\u001B[0m \u001B[43mtopic_model\u001B[49m\u001B[38;5;241;43m.\u001B[39;49m\u001B[43mvisualize_distribution\u001B[49m\u001B[43m(\u001B[49m\u001B[43mprobs\u001B[49m\u001B[43m[\u001B[49m\u001B[38;5;241;43m200\u001B[39;49m\u001B[43m]\u001B[49m\u001B[43m,\u001B[49m\u001B[43m \u001B[49m\u001B[43mmin_probability\u001B[49m\u001B[38;5;241;43m=\u001B[39;49m\u001B[38;5;241;43m0.015\u001B[39;49m\u001B[43m)\u001B[49m\n",
      "File \u001B[0;32m~/.conda/envs/IA_TexT/lib/python3.8/site-packages/bertopic/_bertopic.py:2456\u001B[0m, in \u001B[0;36mBERTopic.visualize_distribution\u001B[0;34m(self, probabilities, min_probability, custom_labels, title, width, height)\u001B[0m\n\u001B[1;32m   2427\u001B[0m \u001B[38;5;250m\u001B[39m\u001B[38;5;124;03m\"\"\" Visualize the distribution of topic probabilities\u001B[39;00m\n\u001B[1;32m   2428\u001B[0m \n\u001B[1;32m   2429\u001B[0m \u001B[38;5;124;03mArguments:\u001B[39;00m\n\u001B[0;32m   (...)\u001B[0m\n\u001B[1;32m   2453\u001B[0m \u001B[38;5;124;03m```\u001B[39;00m\n\u001B[1;32m   2454\u001B[0m \u001B[38;5;124;03m\"\"\"\u001B[39;00m\n\u001B[1;32m   2455\u001B[0m check_is_fitted(\u001B[38;5;28mself\u001B[39m)\n\u001B[0;32m-> 2456\u001B[0m \u001B[38;5;28;01mreturn\u001B[39;00m \u001B[43mplotting\u001B[49m\u001B[38;5;241;43m.\u001B[39;49m\u001B[43mvisualize_distribution\u001B[49m\u001B[43m(\u001B[49m\u001B[38;5;28;43mself\u001B[39;49m\u001B[43m,\u001B[49m\n\u001B[1;32m   2457\u001B[0m \u001B[43m                                       \u001B[49m\u001B[43mprobabilities\u001B[49m\u001B[38;5;241;43m=\u001B[39;49m\u001B[43mprobabilities\u001B[49m\u001B[43m,\u001B[49m\n\u001B[1;32m   2458\u001B[0m \u001B[43m                                       \u001B[49m\u001B[43mmin_probability\u001B[49m\u001B[38;5;241;43m=\u001B[39;49m\u001B[43mmin_probability\u001B[49m\u001B[43m,\u001B[49m\n\u001B[1;32m   2459\u001B[0m \u001B[43m                                       \u001B[49m\u001B[43mcustom_labels\u001B[49m\u001B[38;5;241;43m=\u001B[39;49m\u001B[43mcustom_labels\u001B[49m\u001B[43m,\u001B[49m\n\u001B[1;32m   2460\u001B[0m \u001B[43m                                       \u001B[49m\u001B[43mtitle\u001B[49m\u001B[38;5;241;43m=\u001B[39;49m\u001B[43mtitle\u001B[49m\u001B[43m,\u001B[49m\n\u001B[1;32m   2461\u001B[0m \u001B[43m                                       \u001B[49m\u001B[43mwidth\u001B[49m\u001B[38;5;241;43m=\u001B[39;49m\u001B[43mwidth\u001B[49m\u001B[43m,\u001B[49m\n\u001B[1;32m   2462\u001B[0m \u001B[43m                                       \u001B[49m\u001B[43mheight\u001B[49m\u001B[38;5;241;43m=\u001B[39;49m\u001B[43mheight\u001B[49m\u001B[43m)\u001B[49m\n",
      "File \u001B[0;32m~/.conda/envs/IA_TexT/lib/python3.8/site-packages/bertopic/plotting/_distribution.py:44\u001B[0m, in \u001B[0;36mvisualize_distribution\u001B[0;34m(topic_model, probabilities, min_probability, custom_labels, title, width, height)\u001B[0m\n\u001B[1;32m     12\u001B[0m \u001B[38;5;250m\u001B[39m\u001B[38;5;124;03m\"\"\" Visualize the distribution of topic probabilities\u001B[39;00m\n\u001B[1;32m     13\u001B[0m \n\u001B[1;32m     14\u001B[0m \u001B[38;5;124;03mArguments:\u001B[39;00m\n\u001B[0;32m   (...)\u001B[0m\n\u001B[1;32m     41\u001B[0m \u001B[38;5;124;03mstyle=\"width:1000px; height: 500px; border: 0px;\"\"></iframe>\u001B[39;00m\n\u001B[1;32m     42\u001B[0m \u001B[38;5;124;03m\"\"\"\u001B[39;00m\n\u001B[1;32m     43\u001B[0m \u001B[38;5;28;01mif\u001B[39;00m \u001B[38;5;28mlen\u001B[39m(probabilities\u001B[38;5;241m.\u001B[39mshape) \u001B[38;5;241m!=\u001B[39m \u001B[38;5;241m1\u001B[39m:\n\u001B[0;32m---> 44\u001B[0m     \u001B[38;5;28;01mraise\u001B[39;00m \u001B[38;5;167;01mValueError\u001B[39;00m(\u001B[38;5;124m\"\u001B[39m\u001B[38;5;124mThis visualization cannot be used if you have set `calculate_probabilities` to False \u001B[39m\u001B[38;5;124m\"\u001B[39m\n\u001B[1;32m     45\u001B[0m                      \u001B[38;5;124m\"\u001B[39m\u001B[38;5;124mas it uses the topic probabilities of all topics. \u001B[39m\u001B[38;5;124m\"\u001B[39m)\n\u001B[1;32m     46\u001B[0m \u001B[38;5;28;01mif\u001B[39;00m \u001B[38;5;28mlen\u001B[39m(probabilities[probabilities \u001B[38;5;241m>\u001B[39m min_probability]) \u001B[38;5;241m==\u001B[39m \u001B[38;5;241m0\u001B[39m:\n\u001B[1;32m     47\u001B[0m     \u001B[38;5;28;01mraise\u001B[39;00m \u001B[38;5;167;01mValueError\u001B[39;00m(\u001B[38;5;124m\"\u001B[39m\u001B[38;5;124mThere are no values where `min_probability` is higher than the \u001B[39m\u001B[38;5;124m\"\u001B[39m\n\u001B[1;32m     48\u001B[0m                      \u001B[38;5;124m\"\u001B[39m\u001B[38;5;124mprobabilities that were supplied. Lower `min_probability` to prevent this error.\u001B[39m\u001B[38;5;124m\"\u001B[39m)\n",
      "\u001B[0;31mValueError\u001B[0m: This visualization cannot be used if you have set `calculate_probabilities` to False as it uses the topic probabilities of all topics. "
     ]
    }
   ]
  },
  {
   "cell_type": "markdown",
   "metadata": {
    "id": "QHRTeSpl5JYB"
   },
   "source": [
    "## Visualize Topic Hierarchy\n",
    "\n",
    "The topics that were created can be hierarchically reduced. In order to understand the potential hierarchical structure of the topics, we can use scipy.cluster.hierarchy to create clusters and visualize how they relate to one another. This might help selecting an appropriate nr_topics when reducing the number of topics that you have created."
   ]
  },
  {
   "cell_type": "code",
   "metadata": {
    "colab": {
     "base_uri": "https://localhost:8080/",
     "height": 617
    },
    "id": "ltmLFRR56a4X",
    "outputId": "0458e59c-30ce-4700-8dbf-0932afc63f1d",
    "ExecuteTime": {
     "end_time": "2023-05-16T08:14:50.906021780Z",
     "start_time": "2023-05-16T08:14:50.648175646Z"
    }
   },
   "source": [
    "topic_model.visualize_hierarchy(top_n_topics=50)"
   ],
   "execution_count": 62,
   "outputs": [
    {
     "data": {
      "application/vnd.plotly.v1+json": {
       "data": [
        {
         "hoverinfo": "text",
         "marker": {
          "color": "rgb(0,116,217)"
         },
         "mode": "lines",
         "x": [
          0.0,
          1.077481869372501,
          1.077481869372501,
          0.0
         ],
         "xaxis": "x",
         "y": [
          -25.0,
          -25.0,
          -35.0,
          -35.0
         ],
         "yaxis": "y",
         "type": "scatter"
        },
        {
         "hoverinfo": "text",
         "marker": {
          "color": "rgb(0,116,217)"
         },
         "mode": "lines",
         "x": [
          1.077481869372501,
          1.1397049851366827,
          1.1397049851366827,
          0.0
         ],
         "xaxis": "x",
         "y": [
          -30.0,
          -30.0,
          -45.0,
          -45.0
         ],
         "yaxis": "y",
         "type": "scatter"
        },
        {
         "hoverinfo": "text",
         "marker": {
          "color": "rgb(0,116,217)"
         },
         "mode": "lines",
         "x": [
          0.0,
          1.2538839420154115,
          1.2538839420154115,
          1.1397049851366827
         ],
         "xaxis": "x",
         "y": [
          -15.0,
          -15.0,
          -37.5,
          -37.5
         ],
         "yaxis": "y",
         "type": "scatter"
        },
        {
         "hoverinfo": "text",
         "marker": {
          "color": "rgb(0,116,217)"
         },
         "mode": "lines",
         "x": [
          0.0,
          1.2230024373448742,
          1.2230024373448742,
          0.0
         ],
         "xaxis": "x",
         "y": [
          -55.0,
          -55.0,
          -65.0,
          -65.0
         ],
         "yaxis": "y",
         "type": "scatter"
        },
        {
         "hoverinfo": "text",
         "marker": {
          "color": "rgb(0,116,217)"
         },
         "mode": "lines",
         "x": [
          1.2538839420154115,
          1.3023902313949374,
          1.3023902313949374,
          1.2230024373448742
         ],
         "xaxis": "x",
         "y": [
          -26.25,
          -26.25,
          -60.0,
          -60.0
         ],
         "yaxis": "y",
         "type": "scatter"
        },
        {
         "hoverinfo": "text",
         "marker": {
          "color": "rgb(0,116,217)"
         },
         "mode": "lines",
         "x": [
          0.0,
          1.3087124710382902,
          1.3087124710382902,
          1.3023902313949374
         ],
         "xaxis": "x",
         "y": [
          -5.0,
          -5.0,
          -43.125,
          -43.125
         ],
         "yaxis": "y",
         "type": "scatter"
        },
        {
         "hoverinfo": "text",
         "marker": {
          "color": "rgb(0,116,217)"
         },
         "mode": "lines",
         "x": [
          0.0,
          1.092842696943064,
          1.092842696943064,
          0.0
         ],
         "xaxis": "x",
         "y": [
          -75.0,
          -75.0,
          -85.0,
          -85.0
         ],
         "yaxis": "y",
         "type": "scatter"
        },
        {
         "hoverinfo": "text",
         "marker": {
          "color": "rgb(0,116,217)"
         },
         "mode": "lines",
         "x": [
          0.0,
          1.1752506978766055,
          1.1752506978766055,
          0.0
         ],
         "xaxis": "x",
         "y": [
          -95.0,
          -95.0,
          -105.0,
          -105.0
         ],
         "yaxis": "y",
         "type": "scatter"
        },
        {
         "hoverinfo": "text",
         "marker": {
          "color": "rgb(0,116,217)"
         },
         "mode": "lines",
         "x": [
          1.092842696943064,
          1.3888052110286297,
          1.3888052110286297,
          1.1752506978766055
         ],
         "xaxis": "x",
         "y": [
          -80.0,
          -80.0,
          -100.0,
          -100.0
         ],
         "yaxis": "y",
         "type": "scatter"
        },
        {
         "hoverinfo": "text",
         "marker": {
          "color": "rgb(0,116,217)"
         },
         "mode": "lines",
         "x": [
          1.3087124710382902,
          1.4496934823032217,
          1.4496934823032217,
          1.3888052110286297
         ],
         "xaxis": "x",
         "y": [
          -24.0625,
          -24.0625,
          -90.0,
          -90.0
         ],
         "yaxis": "y",
         "type": "scatter"
        }
       ],
       "layout": {
        "autosize": false,
        "height": 365,
        "hovermode": "closest",
        "showlegend": false,
        "width": 1000,
        "xaxis": {
         "mirror": "allticks",
         "rangemode": "tozero",
         "showgrid": false,
         "showline": true,
         "showticklabels": true,
         "ticks": "outside",
         "type": "linear",
         "zeroline": false
        },
        "yaxis": {
         "mirror": "allticks",
         "rangemode": "tozero",
         "showgrid": false,
         "showline": true,
         "showticklabels": true,
         "tickmode": "array",
         "ticks": "outside",
         "ticktext": [
          "4_etinilestradiol_gravidez_...",
          "9_insuficiencia_avc_potassica",
          "3_dor_dores_osteoporose",
          "0_vitamina_indicado_calcio",
          "2_transtorno_tratamento_ans...",
          "5_cancer_mama_tratamento",
          "10_hpb_doxazosina_mesilato",
          "8_alergica_nasal_prurido",
          "6_estomago_ulcera_vomitos",
          "1_infeccoes_causadas_trato",
          "7_dermatite_pele_betametasona"
         ],
         "tickvals": [
          -5.0,
          -15.0,
          -25.0,
          -35.0,
          -45.0,
          -55.0,
          -65.0,
          -75.0,
          -85.0,
          -95.0,
          -105.0
         ],
         "type": "linear",
         "zeroline": false,
         "range": [
          -110.0,
          0.0
         ]
        },
        "template": {
         "data": {
          "barpolar": [
           {
            "marker": {
             "line": {
              "color": "white",
              "width": 0.5
             },
             "pattern": {
              "fillmode": "overlay",
              "size": 10,
              "solidity": 0.2
             }
            },
            "type": "barpolar"
           }
          ],
          "bar": [
           {
            "error_x": {
             "color": "#2a3f5f"
            },
            "error_y": {
             "color": "#2a3f5f"
            },
            "marker": {
             "line": {
              "color": "white",
              "width": 0.5
             },
             "pattern": {
              "fillmode": "overlay",
              "size": 10,
              "solidity": 0.2
             }
            },
            "type": "bar"
           }
          ],
          "carpet": [
           {
            "aaxis": {
             "endlinecolor": "#2a3f5f",
             "gridcolor": "#C8D4E3",
             "linecolor": "#C8D4E3",
             "minorgridcolor": "#C8D4E3",
             "startlinecolor": "#2a3f5f"
            },
            "baxis": {
             "endlinecolor": "#2a3f5f",
             "gridcolor": "#C8D4E3",
             "linecolor": "#C8D4E3",
             "minorgridcolor": "#C8D4E3",
             "startlinecolor": "#2a3f5f"
            },
            "type": "carpet"
           }
          ],
          "choropleth": [
           {
            "colorbar": {
             "outlinewidth": 0,
             "ticks": ""
            },
            "type": "choropleth"
           }
          ],
          "contourcarpet": [
           {
            "colorbar": {
             "outlinewidth": 0,
             "ticks": ""
            },
            "type": "contourcarpet"
           }
          ],
          "contour": [
           {
            "colorbar": {
             "outlinewidth": 0,
             "ticks": ""
            },
            "colorscale": [
             [
              0.0,
              "#0d0887"
             ],
             [
              0.1111111111111111,
              "#46039f"
             ],
             [
              0.2222222222222222,
              "#7201a8"
             ],
             [
              0.3333333333333333,
              "#9c179e"
             ],
             [
              0.4444444444444444,
              "#bd3786"
             ],
             [
              0.5555555555555556,
              "#d8576b"
             ],
             [
              0.6666666666666666,
              "#ed7953"
             ],
             [
              0.7777777777777778,
              "#fb9f3a"
             ],
             [
              0.8888888888888888,
              "#fdca26"
             ],
             [
              1.0,
              "#f0f921"
             ]
            ],
            "type": "contour"
           }
          ],
          "heatmapgl": [
           {
            "colorbar": {
             "outlinewidth": 0,
             "ticks": ""
            },
            "colorscale": [
             [
              0.0,
              "#0d0887"
             ],
             [
              0.1111111111111111,
              "#46039f"
             ],
             [
              0.2222222222222222,
              "#7201a8"
             ],
             [
              0.3333333333333333,
              "#9c179e"
             ],
             [
              0.4444444444444444,
              "#bd3786"
             ],
             [
              0.5555555555555556,
              "#d8576b"
             ],
             [
              0.6666666666666666,
              "#ed7953"
             ],
             [
              0.7777777777777778,
              "#fb9f3a"
             ],
             [
              0.8888888888888888,
              "#fdca26"
             ],
             [
              1.0,
              "#f0f921"
             ]
            ],
            "type": "heatmapgl"
           }
          ],
          "heatmap": [
           {
            "colorbar": {
             "outlinewidth": 0,
             "ticks": ""
            },
            "colorscale": [
             [
              0.0,
              "#0d0887"
             ],
             [
              0.1111111111111111,
              "#46039f"
             ],
             [
              0.2222222222222222,
              "#7201a8"
             ],
             [
              0.3333333333333333,
              "#9c179e"
             ],
             [
              0.4444444444444444,
              "#bd3786"
             ],
             [
              0.5555555555555556,
              "#d8576b"
             ],
             [
              0.6666666666666666,
              "#ed7953"
             ],
             [
              0.7777777777777778,
              "#fb9f3a"
             ],
             [
              0.8888888888888888,
              "#fdca26"
             ],
             [
              1.0,
              "#f0f921"
             ]
            ],
            "type": "heatmap"
           }
          ],
          "histogram2dcontour": [
           {
            "colorbar": {
             "outlinewidth": 0,
             "ticks": ""
            },
            "colorscale": [
             [
              0.0,
              "#0d0887"
             ],
             [
              0.1111111111111111,
              "#46039f"
             ],
             [
              0.2222222222222222,
              "#7201a8"
             ],
             [
              0.3333333333333333,
              "#9c179e"
             ],
             [
              0.4444444444444444,
              "#bd3786"
             ],
             [
              0.5555555555555556,
              "#d8576b"
             ],
             [
              0.6666666666666666,
              "#ed7953"
             ],
             [
              0.7777777777777778,
              "#fb9f3a"
             ],
             [
              0.8888888888888888,
              "#fdca26"
             ],
             [
              1.0,
              "#f0f921"
             ]
            ],
            "type": "histogram2dcontour"
           }
          ],
          "histogram2d": [
           {
            "colorbar": {
             "outlinewidth": 0,
             "ticks": ""
            },
            "colorscale": [
             [
              0.0,
              "#0d0887"
             ],
             [
              0.1111111111111111,
              "#46039f"
             ],
             [
              0.2222222222222222,
              "#7201a8"
             ],
             [
              0.3333333333333333,
              "#9c179e"
             ],
             [
              0.4444444444444444,
              "#bd3786"
             ],
             [
              0.5555555555555556,
              "#d8576b"
             ],
             [
              0.6666666666666666,
              "#ed7953"
             ],
             [
              0.7777777777777778,
              "#fb9f3a"
             ],
             [
              0.8888888888888888,
              "#fdca26"
             ],
             [
              1.0,
              "#f0f921"
             ]
            ],
            "type": "histogram2d"
           }
          ],
          "histogram": [
           {
            "marker": {
             "pattern": {
              "fillmode": "overlay",
              "size": 10,
              "solidity": 0.2
             }
            },
            "type": "histogram"
           }
          ],
          "mesh3d": [
           {
            "colorbar": {
             "outlinewidth": 0,
             "ticks": ""
            },
            "type": "mesh3d"
           }
          ],
          "parcoords": [
           {
            "line": {
             "colorbar": {
              "outlinewidth": 0,
              "ticks": ""
             }
            },
            "type": "parcoords"
           }
          ],
          "pie": [
           {
            "automargin": true,
            "type": "pie"
           }
          ],
          "scatter3d": [
           {
            "line": {
             "colorbar": {
              "outlinewidth": 0,
              "ticks": ""
             }
            },
            "marker": {
             "colorbar": {
              "outlinewidth": 0,
              "ticks": ""
             }
            },
            "type": "scatter3d"
           }
          ],
          "scattercarpet": [
           {
            "marker": {
             "colorbar": {
              "outlinewidth": 0,
              "ticks": ""
             }
            },
            "type": "scattercarpet"
           }
          ],
          "scattergeo": [
           {
            "marker": {
             "colorbar": {
              "outlinewidth": 0,
              "ticks": ""
             }
            },
            "type": "scattergeo"
           }
          ],
          "scattergl": [
           {
            "marker": {
             "colorbar": {
              "outlinewidth": 0,
              "ticks": ""
             }
            },
            "type": "scattergl"
           }
          ],
          "scattermapbox": [
           {
            "marker": {
             "colorbar": {
              "outlinewidth": 0,
              "ticks": ""
             }
            },
            "type": "scattermapbox"
           }
          ],
          "scatterpolargl": [
           {
            "marker": {
             "colorbar": {
              "outlinewidth": 0,
              "ticks": ""
             }
            },
            "type": "scatterpolargl"
           }
          ],
          "scatterpolar": [
           {
            "marker": {
             "colorbar": {
              "outlinewidth": 0,
              "ticks": ""
             }
            },
            "type": "scatterpolar"
           }
          ],
          "scatter": [
           {
            "fillpattern": {
             "fillmode": "overlay",
             "size": 10,
             "solidity": 0.2
            },
            "type": "scatter"
           }
          ],
          "scatterternary": [
           {
            "marker": {
             "colorbar": {
              "outlinewidth": 0,
              "ticks": ""
             }
            },
            "type": "scatterternary"
           }
          ],
          "surface": [
           {
            "colorbar": {
             "outlinewidth": 0,
             "ticks": ""
            },
            "colorscale": [
             [
              0.0,
              "#0d0887"
             ],
             [
              0.1111111111111111,
              "#46039f"
             ],
             [
              0.2222222222222222,
              "#7201a8"
             ],
             [
              0.3333333333333333,
              "#9c179e"
             ],
             [
              0.4444444444444444,
              "#bd3786"
             ],
             [
              0.5555555555555556,
              "#d8576b"
             ],
             [
              0.6666666666666666,
              "#ed7953"
             ],
             [
              0.7777777777777778,
              "#fb9f3a"
             ],
             [
              0.8888888888888888,
              "#fdca26"
             ],
             [
              1.0,
              "#f0f921"
             ]
            ],
            "type": "surface"
           }
          ],
          "table": [
           {
            "cells": {
             "fill": {
              "color": "#EBF0F8"
             },
             "line": {
              "color": "white"
             }
            },
            "header": {
             "fill": {
              "color": "#C8D4E3"
             },
             "line": {
              "color": "white"
             }
            },
            "type": "table"
           }
          ]
         },
         "layout": {
          "annotationdefaults": {
           "arrowcolor": "#2a3f5f",
           "arrowhead": 0,
           "arrowwidth": 1
          },
          "autotypenumbers": "strict",
          "coloraxis": {
           "colorbar": {
            "outlinewidth": 0,
            "ticks": ""
           }
          },
          "colorscale": {
           "diverging": [
            [
             0,
             "#8e0152"
            ],
            [
             0.1,
             "#c51b7d"
            ],
            [
             0.2,
             "#de77ae"
            ],
            [
             0.3,
             "#f1b6da"
            ],
            [
             0.4,
             "#fde0ef"
            ],
            [
             0.5,
             "#f7f7f7"
            ],
            [
             0.6,
             "#e6f5d0"
            ],
            [
             0.7,
             "#b8e186"
            ],
            [
             0.8,
             "#7fbc41"
            ],
            [
             0.9,
             "#4d9221"
            ],
            [
             1,
             "#276419"
            ]
           ],
           "sequential": [
            [
             0.0,
             "#0d0887"
            ],
            [
             0.1111111111111111,
             "#46039f"
            ],
            [
             0.2222222222222222,
             "#7201a8"
            ],
            [
             0.3333333333333333,
             "#9c179e"
            ],
            [
             0.4444444444444444,
             "#bd3786"
            ],
            [
             0.5555555555555556,
             "#d8576b"
            ],
            [
             0.6666666666666666,
             "#ed7953"
            ],
            [
             0.7777777777777778,
             "#fb9f3a"
            ],
            [
             0.8888888888888888,
             "#fdca26"
            ],
            [
             1.0,
             "#f0f921"
            ]
           ],
           "sequentialminus": [
            [
             0.0,
             "#0d0887"
            ],
            [
             0.1111111111111111,
             "#46039f"
            ],
            [
             0.2222222222222222,
             "#7201a8"
            ],
            [
             0.3333333333333333,
             "#9c179e"
            ],
            [
             0.4444444444444444,
             "#bd3786"
            ],
            [
             0.5555555555555556,
             "#d8576b"
            ],
            [
             0.6666666666666666,
             "#ed7953"
            ],
            [
             0.7777777777777778,
             "#fb9f3a"
            ],
            [
             0.8888888888888888,
             "#fdca26"
            ],
            [
             1.0,
             "#f0f921"
            ]
           ]
          },
          "colorway": [
           "#636efa",
           "#EF553B",
           "#00cc96",
           "#ab63fa",
           "#FFA15A",
           "#19d3f3",
           "#FF6692",
           "#B6E880",
           "#FF97FF",
           "#FECB52"
          ],
          "font": {
           "color": "#2a3f5f"
          },
          "geo": {
           "bgcolor": "white",
           "lakecolor": "white",
           "landcolor": "white",
           "showlakes": true,
           "showland": true,
           "subunitcolor": "#C8D4E3"
          },
          "hoverlabel": {
           "align": "left"
          },
          "hovermode": "closest",
          "mapbox": {
           "style": "light"
          },
          "paper_bgcolor": "white",
          "plot_bgcolor": "white",
          "polar": {
           "angularaxis": {
            "gridcolor": "#EBF0F8",
            "linecolor": "#EBF0F8",
            "ticks": ""
           },
           "bgcolor": "white",
           "radialaxis": {
            "gridcolor": "#EBF0F8",
            "linecolor": "#EBF0F8",
            "ticks": ""
           }
          },
          "scene": {
           "xaxis": {
            "backgroundcolor": "white",
            "gridcolor": "#DFE8F3",
            "gridwidth": 2,
            "linecolor": "#EBF0F8",
            "showbackground": true,
            "ticks": "",
            "zerolinecolor": "#EBF0F8"
           },
           "yaxis": {
            "backgroundcolor": "white",
            "gridcolor": "#DFE8F3",
            "gridwidth": 2,
            "linecolor": "#EBF0F8",
            "showbackground": true,
            "ticks": "",
            "zerolinecolor": "#EBF0F8"
           },
           "zaxis": {
            "backgroundcolor": "white",
            "gridcolor": "#DFE8F3",
            "gridwidth": 2,
            "linecolor": "#EBF0F8",
            "showbackground": true,
            "ticks": "",
            "zerolinecolor": "#EBF0F8"
           }
          },
          "shapedefaults": {
           "line": {
            "color": "#2a3f5f"
           }
          },
          "ternary": {
           "aaxis": {
            "gridcolor": "#DFE8F3",
            "linecolor": "#A2B1C6",
            "ticks": ""
           },
           "baxis": {
            "gridcolor": "#DFE8F3",
            "linecolor": "#A2B1C6",
            "ticks": ""
           },
           "bgcolor": "white",
           "caxis": {
            "gridcolor": "#DFE8F3",
            "linecolor": "#A2B1C6",
            "ticks": ""
           }
          },
          "title": {
           "x": 0.05
          },
          "xaxis": {
           "automargin": true,
           "gridcolor": "#EBF0F8",
           "linecolor": "#EBF0F8",
           "ticks": "",
           "title": {
            "standoff": 15
           },
           "zerolinecolor": "#EBF0F8",
           "zerolinewidth": 2
          },
          "yaxis": {
           "automargin": true,
           "gridcolor": "#EBF0F8",
           "linecolor": "#EBF0F8",
           "ticks": "",
           "title": {
            "standoff": 15
           },
           "zerolinecolor": "#EBF0F8",
           "zerolinewidth": 2
          }
         }
        },
        "title": {
         "font": {
          "size": 22,
          "color": "Black"
         },
         "text": "<b>Hierarchical Clustering</b>",
         "x": 0.5,
         "xanchor": "center",
         "yanchor": "top"
        },
        "hoverlabel": {
         "font": {
          "size": 16,
          "family": "Rockwell"
         },
         "bgcolor": "white"
        },
        "plot_bgcolor": "#ECEFF1"
       },
       "config": {
        "plotlyServerURL": "https://plot.ly"
       }
      },
      "text/html": "<div>                            <div id=\"b37fb3ed-5c7c-4ee8-8878-83f32ff59e1e\" class=\"plotly-graph-div\" style=\"height:365px; width:1000px;\"></div>            <script type=\"text/javascript\">                require([\"plotly\"], function(Plotly) {                    window.PLOTLYENV=window.PLOTLYENV || {};                                    if (document.getElementById(\"b37fb3ed-5c7c-4ee8-8878-83f32ff59e1e\")) {                    Plotly.newPlot(                        \"b37fb3ed-5c7c-4ee8-8878-83f32ff59e1e\",                        [{\"hoverinfo\":\"text\",\"marker\":{\"color\":\"rgb(0,116,217)\"},\"mode\":\"lines\",\"x\":[0.0,1.077481869372501,1.077481869372501,0.0],\"xaxis\":\"x\",\"y\":[-25.0,-25.0,-35.0,-35.0],\"yaxis\":\"y\",\"type\":\"scatter\"},{\"hoverinfo\":\"text\",\"marker\":{\"color\":\"rgb(0,116,217)\"},\"mode\":\"lines\",\"x\":[1.077481869372501,1.1397049851366827,1.1397049851366827,0.0],\"xaxis\":\"x\",\"y\":[-30.0,-30.0,-45.0,-45.0],\"yaxis\":\"y\",\"type\":\"scatter\"},{\"hoverinfo\":\"text\",\"marker\":{\"color\":\"rgb(0,116,217)\"},\"mode\":\"lines\",\"x\":[0.0,1.2538839420154115,1.2538839420154115,1.1397049851366827],\"xaxis\":\"x\",\"y\":[-15.0,-15.0,-37.5,-37.5],\"yaxis\":\"y\",\"type\":\"scatter\"},{\"hoverinfo\":\"text\",\"marker\":{\"color\":\"rgb(0,116,217)\"},\"mode\":\"lines\",\"x\":[0.0,1.2230024373448742,1.2230024373448742,0.0],\"xaxis\":\"x\",\"y\":[-55.0,-55.0,-65.0,-65.0],\"yaxis\":\"y\",\"type\":\"scatter\"},{\"hoverinfo\":\"text\",\"marker\":{\"color\":\"rgb(0,116,217)\"},\"mode\":\"lines\",\"x\":[1.2538839420154115,1.3023902313949374,1.3023902313949374,1.2230024373448742],\"xaxis\":\"x\",\"y\":[-26.25,-26.25,-60.0,-60.0],\"yaxis\":\"y\",\"type\":\"scatter\"},{\"hoverinfo\":\"text\",\"marker\":{\"color\":\"rgb(0,116,217)\"},\"mode\":\"lines\",\"x\":[0.0,1.3087124710382902,1.3087124710382902,1.3023902313949374],\"xaxis\":\"x\",\"y\":[-5.0,-5.0,-43.125,-43.125],\"yaxis\":\"y\",\"type\":\"scatter\"},{\"hoverinfo\":\"text\",\"marker\":{\"color\":\"rgb(0,116,217)\"},\"mode\":\"lines\",\"x\":[0.0,1.092842696943064,1.092842696943064,0.0],\"xaxis\":\"x\",\"y\":[-75.0,-75.0,-85.0,-85.0],\"yaxis\":\"y\",\"type\":\"scatter\"},{\"hoverinfo\":\"text\",\"marker\":{\"color\":\"rgb(0,116,217)\"},\"mode\":\"lines\",\"x\":[0.0,1.1752506978766055,1.1752506978766055,0.0],\"xaxis\":\"x\",\"y\":[-95.0,-95.0,-105.0,-105.0],\"yaxis\":\"y\",\"type\":\"scatter\"},{\"hoverinfo\":\"text\",\"marker\":{\"color\":\"rgb(0,116,217)\"},\"mode\":\"lines\",\"x\":[1.092842696943064,1.3888052110286297,1.3888052110286297,1.1752506978766055],\"xaxis\":\"x\",\"y\":[-80.0,-80.0,-100.0,-100.0],\"yaxis\":\"y\",\"type\":\"scatter\"},{\"hoverinfo\":\"text\",\"marker\":{\"color\":\"rgb(0,116,217)\"},\"mode\":\"lines\",\"x\":[1.3087124710382902,1.4496934823032217,1.4496934823032217,1.3888052110286297],\"xaxis\":\"x\",\"y\":[-24.0625,-24.0625,-90.0,-90.0],\"yaxis\":\"y\",\"type\":\"scatter\"}],                        {\"autosize\":false,\"height\":365,\"hovermode\":\"closest\",\"showlegend\":false,\"width\":1000,\"xaxis\":{\"mirror\":\"allticks\",\"rangemode\":\"tozero\",\"showgrid\":false,\"showline\":true,\"showticklabels\":true,\"ticks\":\"outside\",\"type\":\"linear\",\"zeroline\":false},\"yaxis\":{\"mirror\":\"allticks\",\"rangemode\":\"tozero\",\"showgrid\":false,\"showline\":true,\"showticklabels\":true,\"tickmode\":\"array\",\"ticks\":\"outside\",\"ticktext\":[\"4_etinilestradiol_gravidez_...\",\"9_insuficiencia_avc_potassica\",\"3_dor_dores_osteoporose\",\"0_vitamina_indicado_calcio\",\"2_transtorno_tratamento_ans...\",\"5_cancer_mama_tratamento\",\"10_hpb_doxazosina_mesilato\",\"8_alergica_nasal_prurido\",\"6_estomago_ulcera_vomitos\",\"1_infeccoes_causadas_trato\",\"7_dermatite_pele_betametasona\"],\"tickvals\":[-5.0,-15.0,-25.0,-35.0,-45.0,-55.0,-65.0,-75.0,-85.0,-95.0,-105.0],\"type\":\"linear\",\"zeroline\":false,\"range\":[-110.0,0.0]},\"template\":{\"data\":{\"barpolar\":[{\"marker\":{\"line\":{\"color\":\"white\",\"width\":0.5},\"pattern\":{\"fillmode\":\"overlay\",\"size\":10,\"solidity\":0.2}},\"type\":\"barpolar\"}],\"bar\":[{\"error_x\":{\"color\":\"#2a3f5f\"},\"error_y\":{\"color\":\"#2a3f5f\"},\"marker\":{\"line\":{\"color\":\"white\",\"width\":0.5},\"pattern\":{\"fillmode\":\"overlay\",\"size\":10,\"solidity\":0.2}},\"type\":\"bar\"}],\"carpet\":[{\"aaxis\":{\"endlinecolor\":\"#2a3f5f\",\"gridcolor\":\"#C8D4E3\",\"linecolor\":\"#C8D4E3\",\"minorgridcolor\":\"#C8D4E3\",\"startlinecolor\":\"#2a3f5f\"},\"baxis\":{\"endlinecolor\":\"#2a3f5f\",\"gridcolor\":\"#C8D4E3\",\"linecolor\":\"#C8D4E3\",\"minorgridcolor\":\"#C8D4E3\",\"startlinecolor\":\"#2a3f5f\"},\"type\":\"carpet\"}],\"choropleth\":[{\"colorbar\":{\"outlinewidth\":0,\"ticks\":\"\"},\"type\":\"choropleth\"}],\"contourcarpet\":[{\"colorbar\":{\"outlinewidth\":0,\"ticks\":\"\"},\"type\":\"contourcarpet\"}],\"contour\":[{\"colorbar\":{\"outlinewidth\":0,\"ticks\":\"\"},\"colorscale\":[[0.0,\"#0d0887\"],[0.1111111111111111,\"#46039f\"],[0.2222222222222222,\"#7201a8\"],[0.3333333333333333,\"#9c179e\"],[0.4444444444444444,\"#bd3786\"],[0.5555555555555556,\"#d8576b\"],[0.6666666666666666,\"#ed7953\"],[0.7777777777777778,\"#fb9f3a\"],[0.8888888888888888,\"#fdca26\"],[1.0,\"#f0f921\"]],\"type\":\"contour\"}],\"heatmapgl\":[{\"colorbar\":{\"outlinewidth\":0,\"ticks\":\"\"},\"colorscale\":[[0.0,\"#0d0887\"],[0.1111111111111111,\"#46039f\"],[0.2222222222222222,\"#7201a8\"],[0.3333333333333333,\"#9c179e\"],[0.4444444444444444,\"#bd3786\"],[0.5555555555555556,\"#d8576b\"],[0.6666666666666666,\"#ed7953\"],[0.7777777777777778,\"#fb9f3a\"],[0.8888888888888888,\"#fdca26\"],[1.0,\"#f0f921\"]],\"type\":\"heatmapgl\"}],\"heatmap\":[{\"colorbar\":{\"outlinewidth\":0,\"ticks\":\"\"},\"colorscale\":[[0.0,\"#0d0887\"],[0.1111111111111111,\"#46039f\"],[0.2222222222222222,\"#7201a8\"],[0.3333333333333333,\"#9c179e\"],[0.4444444444444444,\"#bd3786\"],[0.5555555555555556,\"#d8576b\"],[0.6666666666666666,\"#ed7953\"],[0.7777777777777778,\"#fb9f3a\"],[0.8888888888888888,\"#fdca26\"],[1.0,\"#f0f921\"]],\"type\":\"heatmap\"}],\"histogram2dcontour\":[{\"colorbar\":{\"outlinewidth\":0,\"ticks\":\"\"},\"colorscale\":[[0.0,\"#0d0887\"],[0.1111111111111111,\"#46039f\"],[0.2222222222222222,\"#7201a8\"],[0.3333333333333333,\"#9c179e\"],[0.4444444444444444,\"#bd3786\"],[0.5555555555555556,\"#d8576b\"],[0.6666666666666666,\"#ed7953\"],[0.7777777777777778,\"#fb9f3a\"],[0.8888888888888888,\"#fdca26\"],[1.0,\"#f0f921\"]],\"type\":\"histogram2dcontour\"}],\"histogram2d\":[{\"colorbar\":{\"outlinewidth\":0,\"ticks\":\"\"},\"colorscale\":[[0.0,\"#0d0887\"],[0.1111111111111111,\"#46039f\"],[0.2222222222222222,\"#7201a8\"],[0.3333333333333333,\"#9c179e\"],[0.4444444444444444,\"#bd3786\"],[0.5555555555555556,\"#d8576b\"],[0.6666666666666666,\"#ed7953\"],[0.7777777777777778,\"#fb9f3a\"],[0.8888888888888888,\"#fdca26\"],[1.0,\"#f0f921\"]],\"type\":\"histogram2d\"}],\"histogram\":[{\"marker\":{\"pattern\":{\"fillmode\":\"overlay\",\"size\":10,\"solidity\":0.2}},\"type\":\"histogram\"}],\"mesh3d\":[{\"colorbar\":{\"outlinewidth\":0,\"ticks\":\"\"},\"type\":\"mesh3d\"}],\"parcoords\":[{\"line\":{\"colorbar\":{\"outlinewidth\":0,\"ticks\":\"\"}},\"type\":\"parcoords\"}],\"pie\":[{\"automargin\":true,\"type\":\"pie\"}],\"scatter3d\":[{\"line\":{\"colorbar\":{\"outlinewidth\":0,\"ticks\":\"\"}},\"marker\":{\"colorbar\":{\"outlinewidth\":0,\"ticks\":\"\"}},\"type\":\"scatter3d\"}],\"scattercarpet\":[{\"marker\":{\"colorbar\":{\"outlinewidth\":0,\"ticks\":\"\"}},\"type\":\"scattercarpet\"}],\"scattergeo\":[{\"marker\":{\"colorbar\":{\"outlinewidth\":0,\"ticks\":\"\"}},\"type\":\"scattergeo\"}],\"scattergl\":[{\"marker\":{\"colorbar\":{\"outlinewidth\":0,\"ticks\":\"\"}},\"type\":\"scattergl\"}],\"scattermapbox\":[{\"marker\":{\"colorbar\":{\"outlinewidth\":0,\"ticks\":\"\"}},\"type\":\"scattermapbox\"}],\"scatterpolargl\":[{\"marker\":{\"colorbar\":{\"outlinewidth\":0,\"ticks\":\"\"}},\"type\":\"scatterpolargl\"}],\"scatterpolar\":[{\"marker\":{\"colorbar\":{\"outlinewidth\":0,\"ticks\":\"\"}},\"type\":\"scatterpolar\"}],\"scatter\":[{\"fillpattern\":{\"fillmode\":\"overlay\",\"size\":10,\"solidity\":0.2},\"type\":\"scatter\"}],\"scatterternary\":[{\"marker\":{\"colorbar\":{\"outlinewidth\":0,\"ticks\":\"\"}},\"type\":\"scatterternary\"}],\"surface\":[{\"colorbar\":{\"outlinewidth\":0,\"ticks\":\"\"},\"colorscale\":[[0.0,\"#0d0887\"],[0.1111111111111111,\"#46039f\"],[0.2222222222222222,\"#7201a8\"],[0.3333333333333333,\"#9c179e\"],[0.4444444444444444,\"#bd3786\"],[0.5555555555555556,\"#d8576b\"],[0.6666666666666666,\"#ed7953\"],[0.7777777777777778,\"#fb9f3a\"],[0.8888888888888888,\"#fdca26\"],[1.0,\"#f0f921\"]],\"type\":\"surface\"}],\"table\":[{\"cells\":{\"fill\":{\"color\":\"#EBF0F8\"},\"line\":{\"color\":\"white\"}},\"header\":{\"fill\":{\"color\":\"#C8D4E3\"},\"line\":{\"color\":\"white\"}},\"type\":\"table\"}]},\"layout\":{\"annotationdefaults\":{\"arrowcolor\":\"#2a3f5f\",\"arrowhead\":0,\"arrowwidth\":1},\"autotypenumbers\":\"strict\",\"coloraxis\":{\"colorbar\":{\"outlinewidth\":0,\"ticks\":\"\"}},\"colorscale\":{\"diverging\":[[0,\"#8e0152\"],[0.1,\"#c51b7d\"],[0.2,\"#de77ae\"],[0.3,\"#f1b6da\"],[0.4,\"#fde0ef\"],[0.5,\"#f7f7f7\"],[0.6,\"#e6f5d0\"],[0.7,\"#b8e186\"],[0.8,\"#7fbc41\"],[0.9,\"#4d9221\"],[1,\"#276419\"]],\"sequential\":[[0.0,\"#0d0887\"],[0.1111111111111111,\"#46039f\"],[0.2222222222222222,\"#7201a8\"],[0.3333333333333333,\"#9c179e\"],[0.4444444444444444,\"#bd3786\"],[0.5555555555555556,\"#d8576b\"],[0.6666666666666666,\"#ed7953\"],[0.7777777777777778,\"#fb9f3a\"],[0.8888888888888888,\"#fdca26\"],[1.0,\"#f0f921\"]],\"sequentialminus\":[[0.0,\"#0d0887\"],[0.1111111111111111,\"#46039f\"],[0.2222222222222222,\"#7201a8\"],[0.3333333333333333,\"#9c179e\"],[0.4444444444444444,\"#bd3786\"],[0.5555555555555556,\"#d8576b\"],[0.6666666666666666,\"#ed7953\"],[0.7777777777777778,\"#fb9f3a\"],[0.8888888888888888,\"#fdca26\"],[1.0,\"#f0f921\"]]},\"colorway\":[\"#636efa\",\"#EF553B\",\"#00cc96\",\"#ab63fa\",\"#FFA15A\",\"#19d3f3\",\"#FF6692\",\"#B6E880\",\"#FF97FF\",\"#FECB52\"],\"font\":{\"color\":\"#2a3f5f\"},\"geo\":{\"bgcolor\":\"white\",\"lakecolor\":\"white\",\"landcolor\":\"white\",\"showlakes\":true,\"showland\":true,\"subunitcolor\":\"#C8D4E3\"},\"hoverlabel\":{\"align\":\"left\"},\"hovermode\":\"closest\",\"mapbox\":{\"style\":\"light\"},\"paper_bgcolor\":\"white\",\"plot_bgcolor\":\"white\",\"polar\":{\"angularaxis\":{\"gridcolor\":\"#EBF0F8\",\"linecolor\":\"#EBF0F8\",\"ticks\":\"\"},\"bgcolor\":\"white\",\"radialaxis\":{\"gridcolor\":\"#EBF0F8\",\"linecolor\":\"#EBF0F8\",\"ticks\":\"\"}},\"scene\":{\"xaxis\":{\"backgroundcolor\":\"white\",\"gridcolor\":\"#DFE8F3\",\"gridwidth\":2,\"linecolor\":\"#EBF0F8\",\"showbackground\":true,\"ticks\":\"\",\"zerolinecolor\":\"#EBF0F8\"},\"yaxis\":{\"backgroundcolor\":\"white\",\"gridcolor\":\"#DFE8F3\",\"gridwidth\":2,\"linecolor\":\"#EBF0F8\",\"showbackground\":true,\"ticks\":\"\",\"zerolinecolor\":\"#EBF0F8\"},\"zaxis\":{\"backgroundcolor\":\"white\",\"gridcolor\":\"#DFE8F3\",\"gridwidth\":2,\"linecolor\":\"#EBF0F8\",\"showbackground\":true,\"ticks\":\"\",\"zerolinecolor\":\"#EBF0F8\"}},\"shapedefaults\":{\"line\":{\"color\":\"#2a3f5f\"}},\"ternary\":{\"aaxis\":{\"gridcolor\":\"#DFE8F3\",\"linecolor\":\"#A2B1C6\",\"ticks\":\"\"},\"baxis\":{\"gridcolor\":\"#DFE8F3\",\"linecolor\":\"#A2B1C6\",\"ticks\":\"\"},\"bgcolor\":\"white\",\"caxis\":{\"gridcolor\":\"#DFE8F3\",\"linecolor\":\"#A2B1C6\",\"ticks\":\"\"}},\"title\":{\"x\":0.05},\"xaxis\":{\"automargin\":true,\"gridcolor\":\"#EBF0F8\",\"linecolor\":\"#EBF0F8\",\"ticks\":\"\",\"title\":{\"standoff\":15},\"zerolinecolor\":\"#EBF0F8\",\"zerolinewidth\":2},\"yaxis\":{\"automargin\":true,\"gridcolor\":\"#EBF0F8\",\"linecolor\":\"#EBF0F8\",\"ticks\":\"\",\"title\":{\"standoff\":15},\"zerolinecolor\":\"#EBF0F8\",\"zerolinewidth\":2}}},\"title\":{\"font\":{\"size\":22,\"color\":\"Black\"},\"text\":\"<b>Hierarchical Clustering</b>\",\"x\":0.5,\"xanchor\":\"center\",\"yanchor\":\"top\"},\"hoverlabel\":{\"font\":{\"size\":16,\"family\":\"Rockwell\"},\"bgcolor\":\"white\"},\"plot_bgcolor\":\"#ECEFF1\"},                        {\"responsive\": true}                    ).then(function(){\n                            \nvar gd = document.getElementById('b37fb3ed-5c7c-4ee8-8878-83f32ff59e1e');\nvar x = new MutationObserver(function (mutations, observer) {{\n        var display = window.getComputedStyle(gd).display;\n        if (!display || display === 'none') {{\n            console.log([gd, 'removed!']);\n            Plotly.purge(gd);\n            observer.disconnect();\n        }}\n}});\n\n// Listen for the removal of the full notebook cells\nvar notebookContainer = gd.closest('#notebook-container');\nif (notebookContainer) {{\n    x.observe(notebookContainer, {childList: true});\n}}\n\n// Listen for the clearing of the current output cell\nvar outputEl = gd.closest('.output');\nif (outputEl) {{\n    x.observe(outputEl, {childList: true});\n}}\n\n                        })                };                });            </script>        </div>"
     },
     "metadata": {},
     "output_type": "display_data"
    }
   ]
  },
  {
   "cell_type": "markdown",
   "metadata": {
    "id": "4spXl2_C6flq"
   },
   "source": [
    "## Visualize Terms\n",
    "\n",
    "We can visualize the selected terms for a few topics by creating bar charts out of the c-TF-IDF scores for each topic representation. Insights can be gained from the relative c-TF-IDF scores between and within topics. Moreover, you can easily compare topic representations to each other."
   ]
  },
  {
   "cell_type": "code",
   "metadata": {
    "colab": {
     "base_uri": "https://localhost:8080/",
     "height": 617
    },
    "id": "zpm9LsKW6mi5",
    "outputId": "1197affc-dde2-44c1-9ba7-c9fb36a1143c",
    "ExecuteTime": {
     "end_time": "2023-05-16T08:14:55.653976310Z",
     "start_time": "2023-05-16T08:14:55.384465753Z"
    }
   },
   "source": [
    "topic_model.visualize_barchart(top_n_topics=5)"
   ],
   "execution_count": 63,
   "outputs": [
    {
     "data": {
      "application/vnd.plotly.v1+json": {
       "data": [
        {
         "marker": {
          "color": "#D55E00"
         },
         "orientation": "h",
         "x": [
          0.02648891303369666,
          0.03063776195901329,
          0.03186063988777495,
          0.032005190405781175,
          0.033869805842858466
         ],
         "y": [
          "calcica  ",
          "cloridrato  ",
          "calcio  ",
          "indicado  ",
          "vitamina  "
         ],
         "type": "bar",
         "xaxis": "x",
         "yaxis": "y"
        },
        {
         "marker": {
          "color": "#0072B2"
         },
         "orientation": "h",
         "x": [
          0.03844467015074709,
          0.042556537489445746,
          0.045620654962316536,
          0.05418104900605207,
          0.10760993279596728
         ],
         "y": [
          "amoxicilina  ",
          "infeccao  ",
          "trato  ",
          "causadas  ",
          "infeccoes  "
         ],
         "type": "bar",
         "xaxis": "x2",
         "yaxis": "y2"
        },
        {
         "marker": {
          "color": "#CC79A7"
         },
         "orientation": "h",
         "x": [
          0.045197570544053295,
          0.04934543717280069,
          0.05881997475035966,
          0.06796695987437615,
          0.10406662926917849
         ],
         "y": [
          "paroxetina  ",
          "cloridrato  ",
          "ansiedade  ",
          "tratamento  ",
          "transtorno  "
         ],
         "type": "bar",
         "xaxis": "x3",
         "yaxis": "y3"
        },
        {
         "marker": {
          "color": "#E69F00"
         },
         "orientation": "h",
         "x": [
          0.04987181877195667,
          0.05026586152069816,
          0.05728597676084233,
          0.06296494994787336,
          0.06879296921765866
         ],
         "y": [
          "medicamento  ",
          "indicado  ",
          "osteoporose  ",
          "dores  ",
          "dor  "
         ],
         "type": "bar",
         "xaxis": "x4",
         "yaxis": "y4"
        },
        {
         "marker": {
          "color": "#56B4E9"
         },
         "orientation": "h",
         "x": [
          0.0668233523092765,
          0.07028804674759177,
          0.08033122375727257,
          0.0876282472305459,
          0.13396080472237995
         ],
         "y": [
          "mulheres  ",
          "desogestrel  ",
          "contraceptivo  ",
          "gravidez  ",
          "etinilestradiol  "
         ],
         "type": "bar",
         "xaxis": "x5",
         "yaxis": "y5"
        }
       ],
       "layout": {
        "template": {
         "data": {
          "barpolar": [
           {
            "marker": {
             "line": {
              "color": "white",
              "width": 0.5
             },
             "pattern": {
              "fillmode": "overlay",
              "size": 10,
              "solidity": 0.2
             }
            },
            "type": "barpolar"
           }
          ],
          "bar": [
           {
            "error_x": {
             "color": "#2a3f5f"
            },
            "error_y": {
             "color": "#2a3f5f"
            },
            "marker": {
             "line": {
              "color": "white",
              "width": 0.5
             },
             "pattern": {
              "fillmode": "overlay",
              "size": 10,
              "solidity": 0.2
             }
            },
            "type": "bar"
           }
          ],
          "carpet": [
           {
            "aaxis": {
             "endlinecolor": "#2a3f5f",
             "gridcolor": "#C8D4E3",
             "linecolor": "#C8D4E3",
             "minorgridcolor": "#C8D4E3",
             "startlinecolor": "#2a3f5f"
            },
            "baxis": {
             "endlinecolor": "#2a3f5f",
             "gridcolor": "#C8D4E3",
             "linecolor": "#C8D4E3",
             "minorgridcolor": "#C8D4E3",
             "startlinecolor": "#2a3f5f"
            },
            "type": "carpet"
           }
          ],
          "choropleth": [
           {
            "colorbar": {
             "outlinewidth": 0,
             "ticks": ""
            },
            "type": "choropleth"
           }
          ],
          "contourcarpet": [
           {
            "colorbar": {
             "outlinewidth": 0,
             "ticks": ""
            },
            "type": "contourcarpet"
           }
          ],
          "contour": [
           {
            "colorbar": {
             "outlinewidth": 0,
             "ticks": ""
            },
            "colorscale": [
             [
              0.0,
              "#0d0887"
             ],
             [
              0.1111111111111111,
              "#46039f"
             ],
             [
              0.2222222222222222,
              "#7201a8"
             ],
             [
              0.3333333333333333,
              "#9c179e"
             ],
             [
              0.4444444444444444,
              "#bd3786"
             ],
             [
              0.5555555555555556,
              "#d8576b"
             ],
             [
              0.6666666666666666,
              "#ed7953"
             ],
             [
              0.7777777777777778,
              "#fb9f3a"
             ],
             [
              0.8888888888888888,
              "#fdca26"
             ],
             [
              1.0,
              "#f0f921"
             ]
            ],
            "type": "contour"
           }
          ],
          "heatmapgl": [
           {
            "colorbar": {
             "outlinewidth": 0,
             "ticks": ""
            },
            "colorscale": [
             [
              0.0,
              "#0d0887"
             ],
             [
              0.1111111111111111,
              "#46039f"
             ],
             [
              0.2222222222222222,
              "#7201a8"
             ],
             [
              0.3333333333333333,
              "#9c179e"
             ],
             [
              0.4444444444444444,
              "#bd3786"
             ],
             [
              0.5555555555555556,
              "#d8576b"
             ],
             [
              0.6666666666666666,
              "#ed7953"
             ],
             [
              0.7777777777777778,
              "#fb9f3a"
             ],
             [
              0.8888888888888888,
              "#fdca26"
             ],
             [
              1.0,
              "#f0f921"
             ]
            ],
            "type": "heatmapgl"
           }
          ],
          "heatmap": [
           {
            "colorbar": {
             "outlinewidth": 0,
             "ticks": ""
            },
            "colorscale": [
             [
              0.0,
              "#0d0887"
             ],
             [
              0.1111111111111111,
              "#46039f"
             ],
             [
              0.2222222222222222,
              "#7201a8"
             ],
             [
              0.3333333333333333,
              "#9c179e"
             ],
             [
              0.4444444444444444,
              "#bd3786"
             ],
             [
              0.5555555555555556,
              "#d8576b"
             ],
             [
              0.6666666666666666,
              "#ed7953"
             ],
             [
              0.7777777777777778,
              "#fb9f3a"
             ],
             [
              0.8888888888888888,
              "#fdca26"
             ],
             [
              1.0,
              "#f0f921"
             ]
            ],
            "type": "heatmap"
           }
          ],
          "histogram2dcontour": [
           {
            "colorbar": {
             "outlinewidth": 0,
             "ticks": ""
            },
            "colorscale": [
             [
              0.0,
              "#0d0887"
             ],
             [
              0.1111111111111111,
              "#46039f"
             ],
             [
              0.2222222222222222,
              "#7201a8"
             ],
             [
              0.3333333333333333,
              "#9c179e"
             ],
             [
              0.4444444444444444,
              "#bd3786"
             ],
             [
              0.5555555555555556,
              "#d8576b"
             ],
             [
              0.6666666666666666,
              "#ed7953"
             ],
             [
              0.7777777777777778,
              "#fb9f3a"
             ],
             [
              0.8888888888888888,
              "#fdca26"
             ],
             [
              1.0,
              "#f0f921"
             ]
            ],
            "type": "histogram2dcontour"
           }
          ],
          "histogram2d": [
           {
            "colorbar": {
             "outlinewidth": 0,
             "ticks": ""
            },
            "colorscale": [
             [
              0.0,
              "#0d0887"
             ],
             [
              0.1111111111111111,
              "#46039f"
             ],
             [
              0.2222222222222222,
              "#7201a8"
             ],
             [
              0.3333333333333333,
              "#9c179e"
             ],
             [
              0.4444444444444444,
              "#bd3786"
             ],
             [
              0.5555555555555556,
              "#d8576b"
             ],
             [
              0.6666666666666666,
              "#ed7953"
             ],
             [
              0.7777777777777778,
              "#fb9f3a"
             ],
             [
              0.8888888888888888,
              "#fdca26"
             ],
             [
              1.0,
              "#f0f921"
             ]
            ],
            "type": "histogram2d"
           }
          ],
          "histogram": [
           {
            "marker": {
             "pattern": {
              "fillmode": "overlay",
              "size": 10,
              "solidity": 0.2
             }
            },
            "type": "histogram"
           }
          ],
          "mesh3d": [
           {
            "colorbar": {
             "outlinewidth": 0,
             "ticks": ""
            },
            "type": "mesh3d"
           }
          ],
          "parcoords": [
           {
            "line": {
             "colorbar": {
              "outlinewidth": 0,
              "ticks": ""
             }
            },
            "type": "parcoords"
           }
          ],
          "pie": [
           {
            "automargin": true,
            "type": "pie"
           }
          ],
          "scatter3d": [
           {
            "line": {
             "colorbar": {
              "outlinewidth": 0,
              "ticks": ""
             }
            },
            "marker": {
             "colorbar": {
              "outlinewidth": 0,
              "ticks": ""
             }
            },
            "type": "scatter3d"
           }
          ],
          "scattercarpet": [
           {
            "marker": {
             "colorbar": {
              "outlinewidth": 0,
              "ticks": ""
             }
            },
            "type": "scattercarpet"
           }
          ],
          "scattergeo": [
           {
            "marker": {
             "colorbar": {
              "outlinewidth": 0,
              "ticks": ""
             }
            },
            "type": "scattergeo"
           }
          ],
          "scattergl": [
           {
            "marker": {
             "colorbar": {
              "outlinewidth": 0,
              "ticks": ""
             }
            },
            "type": "scattergl"
           }
          ],
          "scattermapbox": [
           {
            "marker": {
             "colorbar": {
              "outlinewidth": 0,
              "ticks": ""
             }
            },
            "type": "scattermapbox"
           }
          ],
          "scatterpolargl": [
           {
            "marker": {
             "colorbar": {
              "outlinewidth": 0,
              "ticks": ""
             }
            },
            "type": "scatterpolargl"
           }
          ],
          "scatterpolar": [
           {
            "marker": {
             "colorbar": {
              "outlinewidth": 0,
              "ticks": ""
             }
            },
            "type": "scatterpolar"
           }
          ],
          "scatter": [
           {
            "fillpattern": {
             "fillmode": "overlay",
             "size": 10,
             "solidity": 0.2
            },
            "type": "scatter"
           }
          ],
          "scatterternary": [
           {
            "marker": {
             "colorbar": {
              "outlinewidth": 0,
              "ticks": ""
             }
            },
            "type": "scatterternary"
           }
          ],
          "surface": [
           {
            "colorbar": {
             "outlinewidth": 0,
             "ticks": ""
            },
            "colorscale": [
             [
              0.0,
              "#0d0887"
             ],
             [
              0.1111111111111111,
              "#46039f"
             ],
             [
              0.2222222222222222,
              "#7201a8"
             ],
             [
              0.3333333333333333,
              "#9c179e"
             ],
             [
              0.4444444444444444,
              "#bd3786"
             ],
             [
              0.5555555555555556,
              "#d8576b"
             ],
             [
              0.6666666666666666,
              "#ed7953"
             ],
             [
              0.7777777777777778,
              "#fb9f3a"
             ],
             [
              0.8888888888888888,
              "#fdca26"
             ],
             [
              1.0,
              "#f0f921"
             ]
            ],
            "type": "surface"
           }
          ],
          "table": [
           {
            "cells": {
             "fill": {
              "color": "#EBF0F8"
             },
             "line": {
              "color": "white"
             }
            },
            "header": {
             "fill": {
              "color": "#C8D4E3"
             },
             "line": {
              "color": "white"
             }
            },
            "type": "table"
           }
          ]
         },
         "layout": {
          "annotationdefaults": {
           "arrowcolor": "#2a3f5f",
           "arrowhead": 0,
           "arrowwidth": 1
          },
          "autotypenumbers": "strict",
          "coloraxis": {
           "colorbar": {
            "outlinewidth": 0,
            "ticks": ""
           }
          },
          "colorscale": {
           "diverging": [
            [
             0,
             "#8e0152"
            ],
            [
             0.1,
             "#c51b7d"
            ],
            [
             0.2,
             "#de77ae"
            ],
            [
             0.3,
             "#f1b6da"
            ],
            [
             0.4,
             "#fde0ef"
            ],
            [
             0.5,
             "#f7f7f7"
            ],
            [
             0.6,
             "#e6f5d0"
            ],
            [
             0.7,
             "#b8e186"
            ],
            [
             0.8,
             "#7fbc41"
            ],
            [
             0.9,
             "#4d9221"
            ],
            [
             1,
             "#276419"
            ]
           ],
           "sequential": [
            [
             0.0,
             "#0d0887"
            ],
            [
             0.1111111111111111,
             "#46039f"
            ],
            [
             0.2222222222222222,
             "#7201a8"
            ],
            [
             0.3333333333333333,
             "#9c179e"
            ],
            [
             0.4444444444444444,
             "#bd3786"
            ],
            [
             0.5555555555555556,
             "#d8576b"
            ],
            [
             0.6666666666666666,
             "#ed7953"
            ],
            [
             0.7777777777777778,
             "#fb9f3a"
            ],
            [
             0.8888888888888888,
             "#fdca26"
            ],
            [
             1.0,
             "#f0f921"
            ]
           ],
           "sequentialminus": [
            [
             0.0,
             "#0d0887"
            ],
            [
             0.1111111111111111,
             "#46039f"
            ],
            [
             0.2222222222222222,
             "#7201a8"
            ],
            [
             0.3333333333333333,
             "#9c179e"
            ],
            [
             0.4444444444444444,
             "#bd3786"
            ],
            [
             0.5555555555555556,
             "#d8576b"
            ],
            [
             0.6666666666666666,
             "#ed7953"
            ],
            [
             0.7777777777777778,
             "#fb9f3a"
            ],
            [
             0.8888888888888888,
             "#fdca26"
            ],
            [
             1.0,
             "#f0f921"
            ]
           ]
          },
          "colorway": [
           "#636efa",
           "#EF553B",
           "#00cc96",
           "#ab63fa",
           "#FFA15A",
           "#19d3f3",
           "#FF6692",
           "#B6E880",
           "#FF97FF",
           "#FECB52"
          ],
          "font": {
           "color": "#2a3f5f"
          },
          "geo": {
           "bgcolor": "white",
           "lakecolor": "white",
           "landcolor": "white",
           "showlakes": true,
           "showland": true,
           "subunitcolor": "#C8D4E3"
          },
          "hoverlabel": {
           "align": "left"
          },
          "hovermode": "closest",
          "mapbox": {
           "style": "light"
          },
          "paper_bgcolor": "white",
          "plot_bgcolor": "white",
          "polar": {
           "angularaxis": {
            "gridcolor": "#EBF0F8",
            "linecolor": "#EBF0F8",
            "ticks": ""
           },
           "bgcolor": "white",
           "radialaxis": {
            "gridcolor": "#EBF0F8",
            "linecolor": "#EBF0F8",
            "ticks": ""
           }
          },
          "scene": {
           "xaxis": {
            "backgroundcolor": "white",
            "gridcolor": "#DFE8F3",
            "gridwidth": 2,
            "linecolor": "#EBF0F8",
            "showbackground": true,
            "ticks": "",
            "zerolinecolor": "#EBF0F8"
           },
           "yaxis": {
            "backgroundcolor": "white",
            "gridcolor": "#DFE8F3",
            "gridwidth": 2,
            "linecolor": "#EBF0F8",
            "showbackground": true,
            "ticks": "",
            "zerolinecolor": "#EBF0F8"
           },
           "zaxis": {
            "backgroundcolor": "white",
            "gridcolor": "#DFE8F3",
            "gridwidth": 2,
            "linecolor": "#EBF0F8",
            "showbackground": true,
            "ticks": "",
            "zerolinecolor": "#EBF0F8"
           }
          },
          "shapedefaults": {
           "line": {
            "color": "#2a3f5f"
           }
          },
          "ternary": {
           "aaxis": {
            "gridcolor": "#DFE8F3",
            "linecolor": "#A2B1C6",
            "ticks": ""
           },
           "baxis": {
            "gridcolor": "#DFE8F3",
            "linecolor": "#A2B1C6",
            "ticks": ""
           },
           "bgcolor": "white",
           "caxis": {
            "gridcolor": "#DFE8F3",
            "linecolor": "#A2B1C6",
            "ticks": ""
           }
          },
          "title": {
           "x": 0.05
          },
          "xaxis": {
           "automargin": true,
           "gridcolor": "#EBF0F8",
           "linecolor": "#EBF0F8",
           "ticks": "",
           "title": {
            "standoff": 15
           },
           "zerolinecolor": "#EBF0F8",
           "zerolinewidth": 2
          },
          "yaxis": {
           "automargin": true,
           "gridcolor": "#EBF0F8",
           "linecolor": "#EBF0F8",
           "ticks": "",
           "title": {
            "standoff": 15
           },
           "zerolinecolor": "#EBF0F8",
           "zerolinewidth": 2
          }
         }
        },
        "xaxis": {
         "anchor": "y",
         "domain": [
          0.0,
          0.175
         ],
         "showgrid": true
        },
        "yaxis": {
         "anchor": "x",
         "domain": [
          0.6000000000000001,
          1.0
         ],
         "showgrid": true
        },
        "xaxis2": {
         "anchor": "y2",
         "domain": [
          0.275,
          0.45
         ],
         "showgrid": true
        },
        "yaxis2": {
         "anchor": "x2",
         "domain": [
          0.6000000000000001,
          1.0
         ],
         "showgrid": true
        },
        "xaxis3": {
         "anchor": "y3",
         "domain": [
          0.55,
          0.7250000000000001
         ],
         "showgrid": true
        },
        "yaxis3": {
         "anchor": "x3",
         "domain": [
          0.6000000000000001,
          1.0
         ],
         "showgrid": true
        },
        "xaxis4": {
         "anchor": "y4",
         "domain": [
          0.825,
          1.0
         ],
         "showgrid": true
        },
        "yaxis4": {
         "anchor": "x4",
         "domain": [
          0.6000000000000001,
          1.0
         ],
         "showgrid": true
        },
        "xaxis5": {
         "anchor": "y5",
         "domain": [
          0.0,
          0.175
         ],
         "showgrid": true
        },
        "yaxis5": {
         "anchor": "x5",
         "domain": [
          0.0,
          0.4
         ],
         "showgrid": true
        },
        "xaxis6": {
         "anchor": "y6",
         "domain": [
          0.275,
          0.45
         ],
         "showgrid": true
        },
        "yaxis6": {
         "anchor": "x6",
         "domain": [
          0.0,
          0.4
         ],
         "showgrid": true
        },
        "xaxis7": {
         "anchor": "y7",
         "domain": [
          0.55,
          0.7250000000000001
         ],
         "showgrid": true
        },
        "yaxis7": {
         "anchor": "x7",
         "domain": [
          0.0,
          0.4
         ],
         "showgrid": true
        },
        "xaxis8": {
         "anchor": "y8",
         "domain": [
          0.825,
          1.0
         ],
         "showgrid": true
        },
        "yaxis8": {
         "anchor": "x8",
         "domain": [
          0.0,
          0.4
         ],
         "showgrid": true
        },
        "annotations": [
         {
          "font": {
           "size": 16
          },
          "showarrow": false,
          "text": "Topic 0",
          "x": 0.0875,
          "xanchor": "center",
          "xref": "paper",
          "y": 1.0,
          "yanchor": "bottom",
          "yref": "paper"
         },
         {
          "font": {
           "size": 16
          },
          "showarrow": false,
          "text": "Topic 1",
          "x": 0.36250000000000004,
          "xanchor": "center",
          "xref": "paper",
          "y": 1.0,
          "yanchor": "bottom",
          "yref": "paper"
         },
         {
          "font": {
           "size": 16
          },
          "showarrow": false,
          "text": "Topic 2",
          "x": 0.6375000000000001,
          "xanchor": "center",
          "xref": "paper",
          "y": 1.0,
          "yanchor": "bottom",
          "yref": "paper"
         },
         {
          "font": {
           "size": 16
          },
          "showarrow": false,
          "text": "Topic 3",
          "x": 0.9125,
          "xanchor": "center",
          "xref": "paper",
          "y": 1.0,
          "yanchor": "bottom",
          "yref": "paper"
         },
         {
          "font": {
           "size": 16
          },
          "showarrow": false,
          "text": "Topic 4",
          "x": 0.0875,
          "xanchor": "center",
          "xref": "paper",
          "y": 0.4,
          "yanchor": "bottom",
          "yref": "paper"
         }
        ],
        "title": {
         "font": {
          "size": 22,
          "color": "Black"
         },
         "text": "Topic Word Scores",
         "x": 0.5,
         "xanchor": "center",
         "yanchor": "top"
        },
        "hoverlabel": {
         "font": {
          "size": 16,
          "family": "Rockwell"
         },
         "bgcolor": "white"
        },
        "showlegend": false,
        "width": 1000,
        "height": 500
       },
       "config": {
        "plotlyServerURL": "https://plot.ly"
       }
      },
      "text/html": "<div>                            <div id=\"d19b473a-80bc-4334-8142-26651b2b113a\" class=\"plotly-graph-div\" style=\"height:500px; width:1000px;\"></div>            <script type=\"text/javascript\">                require([\"plotly\"], function(Plotly) {                    window.PLOTLYENV=window.PLOTLYENV || {};                                    if (document.getElementById(\"d19b473a-80bc-4334-8142-26651b2b113a\")) {                    Plotly.newPlot(                        \"d19b473a-80bc-4334-8142-26651b2b113a\",                        [{\"marker\":{\"color\":\"#D55E00\"},\"orientation\":\"h\",\"x\":[0.02648891303369666,0.03063776195901329,0.03186063988777495,0.032005190405781175,0.033869805842858466],\"y\":[\"calcica  \",\"cloridrato  \",\"calcio  \",\"indicado  \",\"vitamina  \"],\"type\":\"bar\",\"xaxis\":\"x\",\"yaxis\":\"y\"},{\"marker\":{\"color\":\"#0072B2\"},\"orientation\":\"h\",\"x\":[0.03844467015074709,0.042556537489445746,0.045620654962316536,0.05418104900605207,0.10760993279596728],\"y\":[\"amoxicilina  \",\"infeccao  \",\"trato  \",\"causadas  \",\"infeccoes  \"],\"type\":\"bar\",\"xaxis\":\"x2\",\"yaxis\":\"y2\"},{\"marker\":{\"color\":\"#CC79A7\"},\"orientation\":\"h\",\"x\":[0.045197570544053295,0.04934543717280069,0.05881997475035966,0.06796695987437615,0.10406662926917849],\"y\":[\"paroxetina  \",\"cloridrato  \",\"ansiedade  \",\"tratamento  \",\"transtorno  \"],\"type\":\"bar\",\"xaxis\":\"x3\",\"yaxis\":\"y3\"},{\"marker\":{\"color\":\"#E69F00\"},\"orientation\":\"h\",\"x\":[0.04987181877195667,0.05026586152069816,0.05728597676084233,0.06296494994787336,0.06879296921765866],\"y\":[\"medicamento  \",\"indicado  \",\"osteoporose  \",\"dores  \",\"dor  \"],\"type\":\"bar\",\"xaxis\":\"x4\",\"yaxis\":\"y4\"},{\"marker\":{\"color\":\"#56B4E9\"},\"orientation\":\"h\",\"x\":[0.0668233523092765,0.07028804674759177,0.08033122375727257,0.0876282472305459,0.13396080472237995],\"y\":[\"mulheres  \",\"desogestrel  \",\"contraceptivo  \",\"gravidez  \",\"etinilestradiol  \"],\"type\":\"bar\",\"xaxis\":\"x5\",\"yaxis\":\"y5\"}],                        {\"template\":{\"data\":{\"barpolar\":[{\"marker\":{\"line\":{\"color\":\"white\",\"width\":0.5},\"pattern\":{\"fillmode\":\"overlay\",\"size\":10,\"solidity\":0.2}},\"type\":\"barpolar\"}],\"bar\":[{\"error_x\":{\"color\":\"#2a3f5f\"},\"error_y\":{\"color\":\"#2a3f5f\"},\"marker\":{\"line\":{\"color\":\"white\",\"width\":0.5},\"pattern\":{\"fillmode\":\"overlay\",\"size\":10,\"solidity\":0.2}},\"type\":\"bar\"}],\"carpet\":[{\"aaxis\":{\"endlinecolor\":\"#2a3f5f\",\"gridcolor\":\"#C8D4E3\",\"linecolor\":\"#C8D4E3\",\"minorgridcolor\":\"#C8D4E3\",\"startlinecolor\":\"#2a3f5f\"},\"baxis\":{\"endlinecolor\":\"#2a3f5f\",\"gridcolor\":\"#C8D4E3\",\"linecolor\":\"#C8D4E3\",\"minorgridcolor\":\"#C8D4E3\",\"startlinecolor\":\"#2a3f5f\"},\"type\":\"carpet\"}],\"choropleth\":[{\"colorbar\":{\"outlinewidth\":0,\"ticks\":\"\"},\"type\":\"choropleth\"}],\"contourcarpet\":[{\"colorbar\":{\"outlinewidth\":0,\"ticks\":\"\"},\"type\":\"contourcarpet\"}],\"contour\":[{\"colorbar\":{\"outlinewidth\":0,\"ticks\":\"\"},\"colorscale\":[[0.0,\"#0d0887\"],[0.1111111111111111,\"#46039f\"],[0.2222222222222222,\"#7201a8\"],[0.3333333333333333,\"#9c179e\"],[0.4444444444444444,\"#bd3786\"],[0.5555555555555556,\"#d8576b\"],[0.6666666666666666,\"#ed7953\"],[0.7777777777777778,\"#fb9f3a\"],[0.8888888888888888,\"#fdca26\"],[1.0,\"#f0f921\"]],\"type\":\"contour\"}],\"heatmapgl\":[{\"colorbar\":{\"outlinewidth\":0,\"ticks\":\"\"},\"colorscale\":[[0.0,\"#0d0887\"],[0.1111111111111111,\"#46039f\"],[0.2222222222222222,\"#7201a8\"],[0.3333333333333333,\"#9c179e\"],[0.4444444444444444,\"#bd3786\"],[0.5555555555555556,\"#d8576b\"],[0.6666666666666666,\"#ed7953\"],[0.7777777777777778,\"#fb9f3a\"],[0.8888888888888888,\"#fdca26\"],[1.0,\"#f0f921\"]],\"type\":\"heatmapgl\"}],\"heatmap\":[{\"colorbar\":{\"outlinewidth\":0,\"ticks\":\"\"},\"colorscale\":[[0.0,\"#0d0887\"],[0.1111111111111111,\"#46039f\"],[0.2222222222222222,\"#7201a8\"],[0.3333333333333333,\"#9c179e\"],[0.4444444444444444,\"#bd3786\"],[0.5555555555555556,\"#d8576b\"],[0.6666666666666666,\"#ed7953\"],[0.7777777777777778,\"#fb9f3a\"],[0.8888888888888888,\"#fdca26\"],[1.0,\"#f0f921\"]],\"type\":\"heatmap\"}],\"histogram2dcontour\":[{\"colorbar\":{\"outlinewidth\":0,\"ticks\":\"\"},\"colorscale\":[[0.0,\"#0d0887\"],[0.1111111111111111,\"#46039f\"],[0.2222222222222222,\"#7201a8\"],[0.3333333333333333,\"#9c179e\"],[0.4444444444444444,\"#bd3786\"],[0.5555555555555556,\"#d8576b\"],[0.6666666666666666,\"#ed7953\"],[0.7777777777777778,\"#fb9f3a\"],[0.8888888888888888,\"#fdca26\"],[1.0,\"#f0f921\"]],\"type\":\"histogram2dcontour\"}],\"histogram2d\":[{\"colorbar\":{\"outlinewidth\":0,\"ticks\":\"\"},\"colorscale\":[[0.0,\"#0d0887\"],[0.1111111111111111,\"#46039f\"],[0.2222222222222222,\"#7201a8\"],[0.3333333333333333,\"#9c179e\"],[0.4444444444444444,\"#bd3786\"],[0.5555555555555556,\"#d8576b\"],[0.6666666666666666,\"#ed7953\"],[0.7777777777777778,\"#fb9f3a\"],[0.8888888888888888,\"#fdca26\"],[1.0,\"#f0f921\"]],\"type\":\"histogram2d\"}],\"histogram\":[{\"marker\":{\"pattern\":{\"fillmode\":\"overlay\",\"size\":10,\"solidity\":0.2}},\"type\":\"histogram\"}],\"mesh3d\":[{\"colorbar\":{\"outlinewidth\":0,\"ticks\":\"\"},\"type\":\"mesh3d\"}],\"parcoords\":[{\"line\":{\"colorbar\":{\"outlinewidth\":0,\"ticks\":\"\"}},\"type\":\"parcoords\"}],\"pie\":[{\"automargin\":true,\"type\":\"pie\"}],\"scatter3d\":[{\"line\":{\"colorbar\":{\"outlinewidth\":0,\"ticks\":\"\"}},\"marker\":{\"colorbar\":{\"outlinewidth\":0,\"ticks\":\"\"}},\"type\":\"scatter3d\"}],\"scattercarpet\":[{\"marker\":{\"colorbar\":{\"outlinewidth\":0,\"ticks\":\"\"}},\"type\":\"scattercarpet\"}],\"scattergeo\":[{\"marker\":{\"colorbar\":{\"outlinewidth\":0,\"ticks\":\"\"}},\"type\":\"scattergeo\"}],\"scattergl\":[{\"marker\":{\"colorbar\":{\"outlinewidth\":0,\"ticks\":\"\"}},\"type\":\"scattergl\"}],\"scattermapbox\":[{\"marker\":{\"colorbar\":{\"outlinewidth\":0,\"ticks\":\"\"}},\"type\":\"scattermapbox\"}],\"scatterpolargl\":[{\"marker\":{\"colorbar\":{\"outlinewidth\":0,\"ticks\":\"\"}},\"type\":\"scatterpolargl\"}],\"scatterpolar\":[{\"marker\":{\"colorbar\":{\"outlinewidth\":0,\"ticks\":\"\"}},\"type\":\"scatterpolar\"}],\"scatter\":[{\"fillpattern\":{\"fillmode\":\"overlay\",\"size\":10,\"solidity\":0.2},\"type\":\"scatter\"}],\"scatterternary\":[{\"marker\":{\"colorbar\":{\"outlinewidth\":0,\"ticks\":\"\"}},\"type\":\"scatterternary\"}],\"surface\":[{\"colorbar\":{\"outlinewidth\":0,\"ticks\":\"\"},\"colorscale\":[[0.0,\"#0d0887\"],[0.1111111111111111,\"#46039f\"],[0.2222222222222222,\"#7201a8\"],[0.3333333333333333,\"#9c179e\"],[0.4444444444444444,\"#bd3786\"],[0.5555555555555556,\"#d8576b\"],[0.6666666666666666,\"#ed7953\"],[0.7777777777777778,\"#fb9f3a\"],[0.8888888888888888,\"#fdca26\"],[1.0,\"#f0f921\"]],\"type\":\"surface\"}],\"table\":[{\"cells\":{\"fill\":{\"color\":\"#EBF0F8\"},\"line\":{\"color\":\"white\"}},\"header\":{\"fill\":{\"color\":\"#C8D4E3\"},\"line\":{\"color\":\"white\"}},\"type\":\"table\"}]},\"layout\":{\"annotationdefaults\":{\"arrowcolor\":\"#2a3f5f\",\"arrowhead\":0,\"arrowwidth\":1},\"autotypenumbers\":\"strict\",\"coloraxis\":{\"colorbar\":{\"outlinewidth\":0,\"ticks\":\"\"}},\"colorscale\":{\"diverging\":[[0,\"#8e0152\"],[0.1,\"#c51b7d\"],[0.2,\"#de77ae\"],[0.3,\"#f1b6da\"],[0.4,\"#fde0ef\"],[0.5,\"#f7f7f7\"],[0.6,\"#e6f5d0\"],[0.7,\"#b8e186\"],[0.8,\"#7fbc41\"],[0.9,\"#4d9221\"],[1,\"#276419\"]],\"sequential\":[[0.0,\"#0d0887\"],[0.1111111111111111,\"#46039f\"],[0.2222222222222222,\"#7201a8\"],[0.3333333333333333,\"#9c179e\"],[0.4444444444444444,\"#bd3786\"],[0.5555555555555556,\"#d8576b\"],[0.6666666666666666,\"#ed7953\"],[0.7777777777777778,\"#fb9f3a\"],[0.8888888888888888,\"#fdca26\"],[1.0,\"#f0f921\"]],\"sequentialminus\":[[0.0,\"#0d0887\"],[0.1111111111111111,\"#46039f\"],[0.2222222222222222,\"#7201a8\"],[0.3333333333333333,\"#9c179e\"],[0.4444444444444444,\"#bd3786\"],[0.5555555555555556,\"#d8576b\"],[0.6666666666666666,\"#ed7953\"],[0.7777777777777778,\"#fb9f3a\"],[0.8888888888888888,\"#fdca26\"],[1.0,\"#f0f921\"]]},\"colorway\":[\"#636efa\",\"#EF553B\",\"#00cc96\",\"#ab63fa\",\"#FFA15A\",\"#19d3f3\",\"#FF6692\",\"#B6E880\",\"#FF97FF\",\"#FECB52\"],\"font\":{\"color\":\"#2a3f5f\"},\"geo\":{\"bgcolor\":\"white\",\"lakecolor\":\"white\",\"landcolor\":\"white\",\"showlakes\":true,\"showland\":true,\"subunitcolor\":\"#C8D4E3\"},\"hoverlabel\":{\"align\":\"left\"},\"hovermode\":\"closest\",\"mapbox\":{\"style\":\"light\"},\"paper_bgcolor\":\"white\",\"plot_bgcolor\":\"white\",\"polar\":{\"angularaxis\":{\"gridcolor\":\"#EBF0F8\",\"linecolor\":\"#EBF0F8\",\"ticks\":\"\"},\"bgcolor\":\"white\",\"radialaxis\":{\"gridcolor\":\"#EBF0F8\",\"linecolor\":\"#EBF0F8\",\"ticks\":\"\"}},\"scene\":{\"xaxis\":{\"backgroundcolor\":\"white\",\"gridcolor\":\"#DFE8F3\",\"gridwidth\":2,\"linecolor\":\"#EBF0F8\",\"showbackground\":true,\"ticks\":\"\",\"zerolinecolor\":\"#EBF0F8\"},\"yaxis\":{\"backgroundcolor\":\"white\",\"gridcolor\":\"#DFE8F3\",\"gridwidth\":2,\"linecolor\":\"#EBF0F8\",\"showbackground\":true,\"ticks\":\"\",\"zerolinecolor\":\"#EBF0F8\"},\"zaxis\":{\"backgroundcolor\":\"white\",\"gridcolor\":\"#DFE8F3\",\"gridwidth\":2,\"linecolor\":\"#EBF0F8\",\"showbackground\":true,\"ticks\":\"\",\"zerolinecolor\":\"#EBF0F8\"}},\"shapedefaults\":{\"line\":{\"color\":\"#2a3f5f\"}},\"ternary\":{\"aaxis\":{\"gridcolor\":\"#DFE8F3\",\"linecolor\":\"#A2B1C6\",\"ticks\":\"\"},\"baxis\":{\"gridcolor\":\"#DFE8F3\",\"linecolor\":\"#A2B1C6\",\"ticks\":\"\"},\"bgcolor\":\"white\",\"caxis\":{\"gridcolor\":\"#DFE8F3\",\"linecolor\":\"#A2B1C6\",\"ticks\":\"\"}},\"title\":{\"x\":0.05},\"xaxis\":{\"automargin\":true,\"gridcolor\":\"#EBF0F8\",\"linecolor\":\"#EBF0F8\",\"ticks\":\"\",\"title\":{\"standoff\":15},\"zerolinecolor\":\"#EBF0F8\",\"zerolinewidth\":2},\"yaxis\":{\"automargin\":true,\"gridcolor\":\"#EBF0F8\",\"linecolor\":\"#EBF0F8\",\"ticks\":\"\",\"title\":{\"standoff\":15},\"zerolinecolor\":\"#EBF0F8\",\"zerolinewidth\":2}}},\"xaxis\":{\"anchor\":\"y\",\"domain\":[0.0,0.175],\"showgrid\":true},\"yaxis\":{\"anchor\":\"x\",\"domain\":[0.6000000000000001,1.0],\"showgrid\":true},\"xaxis2\":{\"anchor\":\"y2\",\"domain\":[0.275,0.45],\"showgrid\":true},\"yaxis2\":{\"anchor\":\"x2\",\"domain\":[0.6000000000000001,1.0],\"showgrid\":true},\"xaxis3\":{\"anchor\":\"y3\",\"domain\":[0.55,0.7250000000000001],\"showgrid\":true},\"yaxis3\":{\"anchor\":\"x3\",\"domain\":[0.6000000000000001,1.0],\"showgrid\":true},\"xaxis4\":{\"anchor\":\"y4\",\"domain\":[0.825,1.0],\"showgrid\":true},\"yaxis4\":{\"anchor\":\"x4\",\"domain\":[0.6000000000000001,1.0],\"showgrid\":true},\"xaxis5\":{\"anchor\":\"y5\",\"domain\":[0.0,0.175],\"showgrid\":true},\"yaxis5\":{\"anchor\":\"x5\",\"domain\":[0.0,0.4],\"showgrid\":true},\"xaxis6\":{\"anchor\":\"y6\",\"domain\":[0.275,0.45],\"showgrid\":true},\"yaxis6\":{\"anchor\":\"x6\",\"domain\":[0.0,0.4],\"showgrid\":true},\"xaxis7\":{\"anchor\":\"y7\",\"domain\":[0.55,0.7250000000000001],\"showgrid\":true},\"yaxis7\":{\"anchor\":\"x7\",\"domain\":[0.0,0.4],\"showgrid\":true},\"xaxis8\":{\"anchor\":\"y8\",\"domain\":[0.825,1.0],\"showgrid\":true},\"yaxis8\":{\"anchor\":\"x8\",\"domain\":[0.0,0.4],\"showgrid\":true},\"annotations\":[{\"font\":{\"size\":16},\"showarrow\":false,\"text\":\"Topic 0\",\"x\":0.0875,\"xanchor\":\"center\",\"xref\":\"paper\",\"y\":1.0,\"yanchor\":\"bottom\",\"yref\":\"paper\"},{\"font\":{\"size\":16},\"showarrow\":false,\"text\":\"Topic 1\",\"x\":0.36250000000000004,\"xanchor\":\"center\",\"xref\":\"paper\",\"y\":1.0,\"yanchor\":\"bottom\",\"yref\":\"paper\"},{\"font\":{\"size\":16},\"showarrow\":false,\"text\":\"Topic 2\",\"x\":0.6375000000000001,\"xanchor\":\"center\",\"xref\":\"paper\",\"y\":1.0,\"yanchor\":\"bottom\",\"yref\":\"paper\"},{\"font\":{\"size\":16},\"showarrow\":false,\"text\":\"Topic 3\",\"x\":0.9125,\"xanchor\":\"center\",\"xref\":\"paper\",\"y\":1.0,\"yanchor\":\"bottom\",\"yref\":\"paper\"},{\"font\":{\"size\":16},\"showarrow\":false,\"text\":\"Topic 4\",\"x\":0.0875,\"xanchor\":\"center\",\"xref\":\"paper\",\"y\":0.4,\"yanchor\":\"bottom\",\"yref\":\"paper\"}],\"title\":{\"font\":{\"size\":22,\"color\":\"Black\"},\"text\":\"Topic Word Scores\",\"x\":0.5,\"xanchor\":\"center\",\"yanchor\":\"top\"},\"hoverlabel\":{\"font\":{\"size\":16,\"family\":\"Rockwell\"},\"bgcolor\":\"white\"},\"showlegend\":false,\"width\":1000,\"height\":500},                        {\"responsive\": true}                    ).then(function(){\n                            \nvar gd = document.getElementById('d19b473a-80bc-4334-8142-26651b2b113a');\nvar x = new MutationObserver(function (mutations, observer) {{\n        var display = window.getComputedStyle(gd).display;\n        if (!display || display === 'none') {{\n            console.log([gd, 'removed!']);\n            Plotly.purge(gd);\n            observer.disconnect();\n        }}\n}});\n\n// Listen for the removal of the full notebook cells\nvar notebookContainer = gd.closest('#notebook-container');\nif (notebookContainer) {{\n    x.observe(notebookContainer, {childList: true});\n}}\n\n// Listen for the clearing of the current output cell\nvar outputEl = gd.closest('.output');\nif (outputEl) {{\n    x.observe(outputEl, {childList: true});\n}}\n\n                        })                };                });            </script>        </div>"
     },
     "metadata": {},
     "output_type": "display_data"
    }
   ]
  },
  {
   "cell_type": "markdown",
   "metadata": {
    "id": "QCPdi6_z6sbT"
   },
   "source": [
    "## Visualize Topic Similarity\n",
    "Having generated topic embeddings, through both c-TF-IDF and embeddings, we can create a similarity matrix by simply applying cosine similarities through those topic embeddings. The result will be a matrix indicating how similar certain topics are to each other."
   ]
  },
  {
   "cell_type": "code",
   "metadata": {
    "colab": {
     "base_uri": "https://localhost:8080/",
     "height": 1000
    },
    "id": "edzNhZuZ6wTr",
    "outputId": "e01231db-fe82-49d3-a96f-8135522d9b9b",
    "ExecuteTime": {
     "end_time": "2023-05-16T08:01:31.547506916Z",
     "start_time": "2023-05-16T08:01:31.402400010Z"
    }
   },
   "source": [
    "topic_model.visualize_heatmap(n_clusters=5, width=1000, height=1000)"
   ],
   "execution_count": 40,
   "outputs": [
    {
     "data": {
      "application/vnd.plotly.v1+json": {
       "data": [
        {
         "coloraxis": "coloraxis",
         "name": "0",
         "x": [
          "0_infeccoes_causadas_trato",
          "6_processos_inflamacao_arti...",
          "7_dermatite_pele_betametasona",
          "10_estomago_ulcera_refluxo",
          "1_pacientes_insuficiencia_c...",
          "2_transtorno_tratamento_ans...",
          "5_alergica_nasal_sintomas",
          "8_tramadol_cloridrato_parac...",
          "12_betametasona_fosfato_inj...",
          "3_etinilestradiol_gravidez_...",
          "4_vitamina_calcio_osteoporose",
          "9_cancer_metastatico_quimio...",
          "11_hpb_doxazosina_mesilato"
         ],
         "y": [
          "0_infeccoes_causadas_trato",
          "6_processos_inflamacao_arti...",
          "7_dermatite_pele_betametasona",
          "10_estomago_ulcera_refluxo",
          "1_pacientes_insuficiencia_c...",
          "2_transtorno_tratamento_ans...",
          "5_alergica_nasal_sintomas",
          "8_tramadol_cloridrato_parac...",
          "12_betametasona_fosfato_inj...",
          "3_etinilestradiol_gravidez_...",
          "4_vitamina_calcio_osteoporose",
          "9_cancer_metastatico_quimio...",
          "11_hpb_doxazosina_mesilato"
         ],
         "z": [
          [
           1.0000000000000007,
           0.7651617766844856,
           0.7617801860361824,
           0.771529571410104,
           0.7259315676569668,
           0.7749434858289284,
           0.8093726310832661,
           0.7816663851470504,
           0.7411583817267215,
           0.6687544346339238,
           0.650011520275352,
           0.6576705348982591,
           0.6645739505466398
          ],
          [
           0.7651617766844856,
           1.0,
           0.8054840315318301,
           0.8242430867028978,
           0.709782819668207,
           0.7877632456884875,
           0.769126679648198,
           0.8263828903302116,
           0.6976111135523135,
           0.6536914909489071,
           0.6813496341723124,
           0.7209757849689642,
           0.732258954256569
          ],
          [
           0.7617801860361824,
           0.8054840315318301,
           1.0000000000000007,
           0.75814907705509,
           0.6712779112116286,
           0.7795434057334802,
           0.8234907047400397,
           0.7726760026212327,
           0.8236477563999414,
           0.6740924935915511,
           0.684936266404502,
           0.6951498373135494,
           0.7201260666045401
          ],
          [
           0.771529571410104,
           0.8242430867028978,
           0.75814907705509,
           0.9999999999999999,
           0.7730930222629142,
           0.793156194267007,
           0.8209060811989577,
           0.8206674191882237,
           0.7688613667424707,
           0.6403441935969879,
           0.6749643953033988,
           0.7095885787983018,
           0.6794204103041226
          ],
          [
           0.7259315676569668,
           0.709782819668207,
           0.6712779112116286,
           0.7730930222629142,
           0.9999999999999998,
           0.8666919728135978,
           0.8145718080476394,
           0.82637450233499,
           0.8071129399603971,
           0.7203910333219508,
           0.793684706338814,
           0.7173480947605033,
           0.7572854874834796
          ],
          [
           0.7749434858289284,
           0.7877632456884875,
           0.7795434057334802,
           0.793156194267007,
           0.8666919728135978,
           0.9999999999999996,
           0.8644835639816402,
           0.8832497259150145,
           0.8280633998563882,
           0.7749916789447144,
           0.7568056714605387,
           0.7543615061125373,
           0.7751720486443722
          ],
          [
           0.8093726310832661,
           0.769126679648198,
           0.8234907047400397,
           0.8209060811989577,
           0.8145718080476394,
           0.8644835639816402,
           1.0000000000000009,
           0.837748604330511,
           0.831542819065663,
           0.731805753157537,
           0.7371546629015387,
           0.6743577884269472,
           0.7090414931204576
          ],
          [
           0.7816663851470504,
           0.8263828903302116,
           0.7726760026212327,
           0.8206674191882237,
           0.82637450233499,
           0.8832497259150145,
           0.837748604330511,
           0.9999999999999994,
           0.8272274623763491,
           0.744499071023186,
           0.7659848530262571,
           0.7175949977062235,
           0.7330478133036147
          ],
          [
           0.7411583817267215,
           0.6976111135523135,
           0.8236477563999414,
           0.7688613667424707,
           0.8071129399603971,
           0.8280633998563882,
           0.831542819065663,
           0.8272274623763491,
           1.0,
           0.7011652731767947,
           0.748647200951444,
           0.6524469335332327,
           0.7534009717955585
          ],
          [
           0.6687544346339238,
           0.6536914909489071,
           0.6740924935915511,
           0.6403441935969879,
           0.7203910333219508,
           0.7749916789447144,
           0.731805753157537,
           0.744499071023186,
           0.7011652731767947,
           0.9999999999999993,
           0.6766040498358785,
           0.7000232421170096,
           0.7415835332699288
          ],
          [
           0.650011520275352,
           0.6813496341723124,
           0.684936266404502,
           0.6749643953033988,
           0.793684706338814,
           0.7568056714605387,
           0.7371546629015387,
           0.7659848530262571,
           0.748647200951444,
           0.6766040498358785,
           0.9999999999999999,
           0.6500465474683603,
           0.6470884588889617
          ],
          [
           0.6576705348982591,
           0.7209757849689642,
           0.6951498373135494,
           0.7095885787983018,
           0.7173480947605033,
           0.7543615061125373,
           0.6743577884269472,
           0.7175949977062235,
           0.6524469335332327,
           0.7000232421170096,
           0.6500465474683603,
           0.9999999999999987,
           0.7996882993880594
          ],
          [
           0.6645739505466398,
           0.732258954256569,
           0.7201260666045401,
           0.6794204103041226,
           0.7572854874834796,
           0.7751720486443722,
           0.7090414931204576,
           0.7330478133036147,
           0.7534009717955585,
           0.7415835332699288,
           0.6470884588889617,
           0.7996882993880594,
           0.9999999999999999
          ]
         ],
         "type": "heatmap",
         "xaxis": "x",
         "yaxis": "y",
         "hovertemplate": "x: %{x}<br>y: %{y}<br>Similarity Score: %{z}<extra></extra>"
        }
       ],
       "layout": {
        "template": {
         "data": {
          "histogram2dcontour": [
           {
            "type": "histogram2dcontour",
            "colorbar": {
             "outlinewidth": 0,
             "ticks": ""
            },
            "colorscale": [
             [
              0.0,
              "#0d0887"
             ],
             [
              0.1111111111111111,
              "#46039f"
             ],
             [
              0.2222222222222222,
              "#7201a8"
             ],
             [
              0.3333333333333333,
              "#9c179e"
             ],
             [
              0.4444444444444444,
              "#bd3786"
             ],
             [
              0.5555555555555556,
              "#d8576b"
             ],
             [
              0.6666666666666666,
              "#ed7953"
             ],
             [
              0.7777777777777778,
              "#fb9f3a"
             ],
             [
              0.8888888888888888,
              "#fdca26"
             ],
             [
              1.0,
              "#f0f921"
             ]
            ]
           }
          ],
          "choropleth": [
           {
            "type": "choropleth",
            "colorbar": {
             "outlinewidth": 0,
             "ticks": ""
            }
           }
          ],
          "histogram2d": [
           {
            "type": "histogram2d",
            "colorbar": {
             "outlinewidth": 0,
             "ticks": ""
            },
            "colorscale": [
             [
              0.0,
              "#0d0887"
             ],
             [
              0.1111111111111111,
              "#46039f"
             ],
             [
              0.2222222222222222,
              "#7201a8"
             ],
             [
              0.3333333333333333,
              "#9c179e"
             ],
             [
              0.4444444444444444,
              "#bd3786"
             ],
             [
              0.5555555555555556,
              "#d8576b"
             ],
             [
              0.6666666666666666,
              "#ed7953"
             ],
             [
              0.7777777777777778,
              "#fb9f3a"
             ],
             [
              0.8888888888888888,
              "#fdca26"
             ],
             [
              1.0,
              "#f0f921"
             ]
            ]
           }
          ],
          "heatmap": [
           {
            "type": "heatmap",
            "colorbar": {
             "outlinewidth": 0,
             "ticks": ""
            },
            "colorscale": [
             [
              0.0,
              "#0d0887"
             ],
             [
              0.1111111111111111,
              "#46039f"
             ],
             [
              0.2222222222222222,
              "#7201a8"
             ],
             [
              0.3333333333333333,
              "#9c179e"
             ],
             [
              0.4444444444444444,
              "#bd3786"
             ],
             [
              0.5555555555555556,
              "#d8576b"
             ],
             [
              0.6666666666666666,
              "#ed7953"
             ],
             [
              0.7777777777777778,
              "#fb9f3a"
             ],
             [
              0.8888888888888888,
              "#fdca26"
             ],
             [
              1.0,
              "#f0f921"
             ]
            ]
           }
          ],
          "heatmapgl": [
           {
            "type": "heatmapgl",
            "colorbar": {
             "outlinewidth": 0,
             "ticks": ""
            },
            "colorscale": [
             [
              0.0,
              "#0d0887"
             ],
             [
              0.1111111111111111,
              "#46039f"
             ],
             [
              0.2222222222222222,
              "#7201a8"
             ],
             [
              0.3333333333333333,
              "#9c179e"
             ],
             [
              0.4444444444444444,
              "#bd3786"
             ],
             [
              0.5555555555555556,
              "#d8576b"
             ],
             [
              0.6666666666666666,
              "#ed7953"
             ],
             [
              0.7777777777777778,
              "#fb9f3a"
             ],
             [
              0.8888888888888888,
              "#fdca26"
             ],
             [
              1.0,
              "#f0f921"
             ]
            ]
           }
          ],
          "contourcarpet": [
           {
            "type": "contourcarpet",
            "colorbar": {
             "outlinewidth": 0,
             "ticks": ""
            }
           }
          ],
          "contour": [
           {
            "type": "contour",
            "colorbar": {
             "outlinewidth": 0,
             "ticks": ""
            },
            "colorscale": [
             [
              0.0,
              "#0d0887"
             ],
             [
              0.1111111111111111,
              "#46039f"
             ],
             [
              0.2222222222222222,
              "#7201a8"
             ],
             [
              0.3333333333333333,
              "#9c179e"
             ],
             [
              0.4444444444444444,
              "#bd3786"
             ],
             [
              0.5555555555555556,
              "#d8576b"
             ],
             [
              0.6666666666666666,
              "#ed7953"
             ],
             [
              0.7777777777777778,
              "#fb9f3a"
             ],
             [
              0.8888888888888888,
              "#fdca26"
             ],
             [
              1.0,
              "#f0f921"
             ]
            ]
           }
          ],
          "surface": [
           {
            "type": "surface",
            "colorbar": {
             "outlinewidth": 0,
             "ticks": ""
            },
            "colorscale": [
             [
              0.0,
              "#0d0887"
             ],
             [
              0.1111111111111111,
              "#46039f"
             ],
             [
              0.2222222222222222,
              "#7201a8"
             ],
             [
              0.3333333333333333,
              "#9c179e"
             ],
             [
              0.4444444444444444,
              "#bd3786"
             ],
             [
              0.5555555555555556,
              "#d8576b"
             ],
             [
              0.6666666666666666,
              "#ed7953"
             ],
             [
              0.7777777777777778,
              "#fb9f3a"
             ],
             [
              0.8888888888888888,
              "#fdca26"
             ],
             [
              1.0,
              "#f0f921"
             ]
            ]
           }
          ],
          "mesh3d": [
           {
            "type": "mesh3d",
            "colorbar": {
             "outlinewidth": 0,
             "ticks": ""
            }
           }
          ],
          "scatter": [
           {
            "fillpattern": {
             "fillmode": "overlay",
             "size": 10,
             "solidity": 0.2
            },
            "type": "scatter"
           }
          ],
          "parcoords": [
           {
            "type": "parcoords",
            "line": {
             "colorbar": {
              "outlinewidth": 0,
              "ticks": ""
             }
            }
           }
          ],
          "scatterpolargl": [
           {
            "type": "scatterpolargl",
            "marker": {
             "colorbar": {
              "outlinewidth": 0,
              "ticks": ""
             }
            }
           }
          ],
          "bar": [
           {
            "error_x": {
             "color": "#2a3f5f"
            },
            "error_y": {
             "color": "#2a3f5f"
            },
            "marker": {
             "line": {
              "color": "#E5ECF6",
              "width": 0.5
             },
             "pattern": {
              "fillmode": "overlay",
              "size": 10,
              "solidity": 0.2
             }
            },
            "type": "bar"
           }
          ],
          "scattergeo": [
           {
            "type": "scattergeo",
            "marker": {
             "colorbar": {
              "outlinewidth": 0,
              "ticks": ""
             }
            }
           }
          ],
          "scatterpolar": [
           {
            "type": "scatterpolar",
            "marker": {
             "colorbar": {
              "outlinewidth": 0,
              "ticks": ""
             }
            }
           }
          ],
          "histogram": [
           {
            "marker": {
             "pattern": {
              "fillmode": "overlay",
              "size": 10,
              "solidity": 0.2
             }
            },
            "type": "histogram"
           }
          ],
          "scattergl": [
           {
            "type": "scattergl",
            "marker": {
             "colorbar": {
              "outlinewidth": 0,
              "ticks": ""
             }
            }
           }
          ],
          "scatter3d": [
           {
            "type": "scatter3d",
            "line": {
             "colorbar": {
              "outlinewidth": 0,
              "ticks": ""
             }
            },
            "marker": {
             "colorbar": {
              "outlinewidth": 0,
              "ticks": ""
             }
            }
           }
          ],
          "scattermapbox": [
           {
            "type": "scattermapbox",
            "marker": {
             "colorbar": {
              "outlinewidth": 0,
              "ticks": ""
             }
            }
           }
          ],
          "scatterternary": [
           {
            "type": "scatterternary",
            "marker": {
             "colorbar": {
              "outlinewidth": 0,
              "ticks": ""
             }
            }
           }
          ],
          "scattercarpet": [
           {
            "type": "scattercarpet",
            "marker": {
             "colorbar": {
              "outlinewidth": 0,
              "ticks": ""
             }
            }
           }
          ],
          "carpet": [
           {
            "aaxis": {
             "endlinecolor": "#2a3f5f",
             "gridcolor": "white",
             "linecolor": "white",
             "minorgridcolor": "white",
             "startlinecolor": "#2a3f5f"
            },
            "baxis": {
             "endlinecolor": "#2a3f5f",
             "gridcolor": "white",
             "linecolor": "white",
             "minorgridcolor": "white",
             "startlinecolor": "#2a3f5f"
            },
            "type": "carpet"
           }
          ],
          "table": [
           {
            "cells": {
             "fill": {
              "color": "#EBF0F8"
             },
             "line": {
              "color": "white"
             }
            },
            "header": {
             "fill": {
              "color": "#C8D4E3"
             },
             "line": {
              "color": "white"
             }
            },
            "type": "table"
           }
          ],
          "barpolar": [
           {
            "marker": {
             "line": {
              "color": "#E5ECF6",
              "width": 0.5
             },
             "pattern": {
              "fillmode": "overlay",
              "size": 10,
              "solidity": 0.2
             }
            },
            "type": "barpolar"
           }
          ],
          "pie": [
           {
            "automargin": true,
            "type": "pie"
           }
          ]
         },
         "layout": {
          "autotypenumbers": "strict",
          "colorway": [
           "#636efa",
           "#EF553B",
           "#00cc96",
           "#ab63fa",
           "#FFA15A",
           "#19d3f3",
           "#FF6692",
           "#B6E880",
           "#FF97FF",
           "#FECB52"
          ],
          "font": {
           "color": "#2a3f5f"
          },
          "hovermode": "closest",
          "hoverlabel": {
           "align": "left"
          },
          "paper_bgcolor": "white",
          "plot_bgcolor": "#E5ECF6",
          "polar": {
           "bgcolor": "#E5ECF6",
           "angularaxis": {
            "gridcolor": "white",
            "linecolor": "white",
            "ticks": ""
           },
           "radialaxis": {
            "gridcolor": "white",
            "linecolor": "white",
            "ticks": ""
           }
          },
          "ternary": {
           "bgcolor": "#E5ECF6",
           "aaxis": {
            "gridcolor": "white",
            "linecolor": "white",
            "ticks": ""
           },
           "baxis": {
            "gridcolor": "white",
            "linecolor": "white",
            "ticks": ""
           },
           "caxis": {
            "gridcolor": "white",
            "linecolor": "white",
            "ticks": ""
           }
          },
          "coloraxis": {
           "colorbar": {
            "outlinewidth": 0,
            "ticks": ""
           }
          },
          "colorscale": {
           "sequential": [
            [
             0.0,
             "#0d0887"
            ],
            [
             0.1111111111111111,
             "#46039f"
            ],
            [
             0.2222222222222222,
             "#7201a8"
            ],
            [
             0.3333333333333333,
             "#9c179e"
            ],
            [
             0.4444444444444444,
             "#bd3786"
            ],
            [
             0.5555555555555556,
             "#d8576b"
            ],
            [
             0.6666666666666666,
             "#ed7953"
            ],
            [
             0.7777777777777778,
             "#fb9f3a"
            ],
            [
             0.8888888888888888,
             "#fdca26"
            ],
            [
             1.0,
             "#f0f921"
            ]
           ],
           "sequentialminus": [
            [
             0.0,
             "#0d0887"
            ],
            [
             0.1111111111111111,
             "#46039f"
            ],
            [
             0.2222222222222222,
             "#7201a8"
            ],
            [
             0.3333333333333333,
             "#9c179e"
            ],
            [
             0.4444444444444444,
             "#bd3786"
            ],
            [
             0.5555555555555556,
             "#d8576b"
            ],
            [
             0.6666666666666666,
             "#ed7953"
            ],
            [
             0.7777777777777778,
             "#fb9f3a"
            ],
            [
             0.8888888888888888,
             "#fdca26"
            ],
            [
             1.0,
             "#f0f921"
            ]
           ],
           "diverging": [
            [
             0,
             "#8e0152"
            ],
            [
             0.1,
             "#c51b7d"
            ],
            [
             0.2,
             "#de77ae"
            ],
            [
             0.3,
             "#f1b6da"
            ],
            [
             0.4,
             "#fde0ef"
            ],
            [
             0.5,
             "#f7f7f7"
            ],
            [
             0.6,
             "#e6f5d0"
            ],
            [
             0.7,
             "#b8e186"
            ],
            [
             0.8,
             "#7fbc41"
            ],
            [
             0.9,
             "#4d9221"
            ],
            [
             1,
             "#276419"
            ]
           ]
          },
          "xaxis": {
           "gridcolor": "white",
           "linecolor": "white",
           "ticks": "",
           "title": {
            "standoff": 15
           },
           "zerolinecolor": "white",
           "automargin": true,
           "zerolinewidth": 2
          },
          "yaxis": {
           "gridcolor": "white",
           "linecolor": "white",
           "ticks": "",
           "title": {
            "standoff": 15
           },
           "zerolinecolor": "white",
           "automargin": true,
           "zerolinewidth": 2
          },
          "scene": {
           "xaxis": {
            "backgroundcolor": "#E5ECF6",
            "gridcolor": "white",
            "linecolor": "white",
            "showbackground": true,
            "ticks": "",
            "zerolinecolor": "white",
            "gridwidth": 2
           },
           "yaxis": {
            "backgroundcolor": "#E5ECF6",
            "gridcolor": "white",
            "linecolor": "white",
            "showbackground": true,
            "ticks": "",
            "zerolinecolor": "white",
            "gridwidth": 2
           },
           "zaxis": {
            "backgroundcolor": "#E5ECF6",
            "gridcolor": "white",
            "linecolor": "white",
            "showbackground": true,
            "ticks": "",
            "zerolinecolor": "white",
            "gridwidth": 2
           }
          },
          "shapedefaults": {
           "line": {
            "color": "#2a3f5f"
           }
          },
          "annotationdefaults": {
           "arrowcolor": "#2a3f5f",
           "arrowhead": 0,
           "arrowwidth": 1
          },
          "geo": {
           "bgcolor": "white",
           "landcolor": "#E5ECF6",
           "subunitcolor": "white",
           "showland": true,
           "showlakes": true,
           "lakecolor": "white"
          },
          "title": {
           "x": 0.05
          },
          "mapbox": {
           "style": "light"
          }
         }
        },
        "xaxis": {
         "anchor": "y",
         "domain": [
          0.0,
          1.0
         ],
         "scaleanchor": "y",
         "constrain": "domain"
        },
        "yaxis": {
         "anchor": "x",
         "domain": [
          0.0,
          1.0
         ],
         "autorange": "reversed",
         "constrain": "domain"
        },
        "coloraxis": {
         "colorbar": {
          "title": {
           "text": "Similarity Score"
          }
         },
         "colorscale": [
          [
           0.0,
           "rgb(247,252,240)"
          ],
          [
           0.125,
           "rgb(224,243,219)"
          ],
          [
           0.25,
           "rgb(204,235,197)"
          ],
          [
           0.375,
           "rgb(168,221,181)"
          ],
          [
           0.5,
           "rgb(123,204,196)"
          ],
          [
           0.625,
           "rgb(78,179,211)"
          ],
          [
           0.75,
           "rgb(43,140,190)"
          ],
          [
           0.875,
           "rgb(8,104,172)"
          ],
          [
           1.0,
           "rgb(8,64,129)"
          ]
         ]
        },
        "margin": {
         "t": 60
        },
        "title": {
         "font": {
          "size": 22,
          "color": "Black"
         },
         "text": "<b>Similarity Matrix</b>",
         "y": 0.95,
         "x": 0.55,
         "xanchor": "center",
         "yanchor": "top"
        },
        "hoverlabel": {
         "font": {
          "size": 16,
          "family": "Rockwell"
         },
         "bgcolor": "white"
        },
        "width": 1000,
        "height": 1000,
        "showlegend": true,
        "legend": {
         "title": {
          "text": "Trend"
         }
        }
       },
       "config": {
        "plotlyServerURL": "https://plot.ly"
       }
      },
      "text/html": "<div>                            <div id=\"f3fa6656-1110-4c5f-b09f-c75bfc511288\" class=\"plotly-graph-div\" style=\"height:1000px; width:1000px;\"></div>            <script type=\"text/javascript\">                require([\"plotly\"], function(Plotly) {                    window.PLOTLYENV=window.PLOTLYENV || {};                                    if (document.getElementById(\"f3fa6656-1110-4c5f-b09f-c75bfc511288\")) {                    Plotly.newPlot(                        \"f3fa6656-1110-4c5f-b09f-c75bfc511288\",                        [{\"coloraxis\":\"coloraxis\",\"name\":\"0\",\"x\":[\"0_infeccoes_causadas_trato\",\"6_processos_inflamacao_arti...\",\"7_dermatite_pele_betametasona\",\"10_estomago_ulcera_refluxo\",\"1_pacientes_insuficiencia_c...\",\"2_transtorno_tratamento_ans...\",\"5_alergica_nasal_sintomas\",\"8_tramadol_cloridrato_parac...\",\"12_betametasona_fosfato_inj...\",\"3_etinilestradiol_gravidez_...\",\"4_vitamina_calcio_osteoporose\",\"9_cancer_metastatico_quimio...\",\"11_hpb_doxazosina_mesilato\"],\"y\":[\"0_infeccoes_causadas_trato\",\"6_processos_inflamacao_arti...\",\"7_dermatite_pele_betametasona\",\"10_estomago_ulcera_refluxo\",\"1_pacientes_insuficiencia_c...\",\"2_transtorno_tratamento_ans...\",\"5_alergica_nasal_sintomas\",\"8_tramadol_cloridrato_parac...\",\"12_betametasona_fosfato_inj...\",\"3_etinilestradiol_gravidez_...\",\"4_vitamina_calcio_osteoporose\",\"9_cancer_metastatico_quimio...\",\"11_hpb_doxazosina_mesilato\"],\"z\":[[1.0000000000000007,0.7651617766844856,0.7617801860361824,0.771529571410104,0.7259315676569668,0.7749434858289284,0.8093726310832661,0.7816663851470504,0.7411583817267215,0.6687544346339238,0.650011520275352,0.6576705348982591,0.6645739505466398],[0.7651617766844856,1.0,0.8054840315318301,0.8242430867028978,0.709782819668207,0.7877632456884875,0.769126679648198,0.8263828903302116,0.6976111135523135,0.6536914909489071,0.6813496341723124,0.7209757849689642,0.732258954256569],[0.7617801860361824,0.8054840315318301,1.0000000000000007,0.75814907705509,0.6712779112116286,0.7795434057334802,0.8234907047400397,0.7726760026212327,0.8236477563999414,0.6740924935915511,0.684936266404502,0.6951498373135494,0.7201260666045401],[0.771529571410104,0.8242430867028978,0.75814907705509,0.9999999999999999,0.7730930222629142,0.793156194267007,0.8209060811989577,0.8206674191882237,0.7688613667424707,0.6403441935969879,0.6749643953033988,0.7095885787983018,0.6794204103041226],[0.7259315676569668,0.709782819668207,0.6712779112116286,0.7730930222629142,0.9999999999999998,0.8666919728135978,0.8145718080476394,0.82637450233499,0.8071129399603971,0.7203910333219508,0.793684706338814,0.7173480947605033,0.7572854874834796],[0.7749434858289284,0.7877632456884875,0.7795434057334802,0.793156194267007,0.8666919728135978,0.9999999999999996,0.8644835639816402,0.8832497259150145,0.8280633998563882,0.7749916789447144,0.7568056714605387,0.7543615061125373,0.7751720486443722],[0.8093726310832661,0.769126679648198,0.8234907047400397,0.8209060811989577,0.8145718080476394,0.8644835639816402,1.0000000000000009,0.837748604330511,0.831542819065663,0.731805753157537,0.7371546629015387,0.6743577884269472,0.7090414931204576],[0.7816663851470504,0.8263828903302116,0.7726760026212327,0.8206674191882237,0.82637450233499,0.8832497259150145,0.837748604330511,0.9999999999999994,0.8272274623763491,0.744499071023186,0.7659848530262571,0.7175949977062235,0.7330478133036147],[0.7411583817267215,0.6976111135523135,0.8236477563999414,0.7688613667424707,0.8071129399603971,0.8280633998563882,0.831542819065663,0.8272274623763491,1.0,0.7011652731767947,0.748647200951444,0.6524469335332327,0.7534009717955585],[0.6687544346339238,0.6536914909489071,0.6740924935915511,0.6403441935969879,0.7203910333219508,0.7749916789447144,0.731805753157537,0.744499071023186,0.7011652731767947,0.9999999999999993,0.6766040498358785,0.7000232421170096,0.7415835332699288],[0.650011520275352,0.6813496341723124,0.684936266404502,0.6749643953033988,0.793684706338814,0.7568056714605387,0.7371546629015387,0.7659848530262571,0.748647200951444,0.6766040498358785,0.9999999999999999,0.6500465474683603,0.6470884588889617],[0.6576705348982591,0.7209757849689642,0.6951498373135494,0.7095885787983018,0.7173480947605033,0.7543615061125373,0.6743577884269472,0.7175949977062235,0.6524469335332327,0.7000232421170096,0.6500465474683603,0.9999999999999987,0.7996882993880594],[0.6645739505466398,0.732258954256569,0.7201260666045401,0.6794204103041226,0.7572854874834796,0.7751720486443722,0.7090414931204576,0.7330478133036147,0.7534009717955585,0.7415835332699288,0.6470884588889617,0.7996882993880594,0.9999999999999999]],\"type\":\"heatmap\",\"xaxis\":\"x\",\"yaxis\":\"y\",\"hovertemplate\":\"x: %{x}<br>y: %{y}<br>Similarity Score: %{z}<extra></extra>\"}],                        {\"template\":{\"data\":{\"histogram2dcontour\":[{\"type\":\"histogram2dcontour\",\"colorbar\":{\"outlinewidth\":0,\"ticks\":\"\"},\"colorscale\":[[0.0,\"#0d0887\"],[0.1111111111111111,\"#46039f\"],[0.2222222222222222,\"#7201a8\"],[0.3333333333333333,\"#9c179e\"],[0.4444444444444444,\"#bd3786\"],[0.5555555555555556,\"#d8576b\"],[0.6666666666666666,\"#ed7953\"],[0.7777777777777778,\"#fb9f3a\"],[0.8888888888888888,\"#fdca26\"],[1.0,\"#f0f921\"]]}],\"choropleth\":[{\"type\":\"choropleth\",\"colorbar\":{\"outlinewidth\":0,\"ticks\":\"\"}}],\"histogram2d\":[{\"type\":\"histogram2d\",\"colorbar\":{\"outlinewidth\":0,\"ticks\":\"\"},\"colorscale\":[[0.0,\"#0d0887\"],[0.1111111111111111,\"#46039f\"],[0.2222222222222222,\"#7201a8\"],[0.3333333333333333,\"#9c179e\"],[0.4444444444444444,\"#bd3786\"],[0.5555555555555556,\"#d8576b\"],[0.6666666666666666,\"#ed7953\"],[0.7777777777777778,\"#fb9f3a\"],[0.8888888888888888,\"#fdca26\"],[1.0,\"#f0f921\"]]}],\"heatmap\":[{\"type\":\"heatmap\",\"colorbar\":{\"outlinewidth\":0,\"ticks\":\"\"},\"colorscale\":[[0.0,\"#0d0887\"],[0.1111111111111111,\"#46039f\"],[0.2222222222222222,\"#7201a8\"],[0.3333333333333333,\"#9c179e\"],[0.4444444444444444,\"#bd3786\"],[0.5555555555555556,\"#d8576b\"],[0.6666666666666666,\"#ed7953\"],[0.7777777777777778,\"#fb9f3a\"],[0.8888888888888888,\"#fdca26\"],[1.0,\"#f0f921\"]]}],\"heatmapgl\":[{\"type\":\"heatmapgl\",\"colorbar\":{\"outlinewidth\":0,\"ticks\":\"\"},\"colorscale\":[[0.0,\"#0d0887\"],[0.1111111111111111,\"#46039f\"],[0.2222222222222222,\"#7201a8\"],[0.3333333333333333,\"#9c179e\"],[0.4444444444444444,\"#bd3786\"],[0.5555555555555556,\"#d8576b\"],[0.6666666666666666,\"#ed7953\"],[0.7777777777777778,\"#fb9f3a\"],[0.8888888888888888,\"#fdca26\"],[1.0,\"#f0f921\"]]}],\"contourcarpet\":[{\"type\":\"contourcarpet\",\"colorbar\":{\"outlinewidth\":0,\"ticks\":\"\"}}],\"contour\":[{\"type\":\"contour\",\"colorbar\":{\"outlinewidth\":0,\"ticks\":\"\"},\"colorscale\":[[0.0,\"#0d0887\"],[0.1111111111111111,\"#46039f\"],[0.2222222222222222,\"#7201a8\"],[0.3333333333333333,\"#9c179e\"],[0.4444444444444444,\"#bd3786\"],[0.5555555555555556,\"#d8576b\"],[0.6666666666666666,\"#ed7953\"],[0.7777777777777778,\"#fb9f3a\"],[0.8888888888888888,\"#fdca26\"],[1.0,\"#f0f921\"]]}],\"surface\":[{\"type\":\"surface\",\"colorbar\":{\"outlinewidth\":0,\"ticks\":\"\"},\"colorscale\":[[0.0,\"#0d0887\"],[0.1111111111111111,\"#46039f\"],[0.2222222222222222,\"#7201a8\"],[0.3333333333333333,\"#9c179e\"],[0.4444444444444444,\"#bd3786\"],[0.5555555555555556,\"#d8576b\"],[0.6666666666666666,\"#ed7953\"],[0.7777777777777778,\"#fb9f3a\"],[0.8888888888888888,\"#fdca26\"],[1.0,\"#f0f921\"]]}],\"mesh3d\":[{\"type\":\"mesh3d\",\"colorbar\":{\"outlinewidth\":0,\"ticks\":\"\"}}],\"scatter\":[{\"fillpattern\":{\"fillmode\":\"overlay\",\"size\":10,\"solidity\":0.2},\"type\":\"scatter\"}],\"parcoords\":[{\"type\":\"parcoords\",\"line\":{\"colorbar\":{\"outlinewidth\":0,\"ticks\":\"\"}}}],\"scatterpolargl\":[{\"type\":\"scatterpolargl\",\"marker\":{\"colorbar\":{\"outlinewidth\":0,\"ticks\":\"\"}}}],\"bar\":[{\"error_x\":{\"color\":\"#2a3f5f\"},\"error_y\":{\"color\":\"#2a3f5f\"},\"marker\":{\"line\":{\"color\":\"#E5ECF6\",\"width\":0.5},\"pattern\":{\"fillmode\":\"overlay\",\"size\":10,\"solidity\":0.2}},\"type\":\"bar\"}],\"scattergeo\":[{\"type\":\"scattergeo\",\"marker\":{\"colorbar\":{\"outlinewidth\":0,\"ticks\":\"\"}}}],\"scatterpolar\":[{\"type\":\"scatterpolar\",\"marker\":{\"colorbar\":{\"outlinewidth\":0,\"ticks\":\"\"}}}],\"histogram\":[{\"marker\":{\"pattern\":{\"fillmode\":\"overlay\",\"size\":10,\"solidity\":0.2}},\"type\":\"histogram\"}],\"scattergl\":[{\"type\":\"scattergl\",\"marker\":{\"colorbar\":{\"outlinewidth\":0,\"ticks\":\"\"}}}],\"scatter3d\":[{\"type\":\"scatter3d\",\"line\":{\"colorbar\":{\"outlinewidth\":0,\"ticks\":\"\"}},\"marker\":{\"colorbar\":{\"outlinewidth\":0,\"ticks\":\"\"}}}],\"scattermapbox\":[{\"type\":\"scattermapbox\",\"marker\":{\"colorbar\":{\"outlinewidth\":0,\"ticks\":\"\"}}}],\"scatterternary\":[{\"type\":\"scatterternary\",\"marker\":{\"colorbar\":{\"outlinewidth\":0,\"ticks\":\"\"}}}],\"scattercarpet\":[{\"type\":\"scattercarpet\",\"marker\":{\"colorbar\":{\"outlinewidth\":0,\"ticks\":\"\"}}}],\"carpet\":[{\"aaxis\":{\"endlinecolor\":\"#2a3f5f\",\"gridcolor\":\"white\",\"linecolor\":\"white\",\"minorgridcolor\":\"white\",\"startlinecolor\":\"#2a3f5f\"},\"baxis\":{\"endlinecolor\":\"#2a3f5f\",\"gridcolor\":\"white\",\"linecolor\":\"white\",\"minorgridcolor\":\"white\",\"startlinecolor\":\"#2a3f5f\"},\"type\":\"carpet\"}],\"table\":[{\"cells\":{\"fill\":{\"color\":\"#EBF0F8\"},\"line\":{\"color\":\"white\"}},\"header\":{\"fill\":{\"color\":\"#C8D4E3\"},\"line\":{\"color\":\"white\"}},\"type\":\"table\"}],\"barpolar\":[{\"marker\":{\"line\":{\"color\":\"#E5ECF6\",\"width\":0.5},\"pattern\":{\"fillmode\":\"overlay\",\"size\":10,\"solidity\":0.2}},\"type\":\"barpolar\"}],\"pie\":[{\"automargin\":true,\"type\":\"pie\"}]},\"layout\":{\"autotypenumbers\":\"strict\",\"colorway\":[\"#636efa\",\"#EF553B\",\"#00cc96\",\"#ab63fa\",\"#FFA15A\",\"#19d3f3\",\"#FF6692\",\"#B6E880\",\"#FF97FF\",\"#FECB52\"],\"font\":{\"color\":\"#2a3f5f\"},\"hovermode\":\"closest\",\"hoverlabel\":{\"align\":\"left\"},\"paper_bgcolor\":\"white\",\"plot_bgcolor\":\"#E5ECF6\",\"polar\":{\"bgcolor\":\"#E5ECF6\",\"angularaxis\":{\"gridcolor\":\"white\",\"linecolor\":\"white\",\"ticks\":\"\"},\"radialaxis\":{\"gridcolor\":\"white\",\"linecolor\":\"white\",\"ticks\":\"\"}},\"ternary\":{\"bgcolor\":\"#E5ECF6\",\"aaxis\":{\"gridcolor\":\"white\",\"linecolor\":\"white\",\"ticks\":\"\"},\"baxis\":{\"gridcolor\":\"white\",\"linecolor\":\"white\",\"ticks\":\"\"},\"caxis\":{\"gridcolor\":\"white\",\"linecolor\":\"white\",\"ticks\":\"\"}},\"coloraxis\":{\"colorbar\":{\"outlinewidth\":0,\"ticks\":\"\"}},\"colorscale\":{\"sequential\":[[0.0,\"#0d0887\"],[0.1111111111111111,\"#46039f\"],[0.2222222222222222,\"#7201a8\"],[0.3333333333333333,\"#9c179e\"],[0.4444444444444444,\"#bd3786\"],[0.5555555555555556,\"#d8576b\"],[0.6666666666666666,\"#ed7953\"],[0.7777777777777778,\"#fb9f3a\"],[0.8888888888888888,\"#fdca26\"],[1.0,\"#f0f921\"]],\"sequentialminus\":[[0.0,\"#0d0887\"],[0.1111111111111111,\"#46039f\"],[0.2222222222222222,\"#7201a8\"],[0.3333333333333333,\"#9c179e\"],[0.4444444444444444,\"#bd3786\"],[0.5555555555555556,\"#d8576b\"],[0.6666666666666666,\"#ed7953\"],[0.7777777777777778,\"#fb9f3a\"],[0.8888888888888888,\"#fdca26\"],[1.0,\"#f0f921\"]],\"diverging\":[[0,\"#8e0152\"],[0.1,\"#c51b7d\"],[0.2,\"#de77ae\"],[0.3,\"#f1b6da\"],[0.4,\"#fde0ef\"],[0.5,\"#f7f7f7\"],[0.6,\"#e6f5d0\"],[0.7,\"#b8e186\"],[0.8,\"#7fbc41\"],[0.9,\"#4d9221\"],[1,\"#276419\"]]},\"xaxis\":{\"gridcolor\":\"white\",\"linecolor\":\"white\",\"ticks\":\"\",\"title\":{\"standoff\":15},\"zerolinecolor\":\"white\",\"automargin\":true,\"zerolinewidth\":2},\"yaxis\":{\"gridcolor\":\"white\",\"linecolor\":\"white\",\"ticks\":\"\",\"title\":{\"standoff\":15},\"zerolinecolor\":\"white\",\"automargin\":true,\"zerolinewidth\":2},\"scene\":{\"xaxis\":{\"backgroundcolor\":\"#E5ECF6\",\"gridcolor\":\"white\",\"linecolor\":\"white\",\"showbackground\":true,\"ticks\":\"\",\"zerolinecolor\":\"white\",\"gridwidth\":2},\"yaxis\":{\"backgroundcolor\":\"#E5ECF6\",\"gridcolor\":\"white\",\"linecolor\":\"white\",\"showbackground\":true,\"ticks\":\"\",\"zerolinecolor\":\"white\",\"gridwidth\":2},\"zaxis\":{\"backgroundcolor\":\"#E5ECF6\",\"gridcolor\":\"white\",\"linecolor\":\"white\",\"showbackground\":true,\"ticks\":\"\",\"zerolinecolor\":\"white\",\"gridwidth\":2}},\"shapedefaults\":{\"line\":{\"color\":\"#2a3f5f\"}},\"annotationdefaults\":{\"arrowcolor\":\"#2a3f5f\",\"arrowhead\":0,\"arrowwidth\":1},\"geo\":{\"bgcolor\":\"white\",\"landcolor\":\"#E5ECF6\",\"subunitcolor\":\"white\",\"showland\":true,\"showlakes\":true,\"lakecolor\":\"white\"},\"title\":{\"x\":0.05},\"mapbox\":{\"style\":\"light\"}}},\"xaxis\":{\"anchor\":\"y\",\"domain\":[0.0,1.0],\"scaleanchor\":\"y\",\"constrain\":\"domain\"},\"yaxis\":{\"anchor\":\"x\",\"domain\":[0.0,1.0],\"autorange\":\"reversed\",\"constrain\":\"domain\"},\"coloraxis\":{\"colorbar\":{\"title\":{\"text\":\"Similarity Score\"}},\"colorscale\":[[0.0,\"rgb(247,252,240)\"],[0.125,\"rgb(224,243,219)\"],[0.25,\"rgb(204,235,197)\"],[0.375,\"rgb(168,221,181)\"],[0.5,\"rgb(123,204,196)\"],[0.625,\"rgb(78,179,211)\"],[0.75,\"rgb(43,140,190)\"],[0.875,\"rgb(8,104,172)\"],[1.0,\"rgb(8,64,129)\"]]},\"margin\":{\"t\":60},\"title\":{\"font\":{\"size\":22,\"color\":\"Black\"},\"text\":\"<b>Similarity Matrix</b>\",\"y\":0.95,\"x\":0.55,\"xanchor\":\"center\",\"yanchor\":\"top\"},\"hoverlabel\":{\"font\":{\"size\":16,\"family\":\"Rockwell\"},\"bgcolor\":\"white\"},\"width\":1000,\"height\":1000,\"showlegend\":true,\"legend\":{\"title\":{\"text\":\"Trend\"}}},                        {\"responsive\": true}                    ).then(function(){\n                            \nvar gd = document.getElementById('f3fa6656-1110-4c5f-b09f-c75bfc511288');\nvar x = new MutationObserver(function (mutations, observer) {{\n        var display = window.getComputedStyle(gd).display;\n        if (!display || display === 'none') {{\n            console.log([gd, 'removed!']);\n            Plotly.purge(gd);\n            observer.disconnect();\n        }}\n}});\n\n// Listen for the removal of the full notebook cells\nvar notebookContainer = gd.closest('#notebook-container');\nif (notebookContainer) {{\n    x.observe(notebookContainer, {childList: true});\n}}\n\n// Listen for the clearing of the current output cell\nvar outputEl = gd.closest('.output');\nif (outputEl) {{\n    x.observe(outputEl, {childList: true});\n}}\n\n                        })                };                });            </script>        </div>"
     },
     "metadata": {},
     "output_type": "display_data"
    }
   ]
  },
  {
   "cell_type": "markdown",
   "metadata": {
    "id": "_ak_CLR164mx"
   },
   "source": [
    "## Visualize Term Score Decline\n",
    "Topics are represented by a number of words starting with the best representative word. Each word is represented by a c-TF-IDF score. The higher the score, the more representative a word to the topic is. Since the topic words are sorted by their c-TF-IDF score, the scores slowly decline with each word that is added. At some point adding words to the topic representation only marginally increases the total c-TF-IDF score and would not be beneficial for its representation.\n",
    "\n",
    "To visualize this effect, we can plot the c-TF-IDF scores for each topic by the term rank of each word. In other words, the position of the words (term rank), where the words with the highest c-TF-IDF score will have a rank of 1, will be put on the x-axis. Whereas the y-axis will be populated by the c-TF-IDF scores. The result is a visualization that shows you the decline of c-TF-IDF score when adding words to the topic representation. It allows you, using the elbow method, the select the best number of words in a topic.\n"
   ]
  },
  {
   "cell_type": "code",
   "metadata": {
    "colab": {
     "base_uri": "https://localhost:8080/",
     "height": 517
    },
    "id": "7gT3Korh6-MX",
    "outputId": "5810f810-4633-425e-a7d2-3a1e9570639a",
    "ExecuteTime": {
     "end_time": "2023-05-16T08:01:59.703245816Z",
     "start_time": "2023-05-16T08:01:59.574598688Z"
    }
   },
   "source": [
    "topic_model.visualize_term_rank()"
   ],
   "execution_count": 41,
   "outputs": [
    {
     "data": {
      "application/vnd.plotly.v1+json": {
       "data": [
        {
         "hovertext": "<b>Topic -1</b>:tratamento_mama_indicado_cancer_po",
         "line": {
          "color": "black",
          "width": 1.5
         },
         "mode": "lines+lines",
         "name": "",
         "opacity": 0.1,
         "x": [
          1,
          2,
          3,
          4,
          5,
          6,
          7,
          8,
          9,
          10
         ],
         "y": [
          0.05388639250408824,
          0.05251204163894126,
          0.04377125578487842,
          0.03932086617897053,
          0.03626213672935231,
          0.03403850349703904,
          0.03338467975585196,
          0.0326692664965645,
          0.0326692664965645,
          0.0326692664965645
         ],
         "type": "scatter"
        },
        {
         "hovertext": "<b>Topic 0</b>:infeccoes_causadas_trato_infeccao_i",
         "line": {
          "color": "black",
          "width": 1.5
         },
         "mode": "lines+lines",
         "name": "",
         "opacity": 0.1,
         "x": [
          1,
          2,
          3,
          4,
          5,
          6,
          7,
          8,
          9,
          10
         ],
         "y": [
          0.08630754704163715,
          0.04342016851733758,
          0.03763649724143397,
          0.03332963234891796,
          0.03320395513341292,
          0.030241681931309737,
          0.029454319564077937,
          0.028848215340983027,
          0.027725779082740053,
          0.026816594798918805
         ],
         "type": "scatter"
        },
        {
         "hovertext": "<b>Topic 1</b>:pacientes_insuficiencia_cardiaca_re",
         "line": {
          "color": "black",
          "width": 1.5
         },
         "mode": "lines+lines",
         "name": "",
         "opacity": 0.1,
         "x": [
          1,
          2,
          3,
          4,
          5,
          6,
          7,
          8,
          9,
          10
         ],
         "y": [
          0.040006842563797315,
          0.03742134902029449,
          0.0353229490595756,
          0.03404444448504202,
          0.033204720774714556,
          0.030715607877891824,
          0.03050306354207491,
          0.029974430948761066,
          0.02928335862235395,
          0.02925298993494967
         ],
         "type": "scatter"
        },
        {
         "hovertext": "<b>Topic 2</b>:transtorno_tratamento_ansiedade_clo",
         "line": {
          "color": "black",
          "width": 1.5
         },
         "mode": "lines+lines",
         "name": "",
         "opacity": 0.1,
         "x": [
          1,
          2,
          3,
          4,
          5,
          6,
          7,
          8,
          9,
          10
         ],
         "y": [
          0.10027791966511738,
          0.06098685955249555,
          0.05763907661769075,
          0.04747704244888862,
          0.04197796745382447,
          0.04197796745382447,
          0.040265512630029934,
          0.039211951075369865,
          0.035541743560666104,
          0.03350529151547581
         ],
         "type": "scatter"
        },
        {
         "hovertext": "<b>Topic 3</b>:etinilestradiol_gravidez_contracept",
         "line": {
          "color": "black",
          "width": 1.5
         },
         "mode": "lines+lines",
         "name": "",
         "opacity": 0.1,
         "x": [
          1,
          2,
          3,
          4,
          5,
          6,
          7,
          8,
          9,
          10
         ],
         "y": [
          0.12833337631093844,
          0.08419145262557985,
          0.07731862796899584,
          0.0677216176304464,
          0.059195375617118434,
          0.057165166782324424,
          0.05474234009276602,
          0.047060987443925846,
          0.047060987443925846,
          0.04620001547193784
         ],
         "type": "scatter"
        },
        {
         "hovertext": "<b>Topic 4</b>:vitamina_calcio_osteoporose_malato_",
         "line": {
          "color": "black",
          "width": 1.5
         },
         "mode": "lines+lines",
         "name": "",
         "opacity": 0.1,
         "x": [
          1,
          2,
          3,
          4,
          5,
          6,
          7,
          8,
          9,
          10
         ],
         "y": [
          0.11396870721148256,
          0.08239802288494903,
          0.0665007288279975,
          0.05824646722445118,
          0.05824646722445118,
          0.05598254357746223,
          0.05404880935042483,
          0.05242835217071239,
          0.04960156104648608,
          0.04960156104648608
         ],
         "type": "scatter"
        },
        {
         "hovertext": "<b>Topic 5</b>:alergica_nasal_sintomas_rinite_coce",
         "line": {
          "color": "black",
          "width": 1.5
         },
         "mode": "lines+lines",
         "name": "",
         "opacity": 0.1,
         "x": [
          1,
          2,
          3,
          4,
          5,
          6,
          7,
          8,
          9,
          10
         ],
         "y": [
          0.12568808079160756,
          0.12212594526134073,
          0.10378617593014168,
          0.09342895145848436,
          0.09273999839406122,
          0.08175035429126119,
          0.07537364169607476,
          0.06751294845799774,
          0.06125241955985385,
          0.058618797283185455
         ],
         "type": "scatter"
        },
        {
         "hovertext": "<b>Topic 6</b>:processos_inflamacao_articulacoes_d",
         "line": {
          "color": "black",
          "width": 1.5
         },
         "mode": "lines+lines",
         "name": "",
         "opacity": 0.1,
         "x": [
          1,
          2,
          3,
          4,
          5,
          6,
          7,
          8,
          9,
          10
         ],
         "y": [
          0.08618184201621198,
          0.082218040668807,
          0.07537996060638967,
          0.0728029447225393,
          0.06998304185753126,
          0.06233882884753037,
          0.06158412433681312,
          0.06032440937857537,
          0.052012006888559066,
          0.04359326650956668
         ],
         "type": "scatter"
        },
        {
         "hovertext": "<b>Topic 7</b>:dermatite_pele_betametasona_dipropi",
         "line": {
          "color": "black",
          "width": 1.5
         },
         "mode": "lines+lines",
         "name": "",
         "opacity": 0.1,
         "x": [
          1,
          2,
          3,
          4,
          5,
          6,
          7,
          8,
          9,
          10
         ],
         "y": [
          0.17318712151842003,
          0.11970620712830715,
          0.09247073161317525,
          0.08174166057395517,
          0.07704081197745768,
          0.07554736064475567,
          0.07189189127301739,
          0.0666229416656034,
          0.0666229416656034,
          0.0660381343642299
         ],
         "type": "scatter"
        },
        {
         "hovertext": "<b>Topic 8</b>:tramadol_cloridrato_paracetamol_ali",
         "line": {
          "color": "black",
          "width": 1.5
         },
         "mode": "lines+lines",
         "name": "",
         "opacity": 0.1,
         "x": [
          1,
          2,
          3,
          4,
          5,
          6,
          7,
          8,
          9,
          10
         ],
         "y": [
          0.14551853048013375,
          0.12211844484784258,
          0.08274449659839905,
          0.0822995740306214,
          0.08146317048852372,
          0.0736231260868668,
          0.0688757655945366,
          0.0688757655945366,
          0.06461696768435904,
          0.06311887671732563
         ],
         "type": "scatter"
        },
        {
         "hovertext": "<b>Topic 9</b>:cancer_metastatico_quimioterapia_ma",
         "line": {
          "color": "black",
          "width": 1.5
         },
         "mode": "lines+lines",
         "name": "",
         "opacity": 0.1,
         "x": [
          1,
          2,
          3,
          4,
          5,
          6,
          7,
          8,
          9,
          10
         ],
         "y": [
          0.10472696779524958,
          0.07903513899084486,
          0.062289595811889815,
          0.06016256480521656,
          0.05549512771503485,
          0.05278525982552488,
          0.05166711858079709,
          0.05145662262721333,
          0.05057769197270992,
          0.05047752987623657
         ],
         "type": "scatter"
        },
        {
         "hovertext": "<b>Topic 10</b>:estomago_ulcera_refluxo_vomitos_na",
         "line": {
          "color": "black",
          "width": 1.5
         },
         "mode": "lines+lines",
         "name": "",
         "opacity": 0.1,
         "x": [
          1,
          2,
          3,
          4,
          5,
          6,
          7,
          8,
          9,
          10
         ],
         "y": [
          0.0871621390242271,
          0.06693114980660132,
          0.06608194217552539,
          0.06274795294368875,
          0.06195182078955506,
          0.055050510402733246,
          0.04958054135485353,
          0.04835341470232918,
          0.046773813368614414,
          0.046773813368614414
         ],
         "type": "scatter"
        },
        {
         "hovertext": "<b>Topic 11</b>:hpb_doxazosina_mesilato_prostata_h",
         "line": {
          "color": "black",
          "width": 1.5
         },
         "mode": "lines+lines",
         "name": "",
         "opacity": 0.1,
         "x": [
          1,
          2,
          3,
          4,
          5,
          6,
          7,
          8,
          9,
          10
         ],
         "y": [
          0.1267629563847819,
          0.10996901390633132,
          0.10699330437834108,
          0.09518101864804786,
          0.07975534843622714,
          0.07975534843622714,
          0.07975534843622714,
          0.06501111916617063,
          0.053957671258911155,
          0.05273843205279476
         ],
         "type": "scatter"
        },
        {
         "hovertext": "<b>Topic 12</b>:betametasona_fosfato_injecoes_diss",
         "line": {
          "color": "black",
          "width": 1.5
         },
         "mode": "lines+lines",
         "name": "",
         "opacity": 0.1,
         "x": [
          1,
          2,
          3,
          4,
          5,
          6,
          7,
          8,
          9,
          10
         ],
         "y": [
          0.10884909630482495,
          0.09209923378056009,
          0.08472640070854034,
          0.08349696517204953,
          0.06823740458076916,
          0.06093914216441568,
          0.05024893805662094,
          0.04923202232542888,
          0.04564135657171673,
          0.042413373414015215
         ],
         "type": "scatter"
        }
       ],
       "layout": {
        "template": {
         "data": {
          "barpolar": [
           {
            "marker": {
             "line": {
              "color": "white",
              "width": 0.5
             },
             "pattern": {
              "fillmode": "overlay",
              "size": 10,
              "solidity": 0.2
             }
            },
            "type": "barpolar"
           }
          ],
          "bar": [
           {
            "error_x": {
             "color": "#2a3f5f"
            },
            "error_y": {
             "color": "#2a3f5f"
            },
            "marker": {
             "line": {
              "color": "white",
              "width": 0.5
             },
             "pattern": {
              "fillmode": "overlay",
              "size": 10,
              "solidity": 0.2
             }
            },
            "type": "bar"
           }
          ],
          "carpet": [
           {
            "aaxis": {
             "endlinecolor": "#2a3f5f",
             "gridcolor": "#C8D4E3",
             "linecolor": "#C8D4E3",
             "minorgridcolor": "#C8D4E3",
             "startlinecolor": "#2a3f5f"
            },
            "baxis": {
             "endlinecolor": "#2a3f5f",
             "gridcolor": "#C8D4E3",
             "linecolor": "#C8D4E3",
             "minorgridcolor": "#C8D4E3",
             "startlinecolor": "#2a3f5f"
            },
            "type": "carpet"
           }
          ],
          "choropleth": [
           {
            "colorbar": {
             "outlinewidth": 0,
             "ticks": ""
            },
            "type": "choropleth"
           }
          ],
          "contourcarpet": [
           {
            "colorbar": {
             "outlinewidth": 0,
             "ticks": ""
            },
            "type": "contourcarpet"
           }
          ],
          "contour": [
           {
            "colorbar": {
             "outlinewidth": 0,
             "ticks": ""
            },
            "colorscale": [
             [
              0.0,
              "#0d0887"
             ],
             [
              0.1111111111111111,
              "#46039f"
             ],
             [
              0.2222222222222222,
              "#7201a8"
             ],
             [
              0.3333333333333333,
              "#9c179e"
             ],
             [
              0.4444444444444444,
              "#bd3786"
             ],
             [
              0.5555555555555556,
              "#d8576b"
             ],
             [
              0.6666666666666666,
              "#ed7953"
             ],
             [
              0.7777777777777778,
              "#fb9f3a"
             ],
             [
              0.8888888888888888,
              "#fdca26"
             ],
             [
              1.0,
              "#f0f921"
             ]
            ],
            "type": "contour"
           }
          ],
          "heatmapgl": [
           {
            "colorbar": {
             "outlinewidth": 0,
             "ticks": ""
            },
            "colorscale": [
             [
              0.0,
              "#0d0887"
             ],
             [
              0.1111111111111111,
              "#46039f"
             ],
             [
              0.2222222222222222,
              "#7201a8"
             ],
             [
              0.3333333333333333,
              "#9c179e"
             ],
             [
              0.4444444444444444,
              "#bd3786"
             ],
             [
              0.5555555555555556,
              "#d8576b"
             ],
             [
              0.6666666666666666,
              "#ed7953"
             ],
             [
              0.7777777777777778,
              "#fb9f3a"
             ],
             [
              0.8888888888888888,
              "#fdca26"
             ],
             [
              1.0,
              "#f0f921"
             ]
            ],
            "type": "heatmapgl"
           }
          ],
          "heatmap": [
           {
            "colorbar": {
             "outlinewidth": 0,
             "ticks": ""
            },
            "colorscale": [
             [
              0.0,
              "#0d0887"
             ],
             [
              0.1111111111111111,
              "#46039f"
             ],
             [
              0.2222222222222222,
              "#7201a8"
             ],
             [
              0.3333333333333333,
              "#9c179e"
             ],
             [
              0.4444444444444444,
              "#bd3786"
             ],
             [
              0.5555555555555556,
              "#d8576b"
             ],
             [
              0.6666666666666666,
              "#ed7953"
             ],
             [
              0.7777777777777778,
              "#fb9f3a"
             ],
             [
              0.8888888888888888,
              "#fdca26"
             ],
             [
              1.0,
              "#f0f921"
             ]
            ],
            "type": "heatmap"
           }
          ],
          "histogram2dcontour": [
           {
            "colorbar": {
             "outlinewidth": 0,
             "ticks": ""
            },
            "colorscale": [
             [
              0.0,
              "#0d0887"
             ],
             [
              0.1111111111111111,
              "#46039f"
             ],
             [
              0.2222222222222222,
              "#7201a8"
             ],
             [
              0.3333333333333333,
              "#9c179e"
             ],
             [
              0.4444444444444444,
              "#bd3786"
             ],
             [
              0.5555555555555556,
              "#d8576b"
             ],
             [
              0.6666666666666666,
              "#ed7953"
             ],
             [
              0.7777777777777778,
              "#fb9f3a"
             ],
             [
              0.8888888888888888,
              "#fdca26"
             ],
             [
              1.0,
              "#f0f921"
             ]
            ],
            "type": "histogram2dcontour"
           }
          ],
          "histogram2d": [
           {
            "colorbar": {
             "outlinewidth": 0,
             "ticks": ""
            },
            "colorscale": [
             [
              0.0,
              "#0d0887"
             ],
             [
              0.1111111111111111,
              "#46039f"
             ],
             [
              0.2222222222222222,
              "#7201a8"
             ],
             [
              0.3333333333333333,
              "#9c179e"
             ],
             [
              0.4444444444444444,
              "#bd3786"
             ],
             [
              0.5555555555555556,
              "#d8576b"
             ],
             [
              0.6666666666666666,
              "#ed7953"
             ],
             [
              0.7777777777777778,
              "#fb9f3a"
             ],
             [
              0.8888888888888888,
              "#fdca26"
             ],
             [
              1.0,
              "#f0f921"
             ]
            ],
            "type": "histogram2d"
           }
          ],
          "histogram": [
           {
            "marker": {
             "pattern": {
              "fillmode": "overlay",
              "size": 10,
              "solidity": 0.2
             }
            },
            "type": "histogram"
           }
          ],
          "mesh3d": [
           {
            "colorbar": {
             "outlinewidth": 0,
             "ticks": ""
            },
            "type": "mesh3d"
           }
          ],
          "parcoords": [
           {
            "line": {
             "colorbar": {
              "outlinewidth": 0,
              "ticks": ""
             }
            },
            "type": "parcoords"
           }
          ],
          "pie": [
           {
            "automargin": true,
            "type": "pie"
           }
          ],
          "scatter3d": [
           {
            "line": {
             "colorbar": {
              "outlinewidth": 0,
              "ticks": ""
             }
            },
            "marker": {
             "colorbar": {
              "outlinewidth": 0,
              "ticks": ""
             }
            },
            "type": "scatter3d"
           }
          ],
          "scattercarpet": [
           {
            "marker": {
             "colorbar": {
              "outlinewidth": 0,
              "ticks": ""
             }
            },
            "type": "scattercarpet"
           }
          ],
          "scattergeo": [
           {
            "marker": {
             "colorbar": {
              "outlinewidth": 0,
              "ticks": ""
             }
            },
            "type": "scattergeo"
           }
          ],
          "scattergl": [
           {
            "marker": {
             "colorbar": {
              "outlinewidth": 0,
              "ticks": ""
             }
            },
            "type": "scattergl"
           }
          ],
          "scattermapbox": [
           {
            "marker": {
             "colorbar": {
              "outlinewidth": 0,
              "ticks": ""
             }
            },
            "type": "scattermapbox"
           }
          ],
          "scatterpolargl": [
           {
            "marker": {
             "colorbar": {
              "outlinewidth": 0,
              "ticks": ""
             }
            },
            "type": "scatterpolargl"
           }
          ],
          "scatterpolar": [
           {
            "marker": {
             "colorbar": {
              "outlinewidth": 0,
              "ticks": ""
             }
            },
            "type": "scatterpolar"
           }
          ],
          "scatter": [
           {
            "fillpattern": {
             "fillmode": "overlay",
             "size": 10,
             "solidity": 0.2
            },
            "type": "scatter"
           }
          ],
          "scatterternary": [
           {
            "marker": {
             "colorbar": {
              "outlinewidth": 0,
              "ticks": ""
             }
            },
            "type": "scatterternary"
           }
          ],
          "surface": [
           {
            "colorbar": {
             "outlinewidth": 0,
             "ticks": ""
            },
            "colorscale": [
             [
              0.0,
              "#0d0887"
             ],
             [
              0.1111111111111111,
              "#46039f"
             ],
             [
              0.2222222222222222,
              "#7201a8"
             ],
             [
              0.3333333333333333,
              "#9c179e"
             ],
             [
              0.4444444444444444,
              "#bd3786"
             ],
             [
              0.5555555555555556,
              "#d8576b"
             ],
             [
              0.6666666666666666,
              "#ed7953"
             ],
             [
              0.7777777777777778,
              "#fb9f3a"
             ],
             [
              0.8888888888888888,
              "#fdca26"
             ],
             [
              1.0,
              "#f0f921"
             ]
            ],
            "type": "surface"
           }
          ],
          "table": [
           {
            "cells": {
             "fill": {
              "color": "#EBF0F8"
             },
             "line": {
              "color": "white"
             }
            },
            "header": {
             "fill": {
              "color": "#C8D4E3"
             },
             "line": {
              "color": "white"
             }
            },
            "type": "table"
           }
          ]
         },
         "layout": {
          "annotationdefaults": {
           "arrowcolor": "#2a3f5f",
           "arrowhead": 0,
           "arrowwidth": 1
          },
          "autotypenumbers": "strict",
          "coloraxis": {
           "colorbar": {
            "outlinewidth": 0,
            "ticks": ""
           }
          },
          "colorscale": {
           "diverging": [
            [
             0,
             "#8e0152"
            ],
            [
             0.1,
             "#c51b7d"
            ],
            [
             0.2,
             "#de77ae"
            ],
            [
             0.3,
             "#f1b6da"
            ],
            [
             0.4,
             "#fde0ef"
            ],
            [
             0.5,
             "#f7f7f7"
            ],
            [
             0.6,
             "#e6f5d0"
            ],
            [
             0.7,
             "#b8e186"
            ],
            [
             0.8,
             "#7fbc41"
            ],
            [
             0.9,
             "#4d9221"
            ],
            [
             1,
             "#276419"
            ]
           ],
           "sequential": [
            [
             0.0,
             "#0d0887"
            ],
            [
             0.1111111111111111,
             "#46039f"
            ],
            [
             0.2222222222222222,
             "#7201a8"
            ],
            [
             0.3333333333333333,
             "#9c179e"
            ],
            [
             0.4444444444444444,
             "#bd3786"
            ],
            [
             0.5555555555555556,
             "#d8576b"
            ],
            [
             0.6666666666666666,
             "#ed7953"
            ],
            [
             0.7777777777777778,
             "#fb9f3a"
            ],
            [
             0.8888888888888888,
             "#fdca26"
            ],
            [
             1.0,
             "#f0f921"
            ]
           ],
           "sequentialminus": [
            [
             0.0,
             "#0d0887"
            ],
            [
             0.1111111111111111,
             "#46039f"
            ],
            [
             0.2222222222222222,
             "#7201a8"
            ],
            [
             0.3333333333333333,
             "#9c179e"
            ],
            [
             0.4444444444444444,
             "#bd3786"
            ],
            [
             0.5555555555555556,
             "#d8576b"
            ],
            [
             0.6666666666666666,
             "#ed7953"
            ],
            [
             0.7777777777777778,
             "#fb9f3a"
            ],
            [
             0.8888888888888888,
             "#fdca26"
            ],
            [
             1.0,
             "#f0f921"
            ]
           ]
          },
          "colorway": [
           "#636efa",
           "#EF553B",
           "#00cc96",
           "#ab63fa",
           "#FFA15A",
           "#19d3f3",
           "#FF6692",
           "#B6E880",
           "#FF97FF",
           "#FECB52"
          ],
          "font": {
           "color": "#2a3f5f"
          },
          "geo": {
           "bgcolor": "white",
           "lakecolor": "white",
           "landcolor": "white",
           "showlakes": true,
           "showland": true,
           "subunitcolor": "#C8D4E3"
          },
          "hoverlabel": {
           "align": "left"
          },
          "hovermode": "closest",
          "mapbox": {
           "style": "light"
          },
          "paper_bgcolor": "white",
          "plot_bgcolor": "white",
          "polar": {
           "angularaxis": {
            "gridcolor": "#EBF0F8",
            "linecolor": "#EBF0F8",
            "ticks": ""
           },
           "bgcolor": "white",
           "radialaxis": {
            "gridcolor": "#EBF0F8",
            "linecolor": "#EBF0F8",
            "ticks": ""
           }
          },
          "scene": {
           "xaxis": {
            "backgroundcolor": "white",
            "gridcolor": "#DFE8F3",
            "gridwidth": 2,
            "linecolor": "#EBF0F8",
            "showbackground": true,
            "ticks": "",
            "zerolinecolor": "#EBF0F8"
           },
           "yaxis": {
            "backgroundcolor": "white",
            "gridcolor": "#DFE8F3",
            "gridwidth": 2,
            "linecolor": "#EBF0F8",
            "showbackground": true,
            "ticks": "",
            "zerolinecolor": "#EBF0F8"
           },
           "zaxis": {
            "backgroundcolor": "white",
            "gridcolor": "#DFE8F3",
            "gridwidth": 2,
            "linecolor": "#EBF0F8",
            "showbackground": true,
            "ticks": "",
            "zerolinecolor": "#EBF0F8"
           }
          },
          "shapedefaults": {
           "line": {
            "color": "#2a3f5f"
           }
          },
          "ternary": {
           "aaxis": {
            "gridcolor": "#DFE8F3",
            "linecolor": "#A2B1C6",
            "ticks": ""
           },
           "baxis": {
            "gridcolor": "#DFE8F3",
            "linecolor": "#A2B1C6",
            "ticks": ""
           },
           "bgcolor": "white",
           "caxis": {
            "gridcolor": "#DFE8F3",
            "linecolor": "#A2B1C6",
            "ticks": ""
           }
          },
          "title": {
           "x": 0.05
          },
          "xaxis": {
           "automargin": true,
           "gridcolor": "#EBF0F8",
           "linecolor": "#EBF0F8",
           "ticks": "",
           "title": {
            "standoff": 15
           },
           "zerolinecolor": "#EBF0F8",
           "zerolinewidth": 2
          },
          "yaxis": {
           "automargin": true,
           "gridcolor": "#EBF0F8",
           "linecolor": "#EBF0F8",
           "ticks": "",
           "title": {
            "standoff": 15
           },
           "zerolinecolor": "#EBF0F8",
           "zerolinewidth": 2
          }
         }
        },
        "xaxis": {
         "range": [
          0,
          10
         ],
         "tick0": 1,
         "dtick": 2,
         "title": {
          "text": "Term Rank"
         }
        },
        "title": {
         "font": {
          "size": 22,
          "color": "Black"
         },
         "text": "<b>Term score decline per Topic</b>",
         "y": 0.9,
         "x": 0.5,
         "xanchor": "center",
         "yanchor": "top"
        },
        "hoverlabel": {
         "font": {
          "size": 16,
          "family": "Rockwell"
         },
         "bgcolor": "white"
        },
        "showlegend": false,
        "width": 800,
        "height": 500,
        "yaxis": {
         "title": {
          "text": "c-TF-IDF score"
         }
        }
       },
       "config": {
        "plotlyServerURL": "https://plot.ly"
       }
      },
      "text/html": "<div>                            <div id=\"8ef0de93-a1bf-4b70-aeb3-8d19a1a1af41\" class=\"plotly-graph-div\" style=\"height:500px; width:800px;\"></div>            <script type=\"text/javascript\">                require([\"plotly\"], function(Plotly) {                    window.PLOTLYENV=window.PLOTLYENV || {};                                    if (document.getElementById(\"8ef0de93-a1bf-4b70-aeb3-8d19a1a1af41\")) {                    Plotly.newPlot(                        \"8ef0de93-a1bf-4b70-aeb3-8d19a1a1af41\",                        [{\"hovertext\":\"<b>Topic -1</b>:tratamento_mama_indicado_cancer_po\",\"line\":{\"color\":\"black\",\"width\":1.5},\"mode\":\"lines+lines\",\"name\":\"\",\"opacity\":0.1,\"x\":[1,2,3,4,5,6,7,8,9,10],\"y\":[0.05388639250408824,0.05251204163894126,0.04377125578487842,0.03932086617897053,0.03626213672935231,0.03403850349703904,0.03338467975585196,0.0326692664965645,0.0326692664965645,0.0326692664965645],\"type\":\"scatter\"},{\"hovertext\":\"<b>Topic 0</b>:infeccoes_causadas_trato_infeccao_i\",\"line\":{\"color\":\"black\",\"width\":1.5},\"mode\":\"lines+lines\",\"name\":\"\",\"opacity\":0.1,\"x\":[1,2,3,4,5,6,7,8,9,10],\"y\":[0.08630754704163715,0.04342016851733758,0.03763649724143397,0.03332963234891796,0.03320395513341292,0.030241681931309737,0.029454319564077937,0.028848215340983027,0.027725779082740053,0.026816594798918805],\"type\":\"scatter\"},{\"hovertext\":\"<b>Topic 1</b>:pacientes_insuficiencia_cardiaca_re\",\"line\":{\"color\":\"black\",\"width\":1.5},\"mode\":\"lines+lines\",\"name\":\"\",\"opacity\":0.1,\"x\":[1,2,3,4,5,6,7,8,9,10],\"y\":[0.040006842563797315,0.03742134902029449,0.0353229490595756,0.03404444448504202,0.033204720774714556,0.030715607877891824,0.03050306354207491,0.029974430948761066,0.02928335862235395,0.02925298993494967],\"type\":\"scatter\"},{\"hovertext\":\"<b>Topic 2</b>:transtorno_tratamento_ansiedade_clo\",\"line\":{\"color\":\"black\",\"width\":1.5},\"mode\":\"lines+lines\",\"name\":\"\",\"opacity\":0.1,\"x\":[1,2,3,4,5,6,7,8,9,10],\"y\":[0.10027791966511738,0.06098685955249555,0.05763907661769075,0.04747704244888862,0.04197796745382447,0.04197796745382447,0.040265512630029934,0.039211951075369865,0.035541743560666104,0.03350529151547581],\"type\":\"scatter\"},{\"hovertext\":\"<b>Topic 3</b>:etinilestradiol_gravidez_contracept\",\"line\":{\"color\":\"black\",\"width\":1.5},\"mode\":\"lines+lines\",\"name\":\"\",\"opacity\":0.1,\"x\":[1,2,3,4,5,6,7,8,9,10],\"y\":[0.12833337631093844,0.08419145262557985,0.07731862796899584,0.0677216176304464,0.059195375617118434,0.057165166782324424,0.05474234009276602,0.047060987443925846,0.047060987443925846,0.04620001547193784],\"type\":\"scatter\"},{\"hovertext\":\"<b>Topic 4</b>:vitamina_calcio_osteoporose_malato_\",\"line\":{\"color\":\"black\",\"width\":1.5},\"mode\":\"lines+lines\",\"name\":\"\",\"opacity\":0.1,\"x\":[1,2,3,4,5,6,7,8,9,10],\"y\":[0.11396870721148256,0.08239802288494903,0.0665007288279975,0.05824646722445118,0.05824646722445118,0.05598254357746223,0.05404880935042483,0.05242835217071239,0.04960156104648608,0.04960156104648608],\"type\":\"scatter\"},{\"hovertext\":\"<b>Topic 5</b>:alergica_nasal_sintomas_rinite_coce\",\"line\":{\"color\":\"black\",\"width\":1.5},\"mode\":\"lines+lines\",\"name\":\"\",\"opacity\":0.1,\"x\":[1,2,3,4,5,6,7,8,9,10],\"y\":[0.12568808079160756,0.12212594526134073,0.10378617593014168,0.09342895145848436,0.09273999839406122,0.08175035429126119,0.07537364169607476,0.06751294845799774,0.06125241955985385,0.058618797283185455],\"type\":\"scatter\"},{\"hovertext\":\"<b>Topic 6</b>:processos_inflamacao_articulacoes_d\",\"line\":{\"color\":\"black\",\"width\":1.5},\"mode\":\"lines+lines\",\"name\":\"\",\"opacity\":0.1,\"x\":[1,2,3,4,5,6,7,8,9,10],\"y\":[0.08618184201621198,0.082218040668807,0.07537996060638967,0.0728029447225393,0.06998304185753126,0.06233882884753037,0.06158412433681312,0.06032440937857537,0.052012006888559066,0.04359326650956668],\"type\":\"scatter\"},{\"hovertext\":\"<b>Topic 7</b>:dermatite_pele_betametasona_dipropi\",\"line\":{\"color\":\"black\",\"width\":1.5},\"mode\":\"lines+lines\",\"name\":\"\",\"opacity\":0.1,\"x\":[1,2,3,4,5,6,7,8,9,10],\"y\":[0.17318712151842003,0.11970620712830715,0.09247073161317525,0.08174166057395517,0.07704081197745768,0.07554736064475567,0.07189189127301739,0.0666229416656034,0.0666229416656034,0.0660381343642299],\"type\":\"scatter\"},{\"hovertext\":\"<b>Topic 8</b>:tramadol_cloridrato_paracetamol_ali\",\"line\":{\"color\":\"black\",\"width\":1.5},\"mode\":\"lines+lines\",\"name\":\"\",\"opacity\":0.1,\"x\":[1,2,3,4,5,6,7,8,9,10],\"y\":[0.14551853048013375,0.12211844484784258,0.08274449659839905,0.0822995740306214,0.08146317048852372,0.0736231260868668,0.0688757655945366,0.0688757655945366,0.06461696768435904,0.06311887671732563],\"type\":\"scatter\"},{\"hovertext\":\"<b>Topic 9</b>:cancer_metastatico_quimioterapia_ma\",\"line\":{\"color\":\"black\",\"width\":1.5},\"mode\":\"lines+lines\",\"name\":\"\",\"opacity\":0.1,\"x\":[1,2,3,4,5,6,7,8,9,10],\"y\":[0.10472696779524958,0.07903513899084486,0.062289595811889815,0.06016256480521656,0.05549512771503485,0.05278525982552488,0.05166711858079709,0.05145662262721333,0.05057769197270992,0.05047752987623657],\"type\":\"scatter\"},{\"hovertext\":\"<b>Topic 10</b>:estomago_ulcera_refluxo_vomitos_na\",\"line\":{\"color\":\"black\",\"width\":1.5},\"mode\":\"lines+lines\",\"name\":\"\",\"opacity\":0.1,\"x\":[1,2,3,4,5,6,7,8,9,10],\"y\":[0.0871621390242271,0.06693114980660132,0.06608194217552539,0.06274795294368875,0.06195182078955506,0.055050510402733246,0.04958054135485353,0.04835341470232918,0.046773813368614414,0.046773813368614414],\"type\":\"scatter\"},{\"hovertext\":\"<b>Topic 11</b>:hpb_doxazosina_mesilato_prostata_h\",\"line\":{\"color\":\"black\",\"width\":1.5},\"mode\":\"lines+lines\",\"name\":\"\",\"opacity\":0.1,\"x\":[1,2,3,4,5,6,7,8,9,10],\"y\":[0.1267629563847819,0.10996901390633132,0.10699330437834108,0.09518101864804786,0.07975534843622714,0.07975534843622714,0.07975534843622714,0.06501111916617063,0.053957671258911155,0.05273843205279476],\"type\":\"scatter\"},{\"hovertext\":\"<b>Topic 12</b>:betametasona_fosfato_injecoes_diss\",\"line\":{\"color\":\"black\",\"width\":1.5},\"mode\":\"lines+lines\",\"name\":\"\",\"opacity\":0.1,\"x\":[1,2,3,4,5,6,7,8,9,10],\"y\":[0.10884909630482495,0.09209923378056009,0.08472640070854034,0.08349696517204953,0.06823740458076916,0.06093914216441568,0.05024893805662094,0.04923202232542888,0.04564135657171673,0.042413373414015215],\"type\":\"scatter\"}],                        {\"template\":{\"data\":{\"barpolar\":[{\"marker\":{\"line\":{\"color\":\"white\",\"width\":0.5},\"pattern\":{\"fillmode\":\"overlay\",\"size\":10,\"solidity\":0.2}},\"type\":\"barpolar\"}],\"bar\":[{\"error_x\":{\"color\":\"#2a3f5f\"},\"error_y\":{\"color\":\"#2a3f5f\"},\"marker\":{\"line\":{\"color\":\"white\",\"width\":0.5},\"pattern\":{\"fillmode\":\"overlay\",\"size\":10,\"solidity\":0.2}},\"type\":\"bar\"}],\"carpet\":[{\"aaxis\":{\"endlinecolor\":\"#2a3f5f\",\"gridcolor\":\"#C8D4E3\",\"linecolor\":\"#C8D4E3\",\"minorgridcolor\":\"#C8D4E3\",\"startlinecolor\":\"#2a3f5f\"},\"baxis\":{\"endlinecolor\":\"#2a3f5f\",\"gridcolor\":\"#C8D4E3\",\"linecolor\":\"#C8D4E3\",\"minorgridcolor\":\"#C8D4E3\",\"startlinecolor\":\"#2a3f5f\"},\"type\":\"carpet\"}],\"choropleth\":[{\"colorbar\":{\"outlinewidth\":0,\"ticks\":\"\"},\"type\":\"choropleth\"}],\"contourcarpet\":[{\"colorbar\":{\"outlinewidth\":0,\"ticks\":\"\"},\"type\":\"contourcarpet\"}],\"contour\":[{\"colorbar\":{\"outlinewidth\":0,\"ticks\":\"\"},\"colorscale\":[[0.0,\"#0d0887\"],[0.1111111111111111,\"#46039f\"],[0.2222222222222222,\"#7201a8\"],[0.3333333333333333,\"#9c179e\"],[0.4444444444444444,\"#bd3786\"],[0.5555555555555556,\"#d8576b\"],[0.6666666666666666,\"#ed7953\"],[0.7777777777777778,\"#fb9f3a\"],[0.8888888888888888,\"#fdca26\"],[1.0,\"#f0f921\"]],\"type\":\"contour\"}],\"heatmapgl\":[{\"colorbar\":{\"outlinewidth\":0,\"ticks\":\"\"},\"colorscale\":[[0.0,\"#0d0887\"],[0.1111111111111111,\"#46039f\"],[0.2222222222222222,\"#7201a8\"],[0.3333333333333333,\"#9c179e\"],[0.4444444444444444,\"#bd3786\"],[0.5555555555555556,\"#d8576b\"],[0.6666666666666666,\"#ed7953\"],[0.7777777777777778,\"#fb9f3a\"],[0.8888888888888888,\"#fdca26\"],[1.0,\"#f0f921\"]],\"type\":\"heatmapgl\"}],\"heatmap\":[{\"colorbar\":{\"outlinewidth\":0,\"ticks\":\"\"},\"colorscale\":[[0.0,\"#0d0887\"],[0.1111111111111111,\"#46039f\"],[0.2222222222222222,\"#7201a8\"],[0.3333333333333333,\"#9c179e\"],[0.4444444444444444,\"#bd3786\"],[0.5555555555555556,\"#d8576b\"],[0.6666666666666666,\"#ed7953\"],[0.7777777777777778,\"#fb9f3a\"],[0.8888888888888888,\"#fdca26\"],[1.0,\"#f0f921\"]],\"type\":\"heatmap\"}],\"histogram2dcontour\":[{\"colorbar\":{\"outlinewidth\":0,\"ticks\":\"\"},\"colorscale\":[[0.0,\"#0d0887\"],[0.1111111111111111,\"#46039f\"],[0.2222222222222222,\"#7201a8\"],[0.3333333333333333,\"#9c179e\"],[0.4444444444444444,\"#bd3786\"],[0.5555555555555556,\"#d8576b\"],[0.6666666666666666,\"#ed7953\"],[0.7777777777777778,\"#fb9f3a\"],[0.8888888888888888,\"#fdca26\"],[1.0,\"#f0f921\"]],\"type\":\"histogram2dcontour\"}],\"histogram2d\":[{\"colorbar\":{\"outlinewidth\":0,\"ticks\":\"\"},\"colorscale\":[[0.0,\"#0d0887\"],[0.1111111111111111,\"#46039f\"],[0.2222222222222222,\"#7201a8\"],[0.3333333333333333,\"#9c179e\"],[0.4444444444444444,\"#bd3786\"],[0.5555555555555556,\"#d8576b\"],[0.6666666666666666,\"#ed7953\"],[0.7777777777777778,\"#fb9f3a\"],[0.8888888888888888,\"#fdca26\"],[1.0,\"#f0f921\"]],\"type\":\"histogram2d\"}],\"histogram\":[{\"marker\":{\"pattern\":{\"fillmode\":\"overlay\",\"size\":10,\"solidity\":0.2}},\"type\":\"histogram\"}],\"mesh3d\":[{\"colorbar\":{\"outlinewidth\":0,\"ticks\":\"\"},\"type\":\"mesh3d\"}],\"parcoords\":[{\"line\":{\"colorbar\":{\"outlinewidth\":0,\"ticks\":\"\"}},\"type\":\"parcoords\"}],\"pie\":[{\"automargin\":true,\"type\":\"pie\"}],\"scatter3d\":[{\"line\":{\"colorbar\":{\"outlinewidth\":0,\"ticks\":\"\"}},\"marker\":{\"colorbar\":{\"outlinewidth\":0,\"ticks\":\"\"}},\"type\":\"scatter3d\"}],\"scattercarpet\":[{\"marker\":{\"colorbar\":{\"outlinewidth\":0,\"ticks\":\"\"}},\"type\":\"scattercarpet\"}],\"scattergeo\":[{\"marker\":{\"colorbar\":{\"outlinewidth\":0,\"ticks\":\"\"}},\"type\":\"scattergeo\"}],\"scattergl\":[{\"marker\":{\"colorbar\":{\"outlinewidth\":0,\"ticks\":\"\"}},\"type\":\"scattergl\"}],\"scattermapbox\":[{\"marker\":{\"colorbar\":{\"outlinewidth\":0,\"ticks\":\"\"}},\"type\":\"scattermapbox\"}],\"scatterpolargl\":[{\"marker\":{\"colorbar\":{\"outlinewidth\":0,\"ticks\":\"\"}},\"type\":\"scatterpolargl\"}],\"scatterpolar\":[{\"marker\":{\"colorbar\":{\"outlinewidth\":0,\"ticks\":\"\"}},\"type\":\"scatterpolar\"}],\"scatter\":[{\"fillpattern\":{\"fillmode\":\"overlay\",\"size\":10,\"solidity\":0.2},\"type\":\"scatter\"}],\"scatterternary\":[{\"marker\":{\"colorbar\":{\"outlinewidth\":0,\"ticks\":\"\"}},\"type\":\"scatterternary\"}],\"surface\":[{\"colorbar\":{\"outlinewidth\":0,\"ticks\":\"\"},\"colorscale\":[[0.0,\"#0d0887\"],[0.1111111111111111,\"#46039f\"],[0.2222222222222222,\"#7201a8\"],[0.3333333333333333,\"#9c179e\"],[0.4444444444444444,\"#bd3786\"],[0.5555555555555556,\"#d8576b\"],[0.6666666666666666,\"#ed7953\"],[0.7777777777777778,\"#fb9f3a\"],[0.8888888888888888,\"#fdca26\"],[1.0,\"#f0f921\"]],\"type\":\"surface\"}],\"table\":[{\"cells\":{\"fill\":{\"color\":\"#EBF0F8\"},\"line\":{\"color\":\"white\"}},\"header\":{\"fill\":{\"color\":\"#C8D4E3\"},\"line\":{\"color\":\"white\"}},\"type\":\"table\"}]},\"layout\":{\"annotationdefaults\":{\"arrowcolor\":\"#2a3f5f\",\"arrowhead\":0,\"arrowwidth\":1},\"autotypenumbers\":\"strict\",\"coloraxis\":{\"colorbar\":{\"outlinewidth\":0,\"ticks\":\"\"}},\"colorscale\":{\"diverging\":[[0,\"#8e0152\"],[0.1,\"#c51b7d\"],[0.2,\"#de77ae\"],[0.3,\"#f1b6da\"],[0.4,\"#fde0ef\"],[0.5,\"#f7f7f7\"],[0.6,\"#e6f5d0\"],[0.7,\"#b8e186\"],[0.8,\"#7fbc41\"],[0.9,\"#4d9221\"],[1,\"#276419\"]],\"sequential\":[[0.0,\"#0d0887\"],[0.1111111111111111,\"#46039f\"],[0.2222222222222222,\"#7201a8\"],[0.3333333333333333,\"#9c179e\"],[0.4444444444444444,\"#bd3786\"],[0.5555555555555556,\"#d8576b\"],[0.6666666666666666,\"#ed7953\"],[0.7777777777777778,\"#fb9f3a\"],[0.8888888888888888,\"#fdca26\"],[1.0,\"#f0f921\"]],\"sequentialminus\":[[0.0,\"#0d0887\"],[0.1111111111111111,\"#46039f\"],[0.2222222222222222,\"#7201a8\"],[0.3333333333333333,\"#9c179e\"],[0.4444444444444444,\"#bd3786\"],[0.5555555555555556,\"#d8576b\"],[0.6666666666666666,\"#ed7953\"],[0.7777777777777778,\"#fb9f3a\"],[0.8888888888888888,\"#fdca26\"],[1.0,\"#f0f921\"]]},\"colorway\":[\"#636efa\",\"#EF553B\",\"#00cc96\",\"#ab63fa\",\"#FFA15A\",\"#19d3f3\",\"#FF6692\",\"#B6E880\",\"#FF97FF\",\"#FECB52\"],\"font\":{\"color\":\"#2a3f5f\"},\"geo\":{\"bgcolor\":\"white\",\"lakecolor\":\"white\",\"landcolor\":\"white\",\"showlakes\":true,\"showland\":true,\"subunitcolor\":\"#C8D4E3\"},\"hoverlabel\":{\"align\":\"left\"},\"hovermode\":\"closest\",\"mapbox\":{\"style\":\"light\"},\"paper_bgcolor\":\"white\",\"plot_bgcolor\":\"white\",\"polar\":{\"angularaxis\":{\"gridcolor\":\"#EBF0F8\",\"linecolor\":\"#EBF0F8\",\"ticks\":\"\"},\"bgcolor\":\"white\",\"radialaxis\":{\"gridcolor\":\"#EBF0F8\",\"linecolor\":\"#EBF0F8\",\"ticks\":\"\"}},\"scene\":{\"xaxis\":{\"backgroundcolor\":\"white\",\"gridcolor\":\"#DFE8F3\",\"gridwidth\":2,\"linecolor\":\"#EBF0F8\",\"showbackground\":true,\"ticks\":\"\",\"zerolinecolor\":\"#EBF0F8\"},\"yaxis\":{\"backgroundcolor\":\"white\",\"gridcolor\":\"#DFE8F3\",\"gridwidth\":2,\"linecolor\":\"#EBF0F8\",\"showbackground\":true,\"ticks\":\"\",\"zerolinecolor\":\"#EBF0F8\"},\"zaxis\":{\"backgroundcolor\":\"white\",\"gridcolor\":\"#DFE8F3\",\"gridwidth\":2,\"linecolor\":\"#EBF0F8\",\"showbackground\":true,\"ticks\":\"\",\"zerolinecolor\":\"#EBF0F8\"}},\"shapedefaults\":{\"line\":{\"color\":\"#2a3f5f\"}},\"ternary\":{\"aaxis\":{\"gridcolor\":\"#DFE8F3\",\"linecolor\":\"#A2B1C6\",\"ticks\":\"\"},\"baxis\":{\"gridcolor\":\"#DFE8F3\",\"linecolor\":\"#A2B1C6\",\"ticks\":\"\"},\"bgcolor\":\"white\",\"caxis\":{\"gridcolor\":\"#DFE8F3\",\"linecolor\":\"#A2B1C6\",\"ticks\":\"\"}},\"title\":{\"x\":0.05},\"xaxis\":{\"automargin\":true,\"gridcolor\":\"#EBF0F8\",\"linecolor\":\"#EBF0F8\",\"ticks\":\"\",\"title\":{\"standoff\":15},\"zerolinecolor\":\"#EBF0F8\",\"zerolinewidth\":2},\"yaxis\":{\"automargin\":true,\"gridcolor\":\"#EBF0F8\",\"linecolor\":\"#EBF0F8\",\"ticks\":\"\",\"title\":{\"standoff\":15},\"zerolinecolor\":\"#EBF0F8\",\"zerolinewidth\":2}}},\"xaxis\":{\"range\":[0,10],\"tick0\":1,\"dtick\":2,\"title\":{\"text\":\"Term Rank\"}},\"title\":{\"font\":{\"size\":22,\"color\":\"Black\"},\"text\":\"<b>Term score decline per Topic</b>\",\"y\":0.9,\"x\":0.5,\"xanchor\":\"center\",\"yanchor\":\"top\"},\"hoverlabel\":{\"font\":{\"size\":16,\"family\":\"Rockwell\"},\"bgcolor\":\"white\"},\"showlegend\":false,\"width\":800,\"height\":500,\"yaxis\":{\"title\":{\"text\":\"c-TF-IDF score\"}}},                        {\"responsive\": true}                    ).then(function(){\n                            \nvar gd = document.getElementById('8ef0de93-a1bf-4b70-aeb3-8d19a1a1af41');\nvar x = new MutationObserver(function (mutations, observer) {{\n        var display = window.getComputedStyle(gd).display;\n        if (!display || display === 'none') {{\n            console.log([gd, 'removed!']);\n            Plotly.purge(gd);\n            observer.disconnect();\n        }}\n}});\n\n// Listen for the removal of the full notebook cells\nvar notebookContainer = gd.closest('#notebook-container');\nif (notebookContainer) {{\n    x.observe(notebookContainer, {childList: true});\n}}\n\n// Listen for the clearing of the current output cell\nvar outputEl = gd.closest('.output');\nif (outputEl) {{\n    x.observe(outputEl, {childList: true});\n}}\n\n                        })                };                });            </script>        </div>"
     },
     "metadata": {},
     "output_type": "display_data"
    }
   ]
  },
  {
   "cell_type": "markdown",
   "metadata": {
    "id": "D48ienfZrfP0"
   },
   "source": [
    "# **Topic Representation**\n",
    "After having created the topic model, you might not be satisfied with some of the parameters you have chosen. Fortunately, BERTopic allows you to update the topics after they have been created. \n",
    "\n",
    "This allows for fine-tuning the model to your specifications and wishes. "
   ]
  },
  {
   "cell_type": "markdown",
   "metadata": {
    "id": "c4m3UMsw-Zxk"
   },
   "source": [
    "## Update Topics\n",
    "When you have trained a model and viewed the topics and the words that represent them,\n",
    "you might not be satisfied with the representation. Perhaps you forgot to remove\n",
    "stopwords or you want to try out a different `n_gram_range`. We can use the function `update_topics` to update \n",
    "the topic representation with new parameters for `c-TF-IDF`: \n"
   ]
  },
  {
   "cell_type": "code",
   "metadata": {
    "id": "KWm7B-FJ-iYW",
    "ExecuteTime": {
     "end_time": "2023-05-16T08:02:07.546781091Z",
     "start_time": "2023-05-16T08:02:05.843823014Z"
    }
   },
   "source": [
    "topic_model.update_topics(list_preprossing, n_gram_range=(1, 2))"
   ],
   "execution_count": 42,
   "outputs": []
  },
  {
   "cell_type": "code",
   "metadata": {
    "colab": {
     "base_uri": "https://localhost:8080/"
    },
    "id": "wf31gQavdtfG",
    "outputId": "b2cf3d47-f665-44fe-bbe0-c927e4d73363",
    "ExecuteTime": {
     "end_time": "2023-05-16T08:02:10.281955536Z",
     "start_time": "2023-05-16T08:02:10.267905010Z"
    }
   },
   "source": [
    "topic_model.get_topic(0)   # We select topic that we viewed before"
   ],
   "execution_count": 43,
   "outputs": [
    {
     "data": {
      "text/plain": "[('infeccoes', 0.056576192449473456),\n ('causadas', 0.026745972276722024),\n ('trato', 0.022824072182768173),\n ('tratamento', 0.02115281304105715),\n ('incluindo', 0.020490799087102742),\n ('infeccao', 0.020197090142041112),\n ('amoxicilina', 0.01800332089614485),\n ('sensiveis', 0.01735787917772679),\n ('infeccoes trato', 0.017005350536956076),\n ('bacterias', 0.016473422124243596)]"
     },
     "execution_count": 43,
     "metadata": {},
     "output_type": "execute_result"
    }
   ]
  },
  {
   "cell_type": "markdown",
   "metadata": {
    "id": "9antKpdC91A-"
   },
   "source": [
    "## Topic Reduction\n",
    "We can also reduce the number of topics after having trained a BERTopic model. The advantage of doing so, \n",
    "is that you can decide the number of topics after knowing how many are actually created. It is difficult to \n",
    "predict before training your model how many topics that are in your documents and how many will be extracted. \n",
    "Instead, we can decide afterwards how many topics seems realistic:\n",
    "\n",
    "\n",
    "\n"
   ]
  },
  {
   "cell_type": "code",
   "metadata": {
    "id": "5m4Nd7Us-Peg",
    "colab": {
     "base_uri": "https://localhost:8080/"
    },
    "outputId": "2d442d39-5bc5-4e7f-c155-6e6c664f6714",
    "ExecuteTime": {
     "end_time": "2023-05-16T08:02:14.324204997Z",
     "start_time": "2023-05-16T08:02:14.200906036Z"
    }
   },
   "source": [
    "topic_model.reduce_topics(list_preprossing, nr_topics=20)"
   ],
   "execution_count": 44,
   "outputs": [
    {
     "name": "stderr",
     "output_type": "stream",
     "text": [
      "2023-05-16 04:02:14,203 - BERTopic - Reduced number of topics from 14 to 14\n"
     ]
    },
    {
     "data": {
      "text/plain": "<bertopic._bertopic.BERTopic at 0x7fc5462df490>"
     },
     "execution_count": 44,
     "metadata": {},
     "output_type": "execute_result"
    }
   ]
  },
  {
   "cell_type": "code",
   "source": [
    "# Access the newly updated topics with:\n",
    "print(topic_model.topics_)"
   ],
   "metadata": {
    "colab": {
     "base_uri": "https://localhost:8080/"
    },
    "id": "jVAYd7pXJ1_T",
    "outputId": "433d5607-cf1d-421d-9bee-070363f13abb",
    "ExecuteTime": {
     "end_time": "2023-05-16T08:02:16.487320276Z",
     "start_time": "2023-05-16T08:02:16.471734930Z"
    }
   },
   "execution_count": 45,
   "outputs": [
    {
     "name": "stdout",
     "output_type": "stream",
     "text": [
      "[6, 0, 1, 6, 12, 3, 0, 2, 0, 1, 7, -1, -1, 3, 1, 2, 5, 1, 0, 2, 0, 5, 5, 12, -1, 2, 9, 10, 2, 6, 0, 3, 0, 11, 4, -1, 3, -1, 3, 5, 0, 0, 3, 0, 3, 0, 2, 3, 10, 7, 0, 11, 0, 1, 9, 8, 9, 12, 2, 4, 0, 12, 11, 3, 9, 6, 3, 0, 4, 8, 1, 0, 1, 9, 1, 12, 6, 0, 4, 4, 1, 4, 6, 0, 2, 1, 7, 5, 2, 10, 2, 5, -1, 6, 12, 11, 0, -1, 5, 2, 4, 10, 4, 1, 0, 0, 5, 2, 1, 1, 1, 0, 5, 0, -1, 6, 0, 0, 2, 9, 7, 4, 7, 7, 3, -1, 2, -1, 2, 2, -1, 6, 5, 0, -1, 9, 3, -1, 5, 11, 10, 1, 0, 12, 2, 1, 0, 0, 1, 12, 1, 9, 0, 3, 7, 3, 0, 1, -1, 3, 7, 6, -1, 4, 0, -1, 2, 0, 0, 1, 0, 2, 1, 2, 7, 10, 0, 11, 3, 0, 12, -1, 5, 0, 4, -1, 1, 7, 6, 9, 1, 3, 2, 0, 2, 2, 6, 0, 6, 2, 3, 0, 9, 2, 0, 0, -1, 11, 8, 4, -1, 4, 1, 5, 10, -1, 1, 0, 5, 0, 0, 9, 1, 0, -1, 8, 9, 1, 0, 12, 11, 2, 12, 9, 2, -1, 8, 7, 11, 2, 7, 2, 10, 5, 0, 3, 8, 8, 5, 11, 0, 8, 8, -1, 2, 0, 2, 8, 11, 8, 0, 2, 1, 1, 0, 10, 2, 0, -1, 6, 8, 2, -1, 4, 0, 3, 2, -1, 8, 3, 0, 1, -1, 12, 4, 1, -1, 6, 3, 3, 1, 1, 6, 3, 5, 10, -1, -1, -1, 0, 0, 6, 2, 1, 10, 1, 3, 1, 2, 9, 5, 1, 4, 1, 2, 10, 7, 0, 4, 0, 10, 1, 0, 0, 10, 9, 3, -1, 1, 3, 0, 1, 4, 1, 4, 11, 4, 8, 7, 6, 2, 0, 3, 2, 7, 4, 8, -1, 6, 4, 1, 5, 2, 11, 1, 2, 2, 2, 1]\n"
     ]
    }
   ]
  },
  {
   "cell_type": "markdown",
   "source": [],
   "metadata": {
    "id": "ipzieuf2J4rr"
   }
  },
  {
   "cell_type": "markdown",
   "metadata": {
    "id": "LXYJ745O-03Z"
   },
   "source": [
    "# **Search Topics**\n",
    "After having trained our model, we can use `find_topics` to search for topics that are similar \n",
    "to an input search_term. Here, we are going to be searching for topics that closely relate the \n",
    "search term \"vehicle\". Then, we extract the most similar topic and check the results: "
   ]
  },
  {
   "cell_type": "code",
   "metadata": {
    "colab": {
     "base_uri": "https://localhost:8080/"
    },
    "id": "lAdiVYej-2i-",
    "outputId": "c107bd7d-1025-4d4d-b179-d007c7d16cd2",
    "ExecuteTime": {
     "end_time": "2023-05-16T08:02:19.810106731Z",
     "start_time": "2023-05-16T08:02:19.749153688Z"
    }
   },
   "source": [
    "similar_topics, similarity = topic_model.find_topics(\"infeccoes\", top_n=5); similar_topics"
   ],
   "execution_count": 46,
   "outputs": [
    {
     "data": {
      "text/plain": "[0, 5, 6, 10, 7]"
     },
     "execution_count": 46,
     "metadata": {},
     "output_type": "execute_result"
    }
   ]
  },
  {
   "cell_type": "code",
   "metadata": {
    "colab": {
     "base_uri": "https://localhost:8080/"
    },
    "id": "Q9paNa09d3Xy",
    "outputId": "545bbd07-8850-46d4-fdb7-28cb3d158b15",
    "ExecuteTime": {
     "end_time": "2023-05-16T08:02:23.283557658Z",
     "start_time": "2023-05-16T08:02:23.233477656Z"
    }
   },
   "source": [
    "topic_model.get_topic(2 )"
   ],
   "execution_count": 47,
   "outputs": [
    {
     "data": {
      "text/plain": "[('transtorno', 0.06289965136623425),\n ('tratamento', 0.043800862196485976),\n ('ansiedade', 0.03468342495386545),\n ('cloridrato', 0.030017811549983377),\n ('tratamento transtorno', 0.028650365055367853),\n ('social', 0.024788096595041047),\n ('paroxetina', 0.024788096595041047),\n ('indicado', 0.024689477906194426),\n ('criancas', 0.024326767314578463),\n ('depressao', 0.023179830498516907)]"
     },
     "execution_count": 47,
     "metadata": {},
     "output_type": "execute_result"
    }
   ]
  },
  {
   "cell_type": "markdown",
   "metadata": {
    "id": "wekNoQNuUVoU"
   },
   "source": [
    "# **Model serialization**\n",
    "The model and its internal settings can easily be saved. Note that the documents and embeddings will not be saved. However, UMAP and HDBSCAN will be saved. "
   ]
  },
  {
   "cell_type": "code",
   "metadata": {
    "id": "nWUF1uxiSb_a"
   },
   "source": [
    "# Save model\n",
    "topic_model.save(\"my_model\")\t"
   ],
   "execution_count": null,
   "outputs": []
  },
  {
   "cell_type": "code",
   "metadata": {
    "id": "y_eHBI1jSb6i"
   },
   "source": [
    "# Load model\n",
    "my_model = BERTopic.load(\"my_model\")\t"
   ],
   "execution_count": null,
   "outputs": []
  },
  {
   "cell_type": "markdown",
   "metadata": {
    "id": "2eyImbal7lb8"
   },
   "source": [
    "# **Embedding Models**\n",
    "The parameter `embedding_model` takes in a string pointing to a sentence-transformers model, a SentenceTransformer, or a Flair DocumentEmbedding model."
   ]
  },
  {
   "cell_type": "code",
   "source": [],
   "metadata": {
    "id": "jtSz9aOcgYcs"
   },
   "execution_count": null,
   "outputs": []
  },
  {
   "cell_type": "markdown",
   "metadata": {
    "id": "8ZKyW7NZpnEk"
   },
   "source": [
    "## Sentence-Transformers\n",
    "You can select any model from sentence-transformers here and pass it through BERTopic with embedding_model:\n",
    "\n"
   ]
  },
  {
   "cell_type": "code",
   "metadata": {
    "id": "k7sPgNfzprbP",
    "ExecuteTime": {
     "end_time": "2023-05-16T08:03:06.872328810Z",
     "start_time": "2023-05-16T08:03:06.851291601Z"
    }
   },
   "source": [
    "topic_model = BERTopic(embedding_model=\"xlm-r-bert-base-nli-stsb-mean-tokens\")"
   ],
   "execution_count": 49,
   "outputs": []
  },
  {
   "cell_type": "markdown",
   "metadata": {
    "id": "8vv7i1JTp62V"
   },
   "source": [
    "Or select a SentenceTransformer model with your own parameters:\n"
   ]
  },
  {
   "cell_type": "code",
   "metadata": {
    "id": "Eh5qp58Hp7Ua"
   },
   "source": [
    "from sentence_transformers import SentenceTransformer\n",
    "\n",
    "sentence_model = SentenceTransformer(\"distilbert-base-nli-mean-tokens\", device=\"cpu\")\n",
    "topic_model = BERTopic(embedding_model=sentence_model, verbose=True)"
   ],
   "execution_count": null,
   "outputs": []
  },
  {
   "cell_type": "markdown",
   "metadata": {
    "id": "SoMc1W-x7-b5"
   },
   "source": [
    "Click [here](https://www.sbert.net/docs/pretrained_models.html) for a list of supported sentence transformers models.  \n"
   ]
  }
 ]
}

{
 "cells": [
  {
   "cell_type": "code",
   "execution_count": 88,
   "metadata": {
    "collapsed": true,
    "ExecuteTime": {
     "end_time": "2023-05-15T01:13:42.036375663Z",
     "start_time": "2023-05-15T01:13:41.987124499Z"
    }
   },
   "outputs": [],
   "source": [
    "import pandas as pd\n",
    "import numpy as np\n",
    "from sklearn.decomposition import PCA\n",
    "from sklearn.utils import resample\n",
    "from sentence_transformers import SentenceTransformer\n",
    "from sklearn.cluster import KMeans\n",
    "from matplotlib import pyplot as plt\n",
    "from sklearn.manifold import TSNE\n",
    "from mpl_toolkits import mplot3d\n",
    "from sklearn.discriminant_analysis import LinearDiscriminantAnalysis\n",
    "import os"
   ]
  },
  {
   "cell_type": "markdown",
   "source": [],
   "metadata": {
    "collapsed": false
   }
  },
  {
   "cell_type": "code",
   "execution_count": 89,
   "outputs": [],
   "source": [
    "df_train = pd.read_excel(\"/home/rafael/Documentos/FACOM/Douturado/Doutorado/webcrawler/medicamentos.xlsx\",index_col=0,dtype=str)\n",
    "df_train.head()\n",
    "list_preprossing=[]"
   ],
   "metadata": {
    "collapsed": false,
    "ExecuteTime": {
     "end_time": "2023-05-15T01:13:42.148497187Z",
     "start_time": "2023-05-15T01:13:42.000482336Z"
    }
   }
  },
  {
   "cell_type": "code",
   "execution_count": 90,
   "outputs": [],
   "source": [
    "for dta in range(df_train.shape[0]):\n",
    "    # value=str(df_train.iloc[dta,0])\n",
    "    value=str(df_train.iloc[dta,0])+\" \"+str(df_train.iloc[dta,1]) +\" \"+str(df_train.iloc[dta,2])+\" \"+str(df_train.iloc[dta,3])\n",
    "    list_preprossing.append(value)\n",
    "list_preprossing=np.array(list_preprossing)\n",
    "print(list_preprossing)"
   ],
   "metadata": {
    "collapsed": false
   }
  },
  {
   "cell_type": "code",
   "execution_count": 91,
   "outputs": [],
   "source": [
    "# print(list_preprossing)\n",
    "print(list_preprossing.shape)"
   ],
   "metadata": {
    "collapsed": false
   }
  },
  {
   "cell_type": "code",
   "execution_count": 92,
   "outputs": [],
   "source": [
    "embedder = SentenceTransformer('all-mpnet-base-v2',device='cuda')"
   ],
   "metadata": {
    "collapsed": false
   }
  },
  {
   "cell_type": "markdown",
   "source": [],
   "metadata": {
    "collapsed": false
   }
  },
  {
   "cell_type": "code",
   "execution_count": 93,
   "outputs": [],
   "source": [
    "corpus_embeddings = embedder.encode(list_preprossing)"
   ],
   "metadata": {
    "collapsed": false,
    "pycharm": {
     "is_executing": true
    }
   }
  },
  {
   "cell_type": "code",
   "execution_count": 94,
   "outputs": [],
   "source": [
    "for data in corpus_embeddings:\n",
    "    print(data.shape)"
   ],
   "metadata": {
    "collapsed": false
   }
  },
  {
   "cell_type": "code",
   "execution_count": 95,
   "outputs": [],
   "source": [
    "tsne = TSNE(random_state = 42, n_components=2)\n",
    "pca = PCA(n_components=2)\n",
    "lda = LinearDiscriminantAnalysis(n_components=2)"
   ],
   "metadata": {
    "collapsed": false
   }
  },
  {
   "cell_type": "code",
   "execution_count": 96,
   "outputs": [],
   "source": [
    "embeddings2d_pca = pca.fit_transform(corpus_embeddings)\n",
    "# embeddings2d_lda = lda.fit_transform(corpus_embeddings,list_preprossing)\n"
   ],
   "metadata": {
    "collapsed": false
   }
  },
  {
   "cell_type": "code",
   "execution_count": 97,
   "outputs": [],
   "source": [
    "knn_4 = KMeans(n_clusters=4,n_init=40)\n",
    "modelo_knn_3 = knn_4.fit_predict(embeddings2d_pca)"
   ],
   "metadata": {
    "collapsed": false,
    "pycharm": {
     "is_executing": true
    }
   }
  },
  {
   "cell_type": "code",
   "execution_count": 98,
   "outputs": [],
   "source": [
    "list_name =list(df_train.iloc[:,0])#lista com os nomes do medicamento\n",
    "# print(list_name)\n",
    "# print(modelo_knn_3)\n",
    "classes=[] #dicionario para armazenar a classe. key(medicamento):value(classe)\n",
    "color = {0:'.b',1:'.r',2:'.c',3:'.y',4:'xb',5:'xr',6:'xc',7:'xy',8:'xk',9:'xb',10:'xr',11:'xc',12:'xy',13:'xk'} #dicionario  de classe e cores\n",
    "colors=[ color[x] for x in modelo_knn_3] # modelo_knn_3 retorna uma lista de valores [2,1,3,4]\n",
    "fig,ax = plt.subplots(1,figsize=(10,10))\n",
    "for i, cl_xy in enumerate(zip(colors,embeddings2d_pca)): #embeddings2d possui x e y\n",
    "    cl=cl_xy[0]\n",
    "    xy=cl_xy[1]\n",
    "    ax.plot(xy[0],xy[1],cl)\n",
    "    # print(df_train.iloc[i].name)\n",
    "    classes.append({'nome':df_train.iloc[i].name,'ativo':list_name[i],\"classes\":df_train['classes'].iloc[i],\"classe_pred\":modelo_knn_3[i]})\n",
    "    # classes.append({'nome':df_train.iloc[i].name,'ativo':list_name[i],\"classes\":df_train['classes'].iloc[i],\"classe_pred\":modelo_knn_3[i]})\n",
    "\n",
    "# for i, cl_xy in enumerate(zip(colors,embeddings2d)): #embeddings2d possui x e y\n",
    "#     cl=cl_xy[0]\n",
    "#     xy=cl_xy[1]\n",
    "#     ax.plot(xy[0],xy[1],cl)\n",
    "#     print(df_train.iloc[i].name)\n",
    "#     classes.append({'nome':df_train.iloc[i].name,'ativo':list_name[i],\"classes\":df_train['classes'].iloc[i],\"classe_pred\":modelo_knn_3[i]})\n",
    "fig.savefig('my_plot.png')\n"
   ],
   "metadata": {
    "collapsed": false
   }
  },
  {
   "cell_type": "code",
   "execution_count": 99,
   "outputs": [],
   "source": [
    "print(classes)\n",
    "# print(df_train)\n",
    "# frame_=pd.DataFrame({\"x\":embeddings2d[:,0]})\n",
    "# np.savetxt(\"embedding2d.csv\",np.concatenate([[[1,2,3],[1,2,3],[1,2,3]],[0,0,0]],axis=0),delimiter=\",\")\n"
   ],
   "metadata": {
    "collapsed": false
   }
  },
  {
   "cell_type": "code",
   "execution_count": 100,
   "outputs": [],
   "source": [
    "frame_result = pd.DataFrame(classes).sort_values(\"classe_pred\",axis=0)"
   ],
   "metadata": {
    "collapsed": false
   }
  },
  {
   "cell_type": "code",
   "execution_count": 101,
   "outputs": [],
   "source": [
    "frame_result"
   ],
   "metadata": {
    "collapsed": false
   }
  },
  {
   "cell_type": "code",
   "execution_count": 102,
   "outputs": [],
   "source": [
    "frame_result.to_csv(\"Save_EuroFarma.csv\")"
   ],
   "metadata": {
    "collapsed": false,
    "pycharm": {
     "is_executing": true
    }
   }
  }
 ],
 "metadata": {
  "kernelspec": {
   "display_name": "Python 3",
   "language": "python",
   "name": "python3"
  },
  "language_info": {
   "codemirror_mode": {
    "name": "ipython",
    "version": 2
   },
   "file_extension": ".py",
   "mimetype": "text/x-python",
   "name": "python",
   "nbconvert_exporter": "python",
   "pygments_lexer": "ipython2",
   "version": "2.7.6"
  }
 },
 "nbformat": 4,
 "nbformat_minor": 0
}

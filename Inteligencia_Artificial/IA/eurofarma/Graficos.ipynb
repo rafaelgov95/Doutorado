{
 "cells": [
  {
   "cell_type": "code",
   "execution_count": 15,
   "metadata": {
    "collapsed": true,
    "ExecuteTime": {
     "end_time": "2023-05-21T07:54:07.682605298Z",
     "start_time": "2023-05-21T07:54:07.619746148Z"
    }
   },
   "outputs": [
    {
     "name": "stdout",
     "output_type": "stream",
     "text": [
      " attenze cloridrato de metilfenidato e contraindicado para pacientes com hipersensibilidade ao metilfenidato ou a qualquer excipiente ansiedade tensao\n",
      "['attenze', 'cloridrato', 'de', 'metilfenidato', 'e', 'contraindicado', 'para', 'pacientes', 'com', 'hipersensibilidade', 'ao', 'metilfenidato', 'ou', 'a', 'qualquer', 'excipiente', 'ansiedade', 'tensao']\n",
      "attenze cloridrato metilfenidato contraindicado pacientes hipersensibilidade metilfenidato qualquer excipiente ansiedade tensao\n",
      "attenze cloridrato metilfenidato contraindicado pacientes hipersensibilidade metilfenidato qualquer excipiente ansiedade tensao\n"
     ]
    },
    {
     "name": "stderr",
     "output_type": "stream",
     "text": [
      "[nltk_data] Downloading package stopwords to /home/rafael/nltk_data...\n",
      "[nltk_data]   Package stopwords is already up-to-date!\n",
      "[nltk_data] Downloading package punkt to /home/rafael/nltk_data...\n",
      "[nltk_data]   Package punkt is already up-to-date!\n",
      "[nltk_data] Downloading package wordnet to /home/rafael/nltk_data...\n",
      "[nltk_data]   Package wordnet is already up-to-date!\n"
     ]
    }
   ],
   "source": [
    "from nltk.corpus import stopwords\n",
    "from nltk.tokenize import word_tokenize\n",
    "from nltk.stem import WordNetLemmatizer\n",
    "import re\n",
    "\n",
    "from unidecode import unidecode\n",
    "import nltk\n",
    "\n",
    "nltk.download('stopwords')\n",
    "nltk.download('punkt')\n",
    "nltk.download('wordnet')\n",
    "stopwords = set(stopwords.words('portuguese'))\n",
    "import nltk\n",
    "\n",
    "def preprocess_text(text):\n",
    "    # Conversão para minúsculas\n",
    "    text = text.lower()\n",
    "    # Remoção de pontuações\n",
    "    text = re.sub(r'[^\\w\\s]', '', text)\n",
    "    # Remoção de caracteres especiais, preservando letras acentuadas\n",
    "    text = re.sub(r'[^a-zA-Z0-9áéíóúÁÉÍÓÚâêîôûÂÊÎÔÛàèìòùÀÈÌÒÙãõñÃÕÑçÇ\\s]+', '', text)\n",
    "    text = unidecode(text)\n",
    "    return text\n",
    "\n",
    "lemmatizer = WordNetLemmatizer()\n",
    "\n",
    "value=\" Attenze® (cloridrato de metilfenidato) é contraindicado para pacientes com: Hipersensibilidade ao metilfenidato ou a qualquer excipiente; Ansiedade, tensão;\"\n",
    "\n",
    "tok =preprocess_text(value.replace('nan',''))\n",
    "print(tok)\n",
    "tokens = word_tokenize(tok)\n",
    "print(tokens)\n",
    "filtered_tokens = [token for token in tokens if token.lower() not in list(stopwords)]\n",
    "print(' '.join(filtered_tokens))\n",
    "lemmatized_tokens = [lemmatizer.lemmatize(token) for token in filtered_tokens]\n",
    "# print(lemmatized_tokens)\n",
    "\n",
    "filtered_text = ' '.join(lemmatized_tokens)\n",
    "print(filtered_text)"
   ]
  }
 ],
 "metadata": {
  "kernelspec": {
   "display_name": "Python 3",
   "language": "python",
   "name": "python3"
  },
  "language_info": {
   "codemirror_mode": {
    "name": "ipython",
    "version": 2
   },
   "file_extension": ".py",
   "mimetype": "text/x-python",
   "name": "python",
   "nbconvert_exporter": "python",
   "pygments_lexer": "ipython2",
   "version": "2.7.6"
  }
 },
 "nbformat": 4,
 "nbformat_minor": 0
}

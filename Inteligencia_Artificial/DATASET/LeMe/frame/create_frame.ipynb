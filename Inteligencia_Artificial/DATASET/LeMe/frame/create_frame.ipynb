{
 "cells": [
  {
   "cell_type": "code",
   "execution_count": 1,
   "outputs": [],
   "source": [
    "import numpy as np\n",
    "import pandas as pd\n",
    "import os, re\n",
    "import pandas as pd"
   ],
   "metadata": {
    "collapsed": false,
    "ExecuteTime": {
     "end_time": "2023-05-13T17:05:51.421301282Z",
     "start_time": "2023-05-13T17:05:50.829232986Z"
    }
   }
  },
  {
   "cell_type": "code",
   "execution_count": 1,
   "outputs": [
    {
     "ename": "NameError",
     "evalue": "name 're' is not defined",
     "output_type": "error",
     "traceback": [
      "\u001B[0;31m---------------------------------------------------------------------------\u001B[0m",
      "\u001B[0;31mNameError\u001B[0m                                 Traceback (most recent call last)",
      "Cell \u001B[0;32mIn[1], line 3\u001B[0m\n\u001B[1;32m      1\u001B[0m bulas \u001B[38;5;241m=\u001B[39m []\n\u001B[1;32m      2\u001B[0m base\u001B[38;5;241m=\u001B[39m\u001B[38;5;124m\"\u001B[39m\u001B[38;5;124m./../v1.0/PT/\u001B[39m\u001B[38;5;124m\"\u001B[39m\n\u001B[0;32m----> 3\u001B[0m CLEANR \u001B[38;5;241m=\u001B[39m \u001B[43mre\u001B[49m\u001B[38;5;241m.\u001B[39mcompile(\u001B[38;5;124m'\u001B[39m\u001B[38;5;124m<.*?>|&([a-z0-9]+|#[0-9]\u001B[39m\u001B[38;5;124m{\u001B[39m\u001B[38;5;124m1,6}|#x[0-9a-f]\u001B[39m\u001B[38;5;124m{\u001B[39m\u001B[38;5;124m1,6});\u001B[39m\u001B[38;5;124m'\u001B[39m)\n\u001B[1;32m      4\u001B[0m \u001B[38;5;28;01mfor\u001B[39;00m i,file \u001B[38;5;129;01min\u001B[39;00m \u001B[38;5;28menumerate\u001B[39m(os\u001B[38;5;241m.\u001B[39mlistdir(base)):\n\u001B[1;32m      5\u001B[0m     \u001B[38;5;28mprint\u001B[39m(\u001B[38;5;124mf\u001B[39m\u001B[38;5;124m\"\u001B[39m\u001B[38;5;124m index: \u001B[39m\u001B[38;5;132;01m{\u001B[39;00mi\u001B[38;5;132;01m}\u001B[39;00m\u001B[38;5;124m --- \u001B[39m\u001B[38;5;132;01m{\u001B[39;00mfile\u001B[38;5;132;01m}\u001B[39;00m\u001B[38;5;124m\"\u001B[39m)\n",
      "\u001B[0;31mNameError\u001B[0m: name 're' is not defined"
     ]
    }
   ],
   "source": [
    "bulas = []\n",
    "base=\"./../v1.0/PT/\"\n",
    "CLEANR = re.compile('<.*?>|&([a-z0-9]+|#[0-9]{1,6}|#x[0-9a-f]{1,6});')\n",
    "for i,file in enumerate(os.listdir(base)):\n",
    "    print(f\" index: {i} --- {file}\")\n",
    "    file_str = open(base+file,'r', encoding=\"utf8\")\n",
    "    string_file=\"\"\n",
    "    for line in file_str:\n",
    "        if \" \".join(line.rstrip().split()) != '':\n",
    "            string_file+= \" \"+re.sub(CLEANR,'',\" \".join(line.rstrip().split()) )\n",
    "    bulas.append(file.split(\".txt\")[0]+\"#\"+string_file)\n",
    "    # print(bulas)\n",
    "    # break\n",
    "bulas = np.array(bulas).astype(object)\n",
    "np.savetxt(\"../bulas.txt\",bulas,delimiter=\"#\",encoding=\"utf8\", fmt='%s')"
   ],
   "metadata": {
    "collapsed": false,
    "ExecuteTime": {
     "end_time": "2023-05-14T00:58:54.381304628Z",
     "start_time": "2023-05-14T00:58:52.343059614Z"
    }
   }
  },
  {
   "cell_type": "code",
   "execution_count": 2,
   "outputs": [],
   "source": [],
   "metadata": {
    "collapsed": false,
    "ExecuteTime": {
     "end_time": "2023-05-13T17:05:55.551455134Z",
     "start_time": "2023-05-13T17:05:55.547109537Z"
    }
   }
  }
 ],
 "metadata": {
  "kernelspec": {
   "display_name": "Python 3",
   "language": "python",
   "name": "python3"
  },
  "language_info": {
   "codemirror_mode": {
    "name": "ipython",
    "version": 2
   },
   "file_extension": ".py",
   "mimetype": "text/x-python",
   "name": "python",
   "nbconvert_exporter": "python",
   "pygments_lexer": "ipython2",
   "version": "2.7.6"
  }
 },
 "nbformat": 4,
 "nbformat_minor": 0
}

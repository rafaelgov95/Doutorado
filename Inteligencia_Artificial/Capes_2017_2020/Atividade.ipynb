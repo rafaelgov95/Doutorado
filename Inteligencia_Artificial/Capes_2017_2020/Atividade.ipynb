{
 "cells": [
  {
   "cell_type": "code",
   "execution_count": 2,
   "metadata": {
    "collapsed": true,
    "ExecuteTime": {
     "start_time": "2023-04-06T13:27:17.601761Z",
     "end_time": "2023-04-06T13:27:18.260729Z"
    }
   },
   "outputs": [
    {
     "name": "stdout",
     "output_type": "stream",
     "text": [
      "C:\\Users\\rafael.viana\\DataspellProjects\\Doutorado\\Inteligencia_Artificial\\Capes_2017_2020\n"
     ]
    }
   ],
   "source": [
    "import pandas as pd\n",
    "import os.path"
   ]
  },
  {
   "cell_type": "code",
   "execution_count": 34,
   "outputs": [
    {
     "data": {
      "text/plain": "             ISSN                                           Título  \\\n0       2541-965X  РУССКАЯ ПОЛИТОЛОГИЯ (RUSSIAN POLITICAL SCIENCE)   \n1       2236-6695                  A BARRIGUDA: REVISTA CIENTÍFICA   \n2       1413-6090                            A ECONOMIA EM REVISTA   \n3       2236-2029                     A ECONOMIA EM REVISTA - AERE   \n4       1528-7106                  AACE INTERNATIONAL TRANSACTIONS   \n...           ...                                              ...   \n154404  0944-2006                                   ZOOLOGY (JENA)   \n154405  0720-213X                    ZOOMORPHOLOGY (BERLIN. PRINT)   \n154406  1175-5326                        ZOOTAXA (AUCKLAND. PRINT)   \n154407  1175-5334                                 ZOOTAXA (ONLINE)   \n154408  0967-1994                        ZYGOTE (CAMBRIDGE. PRINT)   \n\n                                        Área de Avaliação Estrato  \n0       ADMINISTRAÇÃO PÚBLICA E DE EMPRESAS, CIÊNCIAS ...      B2  \n1       ADMINISTRAÇÃO PÚBLICA E DE EMPRESAS, CIÊNCIAS ...      B2  \n2       ADMINISTRAÇÃO PÚBLICA E DE EMPRESAS, CIÊNCIAS ...      B3  \n3       ADMINISTRAÇÃO PÚBLICA E DE EMPRESAS, CIÊNCIAS ...      B3  \n4       ADMINISTRAÇÃO PÚBLICA E DE EMPRESAS, CIÊNCIAS ...       C  \n...                                                   ...     ...  \n154404  ZOOTECNIA / RECURSOS PESQUEIROS               ...      A1  \n154405  ZOOTECNIA / RECURSOS PESQUEIROS               ...      A3  \n154406  ZOOTECNIA / RECURSOS PESQUEIROS               ...      A4  \n154407  ZOOTECNIA / RECURSOS PESQUEIROS               ...      A4  \n154408  ZOOTECNIA / RECURSOS PESQUEIROS               ...      B3  \n\n[154409 rows x 4 columns]",
      "text/html": "<div>\n<style scoped>\n    .dataframe tbody tr th:only-of-type {\n        vertical-align: middle;\n    }\n\n    .dataframe tbody tr th {\n        vertical-align: top;\n    }\n\n    .dataframe thead th {\n        text-align: right;\n    }\n</style>\n<table border=\"1\" class=\"dataframe\">\n  <thead>\n    <tr style=\"text-align: right;\">\n      <th></th>\n      <th>ISSN</th>\n      <th>Título</th>\n      <th>Área de Avaliação</th>\n      <th>Estrato</th>\n    </tr>\n  </thead>\n  <tbody>\n    <tr>\n      <th>0</th>\n      <td>2541-965X</td>\n      <td>РУССКАЯ ПОЛИТОЛОГИЯ (RUSSIAN POLITICAL SCIENCE)</td>\n      <td>ADMINISTRAÇÃO PÚBLICA E DE EMPRESAS, CIÊNCIAS ...</td>\n      <td>B2</td>\n    </tr>\n    <tr>\n      <th>1</th>\n      <td>2236-6695</td>\n      <td>A BARRIGUDA: REVISTA CIENTÍFICA</td>\n      <td>ADMINISTRAÇÃO PÚBLICA E DE EMPRESAS, CIÊNCIAS ...</td>\n      <td>B2</td>\n    </tr>\n    <tr>\n      <th>2</th>\n      <td>1413-6090</td>\n      <td>A ECONOMIA EM REVISTA</td>\n      <td>ADMINISTRAÇÃO PÚBLICA E DE EMPRESAS, CIÊNCIAS ...</td>\n      <td>B3</td>\n    </tr>\n    <tr>\n      <th>3</th>\n      <td>2236-2029</td>\n      <td>A ECONOMIA EM REVISTA - AERE</td>\n      <td>ADMINISTRAÇÃO PÚBLICA E DE EMPRESAS, CIÊNCIAS ...</td>\n      <td>B3</td>\n    </tr>\n    <tr>\n      <th>4</th>\n      <td>1528-7106</td>\n      <td>AACE INTERNATIONAL TRANSACTIONS</td>\n      <td>ADMINISTRAÇÃO PÚBLICA E DE EMPRESAS, CIÊNCIAS ...</td>\n      <td>C</td>\n    </tr>\n    <tr>\n      <th>...</th>\n      <td>...</td>\n      <td>...</td>\n      <td>...</td>\n      <td>...</td>\n    </tr>\n    <tr>\n      <th>154404</th>\n      <td>0944-2006</td>\n      <td>ZOOLOGY (JENA)</td>\n      <td>ZOOTECNIA / RECURSOS PESQUEIROS               ...</td>\n      <td>A1</td>\n    </tr>\n    <tr>\n      <th>154405</th>\n      <td>0720-213X</td>\n      <td>ZOOMORPHOLOGY (BERLIN. PRINT)</td>\n      <td>ZOOTECNIA / RECURSOS PESQUEIROS               ...</td>\n      <td>A3</td>\n    </tr>\n    <tr>\n      <th>154406</th>\n      <td>1175-5326</td>\n      <td>ZOOTAXA (AUCKLAND. PRINT)</td>\n      <td>ZOOTECNIA / RECURSOS PESQUEIROS               ...</td>\n      <td>A4</td>\n    </tr>\n    <tr>\n      <th>154407</th>\n      <td>1175-5334</td>\n      <td>ZOOTAXA (ONLINE)</td>\n      <td>ZOOTECNIA / RECURSOS PESQUEIROS               ...</td>\n      <td>A4</td>\n    </tr>\n    <tr>\n      <th>154408</th>\n      <td>0967-1994</td>\n      <td>ZYGOTE (CAMBRIDGE. PRINT)</td>\n      <td>ZOOTECNIA / RECURSOS PESQUEIROS               ...</td>\n      <td>B3</td>\n    </tr>\n  </tbody>\n</table>\n<p>154409 rows × 4 columns</p>\n</div>"
     },
     "execution_count": 34,
     "metadata": {},
     "output_type": "execute_result"
    }
   ],
   "source": [
    "df = pd.read_csv('classificações_publicadas_todas_as_areas_avaliacao1672761192111.csv',sep=';')\n",
    "df"
   ],
   "metadata": {
    "collapsed": false,
    "ExecuteTime": {
     "start_time": "2023-04-06T13:39:24.415555Z",
     "end_time": "2023-04-06T13:39:24.728555Z"
    }
   }
  },
  {
   "cell_type": "code",
   "execution_count": 39,
   "outputs": [],
   "source": [
    "df_qualis_A= df[df['Estrato'].str.contains(\"A\")].sort_values(['Estrato'])"
   ],
   "metadata": {
    "collapsed": false,
    "ExecuteTime": {
     "start_time": "2023-04-06T13:40:09.907189Z",
     "end_time": "2023-04-06T13:40:10.053170Z"
    }
   }
  },
  {
   "cell_type": "markdown",
   "source": [],
   "metadata": {
    "collapsed": false
   }
  },
  {
   "cell_type": "code",
   "execution_count": 79,
   "outputs": [
    {
     "data": {
      "text/plain": "             ISSN                            Título  \\\n132237  0048-9697  SCIENCE OF THE TOTAL ENVIRONMENT   \n114074  0048-9697  SCIENCE OF THE TOTAL ENVIRONMENT   \n76002   0048-9697  SCIENCE OF THE TOTAL ENVIRONMENT   \n130354  0048-9697  SCIENCE OF THE TOTAL ENVIRONMENT   \n40604   0048-9697  SCIENCE OF THE TOTAL ENVIRONMENT   \n112140  0048-9697  SCIENCE OF THE TOTAL ENVIRONMENT   \n136936  0048-9697  SCIENCE OF THE TOTAL ENVIRONMENT   \n30638   0048-9697  SCIENCE OF THE TOTAL ENVIRONMENT   \n83058   0048-9697  SCIENCE OF THE TOTAL ENVIRONMENT   \n134645  0048-9697  SCIENCE OF THE TOTAL ENVIRONMENT   \n35979   0048-9697  SCIENCE OF THE TOTAL ENVIRONMENT   \n78986   0048-9697  SCIENCE OF THE TOTAL ENVIRONMENT   \n56235   0048-9697  SCIENCE OF THE TOTAL ENVIRONMENT   \n66290   0048-9697  SCIENCE OF THE TOTAL ENVIRONMENT   \n125047  0048-9697  SCIENCE OF THE TOTAL ENVIRONMENT   \n63884   0048-9697  SCIENCE OF THE TOTAL ENVIRONMENT   \n60851   0048-9697  SCIENCE OF THE TOTAL ENVIRONMENT   \n119350  0048-9697  SCIENCE OF THE TOTAL ENVIRONMENT   \n72004   0048-9697  SCIENCE OF THE TOTAL ENVIRONMENT   \n45278   0048-9697  SCIENCE OF THE TOTAL ENVIRONMENT   \n69052   0048-9697  SCIENCE OF THE TOTAL ENVIRONMENT   \n47985   0048-9697  SCIENCE OF THE TOTAL ENVIRONMENT   \n15522   0048-9697  SCIENCE OF THE TOTAL ENVIRONMENT   \n105848  0048-9697  SCIENCE OF THE TOTAL ENVIRONMENT   \n143352  0048-9697  SCIENCE OF THE TOTAL ENVIRONMENT   \n89629   0048-9697  SCIENCE OF THE TOTAL ENVIRONMENT   \n4717    0048-9697  SCIENCE OF THE TOTAL ENVIRONMENT   \n148148  0048-9697  SCIENCE OF THE TOTAL ENVIRONMENT   \n8488    0048-9697  SCIENCE OF THE TOTAL ENVIRONMENT   \n91784   0048-9697  SCIENCE OF THE TOTAL ENVIRONMENT   \n12056   0048-9697  SCIENCE OF THE TOTAL ENVIRONMENT   \n6842    0048-9697  SCIENCE OF THE TOTAL ENVIRONMENT   \n86191   0048-9697  SCIENCE OF THE TOTAL ENVIRONMENT   \n22503   0048-9697  SCIENCE OF THE TOTAL ENVIRONMENT   \n154216  0048-9697  SCIENCE OF THE TOTAL ENVIRONMENT   \n26698   0048-9697  SCIENCE OF THE TOTAL ENVIRONMENT   \n24459   0048-9697  SCIENCE OF THE TOTAL ENVIRONMENT   \n140275  0048-9697  SCIENCE OF THE TOTAL ENVIRONMENT   \n20082   0048-9697  SCIENCE OF THE TOTAL ENVIRONMENT   \n152429  0048-9697  SCIENCE OF THE TOTAL ENVIRONMENT   \n\n                                        Área de Avaliação Estrato  \n132237                                           NUTRIÇÃO      A1  \n114074  MATERIAIS                                     ...      A1  \n76002   ENGENHARIAS III                               ...      A1  \n130354  MEDICINA VETERINÁRIA                          ...      A1  \n40604   CIÊNCIAS BIOLÓGICAS I                         ...      A1  \n112140  MATEMÁTICA / PROBABILIDADE E ESTATÍSTICA      ...      A1  \n136936  PLANEJAMENTO URBANO E REGIONAL / DEMOGRAFIA   ...      A1  \n30638   CIÊNCIAS AGRÁRIAS I                           ...      A1  \n83058                                              ENSINO      A1  \n134645  ODONTOLOGIA                                   ...      A1  \n35979                                 CIÊNCIAS AMBIENTAIS      A1  \n78986   ENGENHARIAS IV                                ...      A1  \n56235   ECONOMIA                                      ...      A1  \n66290   ENFERMAGEM                                    ...      A1  \n125047  MEDICINA II                                   ...      A1  \n63884   EDUCAÇÃO FÍSICA                               ...      A1  \n60851   EDUCAÇÃO                                      ...      A1  \n119350  MEDICINA I                                    ...      A1  \n72004   ENGENHARIAS II                                ...      A1  \n45278   CIÊNCIAS BIOLÓGICAS II                        ...      A1  \n69052   ENGENHARIAS I                                 ...      A1  \n47985   CIÊNCIAS BIOLÓGICAS III                       ...      A1  \n15522                                      BIODIVERSIDADE      A1  \n105848  INTERDISCIPLINAR                              ...      A1  \n143352  QUÍMICA                                       ...      A1  \n89629   GEOCIÊNCIAS                                   ...      A1  \n4717    ADMINISTRAÇÃO PÚBLICA E DE EMPRESAS, CIÊNCIAS ...      A1  \n148148  SAÚDE COLETIVA                                ...      A1  \n8488                      ARQUITETURA, URBANISMO E DESIGN      A1  \n91784   GEOGRAFIA                                     ...      A1  \n12056   ASTRONOMIA / FÍSICA                           ...      A1  \n6842    ANTROPOLOGIA / ARQUEOLOGIA                    ...      A1  \n86191   FARMÁCIA                                      ...      A1  \n22503   CIÊNCIA DA COMPUTAÇÃO                         ...      A1  \n154216  ZOOTECNIA / RECURSOS PESQUEIROS               ...      A1  \n26698   CIÊNCIA POLÍTICA E RELAÇÕES INTERNACIONAIS    ...      A1  \n24459   CIÊNCIA DE ALIMENTOS                          ...      A1  \n140275  PSICOLOGIA                                    ...      A1  \n20082   BIOTECNOLOGIA                                 ...      A1  \n152429  SOCIOLOGIA                                    ...      A1  ",
      "text/html": "<div>\n<style scoped>\n    .dataframe tbody tr th:only-of-type {\n        vertical-align: middle;\n    }\n\n    .dataframe tbody tr th {\n        vertical-align: top;\n    }\n\n    .dataframe thead th {\n        text-align: right;\n    }\n</style>\n<table border=\"1\" class=\"dataframe\">\n  <thead>\n    <tr style=\"text-align: right;\">\n      <th></th>\n      <th>ISSN</th>\n      <th>Título</th>\n      <th>Área de Avaliação</th>\n      <th>Estrato</th>\n    </tr>\n  </thead>\n  <tbody>\n    <tr>\n      <th>132237</th>\n      <td>0048-9697</td>\n      <td>SCIENCE OF THE TOTAL ENVIRONMENT</td>\n      <td>NUTRIÇÃO</td>\n      <td>A1</td>\n    </tr>\n    <tr>\n      <th>114074</th>\n      <td>0048-9697</td>\n      <td>SCIENCE OF THE TOTAL ENVIRONMENT</td>\n      <td>MATERIAIS                                     ...</td>\n      <td>A1</td>\n    </tr>\n    <tr>\n      <th>76002</th>\n      <td>0048-9697</td>\n      <td>SCIENCE OF THE TOTAL ENVIRONMENT</td>\n      <td>ENGENHARIAS III                               ...</td>\n      <td>A1</td>\n    </tr>\n    <tr>\n      <th>130354</th>\n      <td>0048-9697</td>\n      <td>SCIENCE OF THE TOTAL ENVIRONMENT</td>\n      <td>MEDICINA VETERINÁRIA                          ...</td>\n      <td>A1</td>\n    </tr>\n    <tr>\n      <th>40604</th>\n      <td>0048-9697</td>\n      <td>SCIENCE OF THE TOTAL ENVIRONMENT</td>\n      <td>CIÊNCIAS BIOLÓGICAS I                         ...</td>\n      <td>A1</td>\n    </tr>\n    <tr>\n      <th>112140</th>\n      <td>0048-9697</td>\n      <td>SCIENCE OF THE TOTAL ENVIRONMENT</td>\n      <td>MATEMÁTICA / PROBABILIDADE E ESTATÍSTICA      ...</td>\n      <td>A1</td>\n    </tr>\n    <tr>\n      <th>136936</th>\n      <td>0048-9697</td>\n      <td>SCIENCE OF THE TOTAL ENVIRONMENT</td>\n      <td>PLANEJAMENTO URBANO E REGIONAL / DEMOGRAFIA   ...</td>\n      <td>A1</td>\n    </tr>\n    <tr>\n      <th>30638</th>\n      <td>0048-9697</td>\n      <td>SCIENCE OF THE TOTAL ENVIRONMENT</td>\n      <td>CIÊNCIAS AGRÁRIAS I                           ...</td>\n      <td>A1</td>\n    </tr>\n    <tr>\n      <th>83058</th>\n      <td>0048-9697</td>\n      <td>SCIENCE OF THE TOTAL ENVIRONMENT</td>\n      <td>ENSINO</td>\n      <td>A1</td>\n    </tr>\n    <tr>\n      <th>134645</th>\n      <td>0048-9697</td>\n      <td>SCIENCE OF THE TOTAL ENVIRONMENT</td>\n      <td>ODONTOLOGIA                                   ...</td>\n      <td>A1</td>\n    </tr>\n    <tr>\n      <th>35979</th>\n      <td>0048-9697</td>\n      <td>SCIENCE OF THE TOTAL ENVIRONMENT</td>\n      <td>CIÊNCIAS AMBIENTAIS</td>\n      <td>A1</td>\n    </tr>\n    <tr>\n      <th>78986</th>\n      <td>0048-9697</td>\n      <td>SCIENCE OF THE TOTAL ENVIRONMENT</td>\n      <td>ENGENHARIAS IV                                ...</td>\n      <td>A1</td>\n    </tr>\n    <tr>\n      <th>56235</th>\n      <td>0048-9697</td>\n      <td>SCIENCE OF THE TOTAL ENVIRONMENT</td>\n      <td>ECONOMIA                                      ...</td>\n      <td>A1</td>\n    </tr>\n    <tr>\n      <th>66290</th>\n      <td>0048-9697</td>\n      <td>SCIENCE OF THE TOTAL ENVIRONMENT</td>\n      <td>ENFERMAGEM                                    ...</td>\n      <td>A1</td>\n    </tr>\n    <tr>\n      <th>125047</th>\n      <td>0048-9697</td>\n      <td>SCIENCE OF THE TOTAL ENVIRONMENT</td>\n      <td>MEDICINA II                                   ...</td>\n      <td>A1</td>\n    </tr>\n    <tr>\n      <th>63884</th>\n      <td>0048-9697</td>\n      <td>SCIENCE OF THE TOTAL ENVIRONMENT</td>\n      <td>EDUCAÇÃO FÍSICA                               ...</td>\n      <td>A1</td>\n    </tr>\n    <tr>\n      <th>60851</th>\n      <td>0048-9697</td>\n      <td>SCIENCE OF THE TOTAL ENVIRONMENT</td>\n      <td>EDUCAÇÃO                                      ...</td>\n      <td>A1</td>\n    </tr>\n    <tr>\n      <th>119350</th>\n      <td>0048-9697</td>\n      <td>SCIENCE OF THE TOTAL ENVIRONMENT</td>\n      <td>MEDICINA I                                    ...</td>\n      <td>A1</td>\n    </tr>\n    <tr>\n      <th>72004</th>\n      <td>0048-9697</td>\n      <td>SCIENCE OF THE TOTAL ENVIRONMENT</td>\n      <td>ENGENHARIAS II                                ...</td>\n      <td>A1</td>\n    </tr>\n    <tr>\n      <th>45278</th>\n      <td>0048-9697</td>\n      <td>SCIENCE OF THE TOTAL ENVIRONMENT</td>\n      <td>CIÊNCIAS BIOLÓGICAS II                        ...</td>\n      <td>A1</td>\n    </tr>\n    <tr>\n      <th>69052</th>\n      <td>0048-9697</td>\n      <td>SCIENCE OF THE TOTAL ENVIRONMENT</td>\n      <td>ENGENHARIAS I                                 ...</td>\n      <td>A1</td>\n    </tr>\n    <tr>\n      <th>47985</th>\n      <td>0048-9697</td>\n      <td>SCIENCE OF THE TOTAL ENVIRONMENT</td>\n      <td>CIÊNCIAS BIOLÓGICAS III                       ...</td>\n      <td>A1</td>\n    </tr>\n    <tr>\n      <th>15522</th>\n      <td>0048-9697</td>\n      <td>SCIENCE OF THE TOTAL ENVIRONMENT</td>\n      <td>BIODIVERSIDADE</td>\n      <td>A1</td>\n    </tr>\n    <tr>\n      <th>105848</th>\n      <td>0048-9697</td>\n      <td>SCIENCE OF THE TOTAL ENVIRONMENT</td>\n      <td>INTERDISCIPLINAR                              ...</td>\n      <td>A1</td>\n    </tr>\n    <tr>\n      <th>143352</th>\n      <td>0048-9697</td>\n      <td>SCIENCE OF THE TOTAL ENVIRONMENT</td>\n      <td>QUÍMICA                                       ...</td>\n      <td>A1</td>\n    </tr>\n    <tr>\n      <th>89629</th>\n      <td>0048-9697</td>\n      <td>SCIENCE OF THE TOTAL ENVIRONMENT</td>\n      <td>GEOCIÊNCIAS                                   ...</td>\n      <td>A1</td>\n    </tr>\n    <tr>\n      <th>4717</th>\n      <td>0048-9697</td>\n      <td>SCIENCE OF THE TOTAL ENVIRONMENT</td>\n      <td>ADMINISTRAÇÃO PÚBLICA E DE EMPRESAS, CIÊNCIAS ...</td>\n      <td>A1</td>\n    </tr>\n    <tr>\n      <th>148148</th>\n      <td>0048-9697</td>\n      <td>SCIENCE OF THE TOTAL ENVIRONMENT</td>\n      <td>SAÚDE COLETIVA                                ...</td>\n      <td>A1</td>\n    </tr>\n    <tr>\n      <th>8488</th>\n      <td>0048-9697</td>\n      <td>SCIENCE OF THE TOTAL ENVIRONMENT</td>\n      <td>ARQUITETURA, URBANISMO E DESIGN</td>\n      <td>A1</td>\n    </tr>\n    <tr>\n      <th>91784</th>\n      <td>0048-9697</td>\n      <td>SCIENCE OF THE TOTAL ENVIRONMENT</td>\n      <td>GEOGRAFIA                                     ...</td>\n      <td>A1</td>\n    </tr>\n    <tr>\n      <th>12056</th>\n      <td>0048-9697</td>\n      <td>SCIENCE OF THE TOTAL ENVIRONMENT</td>\n      <td>ASTRONOMIA / FÍSICA                           ...</td>\n      <td>A1</td>\n    </tr>\n    <tr>\n      <th>6842</th>\n      <td>0048-9697</td>\n      <td>SCIENCE OF THE TOTAL ENVIRONMENT</td>\n      <td>ANTROPOLOGIA / ARQUEOLOGIA                    ...</td>\n      <td>A1</td>\n    </tr>\n    <tr>\n      <th>86191</th>\n      <td>0048-9697</td>\n      <td>SCIENCE OF THE TOTAL ENVIRONMENT</td>\n      <td>FARMÁCIA                                      ...</td>\n      <td>A1</td>\n    </tr>\n    <tr>\n      <th>22503</th>\n      <td>0048-9697</td>\n      <td>SCIENCE OF THE TOTAL ENVIRONMENT</td>\n      <td>CIÊNCIA DA COMPUTAÇÃO                         ...</td>\n      <td>A1</td>\n    </tr>\n    <tr>\n      <th>154216</th>\n      <td>0048-9697</td>\n      <td>SCIENCE OF THE TOTAL ENVIRONMENT</td>\n      <td>ZOOTECNIA / RECURSOS PESQUEIROS               ...</td>\n      <td>A1</td>\n    </tr>\n    <tr>\n      <th>26698</th>\n      <td>0048-9697</td>\n      <td>SCIENCE OF THE TOTAL ENVIRONMENT</td>\n      <td>CIÊNCIA POLÍTICA E RELAÇÕES INTERNACIONAIS    ...</td>\n      <td>A1</td>\n    </tr>\n    <tr>\n      <th>24459</th>\n      <td>0048-9697</td>\n      <td>SCIENCE OF THE TOTAL ENVIRONMENT</td>\n      <td>CIÊNCIA DE ALIMENTOS                          ...</td>\n      <td>A1</td>\n    </tr>\n    <tr>\n      <th>140275</th>\n      <td>0048-9697</td>\n      <td>SCIENCE OF THE TOTAL ENVIRONMENT</td>\n      <td>PSICOLOGIA                                    ...</td>\n      <td>A1</td>\n    </tr>\n    <tr>\n      <th>20082</th>\n      <td>0048-9697</td>\n      <td>SCIENCE OF THE TOTAL ENVIRONMENT</td>\n      <td>BIOTECNOLOGIA                                 ...</td>\n      <td>A1</td>\n    </tr>\n    <tr>\n      <th>152429</th>\n      <td>0048-9697</td>\n      <td>SCIENCE OF THE TOTAL ENVIRONMENT</td>\n      <td>SOCIOLOGIA                                    ...</td>\n      <td>A1</td>\n    </tr>\n  </tbody>\n</table>\n</div>"
     },
     "execution_count": 79,
     "metadata": {},
     "output_type": "execute_result"
    }
   ],
   "source": [
    "df_qualis_A[df_qualis_A['Título'].str.lower().str.contains(str(\"Science of The total\").lower())]"
   ],
   "metadata": {
    "collapsed": false,
    "ExecuteTime": {
     "start_time": "2023-04-06T15:41:40.621577Z",
     "end_time": "2023-04-06T15:41:40.679615Z"
    }
   }
  },
  {
   "cell_type": "code",
   "execution_count": null,
   "outputs": [],
   "source": [],
   "metadata": {
    "collapsed": false
   }
  }
 ],
 "metadata": {
  "kernelspec": {
   "display_name": "Python 3",
   "language": "python",
   "name": "python3"
  },
  "language_info": {
   "codemirror_mode": {
    "name": "ipython",
    "version": 2
   },
   "file_extension": ".py",
   "mimetype": "text/x-python",
   "name": "python",
   "nbconvert_exporter": "python",
   "pygments_lexer": "ipython2",
   "version": "2.7.6"
  }
 },
 "nbformat": 4,
 "nbformat_minor": 0
}

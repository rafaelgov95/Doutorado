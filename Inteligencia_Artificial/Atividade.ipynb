{
 "cells": [
  {
   "cell_type": "code",
   "execution_count": 5,
   "metadata": {
    "collapsed": true,
    "ExecuteTime": {
     "start_time": "2023-04-06T17:28:34.476307Z",
     "end_time": "2023-04-06T17:28:34.498308Z"
    }
   },
   "outputs": [],
   "source": [
    "import pandas as pd\n"
   ]
  },
  {
   "cell_type": "code",
   "execution_count": 6,
   "outputs": [
    {
     "data": {
      "text/plain": "               unidade  cod_curso  \\\n0    INFI/Campo Grande     2403.0   \n1    INMA/Campo Grande     2203.0   \n2      CPAQ/Aquidauana      447.0   \n3         CPAN/Corumbá      553.0   \n4     CPTL/Três Lagoas      789.0   \n..                 ...        ...   \n56  FAALC/Campo Grande     2912.0   \n57     CPAQ/Aquidauana      432.0   \n58    CPTL/Três Lagoas      745.0   \n59  FAALC/Campo Grande     2913.0   \n60    CPTL/Três Lagoas      740.0   \n\n                                      nome_curso  qauntidade_vagas_ociosas  \n0                          Física - Licenciatura                       6.0  \n1                       Matemática - Bacharelado                       9.0  \n2                      Matemática - Licenciatura                      46.0  \n3                      Matemática - Licenciatura                      54.0  \n4                      Matemática - Licenciatura                      44.0  \n..                                           ...                       ...  \n56    Letras - Português/Espanhol - Licenciatura                      15.0  \n57      Letras - Português/Inglês - Licenciatura                       3.0  \n58      Letras - Português/Inglês - Licenciatura                       8.0  \n59      Letras - Português/Inglês - Licenciatura                       3.0  \n60  Letras - Português/Literatura - Licenciatura                      21.0  \n\n[61 rows x 4 columns]",
      "text/html": "<div>\n<style scoped>\n    .dataframe tbody tr th:only-of-type {\n        vertical-align: middle;\n    }\n\n    .dataframe tbody tr th {\n        vertical-align: top;\n    }\n\n    .dataframe thead th {\n        text-align: right;\n    }\n</style>\n<table border=\"1\" class=\"dataframe\">\n  <thead>\n    <tr style=\"text-align: right;\">\n      <th></th>\n      <th>unidade</th>\n      <th>cod_curso</th>\n      <th>nome_curso</th>\n      <th>qauntidade_vagas_ociosas</th>\n    </tr>\n  </thead>\n  <tbody>\n    <tr>\n      <th>0</th>\n      <td>INFI/Campo Grande</td>\n      <td>2403.0</td>\n      <td>Física - Licenciatura</td>\n      <td>6.0</td>\n    </tr>\n    <tr>\n      <th>1</th>\n      <td>INMA/Campo Grande</td>\n      <td>2203.0</td>\n      <td>Matemática - Bacharelado</td>\n      <td>9.0</td>\n    </tr>\n    <tr>\n      <th>2</th>\n      <td>CPAQ/Aquidauana</td>\n      <td>447.0</td>\n      <td>Matemática - Licenciatura</td>\n      <td>46.0</td>\n    </tr>\n    <tr>\n      <th>3</th>\n      <td>CPAN/Corumbá</td>\n      <td>553.0</td>\n      <td>Matemática - Licenciatura</td>\n      <td>54.0</td>\n    </tr>\n    <tr>\n      <th>4</th>\n      <td>CPTL/Três Lagoas</td>\n      <td>789.0</td>\n      <td>Matemática - Licenciatura</td>\n      <td>44.0</td>\n    </tr>\n    <tr>\n      <th>...</th>\n      <td>...</td>\n      <td>...</td>\n      <td>...</td>\n      <td>...</td>\n    </tr>\n    <tr>\n      <th>56</th>\n      <td>FAALC/Campo Grande</td>\n      <td>2912.0</td>\n      <td>Letras - Português/Espanhol - Licenciatura</td>\n      <td>15.0</td>\n    </tr>\n    <tr>\n      <th>57</th>\n      <td>CPAQ/Aquidauana</td>\n      <td>432.0</td>\n      <td>Letras - Português/Inglês - Licenciatura</td>\n      <td>3.0</td>\n    </tr>\n    <tr>\n      <th>58</th>\n      <td>CPTL/Três Lagoas</td>\n      <td>745.0</td>\n      <td>Letras - Português/Inglês - Licenciatura</td>\n      <td>8.0</td>\n    </tr>\n    <tr>\n      <th>59</th>\n      <td>FAALC/Campo Grande</td>\n      <td>2913.0</td>\n      <td>Letras - Português/Inglês - Licenciatura</td>\n      <td>3.0</td>\n    </tr>\n    <tr>\n      <th>60</th>\n      <td>CPTL/Três Lagoas</td>\n      <td>740.0</td>\n      <td>Letras - Português/Literatura - Licenciatura</td>\n      <td>21.0</td>\n    </tr>\n  </tbody>\n</table>\n<p>61 rows × 4 columns</p>\n</div>"
     },
     "execution_count": 6,
     "metadata": {},
     "output_type": "execute_result"
    }
   ],
   "source": [
    "df = pd.read_csv('vagas_ociosas_2023_1.csv',sep=';')\n",
    "df=df.dropna()\n",
    "df"
   ],
   "metadata": {
    "collapsed": false,
    "ExecuteTime": {
     "start_time": "2023-04-06T17:28:34.491308Z",
     "end_time": "2023-04-06T17:28:34.525294Z"
    }
   }
  },
  {
   "cell_type": "code",
   "execution_count": 7,
   "outputs": [],
   "source": [
    "df['unidade']=df.apply(  lambda row :  row['unidade'].split('/')[0],axis=1)\n",
    "df['cod_curso'] = df['cod_curso'].astype(int)\n",
    "df['cod_curso'] = df['cod_curso'].astype(str)\n",
    "df['qauntidade_vagas_ociosas'] = df['qauntidade_vagas_ociosas'].astype(int)\n",
    "df=df.rename(columns={'qauntidade_vagas_ociosas':'quantidade_vagas_ociosas'})\n",
    "df['cod_curso'] = df.apply(lambda row : '0'+row['cod_curso'] if (len(row['cod_curso'])<4) else row['cod_curso'] ,axis=1)\n",
    "df.to_csv('vagas_ociosas_2023',sep=',',index=False)"
   ],
   "metadata": {
    "collapsed": false,
    "ExecuteTime": {
     "start_time": "2023-04-06T17:28:34.522298Z",
     "end_time": "2023-04-06T17:28:34.552297Z"
    }
   }
  },
  {
   "cell_type": "code",
   "execution_count": 7,
   "outputs": [],
   "source": [],
   "metadata": {
    "collapsed": false,
    "ExecuteTime": {
     "start_time": "2023-04-06T17:28:34.554294Z",
     "end_time": "2023-04-06T17:28:34.590293Z"
    }
   }
  },
  {
   "cell_type": "code",
   "execution_count": 8,
   "outputs": [
    {
     "data": {
      "text/plain": "   unidade cod_curso                                    nome_curso  \\\n0     INFI      2403                         Física - Licenciatura   \n1     INMA      2203                      Matemática - Bacharelado   \n2     CPAQ      0447                     Matemática - Licenciatura   \n3     CPAN      0553                     Matemática - Licenciatura   \n4     CPTL      0789                     Matemática - Licenciatura   \n..     ...       ...                                           ...   \n56   FAALC      2912    Letras - Português/Espanhol - Licenciatura   \n57    CPAQ      0432      Letras - Português/Inglês - Licenciatura   \n58    CPTL      0745      Letras - Português/Inglês - Licenciatura   \n59   FAALC      2913      Letras - Português/Inglês - Licenciatura   \n60    CPTL      0740  Letras - Português/Literatura - Licenciatura   \n\n    quantidade_vagas_ociosas  \n0                          6  \n1                          9  \n2                         46  \n3                         54  \n4                         44  \n..                       ...  \n56                        15  \n57                         3  \n58                         8  \n59                         3  \n60                        21  \n\n[61 rows x 4 columns]",
      "text/html": "<div>\n<style scoped>\n    .dataframe tbody tr th:only-of-type {\n        vertical-align: middle;\n    }\n\n    .dataframe tbody tr th {\n        vertical-align: top;\n    }\n\n    .dataframe thead th {\n        text-align: right;\n    }\n</style>\n<table border=\"1\" class=\"dataframe\">\n  <thead>\n    <tr style=\"text-align: right;\">\n      <th></th>\n      <th>unidade</th>\n      <th>cod_curso</th>\n      <th>nome_curso</th>\n      <th>quantidade_vagas_ociosas</th>\n    </tr>\n  </thead>\n  <tbody>\n    <tr>\n      <th>0</th>\n      <td>INFI</td>\n      <td>2403</td>\n      <td>Física - Licenciatura</td>\n      <td>6</td>\n    </tr>\n    <tr>\n      <th>1</th>\n      <td>INMA</td>\n      <td>2203</td>\n      <td>Matemática - Bacharelado</td>\n      <td>9</td>\n    </tr>\n    <tr>\n      <th>2</th>\n      <td>CPAQ</td>\n      <td>0447</td>\n      <td>Matemática - Licenciatura</td>\n      <td>46</td>\n    </tr>\n    <tr>\n      <th>3</th>\n      <td>CPAN</td>\n      <td>0553</td>\n      <td>Matemática - Licenciatura</td>\n      <td>54</td>\n    </tr>\n    <tr>\n      <th>4</th>\n      <td>CPTL</td>\n      <td>0789</td>\n      <td>Matemática - Licenciatura</td>\n      <td>44</td>\n    </tr>\n    <tr>\n      <th>...</th>\n      <td>...</td>\n      <td>...</td>\n      <td>...</td>\n      <td>...</td>\n    </tr>\n    <tr>\n      <th>56</th>\n      <td>FAALC</td>\n      <td>2912</td>\n      <td>Letras - Português/Espanhol - Licenciatura</td>\n      <td>15</td>\n    </tr>\n    <tr>\n      <th>57</th>\n      <td>CPAQ</td>\n      <td>0432</td>\n      <td>Letras - Português/Inglês - Licenciatura</td>\n      <td>3</td>\n    </tr>\n    <tr>\n      <th>58</th>\n      <td>CPTL</td>\n      <td>0745</td>\n      <td>Letras - Português/Inglês - Licenciatura</td>\n      <td>8</td>\n    </tr>\n    <tr>\n      <th>59</th>\n      <td>FAALC</td>\n      <td>2913</td>\n      <td>Letras - Português/Inglês - Licenciatura</td>\n      <td>3</td>\n    </tr>\n    <tr>\n      <th>60</th>\n      <td>CPTL</td>\n      <td>0740</td>\n      <td>Letras - Português/Literatura - Licenciatura</td>\n      <td>21</td>\n    </tr>\n  </tbody>\n</table>\n<p>61 rows × 4 columns</p>\n</div>"
     },
     "execution_count": 8,
     "metadata": {},
     "output_type": "execute_result"
    }
   ],
   "source": [
    "df"
   ],
   "metadata": {
    "collapsed": false,
    "ExecuteTime": {
     "start_time": "2023-04-06T17:28:34.585294Z",
     "end_time": "2023-04-06T17:28:34.700308Z"
    }
   }
  }
 ],
 "metadata": {
  "kernelspec": {
   "display_name": "Python 3",
   "language": "python",
   "name": "python3"
  },
  "language_info": {
   "codemirror_mode": {
    "name": "ipython",
    "version": 2
   },
   "file_extension": ".py",
   "mimetype": "text/x-python",
   "name": "python",
   "nbconvert_exporter": "python",
   "pygments_lexer": "ipython2",
   "version": "2.7.6"
  }
 },
 "nbformat": 4,
 "nbformat_minor": 0
}
